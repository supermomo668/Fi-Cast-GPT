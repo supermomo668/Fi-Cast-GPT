{
 "cells": [
  {
   "cell_type": "code",
   "execution_count": 1,
   "metadata": {},
   "outputs": [],
   "source": [
    "%load_ext autoreload\n",
    "%autoreload 2\n",
    "\n",
    "from dotenv import load_dotenv\n",
    "import os\n",
    "os.chdir(\"../\")"
   ]
  },
  {
   "cell_type": "code",
   "execution_count": 2,
   "metadata": {},
   "outputs": [
    {
     "data": {
      "text/plain": [
       "True"
      ]
     },
     "execution_count": 2,
     "metadata": {},
     "output_type": "execute_result"
    }
   ],
   "source": [
    "load_dotenv(override=True)"
   ]
  },
  {
   "cell_type": "code",
   "execution_count": 4,
   "metadata": {},
   "outputs": [
    {
     "name": "stdout",
     "output_type": "stream",
     "text": [
      "Token verification successful.\n"
     ]
    },
    {
     "data": {
      "text/plain": [
       "<httpx.Client at 0x7fc2d4c016d0>"
      ]
     },
     "execution_count": 4,
     "metadata": {},
     "output_type": "execute_result"
    }
   ],
   "source": [
    "from ficast.assembly.ficast import FiCast\n",
    "from ficast.dialogue.speech import DialogueSynthesis\n",
    "dialoguer = DialogueSynthesis(\n",
    "  client_type=\"api\", \n",
    "  base_url=os.getenv(\"TTS_API_BASE_URL\"),\n",
    "  api_key=os.getenv(\"TTS_API_KEY\")\n",
    ")\n",
    "http_client = dialoguer.client.client\n",
    "http_client"
   ]
  },
  {
   "cell_type": "code",
   "execution_count": 5,
   "metadata": {},
   "outputs": [
    {
     "name": "stdout",
     "output_type": "stream",
     "text": [
      "fdf02f8a-45a3-4e13-be29-5af5b97c1062\n"
     ]
    }
   ],
   "source": [
    "# create task\n",
    "payload = {\n",
    "    \"text\": \"Hello, testing quickstart notebook demo.\",\n",
    "    \"voice\": \"random\",\n",
    "    \"preset\": \"fast\"\n",
    "}\n",
    "task_response = http_client.post(\n",
    "    f\"/tts\", json=payload\n",
    ")\n",
    "task_response.raise_for_status()\n",
    "if \"task_id\" in task_response.json():\n",
    "    task_id = task_response.json()[\"task_id\"]\n",
    "    print(task_id)"
   ]
  },
  {
   "cell_type": "code",
   "execution_count": 7,
   "metadata": {},
   "outputs": [
    {
     "name": "stdout",
     "output_type": "stream",
     "text": [
      "{'task_id': 'fdf02f8a-45a3-4e13-be29-5af5b97c1062', 'status': 'PENDING'}\n"
     ]
    }
   ],
   "source": [
    "# check status\n",
    "status_response = http_client.get(\n",
    "    f\"/task-status/{task_id}\", \n",
    "    timeout=None\n",
    ")\n",
    "status_response.raise_for_status()\n",
    "print(status_response.json())"
   ]
  },
  {
   "cell_type": "code",
   "execution_count": 8,
   "metadata": {},
   "outputs": [
    {
     "data": {
      "text/plain": [
       "<Response [200 OK]>"
      ]
     },
     "execution_count": 8,
     "metadata": {},
     "output_type": "execute_result"
    }
   ],
   "source": [
    "# get results\n",
    "result_response = http_client.get(\n",
    "    f\"/task-result/{task_id}\", \n",
    "    timeout=None\n",
    ")\n",
    "result_response.raise_for_status()"
   ]
  },
  {
   "cell_type": "code",
   "execution_count": 10,
   "metadata": {},
   "outputs": [],
   "source": [
    "# inspect result\n",
    "myaudio_gen = result_response.iter_bytes()\n",
    "for audio in myaudio_gen:\n",
    "  print(len(audio))"
   ]
  },
  {
   "cell_type": "code",
   "execution_count": 12,
   "metadata": {},
   "outputs": [],
   "source": [
    "# `text_to_speech` use the above pipeline\n",
    "test_audio_gen = dialoguer.client.text_to_speech(\n",
    "  \"Hello, testing quickstart notebook demo.\", \n",
    "  voice=\"random\",\n",
    "  preset=\"ultra_fast\"\n",
    ")"
   ]
  },
  {
   "cell_type": "code",
   "execution_count": 9,
   "metadata": {},
   "outputs": [],
   "source": [
    "from ficast.dialogue.utils import collect_audio, save_bytes_to_mp3"
   ]
  },
  {
   "cell_type": "code",
   "execution_count": 13,
   "metadata": {},
   "outputs": [
    {
     "name": "stdout",
     "output_type": "stream",
     "text": [
      "Task created:  c3465c55-3f56-48d1-9afa-12836a62e99c\n",
      "Polling for result for task...\n"
     ]
    }
   ],
   "source": [
    "test_audio = collect_audio(test_audio_gen)\n",
    "save_bytes_to_mp3(test_audio, 'ficast-outputs/dialogue/tts-nb.mp3')"
   ]
  }
 ],
 "metadata": {
  "kernelspec": {
   "display_name": "ficast",
   "language": "python",
   "name": "python3"
  },
  "language_info": {
   "codemirror_mode": {
    "name": "ipython",
    "version": 3
   },
   "file_extension": ".py",
   "mimetype": "text/x-python",
   "name": "python",
   "nbconvert_exporter": "python",
   "pygments_lexer": "ipython3",
   "version": "3.11.9"
  }
 },
 "nbformat": 4,
 "nbformat_minor": 2
}
