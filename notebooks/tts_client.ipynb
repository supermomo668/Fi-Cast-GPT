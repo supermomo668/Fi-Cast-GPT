{
 "cells": [
  {
   "cell_type": "code",
   "execution_count": 1,
   "metadata": {},
   "outputs": [],
   "source": [
    "%load_ext autoreload\n",
    "%autoreload 2\n",
    "\n",
    "from dotenv import load_dotenv\n",
    "import os\n",
    "os.chdir(\"../\")"
   ]
  },
  {
   "cell_type": "code",
   "execution_count": 2,
   "metadata": {},
   "outputs": [
    {
     "data": {
      "text/plain": [
       "True"
      ]
     },
     "execution_count": 2,
     "metadata": {},
     "output_type": "execute_result"
    }
   ],
   "source": [
    "load_dotenv(override=True)"
   ]
  },
  {
   "cell_type": "code",
   "execution_count": 3,
   "metadata": {},
   "outputs": [
    {
     "name": "stdout",
     "output_type": "stream",
     "text": [
      "Loading config from path: /home/mymm_psu_gmail_com/FiCast-GPT\n",
      "Loading config version: default from path: ../conf/dialogue\n"
     ]
    },
    {
     "name": "stderr",
     "output_type": "stream",
     "text": [
      "USER_AGENT environment variable not set, consider setting it to identify your requests.\n"
     ]
    },
    {
     "name": "stdout",
     "output_type": "stream",
     "text": [
      "Loading config version: default from path: ../conf/dialogue\n",
      "Token verification successful.\n"
     ]
    },
    {
     "data": {
      "text/plain": [
       "<httpx.Client at 0x7f80dc0bfd50>"
      ]
     },
     "execution_count": 3,
     "metadata": {},
     "output_type": "execute_result"
    }
   ],
   "source": [
    "from ficast.assembly.ficast import FiCast\n",
    "from ficast.dialogue.speech import DialogueSynthesis\n",
    "dialoguer = DialogueSynthesis(\n",
    "  client_type=\"api\", \n",
    "  base_url=os.getenv(\"TTS_API_BASE_URL\"),\n",
    "  api_key=os.getenv(\"TTS_API_KEY\")\n",
    ")\n",
    "http_client = dialoguer.client.client\n",
    "http_client"
   ]
  },
  {
   "cell_type": "code",
   "execution_count": 29,
   "metadata": {},
   "outputs": [
    {
     "data": {
      "text/plain": [
       "[Voice(voice_id='0', name='darth_vader', samples=None, category=None, fine_tuning=None, labels={'gender': 'unknown'}, description=None, preview_url=None, available_for_tiers=None, settings=None, sharing=None, high_quality_base_model_ids=None, safety_control=None, voice_verification=None, owner_id=None, permission_on_resource=None, is_legacy=None),\n",
       " Voice(voice_id='1', name='pat2', samples=None, category=None, fine_tuning=None, labels={'gender': 'unknown'}, description=None, preview_url=None, available_for_tiers=None, settings=None, sharing=None, high_quality_base_model_ids=None, safety_control=None, voice_verification=None, owner_id=None, permission_on_resource=None, is_legacy=None),\n",
       " Voice(voice_id='2', name='train_kennard', samples=None, category=None, fine_tuning=None, labels={'gender': 'unknown'}, description=None, preview_url=None, available_for_tiers=None, settings=None, sharing=None, high_quality_base_model_ids=None, safety_control=None, voice_verification=None, owner_id=None, permission_on_resource=None, is_legacy=None),\n",
       " Voice(voice_id='3', name='pat', samples=None, category=None, fine_tuning=None, labels={'gender': 'unknown'}, description=None, preview_url=None, available_for_tiers=None, settings=None, sharing=None, high_quality_base_model_ids=None, safety_control=None, voice_verification=None, owner_id=None, permission_on_resource=None, is_legacy=None),\n",
       " Voice(voice_id='4', name='lj', samples=None, category=None, fine_tuning=None, labels={'gender': 'unknown'}, description=None, preview_url=None, available_for_tiers=None, settings=None, sharing=None, high_quality_base_model_ids=None, safety_control=None, voice_verification=None, owner_id=None, permission_on_resource=None, is_legacy=None),\n",
       " Voice(voice_id='5', name='train_grace', samples=None, category=None, fine_tuning=None, labels={'gender': 'unknown'}, description=None, preview_url=None, available_for_tiers=None, settings=None, sharing=None, high_quality_base_model_ids=None, safety_control=None, voice_verification=None, owner_id=None, permission_on_resource=None, is_legacy=None),\n",
       " Voice(voice_id='6', name='train_lescault', samples=None, category=None, fine_tuning=None, labels={'gender': 'unknown'}, description=None, preview_url=None, available_for_tiers=None, settings=None, sharing=None, high_quality_base_model_ids=None, safety_control=None, voice_verification=None, owner_id=None, permission_on_resource=None, is_legacy=None),\n",
       " Voice(voice_id='7', name='train_mouse', samples=None, category=None, fine_tuning=None, labels={'gender': 'unknown'}, description=None, preview_url=None, available_for_tiers=None, settings=None, sharing=None, high_quality_base_model_ids=None, safety_control=None, voice_verification=None, owner_id=None, permission_on_resource=None, is_legacy=None),\n",
       " Voice(voice_id='8', name='emma', samples=None, category=None, fine_tuning=None, labels={'gender': 'unknown'}, description=None, preview_url=None, available_for_tiers=None, settings=None, sharing=None, high_quality_base_model_ids=None, safety_control=None, voice_verification=None, owner_id=None, permission_on_resource=None, is_legacy=None),\n",
       " Voice(voice_id='9', name='snakes', samples=None, category=None, fine_tuning=None, labels={'gender': 'unknown'}, description=None, preview_url=None, available_for_tiers=None, settings=None, sharing=None, high_quality_base_model_ids=None, safety_control=None, voice_verification=None, owner_id=None, permission_on_resource=None, is_legacy=None),\n",
       " Voice(voice_id='10', name='daniel', samples=None, category=None, fine_tuning=None, labels={'gender': 'unknown'}, description=None, preview_url=None, available_for_tiers=None, settings=None, sharing=None, high_quality_base_model_ids=None, safety_control=None, voice_verification=None, owner_id=None, permission_on_resource=None, is_legacy=None),\n",
       " Voice(voice_id='11', name='mol', samples=None, category=None, fine_tuning=None, labels={'gender': 'unknown'}, description=None, preview_url=None, available_for_tiers=None, settings=None, sharing=None, high_quality_base_model_ids=None, safety_control=None, voice_verification=None, owner_id=None, permission_on_resource=None, is_legacy=None),\n",
       " Voice(voice_id='12', name='myself', samples=None, category=None, fine_tuning=None, labels={'gender': 'unknown'}, description=None, preview_url=None, available_for_tiers=None, settings=None, sharing=None, high_quality_base_model_ids=None, safety_control=None, voice_verification=None, owner_id=None, permission_on_resource=None, is_legacy=None),\n",
       " Voice(voice_id='13', name='tom', samples=None, category=None, fine_tuning=None, labels={'gender': 'unknown'}, description=None, preview_url=None, available_for_tiers=None, settings=None, sharing=None, high_quality_base_model_ids=None, safety_control=None, voice_verification=None, owner_id=None, permission_on_resource=None, is_legacy=None),\n",
       " Voice(voice_id='14', name='applejack', samples=None, category=None, fine_tuning=None, labels={'gender': 'unknown'}, description=None, preview_url=None, available_for_tiers=None, settings=None, sharing=None, high_quality_base_model_ids=None, safety_control=None, voice_verification=None, owner_id=None, permission_on_resource=None, is_legacy=None),\n",
       " Voice(voice_id='15', name='harry_potter', samples=None, category=None, fine_tuning=None, labels={'gender': 'unknown'}, description=None, preview_url=None, available_for_tiers=None, settings=None, sharing=None, high_quality_base_model_ids=None, safety_control=None, voice_verification=None, owner_id=None, permission_on_resource=None, is_legacy=None),\n",
       " Voice(voice_id='16', name='angie', samples=None, category=None, fine_tuning=None, labels={'gender': 'unknown'}, description=None, preview_url=None, available_for_tiers=None, settings=None, sharing=None, high_quality_base_model_ids=None, safety_control=None, voice_verification=None, owner_id=None, permission_on_resource=None, is_legacy=None),\n",
       " Voice(voice_id='17', name='train_dotrice', samples=None, category=None, fine_tuning=None, labels={'gender': 'unknown'}, description=None, preview_url=None, available_for_tiers=None, settings=None, sharing=None, high_quality_base_model_ids=None, safety_control=None, voice_verification=None, owner_id=None, permission_on_resource=None, is_legacy=None),\n",
       " Voice(voice_id='18', name='train_atkins', samples=None, category=None, fine_tuning=None, labels={'gender': 'unknown'}, description=None, preview_url=None, available_for_tiers=None, settings=None, sharing=None, high_quality_base_model_ids=None, safety_control=None, voice_verification=None, owner_id=None, permission_on_resource=None, is_legacy=None),\n",
       " Voice(voice_id='19', name='train_dreams', samples=None, category=None, fine_tuning=None, labels={'gender': 'unknown'}, description=None, preview_url=None, available_for_tiers=None, settings=None, sharing=None, high_quality_base_model_ids=None, safety_control=None, voice_verification=None, owner_id=None, permission_on_resource=None, is_legacy=None),\n",
       " Voice(voice_id='20', name='freeman', samples=None, category=None, fine_tuning=None, labels={'gender': 'unknown'}, description=None, preview_url=None, available_for_tiers=None, settings=None, sharing=None, high_quality_base_model_ids=None, safety_control=None, voice_verification=None, owner_id=None, permission_on_resource=None, is_legacy=None),\n",
       " Voice(voice_id='21', name='train_daws', samples=None, category=None, fine_tuning=None, labels={'gender': 'unknown'}, description=None, preview_url=None, available_for_tiers=None, settings=None, sharing=None, high_quality_base_model_ids=None, safety_control=None, voice_verification=None, owner_id=None, permission_on_resource=None, is_legacy=None),\n",
       " Voice(voice_id='22', name='geralt', samples=None, category=None, fine_tuning=None, labels={'gender': 'unknown'}, description=None, preview_url=None, available_for_tiers=None, settings=None, sharing=None, high_quality_base_model_ids=None, safety_control=None, voice_verification=None, owner_id=None, permission_on_resource=None, is_legacy=None),\n",
       " Voice(voice_id='23', name='deniro', samples=None, category=None, fine_tuning=None, labels={'gender': 'unknown'}, description=None, preview_url=None, available_for_tiers=None, settings=None, sharing=None, high_quality_base_model_ids=None, safety_control=None, voice_verification=None, owner_id=None, permission_on_resource=None, is_legacy=None),\n",
       " Voice(voice_id='24', name='william', samples=None, category=None, fine_tuning=None, labels={'gender': 'unknown'}, description=None, preview_url=None, available_for_tiers=None, settings=None, sharing=None, high_quality_base_model_ids=None, safety_control=None, voice_verification=None, owner_id=None, permission_on_resource=None, is_legacy=None),\n",
       " Voice(voice_id='25', name='weaver', samples=None, category=None, fine_tuning=None, labels={'gender': 'unknown'}, description=None, preview_url=None, available_for_tiers=None, settings=None, sharing=None, high_quality_base_model_ids=None, safety_control=None, voice_verification=None, owner_id=None, permission_on_resource=None, is_legacy=None),\n",
       " Voice(voice_id='26', name='tim_reynolds', samples=None, category=None, fine_tuning=None, labels={'gender': 'unknown'}, description=None, preview_url=None, available_for_tiers=None, settings=None, sharing=None, high_quality_base_model_ids=None, safety_control=None, voice_verification=None, owner_id=None, permission_on_resource=None, is_legacy=None),\n",
       " Voice(voice_id='27', name='halle', samples=None, category=None, fine_tuning=None, labels={'gender': 'unknown'}, description=None, preview_url=None, available_for_tiers=None, settings=None, sharing=None, high_quality_base_model_ids=None, safety_control=None, voice_verification=None, owner_id=None, permission_on_resource=None, is_legacy=None),\n",
       " Voice(voice_id='28', name='train_empire', samples=None, category=None, fine_tuning=None, labels={'gender': 'unknown'}, description=None, preview_url=None, available_for_tiers=None, settings=None, sharing=None, high_quality_base_model_ids=None, safety_control=None, voice_verification=None, owner_id=None, permission_on_resource=None, is_legacy=None),\n",
       " Voice(voice_id='29', name='jlaw', samples=None, category=None, fine_tuning=None, labels={'gender': 'unknown'}, description=None, preview_url=None, available_for_tiers=None, settings=None, sharing=None, high_quality_base_model_ids=None, safety_control=None, voice_verification=None, owner_id=None, permission_on_resource=None, is_legacy=None),\n",
       " Voice(voice_id='30', name='rainbow', samples=None, category=None, fine_tuning=None, labels={'gender': 'unknown'}, description=None, preview_url=None, available_for_tiers=None, settings=None, sharing=None, high_quality_base_model_ids=None, safety_control=None, voice_verification=None, owner_id=None, permission_on_resource=None, is_legacy=None)]"
      ]
     },
     "execution_count": 29,
     "metadata": {},
     "output_type": "execute_result"
    }
   ],
   "source": [
    "dialoguer.client.all_voices"
   ]
  },
  {
   "cell_type": "code",
   "execution_count": 75,
   "metadata": {},
   "outputs": [
    {
     "name": "stdout",
     "output_type": "stream",
     "text": [
      "68488c7e-46f7-4e6a-859b-df7c6025372c\n"
     ]
    }
   ],
   "source": [
    "# create task\n",
    "character = \"darth_vader\"\n",
    "payload = {\n",
    "    \"text\": f\"Hello, testing quickstart notebook demo by {character}.\",\n",
    "    \"voice\": character,\n",
    "    \"preset\": [\"fast\", \"standard\"][0]\n",
    "}\n",
    "task_response = http_client.post(\n",
    "    f\"/tts\", json=payload\n",
    ")\n",
    "task_response.raise_for_status()\n",
    "if \"task_id\" in task_response.json():\n",
    "    task_id = task_response.json()[\"task_id\"]\n",
    "    print(task_id)"
   ]
  },
  {
   "cell_type": "code",
   "execution_count": 76,
   "metadata": {},
   "outputs": [
    {
     "name": "stdout",
     "output_type": "stream",
     "text": [
      "{'task_id': '68488c7e-46f7-4e6a-859b-df7c6025372c', 'status': 'PENDING'}\n"
     ]
    }
   ],
   "source": [
    "# check status\n",
    "status_response = http_client.get(\n",
    "    f\"/task/status/{task_id}\", \n",
    "    timeout=None\n",
    ")\n",
    "status_response.raise_for_status()\n",
    "print(status_response.json())"
   ]
  },
  {
   "cell_type": "code",
   "execution_count": 77,
   "metadata": {},
   "outputs": [
    {
     "data": {
      "text/plain": [
       "<Response [200 OK]>"
      ]
     },
     "execution_count": 77,
     "metadata": {},
     "output_type": "execute_result"
    }
   ],
   "source": [
    "# get results\n",
    "result_response = http_client.get(\n",
    "    f\"/task/result/{task_id}\", \n",
    "    timeout=None\n",
    ")\n",
    "result_response.raise_for_status()"
   ]
  },
  {
   "cell_type": "code",
   "execution_count": 64,
   "metadata": {},
   "outputs": [
    {
     "name": "stdout",
     "output_type": "stream",
     "text": [
      "178254\n"
     ]
    }
   ],
   "source": [
    "# inspect result\n",
    "myaudio_gen = result_response.iter_bytes()\n",
    "for audio in myaudio_gen:\n",
    "  print(len(audio))"
   ]
  },
  {
   "cell_type": "code",
   "execution_count": 24,
   "metadata": {},
   "outputs": [],
   "source": [
    "# `text_to_speech` use the above pipeline\n",
    "test_audio_gen = dialoguer.client.text_to_speech(\n",
    "  \"Hello, testing quickstart notebook demo.\", \n",
    "  voice=\"random\",\n",
    "  preset=\"ultra_fast\"\n",
    ")"
   ]
  },
  {
   "cell_type": "markdown",
   "metadata": {},
   "source": [
    "Save Results"
   ]
  },
  {
   "cell_type": "code",
   "execution_count": 78,
   "metadata": {},
   "outputs": [],
   "source": [
    "from ficast.dialogue.utils import collect_audio, save_bytes_to_wav"
   ]
  },
  {
   "cell_type": "code",
   "execution_count": 79,
   "metadata": {},
   "outputs": [],
   "source": [
    "import datetime\n",
    "test_audio = collect_audio(result_response.iter_bytes())\n",
    "save_bytes_to_wav(test_audio, f\"notebooks/samples/dialogue/tts-nb_{datetime.datetime.now().strftime('%Y%m%d%H%M%S')}.wav\")"
   ]
  },
  {
   "cell_type": "code",
   "execution_count": 33,
   "metadata": {},
   "outputs": [],
   "source": [
    "import datetime\n",
    "test_audio = collect_audio(test_audio_gen)\n",
    "save_bytes_to_wav(test_audio, f'notebooks/samples/dialogue/tts-test-nb_{datetime.datetime.now().strftime(\"%Y%m%d%H%M%S\")}.wav')"
   ]
  }
 ],
 "metadata": {
  "kernelspec": {
   "display_name": "ficast",
   "language": "python",
   "name": "python3"
  },
  "language_info": {
   "codemirror_mode": {
    "name": "ipython",
    "version": 3
   },
   "file_extension": ".py",
   "mimetype": "text/x-python",
   "name": "python",
   "nbconvert_exporter": "python",
   "pygments_lexer": "ipython3",
   "version": "3.11.9"
  }
 },
 "nbformat": 4,
 "nbformat_minor": 2
}
