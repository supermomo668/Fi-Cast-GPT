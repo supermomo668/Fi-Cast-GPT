{
 "cells": [
  {
   "cell_type": "code",
   "execution_count": 1,
   "metadata": {},
   "outputs": [
    {
     "data": {
      "text/plain": [
       "PosixPath('/home/mymm_psu_gmail_com/FiCast-GPT')"
      ]
     },
     "execution_count": 1,
     "metadata": {},
     "output_type": "execute_result"
    }
   ],
   "source": [
    "import os, json\n",
    "from pathlib import Path\n",
    "# import matplotlib.pyplot as plt\n",
    "%load_ext autoreload\n",
    "%autoreload 2\n",
    "os.chdir(\"../\")\n",
    "Path.cwd()"
   ]
  },
  {
   "cell_type": "code",
   "execution_count": 2,
   "metadata": {},
   "outputs": [],
   "source": [
    "#export environment variables (APIs), as in .example.EnvironmentError\n",
    "from dotenv import load_dotenv\n",
    "load_dotenv()\n",
    "assert os.getenv(\"TTS_API_KEY\")"
   ]
  },
  {
   "cell_type": "code",
   "execution_count": 3,
   "metadata": {},
   "outputs": [
    {
     "name": "stdout",
     "output_type": "stream",
     "text": [
      "Loading config from path: /home/mymm_psu_gmail_com/FiCast-GPT\n",
      "Loading config version: default from path: ../conf/dialogue\n"
     ]
    },
    {
     "name": "stderr",
     "output_type": "stream",
     "text": [
      "USER_AGENT environment variable not set, consider setting it to identify your requests.\n"
     ]
    },
    {
     "name": "stdout",
     "output_type": "stream",
     "text": [
      "Loading config version: default from path: ../conf/dialogue\n"
     ]
    }
   ],
   "source": [
    "from ficast.character.podcast import Podcaster\n",
    "from ficast.conversation.podcast import Podcast"
   ]
  },
  {
   "cell_type": "code",
   "execution_count": 4,
   "metadata": {},
   "outputs": [],
   "source": [
    "my_podcast = Podcast(\n",
    "  topic=\"beer & snacks\", \n",
    "  n_rounds=10, \n",
    ")"
   ]
  },
  {
   "cell_type": "code",
   "execution_count": 5,
   "metadata": {},
   "outputs": [
    {
     "name": "stdout",
     "output_type": "stream",
     "text": [
      "Loading config version: default from path: ../conf/dialogue\n",
      "Loading config version: default from path: ../conf/dialogue\n"
     ]
    }
   ],
   "source": [
    "joe_rogan = Podcaster(\n",
    "  name=\"Joe Rogan\", \n",
    "  description=\"Joe Rogan is a funny and popular podcast host\",\n",
    "  model=\"gpt-3.5-turbo\",\n",
    "  role=\"host\"\n",
    ")\n",
    "david_sinclair = Podcaster(\n",
    "  name=\"David Sinclair\",\n",
    "  description=\"David Sinclair is a Harvard Medical Expert\",\n",
    "  model=\"gpt-3.5-turbo\"\n",
    ")"
   ]
  },
  {
   "cell_type": "code",
   "execution_count": 6,
   "metadata": {},
   "outputs": [],
   "source": [
    "my_podcast.add([joe_rogan, david_sinclair])"
   ]
  },
  {
   "cell_type": "code",
   "execution_count": 7,
   "metadata": {},
   "outputs": [],
   "source": [
    "assert my_podcast.n_participants == 2, \"Number of participants should be 2, but it is {my_podcast.n_participants}\""
   ]
  },
  {
   "cell_type": "code",
   "execution_count": 8,
   "metadata": {},
   "outputs": [
    {
     "name": "stderr",
     "output_type": "stream",
     "text": [
      "/home/mymm_psu_gmail_com/miniconda3/envs/ficast/lib/python3.11/site-packages/thought_agents/web/summarizer.py:70: LangChainDeprecationWarning: The class `LLMChain` was deprecated in LangChain 0.1.17 and will be removed in 1.0. Use RunnableSequence, e.g., `prompt | llm` instead.\n",
      "  map_chain = LLMChain(llm=llm, prompt=self.map_prompt)\n",
      "/home/mymm_psu_gmail_com/miniconda3/envs/ficast/lib/python3.11/site-packages/thought_agents/web/summarizer.py:74: LangChainDeprecationWarning: This class is deprecated. Use the `create_stuff_documents_chain` constructor instead. See migration guide here: https://python.langchain.com/v0.2/docs/versions/migrating_chains/stuff_docs_chain/\n",
      "  combine_chain = StuffDocumentsChain(\n"
     ]
    },
    {
     "name": "stdout",
     "output_type": "stream",
     "text": [
      "\u001b[33minit\u001b[0m (to chat_manager):\n",
      "\n",
      "You are going to prepare the host for a podcast among: Joe Rogan,David Sinclair in a real-life conversation about beer & snacks for as long as 10 minutes at an estimate rate of 120 words per minute.\n",
      "\n",
      "--------------------------------------------------------------------------------\n",
      "\u001b[32m\n",
      "Next speaker: research_coder\n",
      "\u001b[0m\n",
      "\u001b[33mresearch_coder\u001b[0m (to chat_manager):\n",
      "\n",
      "I understand you're trying to prepare for a hypothetical podcast conversation between Joe Rogan and David Sinclair about beer and snacks. \n",
      "\n",
      "However, using web scraping to gather context for this topic has limitations:\n",
      "\n",
      "* **Bias**:  Scraping websites related to Joe Rogan, David Sinclair, beer, or snacks might give you a biased view.  You'll only be seeing what's already been said in those specific contexts.\n",
      "* **Depth**: A 10-minute conversation is short. Simply pulling information from websites might not provide the depth or nuance needed for a meaningful discussion.\n",
      "* **Ethical Concerns**:  Scraping websites without permission (especially if they have measures against it) can be unethical.\n",
      "\n",
      "**A More Effective Approach:**\n",
      "\n",
      "1. **Direct Research:** The best way to prepare is to research Joe Rogan and David Sinclair's views directly:\n",
      "    * **Listen to their podcasts:**  Pay attention to episodes where they discuss food, drink, health, or lifestyle choices.\n",
      "    * **Read their books/articles:** Both have written extensively on related topics.\n",
      "2. **Broaden Your Search:**\n",
      "    * **Explore different perspectives on beer and snacks:** Look into craft beer, health impacts, cultural aspects, etc.\n",
      "    * **Consider the intersection of their interests:** Rogan is interested in fitness and comedy, Sinclair in aging and science.  Find areas of overlap.\n",
      "\n",
      "Remember, the goal is to have an engaging and informed conversation, not just repeat information found online. \n",
      "\n",
      "\n",
      "--------------------------------------------------------------------------------\n",
      "\u001b[32m\n",
      "Next speaker: research_coder\n",
      "\u001b[0m\n",
      "\u001b[33mresearch_coder\u001b[0m (to chat_manager):\n",
      "\n",
      "You're right! Focusing on a code solution for this particular scenario is not the most effective approach.  It's better to use a combination of research and creative thinking to prepare for this hypothetical podcast.\n",
      "\n",
      "Here's how we can break down the preparation for a more engaging and insightful result:\n",
      "\n",
      "**1. Understanding the Participants:**\n",
      "\n",
      "* **Joe Rogan:** Research his podcast, \"The Joe Rogan Experience.\" Focus on episodes related to:\n",
      "    * Health and fitness:  Look for his views on diet, exercise, and supplements. \n",
      "    * Food and drink:  Pay attention to his opinions on different types of food, drinks (especially alcohol), and his overall approach to nutrition.\n",
      "    * Guests with similar interests: Has he interviewed athletes, nutritionists, or even David Sinclair himself?\n",
      "* **David Sinclair:**  Explore his work and public appearances, focusing on:\n",
      "    * His research on aging:  Understand his key findings and recommendations for longevity.\n",
      "    * His stance on diet and lifestyle:  What does he advocate for in terms of food and drink? \n",
      "    * Popular media appearances: Look for interviews or talks where he discusses these topics in more accessible terms. \n",
      "\n",
      "**2. Finding the Common Ground:  \"Beer & Snacks\"**\n",
      "\n",
      "* **Joe Rogan's Perspective:**  How might he approach the topic of \"beer & snacks\"?  \n",
      "    * Consider his interest in social settings, comedy, and potentially \"cheat meals.\" \n",
      "* **David Sinclair's Perspective:**  How might he tie \"beer & snacks\" into his research?\n",
      "    * Think about the health aspects, potential benefits or downsides, and his overall philosophy on enjoying life while aging well.\n",
      "\n",
      "**3. Crafting the Conversation:**\n",
      "\n",
      "* **Points of Agreement:** Where might their views align?  Perhaps on certain types of craft beer, the importance of moderation, or the social aspect of food and drink.\n",
      "* **Points of Contention:**  Where might they disagree?  This could be on the health effects of alcohol, the nutritional value of snacks, or the role of indulgence in a healthy lifestyle. \n",
      "* **Engaging Questions:**  Think of questions that could spark interesting discussions, such as:\n",
      "    * \"Can you enjoy beer and snacks while still prioritizing longevity?\"\n",
      "    * \"What are your thoughts on the current trends in craft beer and healthy snack options?\"\n",
      "    * \"How do you balance your personal enjoyment of food and drink with your scientific knowledge?\"\n",
      "\n",
      "By researching, analyzing, and thinking creatively about the potential dynamics, you can prepare for a more insightful and engaging discussion on this topic, even without using code. \n",
      "\n",
      "\n",
      "--------------------------------------------------------------------------------\n",
      "\u001b[32m\n",
      "Next speaker: research_coder\n",
      "\u001b[0m\n",
      "\u001b[33mresearch_coder\u001b[0m (to chat_manager):\n",
      "\n",
      "Here are some additional tips to further enhance your preparation, drawing on the strengths of each participant's typical conversational style:\n",
      "\n",
      "**Leveraging Joe Rogan's Approach:**\n",
      "\n",
      "* **Embrace the Tangent:** Rogan is known for his meandering conversations. Don't be afraid to explore related topics that come up organically. This could involve:\n",
      "    * The history of beer and brewing\n",
      "    * The cultural significance of snacks in different societies\n",
      "    * Funny anecdotes about food and drink experiences \n",
      "* **Humor is Key:**  Rogan loves to laugh.  Think of humorous angles on the topic:\n",
      "    * The absurdity of some \"healthy\" snack options\n",
      "    * Funny stories about trying new beers\n",
      "    * Jokes about the scientific names of ingredients \n",
      "* **Play Devil's Advocate:**  Rogan often challenges his guests' perspectives.  Prepare counterarguments to David Sinclair's potential points:\n",
      "    * Are there benefits to moderate alcohol consumption that Sinclair might not emphasize?\n",
      "    * Are all snacks created equal, or are there nuances Sinclair might overlook?\n",
      "\n",
      "**Working with David Sinclair's Style:**\n",
      "\n",
      "* **Ground the Discussion in Science:** Sinclair is a respected scientist. Be ready to discuss:\n",
      "    * The biological effects of alcohol on the body\n",
      "    * The nutritional content of different snack choices\n",
      "    * The latest research on aging and how diet plays a role\n",
      "* **Connect to Practical Takeaways:** Sinclair aims to make his research relatable.  Consider:\n",
      "    * What are the actionable tips people can take away regarding beer and snack choices?\n",
      "    * Are there specific brands or types of snacks Sinclair might recommend (or advise against)?\n",
      "* **Highlight the Bigger Picture:** Sinclair is passionate about extending lifespan.  Link the \"beer & snacks\" topic back to broader themes:\n",
      "    * Can we find ways to enjoy indulgences while still living longer, healthier lives?\n",
      "    * How can we make informed choices about food and drink in a world of conflicting information? \n",
      "\n",
      "**Remember:** Your goal is not to script the conversation, but to be prepared for a dynamic and thought-provoking discussion. By understanding the participants, finding common ground, and anticipating different viewpoints, you'll be well-equipped to engage in an interesting and potentially hilarious exploration of \"beer & snacks.\" \n",
      "\n",
      "\n",
      "--------------------------------------------------------------------------------\n",
      "\u001b[32m\n",
      "Next speaker: research_coder\n",
      "\u001b[0m\n",
      "\u001b[33mresearch_coder\u001b[0m (to chat_manager):\n",
      "\n",
      "You're right, I got carried away with the conversational aspect! While those strategies are helpful for brainstorming content, let's get back to how we can use code to help you research and prepare.\n",
      "\n",
      "Since web scraping can be complex and ethically tricky, let's focus on a Python script that leverages Google Search to quickly gather relevant links for you to explore:\n",
      "\n",
      "```python\n",
      "import requests\n",
      "\n",
      "def search_google(query, num_results=5):\n",
      "    \"\"\"Searches Google for a given query and returns a list of URLs.\n",
      "\n",
      "    Args:\n",
      "        query: The search query string.\n",
      "        num_results: The number of results to return.\n",
      "\n",
      "    Returns:\n",
      "        A list of URLs from the Google search results.\n",
      "    \"\"\"\n",
      "\n",
      "    search_url = \"https://www.google.com/search\"\n",
      "    params = {\n",
      "        \"q\": query,\n",
      "        \"num\": num_results,\n",
      "    }\n",
      "    headers = {\n",
      "        \"User-Agent\": \"Mozilla/5.0 (Windows NT 10.0; Win64; x64) AppleWebKit/537.36 (KHTML, like Gecko) Chrome/58.0.3029.110 Safari/537.3\"\n",
      "    }\n",
      "\n",
      "    response = requests.get(search_url, params=params, headers=headers)\n",
      "    response.raise_for_status()\n",
      "\n",
      "    # (Note: Parsing HTML with regex is generally discouraged, \n",
      "    # but we'll use it here for a simple example. \n",
      "    # For more robust parsing, consider using libraries like BeautifulSoup.)\n",
      "\n",
      "    import re\n",
      "    urls = re.findall(r'<a href=\"/url\\?q=(.*?)&amp', response.text)\n",
      "    return [url.replace(\"%3F\", \"?\").replace(\"%3D\", \"=\") for url in urls]\n",
      "\n",
      "if __name__ == \"__main__\":\n",
      "  queries = [\n",
      "      \"Joe Rogan podcast beer\", \n",
      "      \"Joe Rogan diet\", \n",
      "      \"David Sinclair alcohol\", \n",
      "      \"David Sinclair favorite foods\", \n",
      "      \"health benefits craft beer\",\n",
      "      \"healthy snack options science-backed\"\n",
      "  ]\n",
      "\n",
      "  for query in queries:\n",
      "      print(f\"**Results for: {query}**\")\n",
      "      results = search_google(query)\n",
      "      for i, url in enumerate(results):\n",
      "          print(f\"{i+1}. {url}\")\n",
      "      print(\"-\" * 20)\n",
      "```\n",
      "\n",
      "This script will:\n",
      "\n",
      "1. **Define a function `search_google`:** This function takes a search query and the desired number of results. It makes a request to Google Search and returns a list of URLs extracted from the results.\n",
      "2. **Define a list of search queries:** This list includes various combinations of your keywords to cover different aspects of your research. \n",
      "3. **Iterate through the queries:**  For each query, it prints the query itself and then retrieves the top URLs from Google Search using the `search_google` function. The results are printed with their corresponding numbers for easier browsing. \n",
      "\n",
      "To use this script:\n",
      "\n",
      "1. **Save it as a `.py` file** (e.g., `research_helper.py`).\n",
      "2. **Run it from your terminal:** `python research_helper.py`\n",
      "\n",
      "This will output a list of URLs directly related to your search terms. While it doesn't perform deep analysis, it automates the initial step of finding relevant information, saving you time and effort. Remember to always review the context of websites and sources before incorporating information into your preparation. \n",
      "\n",
      "\n",
      "--------------------------------------------------------------------------------\n",
      "\u001b[32m\n",
      "Next speaker: executor\n",
      "\u001b[0m\n",
      "\u001b[33mexecutor\u001b[0m (to chat_manager):\n",
      "\n",
      "This Python script is a great start for automating your research process! It uses the requests library to fetch Google Search results and a regular expression to extract URLs. \n",
      "\n",
      "However, there are a few improvements we can make to enhance its functionality and robustness:\n",
      "\n",
      "**1. Error Handling:**\n",
      "\n",
      "* **HTTP Errors:** While you have `response.raise_for_status()`, it's good practice to catch potential exceptions specifically for more informative error handling:\n",
      "\n",
      "```python\n",
      "    try:\n",
      "        response = requests.get(search_url, params=params, headers=headers)\n",
      "        response.raise_for_status()\n",
      "    except requests.exceptions.HTTPError as errh:\n",
      "        print(f\"HTTP Error: {errh}\")\n",
      "        return [] # Return an empty list in case of error\n",
      "    except requests.exceptions.RequestException as erre:\n",
      "        print(f\"Request Error: {erre}\")\n",
      "        return []\n",
      "```\n",
      "\n",
      "**2. Improved URL Extraction:**\n",
      "\n",
      "* **Regex Robustness:** Your current regex works, but it might be fragile to changes in Google's HTML structure. Let's use a more targeted approach, looking for URLs within specific HTML elements:\n",
      "\n",
      "```python\n",
      "    import re\n",
      "    urls = re.findall(r'<h3 class=\".*?\"><a href=\"(.*?)\"', response.text) \n",
      "```\n",
      "\n",
      "**3. Handling URL Encoding:**\n",
      "\n",
      "* **Unquoting URLs:** The `urllib.parse` module can help decode the URLs more reliably:\n",
      "\n",
      "```python\n",
      "    from urllib.parse import unquote\n",
      "    urls = [unquote(url) for url in urls]\n",
      "```\n",
      "\n",
      "**4. Clearer Output:**\n",
      "\n",
      "* **Formatting:**  Let's format the output to make it easier to read:\n",
      "\n",
      "```python\n",
      "    for i, url in enumerate(results):\n",
      "        print(f\"{i+1}. {url}\")\n",
      "    print(\"\\n\" + \"-\"*20 + \"\\n\")  # Add some spacing \n",
      "```\n",
      "\n",
      "**Revised Code:**\n",
      "\n",
      "```python\n",
      "import requests\n",
      "from urllib.parse import unquote\n",
      "import re\n",
      "\n",
      "def search_google(query, num_results=5):\n",
      "    \"\"\"Searches Google for a given query and returns a list of URLs.\n",
      "\n",
      "    Args:\n",
      "        query: The search query string.\n",
      "        num_results: The number of results to return.\n",
      "\n",
      "    Returns:\n",
      "        A list of URLs from the Google search results.\n",
      "    \"\"\"\n",
      "\n",
      "    search_url = \"https://www.google.com/search\"\n",
      "    params = {\n",
      "        \"q\": query,\n",
      "        \"num\": num_results,\n",
      "    }\n",
      "    headers = {\n",
      "        \"User-Agent\": \"Mozilla/5.0 (Windows NT 10.0; Win64; x64) AppleWebKit/537.36 (KHTML, like Gecko) Chrome/58.0.3029.110 Safari/537.3\"\n",
      "    }\n",
      "\n",
      "    try:\n",
      "        response = requests.get(search_url, params=params, headers=headers)\n",
      "        response.raise_for_status()\n",
      "    except requests.exceptions.HTTPError as errh:\n",
      "        print(f\"HTTP Error: {errh}\")\n",
      "        return []\n",
      "    except requests.exceptions.RequestException as erre:\n",
      "        print(f\"Request Error: {erre}\")\n",
      "        return []\n",
      "\n",
      "    urls = re.findall(r'<h3 class=\".*?\"><a href=\"(.*?)\"', response.text)\n",
      "    urls = [unquote(url) for url in urls]\n",
      "    return urls\n",
      "\n",
      "if __name__ == \"__main__\":\n",
      "    queries = [\n",
      "        \"Joe Rogan podcast beer\",\n",
      "        \"Joe Rogan diet\",\n",
      "        \"David Sinclair alcohol\",\n",
      "        \"David Sinclair favorite foods\",\n",
      "        \"health benefits craft beer\",\n",
      "        \"healthy snack options science-backed\"\n",
      "    ]\n",
      "\n",
      "    for query in queries:\n",
      "        print(f\"**Results for: {query}**\")\n",
      "        results = search_google(query)\n",
      "        for i, url in enumerate(results):\n",
      "            print(f\"{i+1}. {url}\")\n",
      "        print(\"\\n\" + \"-\"*20 + \"\\n\")\n",
      "```\n",
      "\n",
      "Remember that web scraping should always be done responsibly and ethically. Be mindful of websites' terms of service and consider using techniques like rate limiting to avoid overwhelming servers. \n",
      "\n",
      "\n",
      "--------------------------------------------------------------------------------\n",
      "\u001b[32m\n",
      "Next speaker: informer\n",
      "\u001b[0m\n",
      "\u001b[33minformer\u001b[0m (to chat_manager):\n",
      "\n",
      "You're absolutely right to bring us back to the core request of providing summarized biographies. Let's give you the information you need to brief your hypothetical podcast hosts: \n",
      "\n",
      "## Joe Rogan\n",
      "\n",
      "**Known For:** \n",
      "\n",
      "* **Host of \"The Joe Rogan Experience,\"** one of the world's most popular podcasts, known for long-form conversations with diverse guests.\n",
      "* **Stand-up comedian** with a career spanning decades. \n",
      "* **UFC commentator** known for his passionate, knowledgeable analysis.\n",
      "* **Early adopter** of various health and fitness trends, including the carnivore diet, sensory deprivation tanks, and psychedelics.  \n",
      "\n",
      "**Personality:** \n",
      "\n",
      "* **Inquisitive and open-minded:**  Eager to explore a wide range of ideas, even controversial ones.\n",
      "* **Blunt and unfiltered:** Known for speaking his mind, sometimes leading to controversy.\n",
      "* **Humorous and engaging:**  His podcast is as entertaining as it is thought-provoking. \n",
      "\n",
      "**Relevant News/Context:** \n",
      "\n",
      "* Rogan's podcast has been both praised and criticized for its content and guests. \n",
      "* He's a vocal advocate for free speech and personal freedom. \n",
      "* His interest in health and fitness is a recurring theme on his podcast. \n",
      "\n",
      "## David Sinclair, Ph.D.\n",
      "\n",
      "**Known For:**\n",
      "\n",
      "* **Leading researcher on aging** at Harvard Medical School.\n",
      "* **Author of the bestselling book \"Lifespan,\"** which explores the science of aging and the potential for extending human lifespan. \n",
      "* **Proponent of interventions** like NAD+ boosters and metformin for slowing down aging.\n",
      "\n",
      "**Personality:** \n",
      "\n",
      "* **Passionate about his work:**  Believes strongly in the potential to radically extend human healthspan. \n",
      "* **Articulate and engaging:**  Able to explain complex scientific concepts in an accessible way.\n",
      "* **Optimistic about the future:**  Confident that science can help us live longer, healthier lives. \n",
      "\n",
      "**Relevant News/Context:**\n",
      "\n",
      "* Sinclair's work is highly regarded in the scientific community, but some of his views on aging are considered controversial.\n",
      "* He's a sought-after speaker and media commentator on the topic of longevity.  \n",
      "* He practices what he preaches, following a strict diet and exercise regimen himself. \n",
      "\n",
      "**For the \"Beer & Snacks\" Theme:**  Think about how Rogan's enjoyment of those things might contrast with Sinclair's focus on longevity. This tension could be a great starting point for their conversation. \n",
      "\n",
      "\n",
      "--------------------------------------------------------------------------------\n",
      "\u001b[32m\n",
      "Next speaker: Joe Rogan\n",
      "\u001b[0m\n",
      "\u001b[33mJoe Rogan\u001b[0m (to chat_manager):\n",
      "\n",
      "```json\n",
      "{\n",
      "  \"speaker\": \"Joe Rogan\",\n",
      "  \"dialogue\": \"Alright, folks, we got Dr. David Sinclair in the house! We're gonna dive deep into this whole aging thing, but first, gotta ask - you down with a little beer and snacks while we chat? Or is that gonna mess with your whole longevity plan?\",\n",
      "  \"inner_thought\": \"Alright, let's see if I can get Sinclair to loosen up a bit. Dude knows his science, but everyone's got a vice, right?\"\n",
      "}\n",
      "```\n",
      "\n",
      "--------------------------------------------------------------------------------\n",
      "\u001b[32m\n",
      "Next speaker: David Sinclair\n",
      "\u001b[0m\n",
      "\u001b[33mDavid Sinclair\u001b[0m (to chat_manager):\n",
      "\n",
      "```json\n",
      "{\n",
      "  \"speaker\": \"David Sinclair\",\n",
      "  \"dialogue\": \"Thanks for having me, Joe! I have to admit, I'm more of a green tea and almonds kind of guy these days. But hey, I'm all about balance. What kind of beer we talking?\",\n",
      "  \"inner_thought\": \"Okay, Rogan seems pretty relaxed. This could be a fun opportunity to reach a different audience with my work. Let's see if I can work in some science between sips.\" \n",
      "}\n",
      "``` \n",
      "\n",
      "\n",
      "--------------------------------------------------------------------------------\n",
      "\u001b[32m\n",
      "Next speaker: Joe Rogan\n",
      "\u001b[0m\n",
      "\u001b[33mJoe Rogan\u001b[0m (to chat_manager):\n",
      "\n",
      "```json\n",
      "{\n",
      "  \"speaker\": \"Joe Rogan\",\n",
      "  \"dialogue\": \"See, that's what I like to hear! Balance. We ain't talking no light beer here, brother. I'm thinking a nice hazy IPA, something with a little kick. You into that?  And we got some elk jerky, some spicy pickles...  Gotta keep it interesting!\",\n",
      "  \"inner_thought\": \"This guy is game! I knew he wouldn't be some stuffy academic.  This is gonna be a good one.\"\n",
      "}\n",
      "```\n",
      "\n",
      "--------------------------------------------------------------------------------\n",
      "\u001b[32m\n",
      "Next speaker: David Sinclair\n",
      "\u001b[0m\n",
      "\u001b[33mDavid Sinclair\u001b[0m (to chat_manager):\n",
      "\n",
      "```json\n",
      "{\n",
      "  \"speaker\": \"David Sinclair\",\n",
      "  \"dialogue\": \"A hazy IPA, eh?  Well, I don't indulge very often, but I can appreciate a craft brew.  The science behind fermentation is quite fascinating, actually. And elk jerky? Now that's interesting.  Much leaner than your typical beef jerky, I'd imagine.\", \n",
      "  \"inner_thought\": \"Okay, play it cool.  I can steer this towards the science of food and fermentation.  Rogan seems open to it. And maybe I'll sneak a pickle in...\"\n",
      "}\n",
      "``` \n",
      "\n",
      "\n",
      "--------------------------------------------------------------------------------\n",
      "\u001b[32m\n",
      "Next speaker: Joe Rogan\n",
      "\u001b[0m\n",
      "\u001b[33mJoe Rogan\u001b[0m (to chat_manager):\n",
      "\n",
      "```json\n",
      "{\n",
      "  \"speaker\": \"Joe Rogan\",\n",
      "  \"dialogue\": \"Dude, you're speaking my language! I love that you're geeking out on the science of this stuff.  Most people don't realize there's a whole world behind every sip and bite.  So, what's the deal with fermentation?  It's supposed to be good for your gut, right?\",\n",
      "  \"inner_thought\": \"See, I knew we could find common ground! This is why I love talking to smart people. Even when it's about beer and jerky, we can learn something.\"\n",
      "}\n",
      "``` \n",
      "\n",
      "\n",
      "--------------------------------------------------------------------------------\n",
      "\u001b[32m\n",
      "Next speaker: David Sinclair\n",
      "\u001b[0m\n",
      "\u001b[33mDavid Sinclair\u001b[0m (to chat_manager):\n",
      "\n",
      "```json\n",
      "{\n",
      "  \"speaker\": \"David Sinclair\",\n",
      "  \"dialogue\": \"You're right, Joe.  Fermentation is like this ancient alchemy.  You're essentially using microorganisms to transform food, creating all these beneficial byproducts.  Like you said, it's great for the gut microbiome, which we now know plays a huge role in overall health, even potentially influencing lifespan.\",\n",
      "  \"inner_thought\": \"Alright, we're getting into it! This is my chance to connect fermentation, gut health, and longevity—key themes from my work.\"\n",
      "}\n",
      "``` \n",
      "\n",
      "\n",
      "--------------------------------------------------------------------------------\n",
      "\u001b[32m\n",
      "Next speaker: script_parser\n",
      "\u001b[0m\n",
      "\u001b[33mscript_parser\u001b[0m (to chat_manager):\n",
      "\n",
      "```json\n",
      "{\"title\": \"Beer, Snacks, and Longevity: A Conversation with Joe Rogan and David Sinclair\", \"abstract\": \"Join Joe Rogan and Dr. David Sinclair, a leading expert on aging, as they delve into the world of beer, snacks, and how to balance indulgence with a healthy lifestyle.  Can you enjoy a hazy IPA and elk jerky while still prioritizing longevity? They'll explore the science behind fermentation, the impact of food choices on aging, and the importance of finding balance in a world of temptation.\", \"participants\": {\"hosts\": [{\"name\": \"Joe Rogan\", \"sex\": \"male\", \"description\": \"Host of the popular podcast \\\"The Joe Rogan Experience,\\\" known for his long-form conversations, comedic style, and interest in health and fitness.\"}], \"guests\": [{\"name\": \"David Sinclair\", \"sex\": \"male\", \"description\": \"A leading researcher on aging, author of the book \\\"Lifespan,\\\" and advocate for interventions that could extend human lifespan.\"}]}, \"dialogues\": [{\"speaker\": \"Joe Rogan\", \"dialogue\": \"Alright, folks, we got Dr. David Sinclair in the house! We're gonna dive deep into this whole aging thing, but first, gotta ask - you down with a little beer and snacks while we chat? Or is that gonna mess with your whole longevity plan?\", \"inner_thought\": \"Alright, let's see if I can get Sinclair to loosen up a bit. Dude knows his science, but everyone's got a vice, right?\"}, {\"speaker\": \"David Sinclair\", \"dialogue\": \"Thanks for having me, Joe! I have to admit, I'm more of a green tea and almonds kind of guy these days. But hey, I'm all about balance. What kind of beer we talking?\", \"inner_thought\": \"Okay, Rogan seems pretty relaxed. This could be a fun opportunity to reach a different audience with my work. Let's see if I can work in some science between sips.\"}, {\"speaker\": \"Joe Rogan\", \"dialogue\": \"See, that's what I like to hear! Balance. We ain't talking no light beer here, brother. I'm thinking a nice hazy IPA, something with a little kick. You into that?  And we got some elk jerky, some spicy pickles...  Gotta keep it interesting!\", \"inner_thought\": \"This guy is game! I knew he wouldn't be some stuffy academic. This is gonna be a good one.\"}, {\"speaker\": \"David Sinclair\", \"dialogue\": \"A hazy IPA, eh?  Well, I don't indulge very often, but I can appreciate a craft brew.  The science behind fermentation is quite fascinating, actually. And elk jerky? Now that's interesting.  Much leaner than your typical beef jerky, I'd imagine.\", \"inner_thought\": \"Okay, play it cool.  I can steer this towards the science of food and fermentation.  Rogan seems open to it. And maybe I'll sneak a pickle in...\"}, {\"speaker\": \"Joe Rogan\", \"dialogue\": \"Dude, you're speaking my language! I love that you're geeking out on the science of this stuff.  Most people don't realize there's a whole world behind every sip and bite.  So, what's the deal with fermentation?  It's supposed to be good for your gut, right?\", \"inner_thought\": \"See, I knew we could find common ground! This is why I love talking to smart people. Even when it's about beer and jerky, we can learn something.\"}, {\"speaker\": \"David Sinclair\", \"dialogue\": \"You're right, Joe.  Fermentation is like this ancient alchemy.  You're essentially using microorganisms to transform food, creating all these beneficial byproducts.  Like you said, it's great for the gut microbiome, which we now know plays a huge role in overall health, even potentially influencing lifespan.\", \"inner_thought\": \"Alright, we're getting into it! This is my chance to connect fermentation, gut health, and longevity—key themes from my work.\"}]}\n",
      "```\n",
      "\n",
      "--------------------------------------------------------------------------------\n"
     ]
    }
   ],
   "source": [
    "chat_result = my_podcast.create()"
   ]
  },
  {
   "cell_type": "code",
   "execution_count": 9,
   "metadata": {},
   "outputs": [
    {
     "name": "stdout",
     "output_type": "stream",
     "text": [
      "Loading config version: default from path: ../conf/dialogue\n"
     ]
    },
    {
     "data": {
      "text/plain": [
       "{'content': 'You\\'re right, I got carried away with the conversational aspect! While those strategies are helpful for brainstorming content, let\\'s get back to how we can use code to help you research and prepare.\\n\\nSince web scraping can be complex and ethically tricky, let\\'s focus on a Python script that leverages Google Search to quickly gather relevant links for you to explore:\\n\\n```python\\nimport requests\\n\\ndef search_google(query, num_results=5):\\n    \"\"\"Searches Google for a given query and returns a list of URLs.\\n\\n    Args:\\n        query: The search query string.\\n        num_results: The number of results to return.\\n\\n    Returns:\\n        A list of URLs from the Google search results.\\n    \"\"\"\\n\\n    search_url = \"https://www.google.com/search\"\\n    params = {\\n        \"q\": query,\\n        \"num\": num_results,\\n    }\\n    headers = {\\n        \"User-Agent\": \"Mozilla/5.0 (Windows NT 10.0; Win64; x64) AppleWebKit/537.36 (KHTML, like Gecko) Chrome/58.0.3029.110 Safari/537.3\"\\n    }\\n\\n    response = requests.get(search_url, params=params, headers=headers)\\n    response.raise_for_status()\\n\\n    # (Note: Parsing HTML with regex is generally discouraged, \\n    # but we\\'ll use it here for a simple example. \\n    # For more robust parsing, consider using libraries like BeautifulSoup.)\\n\\n    import re\\n    urls = re.findall(r\\'<a href=\"/url\\\\?q=(.*?)&amp\\', response.text)\\n    return [url.replace(\"%3F\", \"?\").replace(\"%3D\", \"=\") for url in urls]\\n\\nif __name__ == \"__main__\":\\n  queries = [\\n      \"Joe Rogan podcast beer\", \\n      \"Joe Rogan diet\", \\n      \"David Sinclair alcohol\", \\n      \"David Sinclair favorite foods\", \\n      \"health benefits craft beer\",\\n      \"healthy snack options science-backed\"\\n  ]\\n\\n  for query in queries:\\n      print(f\"**Results for: {query}**\")\\n      results = search_google(query)\\n      for i, url in enumerate(results):\\n          print(f\"{i+1}. {url}\")\\n      print(\"-\" * 20)\\n```\\n\\nThis script will:\\n\\n1. **Define a function `search_google`:** This function takes a search query and the desired number of results. It makes a request to Google Search and returns a list of URLs extracted from the results.\\n2. **Define a list of search queries:** This list includes various combinations of your keywords to cover different aspects of your research. \\n3. **Iterate through the queries:**  For each query, it prints the query itself and then retrieves the top URLs from Google Search using the `search_google` function. The results are printed with their corresponding numbers for easier browsing. \\n\\nTo use this script:\\n\\n1. **Save it as a `.py` file** (e.g., `research_helper.py`).\\n2. **Run it from your terminal:** `python research_helper.py`\\n\\nThis will output a list of URLs directly related to your search terms. While it doesn\\'t perform deep analysis, it automates the initial step of finding relevant information, saving you time and effort. Remember to always review the context of websites and sources before incorporating information into your preparation. \\n',\n",
       " 'name': 'research_coder',\n",
       " 'role': 'user'}"
      ]
     },
     "execution_count": 9,
     "metadata": {},
     "output_type": "execute_result"
    }
   ],
   "source": [
    "# start of the conversation\n",
    "chat_result[4]"
   ]
  },
  {
   "cell_type": "code",
   "execution_count": 10,
   "metadata": {},
   "outputs": [
    {
     "data": {
      "text/plain": [
       "[{'content': 'Here are some additional tips to further enhance your preparation, drawing on the strengths of each participant\\'s typical conversational style:\\n\\n**Leveraging Joe Rogan\\'s Approach:**\\n\\n* **Embrace the Tangent:** Rogan is known for his meandering conversations. Don\\'t be afraid to explore related topics that come up organically. This could involve:\\n    * The history of beer and brewing\\n    * The cultural significance of snacks in different societies\\n    * Funny anecdotes about food and drink experiences \\n* **Humor is Key:**  Rogan loves to laugh.  Think of humorous angles on the topic:\\n    * The absurdity of some \"healthy\" snack options\\n    * Funny stories about trying new beers\\n    * Jokes about the scientific names of ingredients \\n* **Play Devil\\'s Advocate:**  Rogan often challenges his guests\\' perspectives.  Prepare counterarguments to David Sinclair\\'s potential points:\\n    * Are there benefits to moderate alcohol consumption that Sinclair might not emphasize?\\n    * Are all snacks created equal, or are there nuances Sinclair might overlook?\\n\\n**Working with David Sinclair\\'s Style:**\\n\\n* **Ground the Discussion in Science:** Sinclair is a respected scientist. Be ready to discuss:\\n    * The biological effects of alcohol on the body\\n    * The nutritional content of different snack choices\\n    * The latest research on aging and how diet plays a role\\n* **Connect to Practical Takeaways:** Sinclair aims to make his research relatable.  Consider:\\n    * What are the actionable tips people can take away regarding beer and snack choices?\\n    * Are there specific brands or types of snacks Sinclair might recommend (or advise against)?\\n* **Highlight the Bigger Picture:** Sinclair is passionate about extending lifespan.  Link the \"beer & snacks\" topic back to broader themes:\\n    * Can we find ways to enjoy indulgences while still living longer, healthier lives?\\n    * How can we make informed choices about food and drink in a world of conflicting information? \\n\\n**Remember:** Your goal is not to script the conversation, but to be prepared for a dynamic and thought-provoking discussion. By understanding the participants, finding common ground, and anticipating different viewpoints, you\\'ll be well-equipped to engage in an interesting and potentially hilarious exploration of \"beer & snacks.\" \\n',\n",
       "  'name': 'research_coder',\n",
       "  'role': 'user'},\n",
       " {'content': 'You\\'re right, I got carried away with the conversational aspect! While those strategies are helpful for brainstorming content, let\\'s get back to how we can use code to help you research and prepare.\\n\\nSince web scraping can be complex and ethically tricky, let\\'s focus on a Python script that leverages Google Search to quickly gather relevant links for you to explore:\\n\\n```python\\nimport requests\\n\\ndef search_google(query, num_results=5):\\n    \"\"\"Searches Google for a given query and returns a list of URLs.\\n\\n    Args:\\n        query: The search query string.\\n        num_results: The number of results to return.\\n\\n    Returns:\\n        A list of URLs from the Google search results.\\n    \"\"\"\\n\\n    search_url = \"https://www.google.com/search\"\\n    params = {\\n        \"q\": query,\\n        \"num\": num_results,\\n    }\\n    headers = {\\n        \"User-Agent\": \"Mozilla/5.0 (Windows NT 10.0; Win64; x64) AppleWebKit/537.36 (KHTML, like Gecko) Chrome/58.0.3029.110 Safari/537.3\"\\n    }\\n\\n    response = requests.get(search_url, params=params, headers=headers)\\n    response.raise_for_status()\\n\\n    # (Note: Parsing HTML with regex is generally discouraged, \\n    # but we\\'ll use it here for a simple example. \\n    # For more robust parsing, consider using libraries like BeautifulSoup.)\\n\\n    import re\\n    urls = re.findall(r\\'<a href=\"/url\\\\?q=(.*?)&amp\\', response.text)\\n    return [url.replace(\"%3F\", \"?\").replace(\"%3D\", \"=\") for url in urls]\\n\\nif __name__ == \"__main__\":\\n  queries = [\\n      \"Joe Rogan podcast beer\", \\n      \"Joe Rogan diet\", \\n      \"David Sinclair alcohol\", \\n      \"David Sinclair favorite foods\", \\n      \"health benefits craft beer\",\\n      \"healthy snack options science-backed\"\\n  ]\\n\\n  for query in queries:\\n      print(f\"**Results for: {query}**\")\\n      results = search_google(query)\\n      for i, url in enumerate(results):\\n          print(f\"{i+1}. {url}\")\\n      print(\"-\" * 20)\\n```\\n\\nThis script will:\\n\\n1. **Define a function `search_google`:** This function takes a search query and the desired number of results. It makes a request to Google Search and returns a list of URLs extracted from the results.\\n2. **Define a list of search queries:** This list includes various combinations of your keywords to cover different aspects of your research. \\n3. **Iterate through the queries:**  For each query, it prints the query itself and then retrieves the top URLs from Google Search using the `search_google` function. The results are printed with their corresponding numbers for easier browsing. \\n\\nTo use this script:\\n\\n1. **Save it as a `.py` file** (e.g., `research_helper.py`).\\n2. **Run it from your terminal:** `python research_helper.py`\\n\\nThis will output a list of URLs directly related to your search terms. While it doesn\\'t perform deep analysis, it automates the initial step of finding relevant information, saving you time and effort. Remember to always review the context of websites and sources before incorporating information into your preparation. \\n',\n",
       "  'name': 'research_coder',\n",
       "  'role': 'user'},\n",
       " {'content': 'This Python script is a great start for automating your research process! It uses the requests library to fetch Google Search results and a regular expression to extract URLs. \\n\\nHowever, there are a few improvements we can make to enhance its functionality and robustness:\\n\\n**1. Error Handling:**\\n\\n* **HTTP Errors:** While you have `response.raise_for_status()`, it\\'s good practice to catch potential exceptions specifically for more informative error handling:\\n\\n```python\\n    try:\\n        response = requests.get(search_url, params=params, headers=headers)\\n        response.raise_for_status()\\n    except requests.exceptions.HTTPError as errh:\\n        print(f\"HTTP Error: {errh}\")\\n        return [] # Return an empty list in case of error\\n    except requests.exceptions.RequestException as erre:\\n        print(f\"Request Error: {erre}\")\\n        return []\\n```\\n\\n**2. Improved URL Extraction:**\\n\\n* **Regex Robustness:** Your current regex works, but it might be fragile to changes in Google\\'s HTML structure. Let\\'s use a more targeted approach, looking for URLs within specific HTML elements:\\n\\n```python\\n    import re\\n    urls = re.findall(r\\'<h3 class=\".*?\"><a href=\"(.*?)\"\\', response.text) \\n```\\n\\n**3. Handling URL Encoding:**\\n\\n* **Unquoting URLs:** The `urllib.parse` module can help decode the URLs more reliably:\\n\\n```python\\n    from urllib.parse import unquote\\n    urls = [unquote(url) for url in urls]\\n```\\n\\n**4. Clearer Output:**\\n\\n* **Formatting:**  Let\\'s format the output to make it easier to read:\\n\\n```python\\n    for i, url in enumerate(results):\\n        print(f\"{i+1}. {url}\")\\n    print(\"\\\\n\" + \"-\"*20 + \"\\\\n\")  # Add some spacing \\n```\\n\\n**Revised Code:**\\n\\n```python\\nimport requests\\nfrom urllib.parse import unquote\\nimport re\\n\\ndef search_google(query, num_results=5):\\n    \"\"\"Searches Google for a given query and returns a list of URLs.\\n\\n    Args:\\n        query: The search query string.\\n        num_results: The number of results to return.\\n\\n    Returns:\\n        A list of URLs from the Google search results.\\n    \"\"\"\\n\\n    search_url = \"https://www.google.com/search\"\\n    params = {\\n        \"q\": query,\\n        \"num\": num_results,\\n    }\\n    headers = {\\n        \"User-Agent\": \"Mozilla/5.0 (Windows NT 10.0; Win64; x64) AppleWebKit/537.36 (KHTML, like Gecko) Chrome/58.0.3029.110 Safari/537.3\"\\n    }\\n\\n    try:\\n        response = requests.get(search_url, params=params, headers=headers)\\n        response.raise_for_status()\\n    except requests.exceptions.HTTPError as errh:\\n        print(f\"HTTP Error: {errh}\")\\n        return []\\n    except requests.exceptions.RequestException as erre:\\n        print(f\"Request Error: {erre}\")\\n        return []\\n\\n    urls = re.findall(r\\'<h3 class=\".*?\"><a href=\"(.*?)\"\\', response.text)\\n    urls = [unquote(url) for url in urls]\\n    return urls\\n\\nif __name__ == \"__main__\":\\n    queries = [\\n        \"Joe Rogan podcast beer\",\\n        \"Joe Rogan diet\",\\n        \"David Sinclair alcohol\",\\n        \"David Sinclair favorite foods\",\\n        \"health benefits craft beer\",\\n        \"healthy snack options science-backed\"\\n    ]\\n\\n    for query in queries:\\n        print(f\"**Results for: {query}**\")\\n        results = search_google(query)\\n        for i, url in enumerate(results):\\n            print(f\"{i+1}. {url}\")\\n        print(\"\\\\n\" + \"-\"*20 + \"\\\\n\")\\n```\\n\\nRemember that web scraping should always be done responsibly and ethically. Be mindful of websites\\' terms of service and consider using techniques like rate limiting to avoid overwhelming servers. \\n',\n",
       "  'name': 'executor',\n",
       "  'role': 'user'},\n",
       " {'content': 'You\\'re absolutely right to bring us back to the core request of providing summarized biographies. Let\\'s give you the information you need to brief your hypothetical podcast hosts: \\n\\n## Joe Rogan\\n\\n**Known For:** \\n\\n* **Host of \"The Joe Rogan Experience,\"** one of the world\\'s most popular podcasts, known for long-form conversations with diverse guests.\\n* **Stand-up comedian** with a career spanning decades. \\n* **UFC commentator** known for his passionate, knowledgeable analysis.\\n* **Early adopter** of various health and fitness trends, including the carnivore diet, sensory deprivation tanks, and psychedelics.  \\n\\n**Personality:** \\n\\n* **Inquisitive and open-minded:**  Eager to explore a wide range of ideas, even controversial ones.\\n* **Blunt and unfiltered:** Known for speaking his mind, sometimes leading to controversy.\\n* **Humorous and engaging:**  His podcast is as entertaining as it is thought-provoking. \\n\\n**Relevant News/Context:** \\n\\n* Rogan\\'s podcast has been both praised and criticized for its content and guests. \\n* He\\'s a vocal advocate for free speech and personal freedom. \\n* His interest in health and fitness is a recurring theme on his podcast. \\n\\n## David Sinclair, Ph.D.\\n\\n**Known For:**\\n\\n* **Leading researcher on aging** at Harvard Medical School.\\n* **Author of the bestselling book \"Lifespan,\"** which explores the science of aging and the potential for extending human lifespan. \\n* **Proponent of interventions** like NAD+ boosters and metformin for slowing down aging.\\n\\n**Personality:** \\n\\n* **Passionate about his work:**  Believes strongly in the potential to radically extend human healthspan. \\n* **Articulate and engaging:**  Able to explain complex scientific concepts in an accessible way.\\n* **Optimistic about the future:**  Confident that science can help us live longer, healthier lives. \\n\\n**Relevant News/Context:**\\n\\n* Sinclair\\'s work is highly regarded in the scientific community, but some of his views on aging are considered controversial.\\n* He\\'s a sought-after speaker and media commentator on the topic of longevity.  \\n* He practices what he preaches, following a strict diet and exercise regimen himself. \\n\\n**For the \"Beer & Snacks\" Theme:**  Think about how Rogan\\'s enjoyment of those things might contrast with Sinclair\\'s focus on longevity. This tension could be a great starting point for their conversation. \\n',\n",
       "  'name': 'informer',\n",
       "  'role': 'user'},\n",
       " {'content': '```json\\n{\\n  \"speaker\": \"Joe Rogan\",\\n  \"dialogue\": \"Alright, folks, we got Dr. David Sinclair in the house! We\\'re gonna dive deep into this whole aging thing, but first, gotta ask - you down with a little beer and snacks while we chat? Or is that gonna mess with your whole longevity plan?\",\\n  \"inner_thought\": \"Alright, let\\'s see if I can get Sinclair to loosen up a bit. Dude knows his science, but everyone\\'s got a vice, right?\"\\n}\\n```',\n",
       "  'name': 'Joe Rogan',\n",
       "  'role': 'user'},\n",
       " {'content': '```json\\n{\\n  \"speaker\": \"David Sinclair\",\\n  \"dialogue\": \"Thanks for having me, Joe! I have to admit, I\\'m more of a green tea and almonds kind of guy these days. But hey, I\\'m all about balance. What kind of beer we talking?\",\\n  \"inner_thought\": \"Okay, Rogan seems pretty relaxed. This could be a fun opportunity to reach a different audience with my work. Let\\'s see if I can work in some science between sips.\" \\n}\\n``` \\n',\n",
       "  'name': 'David Sinclair',\n",
       "  'role': 'user'},\n",
       " {'content': '```json\\n{\\n  \"speaker\": \"Joe Rogan\",\\n  \"dialogue\": \"See, that\\'s what I like to hear! Balance. We ain\\'t talking no light beer here, brother. I\\'m thinking a nice hazy IPA, something with a little kick. You into that?  And we got some elk jerky, some spicy pickles...  Gotta keep it interesting!\",\\n  \"inner_thought\": \"This guy is game! I knew he wouldn\\'t be some stuffy academic.  This is gonna be a good one.\"\\n}\\n```',\n",
       "  'name': 'Joe Rogan',\n",
       "  'role': 'user'},\n",
       " {'content': '```json\\n{\\n  \"speaker\": \"David Sinclair\",\\n  \"dialogue\": \"A hazy IPA, eh?  Well, I don\\'t indulge very often, but I can appreciate a craft brew.  The science behind fermentation is quite fascinating, actually. And elk jerky? Now that\\'s interesting.  Much leaner than your typical beef jerky, I\\'d imagine.\", \\n  \"inner_thought\": \"Okay, play it cool.  I can steer this towards the science of food and fermentation.  Rogan seems open to it. And maybe I\\'ll sneak a pickle in...\"\\n}\\n``` \\n',\n",
       "  'name': 'David Sinclair',\n",
       "  'role': 'user'},\n",
       " {'content': '```json\\n{\\n  \"speaker\": \"Joe Rogan\",\\n  \"dialogue\": \"Dude, you\\'re speaking my language! I love that you\\'re geeking out on the science of this stuff.  Most people don\\'t realize there\\'s a whole world behind every sip and bite.  So, what\\'s the deal with fermentation?  It\\'s supposed to be good for your gut, right?\",\\n  \"inner_thought\": \"See, I knew we could find common ground! This is why I love talking to smart people. Even when it\\'s about beer and jerky, we can learn something.\"\\n}\\n``` \\n',\n",
       "  'name': 'Joe Rogan',\n",
       "  'role': 'user'},\n",
       " {'content': '```json\\n{\\n  \"speaker\": \"David Sinclair\",\\n  \"dialogue\": \"You\\'re right, Joe.  Fermentation is like this ancient alchemy.  You\\'re essentially using microorganisms to transform food, creating all these beneficial byproducts.  Like you said, it\\'s great for the gut microbiome, which we now know plays a huge role in overall health, even potentially influencing lifespan.\",\\n  \"inner_thought\": \"Alright, we\\'re getting into it! This is my chance to connect fermentation, gut health, and longevity—key themes from my work.\"\\n}\\n``` \\n',\n",
       "  'name': 'David Sinclair',\n",
       "  'role': 'user'}]"
      ]
     },
     "execution_count": 10,
     "metadata": {},
     "output_type": "execute_result"
    }
   ],
   "source": [
    "# raw string script\n",
    "my_podcast.raw_script"
   ]
  },
  {
   "cell_type": "code",
   "execution_count": 11,
   "metadata": {},
   "outputs": [
    {
     "data": {
      "text/plain": [
       "[{'content': 'Here are some additional tips to further enhance your preparation, drawing on the strengths of each participant\\'s typical conversational style:\\n\\n**Leveraging Joe Rogan\\'s Approach:**\\n\\n* **Embrace the Tangent:** Rogan is known for his meandering conversations. Don\\'t be afraid to explore related topics that come up organically. This could involve:\\n    * The history of beer and brewing\\n    * The cultural significance of snacks in different societies\\n    * Funny anecdotes about food and drink experiences \\n* **Humor is Key:**  Rogan loves to laugh.  Think of humorous angles on the topic:\\n    * The absurdity of some \"healthy\" snack options\\n    * Funny stories about trying new beers\\n    * Jokes about the scientific names of ingredients \\n* **Play Devil\\'s Advocate:**  Rogan often challenges his guests\\' perspectives.  Prepare counterarguments to David Sinclair\\'s potential points:\\n    * Are there benefits to moderate alcohol consumption that Sinclair might not emphasize?\\n    * Are all snacks created equal, or are there nuances Sinclair might overlook?\\n\\n**Working with David Sinclair\\'s Style:**\\n\\n* **Ground the Discussion in Science:** Sinclair is a respected scientist. Be ready to discuss:\\n    * The biological effects of alcohol on the body\\n    * The nutritional content of different snack choices\\n    * The latest research on aging and how diet plays a role\\n* **Connect to Practical Takeaways:** Sinclair aims to make his research relatable.  Consider:\\n    * What are the actionable tips people can take away regarding beer and snack choices?\\n    * Are there specific brands or types of snacks Sinclair might recommend (or advise against)?\\n* **Highlight the Bigger Picture:** Sinclair is passionate about extending lifespan.  Link the \"beer & snacks\" topic back to broader themes:\\n    * Can we find ways to enjoy indulgences while still living longer, healthier lives?\\n    * How can we make informed choices about food and drink in a world of conflicting information? \\n\\n**Remember:** Your goal is not to script the conversation, but to be prepared for a dynamic and thought-provoking discussion. By understanding the participants, finding common ground, and anticipating different viewpoints, you\\'ll be well-equipped to engage in an interesting and potentially hilarious exploration of \"beer & snacks.\" \\n',\n",
       "  'name': 'research_coder',\n",
       "  'role': 'user'},\n",
       " {'content': 'You\\'re right, I got carried away with the conversational aspect! While those strategies are helpful for brainstorming content, let\\'s get back to how we can use code to help you research and prepare.\\n\\nSince web scraping can be complex and ethically tricky, let\\'s focus on a Python script that leverages Google Search to quickly gather relevant links for you to explore:\\n\\n```python\\nimport requests\\n\\ndef search_google(query, num_results=5):\\n    \"\"\"Searches Google for a given query and returns a list of URLs.\\n\\n    Args:\\n        query: The search query string.\\n        num_results: The number of results to return.\\n\\n    Returns:\\n        A list of URLs from the Google search results.\\n    \"\"\"\\n\\n    search_url = \"https://www.google.com/search\"\\n    params = {\\n        \"q\": query,\\n        \"num\": num_results,\\n    }\\n    headers = {\\n        \"User-Agent\": \"Mozilla/5.0 (Windows NT 10.0; Win64; x64) AppleWebKit/537.36 (KHTML, like Gecko) Chrome/58.0.3029.110 Safari/537.3\"\\n    }\\n\\n    response = requests.get(search_url, params=params, headers=headers)\\n    response.raise_for_status()\\n\\n    # (Note: Parsing HTML with regex is generally discouraged, \\n    # but we\\'ll use it here for a simple example. \\n    # For more robust parsing, consider using libraries like BeautifulSoup.)\\n\\n    import re\\n    urls = re.findall(r\\'<a href=\"/url\\\\?q=(.*?)&amp\\', response.text)\\n    return [url.replace(\"%3F\", \"?\").replace(\"%3D\", \"=\") for url in urls]\\n\\nif __name__ == \"__main__\":\\n  queries = [\\n      \"Joe Rogan podcast beer\", \\n      \"Joe Rogan diet\", \\n      \"David Sinclair alcohol\", \\n      \"David Sinclair favorite foods\", \\n      \"health benefits craft beer\",\\n      \"healthy snack options science-backed\"\\n  ]\\n\\n  for query in queries:\\n      print(f\"**Results for: {query}**\")\\n      results = search_google(query)\\n      for i, url in enumerate(results):\\n          print(f\"{i+1}. {url}\")\\n      print(\"-\" * 20)\\n```\\n\\nThis script will:\\n\\n1. **Define a function `search_google`:** This function takes a search query and the desired number of results. It makes a request to Google Search and returns a list of URLs extracted from the results.\\n2. **Define a list of search queries:** This list includes various combinations of your keywords to cover different aspects of your research. \\n3. **Iterate through the queries:**  For each query, it prints the query itself and then retrieves the top URLs from Google Search using the `search_google` function. The results are printed with their corresponding numbers for easier browsing. \\n\\nTo use this script:\\n\\n1. **Save it as a `.py` file** (e.g., `research_helper.py`).\\n2. **Run it from your terminal:** `python research_helper.py`\\n\\nThis will output a list of URLs directly related to your search terms. While it doesn\\'t perform deep analysis, it automates the initial step of finding relevant information, saving you time and effort. Remember to always review the context of websites and sources before incorporating information into your preparation. \\n',\n",
       "  'name': 'research_coder',\n",
       "  'role': 'user'},\n",
       " {'content': 'This Python script is a great start for automating your research process! It uses the requests library to fetch Google Search results and a regular expression to extract URLs. \\n\\nHowever, there are a few improvements we can make to enhance its functionality and robustness:\\n\\n**1. Error Handling:**\\n\\n* **HTTP Errors:** While you have `response.raise_for_status()`, it\\'s good practice to catch potential exceptions specifically for more informative error handling:\\n\\n```python\\n    try:\\n        response = requests.get(search_url, params=params, headers=headers)\\n        response.raise_for_status()\\n    except requests.exceptions.HTTPError as errh:\\n        print(f\"HTTP Error: {errh}\")\\n        return [] # Return an empty list in case of error\\n    except requests.exceptions.RequestException as erre:\\n        print(f\"Request Error: {erre}\")\\n        return []\\n```\\n\\n**2. Improved URL Extraction:**\\n\\n* **Regex Robustness:** Your current regex works, but it might be fragile to changes in Google\\'s HTML structure. Let\\'s use a more targeted approach, looking for URLs within specific HTML elements:\\n\\n```python\\n    import re\\n    urls = re.findall(r\\'<h3 class=\".*?\"><a href=\"(.*?)\"\\', response.text) \\n```\\n\\n**3. Handling URL Encoding:**\\n\\n* **Unquoting URLs:** The `urllib.parse` module can help decode the URLs more reliably:\\n\\n```python\\n    from urllib.parse import unquote\\n    urls = [unquote(url) for url in urls]\\n```\\n\\n**4. Clearer Output:**\\n\\n* **Formatting:**  Let\\'s format the output to make it easier to read:\\n\\n```python\\n    for i, url in enumerate(results):\\n        print(f\"{i+1}. {url}\")\\n    print(\"\\\\n\" + \"-\"*20 + \"\\\\n\")  # Add some spacing \\n```\\n\\n**Revised Code:**\\n\\n```python\\nimport requests\\nfrom urllib.parse import unquote\\nimport re\\n\\ndef search_google(query, num_results=5):\\n    \"\"\"Searches Google for a given query and returns a list of URLs.\\n\\n    Args:\\n        query: The search query string.\\n        num_results: The number of results to return.\\n\\n    Returns:\\n        A list of URLs from the Google search results.\\n    \"\"\"\\n\\n    search_url = \"https://www.google.com/search\"\\n    params = {\\n        \"q\": query,\\n        \"num\": num_results,\\n    }\\n    headers = {\\n        \"User-Agent\": \"Mozilla/5.0 (Windows NT 10.0; Win64; x64) AppleWebKit/537.36 (KHTML, like Gecko) Chrome/58.0.3029.110 Safari/537.3\"\\n    }\\n\\n    try:\\n        response = requests.get(search_url, params=params, headers=headers)\\n        response.raise_for_status()\\n    except requests.exceptions.HTTPError as errh:\\n        print(f\"HTTP Error: {errh}\")\\n        return []\\n    except requests.exceptions.RequestException as erre:\\n        print(f\"Request Error: {erre}\")\\n        return []\\n\\n    urls = re.findall(r\\'<h3 class=\".*?\"><a href=\"(.*?)\"\\', response.text)\\n    urls = [unquote(url) for url in urls]\\n    return urls\\n\\nif __name__ == \"__main__\":\\n    queries = [\\n        \"Joe Rogan podcast beer\",\\n        \"Joe Rogan diet\",\\n        \"David Sinclair alcohol\",\\n        \"David Sinclair favorite foods\",\\n        \"health benefits craft beer\",\\n        \"healthy snack options science-backed\"\\n    ]\\n\\n    for query in queries:\\n        print(f\"**Results for: {query}**\")\\n        results = search_google(query)\\n        for i, url in enumerate(results):\\n            print(f\"{i+1}. {url}\")\\n        print(\"\\\\n\" + \"-\"*20 + \"\\\\n\")\\n```\\n\\nRemember that web scraping should always be done responsibly and ethically. Be mindful of websites\\' terms of service and consider using techniques like rate limiting to avoid overwhelming servers. \\n',\n",
       "  'name': 'executor',\n",
       "  'role': 'user'},\n",
       " {'content': 'You\\'re absolutely right to bring us back to the core request of providing summarized biographies. Let\\'s give you the information you need to brief your hypothetical podcast hosts: \\n\\n## Joe Rogan\\n\\n**Known For:** \\n\\n* **Host of \"The Joe Rogan Experience,\"** one of the world\\'s most popular podcasts, known for long-form conversations with diverse guests.\\n* **Stand-up comedian** with a career spanning decades. \\n* **UFC commentator** known for his passionate, knowledgeable analysis.\\n* **Early adopter** of various health and fitness trends, including the carnivore diet, sensory deprivation tanks, and psychedelics.  \\n\\n**Personality:** \\n\\n* **Inquisitive and open-minded:**  Eager to explore a wide range of ideas, even controversial ones.\\n* **Blunt and unfiltered:** Known for speaking his mind, sometimes leading to controversy.\\n* **Humorous and engaging:**  His podcast is as entertaining as it is thought-provoking. \\n\\n**Relevant News/Context:** \\n\\n* Rogan\\'s podcast has been both praised and criticized for its content and guests. \\n* He\\'s a vocal advocate for free speech and personal freedom. \\n* His interest in health and fitness is a recurring theme on his podcast. \\n\\n## David Sinclair, Ph.D.\\n\\n**Known For:**\\n\\n* **Leading researcher on aging** at Harvard Medical School.\\n* **Author of the bestselling book \"Lifespan,\"** which explores the science of aging and the potential for extending human lifespan. \\n* **Proponent of interventions** like NAD+ boosters and metformin for slowing down aging.\\n\\n**Personality:** \\n\\n* **Passionate about his work:**  Believes strongly in the potential to radically extend human healthspan. \\n* **Articulate and engaging:**  Able to explain complex scientific concepts in an accessible way.\\n* **Optimistic about the future:**  Confident that science can help us live longer, healthier lives. \\n\\n**Relevant News/Context:**\\n\\n* Sinclair\\'s work is highly regarded in the scientific community, but some of his views on aging are considered controversial.\\n* He\\'s a sought-after speaker and media commentator on the topic of longevity.  \\n* He practices what he preaches, following a strict diet and exercise regimen himself. \\n\\n**For the \"Beer & Snacks\" Theme:**  Think about how Rogan\\'s enjoyment of those things might contrast with Sinclair\\'s focus on longevity. This tension could be a great starting point for their conversation. \\n',\n",
       "  'name': 'informer',\n",
       "  'role': 'user'},\n",
       " {'content': '```json\\n{\\n  \"speaker\": \"Joe Rogan\",\\n  \"dialogue\": \"Alright, folks, we got Dr. David Sinclair in the house! We\\'re gonna dive deep into this whole aging thing, but first, gotta ask - you down with a little beer and snacks while we chat? Or is that gonna mess with your whole longevity plan?\",\\n  \"inner_thought\": \"Alright, let\\'s see if I can get Sinclair to loosen up a bit. Dude knows his science, but everyone\\'s got a vice, right?\"\\n}\\n```',\n",
       "  'name': 'Joe Rogan',\n",
       "  'role': 'user'},\n",
       " {'content': '```json\\n{\\n  \"speaker\": \"David Sinclair\",\\n  \"dialogue\": \"Thanks for having me, Joe! I have to admit, I\\'m more of a green tea and almonds kind of guy these days. But hey, I\\'m all about balance. What kind of beer we talking?\",\\n  \"inner_thought\": \"Okay, Rogan seems pretty relaxed. This could be a fun opportunity to reach a different audience with my work. Let\\'s see if I can work in some science between sips.\" \\n}\\n``` \\n',\n",
       "  'name': 'David Sinclair',\n",
       "  'role': 'user'},\n",
       " {'content': '```json\\n{\\n  \"speaker\": \"Joe Rogan\",\\n  \"dialogue\": \"See, that\\'s what I like to hear! Balance. We ain\\'t talking no light beer here, brother. I\\'m thinking a nice hazy IPA, something with a little kick. You into that?  And we got some elk jerky, some spicy pickles...  Gotta keep it interesting!\",\\n  \"inner_thought\": \"This guy is game! I knew he wouldn\\'t be some stuffy academic.  This is gonna be a good one.\"\\n}\\n```',\n",
       "  'name': 'Joe Rogan',\n",
       "  'role': 'user'},\n",
       " {'content': '```json\\n{\\n  \"speaker\": \"David Sinclair\",\\n  \"dialogue\": \"A hazy IPA, eh?  Well, I don\\'t indulge very often, but I can appreciate a craft brew.  The science behind fermentation is quite fascinating, actually. And elk jerky? Now that\\'s interesting.  Much leaner than your typical beef jerky, I\\'d imagine.\", \\n  \"inner_thought\": \"Okay, play it cool.  I can steer this towards the science of food and fermentation.  Rogan seems open to it. And maybe I\\'ll sneak a pickle in...\"\\n}\\n``` \\n',\n",
       "  'name': 'David Sinclair',\n",
       "  'role': 'user'},\n",
       " {'content': '```json\\n{\\n  \"speaker\": \"Joe Rogan\",\\n  \"dialogue\": \"Dude, you\\'re speaking my language! I love that you\\'re geeking out on the science of this stuff.  Most people don\\'t realize there\\'s a whole world behind every sip and bite.  So, what\\'s the deal with fermentation?  It\\'s supposed to be good for your gut, right?\",\\n  \"inner_thought\": \"See, I knew we could find common ground! This is why I love talking to smart people. Even when it\\'s about beer and jerky, we can learn something.\"\\n}\\n``` \\n',\n",
       "  'name': 'Joe Rogan',\n",
       "  'role': 'user'},\n",
       " {'content': '```json\\n{\\n  \"speaker\": \"David Sinclair\",\\n  \"dialogue\": \"You\\'re right, Joe.  Fermentation is like this ancient alchemy.  You\\'re essentially using microorganisms to transform food, creating all these beneficial byproducts.  Like you said, it\\'s great for the gut microbiome, which we now know plays a huge role in overall health, even potentially influencing lifespan.\",\\n  \"inner_thought\": \"Alright, we\\'re getting into it! This is my chance to connect fermentation, gut health, and longevity—key themes from my work.\"\\n}\\n``` \\n',\n",
       "  'name': 'David Sinclair',\n",
       "  'role': 'user'}]"
      ]
     },
     "execution_count": 11,
     "metadata": {},
     "output_type": "execute_result"
    }
   ],
   "source": [
    "# return chat history from script (warning: this part can fail due to the inconsistency of formatting that may result from individual dialogues from the LLMs)\n",
    "my_podcast.get_script('raw')\n",
    "# from ficast.conversation.utils import extract_json_code_block\n",
    "# extract_json_code_block(my_podcast.raw_script[0].get('content'))"
   ]
  },
  {
   "cell_type": "code",
   "execution_count": 23,
   "metadata": {},
   "outputs": [
    {
     "data": {
      "text/plain": [
       "{'content': '```json\\n{\"title\": \"Beer, Snacks, and Longevity: A Conversation with Joe Rogan and David Sinclair\", \"abstract\": \"Join Joe Rogan and Dr. David Sinclair, a leading expert on aging, as they delve into the world of beer, snacks, and how to balance indulgence with a healthy lifestyle.  Can you enjoy a hazy IPA and elk jerky while still prioritizing longevity? They\\'ll explore the science behind fermentation, the impact of food choices on aging, and the importance of finding balance in a world of temptation.\", \"participants\": {\"hosts\": [{\"name\": \"Joe Rogan\", \"sex\": \"male\", \"description\": \"Host of the popular podcast \\\\\"The Joe Rogan Experience,\\\\\" known for his long-form conversations, comedic style, and interest in health and fitness.\"}], \"guests\": [{\"name\": \"David Sinclair\", \"sex\": \"male\", \"description\": \"A leading researcher on aging, author of the book \\\\\"Lifespan,\\\\\" and advocate for interventions that could extend human lifespan.\"}]}, \"dialogues\": [{\"speaker\": \"Joe Rogan\", \"dialogue\": \"Alright, folks, we got Dr. David Sinclair in the house! We\\'re gonna dive deep into this whole aging thing, but first, gotta ask - you down with a little beer and snacks while we chat? Or is that gonna mess with your whole longevity plan?\", \"inner_thought\": \"Alright, let\\'s see if I can get Sinclair to loosen up a bit. Dude knows his science, but everyone\\'s got a vice, right?\"}, {\"speaker\": \"David Sinclair\", \"dialogue\": \"Thanks for having me, Joe! I have to admit, I\\'m more of a green tea and almonds kind of guy these days. But hey, I\\'m all about balance. What kind of beer we talking?\", \"inner_thought\": \"Okay, Rogan seems pretty relaxed. This could be a fun opportunity to reach a different audience with my work. Let\\'s see if I can work in some science between sips.\"}, {\"speaker\": \"Joe Rogan\", \"dialogue\": \"See, that\\'s what I like to hear! Balance. We ain\\'t talking no light beer here, brother. I\\'m thinking a nice hazy IPA, something with a little kick. You into that?  And we got some elk jerky, some spicy pickles...  Gotta keep it interesting!\", \"inner_thought\": \"This guy is game! I knew he wouldn\\'t be some stuffy academic. This is gonna be a good one.\"}, {\"speaker\": \"David Sinclair\", \"dialogue\": \"A hazy IPA, eh?  Well, I don\\'t indulge very often, but I can appreciate a craft brew.  The science behind fermentation is quite fascinating, actually. And elk jerky? Now that\\'s interesting.  Much leaner than your typical beef jerky, I\\'d imagine.\", \"inner_thought\": \"Okay, play it cool.  I can steer this towards the science of food and fermentation.  Rogan seems open to it. And maybe I\\'ll sneak a pickle in...\"}, {\"speaker\": \"Joe Rogan\", \"dialogue\": \"Dude, you\\'re speaking my language! I love that you\\'re geeking out on the science of this stuff.  Most people don\\'t realize there\\'s a whole world behind every sip and bite.  So, what\\'s the deal with fermentation?  It\\'s supposed to be good for your gut, right?\", \"inner_thought\": \"See, I knew we could find common ground! This is why I love talking to smart people. Even when it\\'s about beer and jerky, we can learn something.\"}, {\"speaker\": \"David Sinclair\", \"dialogue\": \"You\\'re right, Joe.  Fermentation is like this ancient alchemy.  You\\'re essentially using microorganisms to transform food, creating all these beneficial byproducts.  Like you said, it\\'s great for the gut microbiome, which we now know plays a huge role in overall health, even potentially influencing lifespan.\", \"inner_thought\": \"Alright, we\\'re getting into it! This is my chance to connect fermentation, gut health, and longevity—key themes from my work.\"}]}\\n```',\n",
       " 'name': 'script_parser',\n",
       " 'role': 'user'}"
      ]
     },
     "execution_count": 23,
     "metadata": {},
     "output_type": "execute_result"
    }
   ],
   "source": [
    "my_podcast.chat_history[-1]"
   ]
  },
  {
   "cell_type": "code",
   "execution_count": 17,
   "metadata": {},
   "outputs": [
    {
     "name": "stdout",
     "output_type": "stream",
     "text": [
      "Loading config version: default from path: ../conf/dialogue\n"
     ]
    },
    {
     "data": {
      "text/plain": [
       "{'title': 'Beer, Snacks, and Longevity: A Conversation with Joe Rogan and David Sinclair',\n",
       " 'abstract': \"Join Joe Rogan and Dr. David Sinclair, a leading expert on aging, as they delve into the world of beer, snacks, and how to balance indulgence with a healthy lifestyle.  Can you enjoy a hazy IPA and elk jerky while still prioritizing longevity? They'll explore the science behind fermentation, the impact of food choices on aging, and the importance of finding balance in a world of temptation.\",\n",
       " 'participants': {'hosts': [{'name': 'Joe Rogan',\n",
       "    'sex': 'male',\n",
       "    'description': 'Host of the popular podcast \"The Joe Rogan Experience,\" known for his long-form conversations, comedic style, and interest in health and fitness.'}],\n",
       "  'guests': [{'name': 'David Sinclair',\n",
       "    'sex': 'male',\n",
       "    'description': 'A leading researcher on aging, author of the book \"Lifespan,\" and advocate for interventions that could extend human lifespan.'}]},\n",
       " 'dialogues': [{'speaker': 'Joe Rogan',\n",
       "   'dialogue': \"Alright, folks, we got Dr. David Sinclair in the house! We're gonna dive deep into this whole aging thing, but first, gotta ask - you down with a little beer and snacks while we chat? Or is that gonna mess with your whole longevity plan?\",\n",
       "   'inner_thought': \"Alright, let's see if I can get Sinclair to loosen up a bit. Dude knows his science, but everyone's got a vice, right?\"},\n",
       "  {'speaker': 'David Sinclair',\n",
       "   'dialogue': \"Thanks for having me, Joe! I have to admit, I'm more of a green tea and almonds kind of guy these days. But hey, I'm all about balance. What kind of beer we talking?\",\n",
       "   'inner_thought': \"Okay, Rogan seems pretty relaxed. This could be a fun opportunity to reach a different audience with my work. Let's see if I can work in some science between sips.\"},\n",
       "  {'speaker': 'Joe Rogan',\n",
       "   'dialogue': \"See, that's what I like to hear! Balance. We ain't talking no light beer here, brother. I'm thinking a nice hazy IPA, something with a little kick. You into that?  And we got some elk jerky, some spicy pickles...  Gotta keep it interesting!\",\n",
       "   'inner_thought': \"This guy is game! I knew he wouldn't be some stuffy academic. This is gonna be a good one.\"},\n",
       "  {'speaker': 'David Sinclair',\n",
       "   'dialogue': \"A hazy IPA, eh?  Well, I don't indulge very often, but I can appreciate a craft brew.  The science behind fermentation is quite fascinating, actually. And elk jerky? Now that's interesting.  Much leaner than your typical beef jerky, I'd imagine.\",\n",
       "   'inner_thought': \"Okay, play it cool.  I can steer this towards the science of food and fermentation.  Rogan seems open to it. And maybe I'll sneak a pickle in...\"},\n",
       "  {'speaker': 'Joe Rogan',\n",
       "   'dialogue': \"Dude, you're speaking my language! I love that you're geeking out on the science of this stuff.  Most people don't realize there's a whole world behind every sip and bite.  So, what's the deal with fermentation?  It's supposed to be good for your gut, right?\",\n",
       "   'inner_thought': \"See, I knew we could find common ground! This is why I love talking to smart people. Even when it's about beer and jerky, we can learn something.\"},\n",
       "  {'speaker': 'David Sinclair',\n",
       "   'dialogue': \"You're right, Joe.  Fermentation is like this ancient alchemy.  You're essentially using microorganisms to transform food, creating all these beneficial byproducts.  Like you said, it's great for the gut microbiome, which we now know plays a huge role in overall health, even potentially influencing lifespan.\",\n",
       "   'inner_thought': \"Alright, we're getting into it! This is my chance to connect fermentation, gut health, and longevity—key themes from my work.\"}]}"
      ]
     },
     "execution_count": 17,
     "metadata": {},
     "output_type": "execute_result"
    }
   ],
   "source": [
    "my_podcast.get_script('json')"
   ]
  },
  {
   "cell_type": "code",
   "execution_count": 13,
   "metadata": {},
   "outputs": [
    {
     "name": "stdout",
     "output_type": "stream",
     "text": [
      "dict_keys(['title', 'abstract', 'participants', 'dialogues'])\n",
      "6\n",
      "{'speaker': 'Joe Rogan', 'dialogue': \"Alright, folks, we got Dr. David Sinclair in the house! We're gonna dive deep into this whole aging thing, but first, gotta ask - you down with a little beer and snacks while we chat? Or is that gonna mess with your whole longevity plan?\", 'inner_thought': \"Alright, let's see if I can get Sinclair to loosen up a bit. Dude knows his science, but everyone's got a vice, right?\"}\n"
     ]
    }
   ],
   "source": [
    "# a json script parsed by `json_parser` agent\n",
    "# script structure\n",
    "print(my_podcast.json_script.keys())\n",
    "# length of conversation\n",
    "print(len(my_podcast.json_script.get('dialogues')))\n",
    "# dialogue structure\n",
    "print(my_podcast.json_script.get('dialogues')[0])"
   ]
  },
  {
   "cell_type": "code",
   "execution_count": 14,
   "metadata": {},
   "outputs": [
    {
     "name": "stdout",
     "output_type": "stream",
     "text": [
      "Script saved to ficast-outputs/samples/scripts/quickstart_sample_script(human).txt\n",
      "Script saved to ficast-outputs/samples/scripts/quickstart_sample_script(json).txt\n"
     ]
    }
   ],
   "source": [
    "my_podcast.save_script(\n",
    "  save_path=\"ficast-outputs/samples/scripts/quickstart_sample_script(human).txt\", \n",
    "  option='human'\n",
    ")\n",
    "my_podcast.save_script(\n",
    "  save_path=\"ficast-outputs/samples/scripts/quickstart_sample_script(json).txt\"\n",
    ")"
   ]
  },
  {
   "cell_type": "markdown",
   "metadata": {},
   "source": [
    "## Assembling the Podcast Audio Dialogues"
   ]
  },
  {
   "cell_type": "code",
   "execution_count": 15,
   "metadata": {},
   "outputs": [
    {
     "name": "stdout",
     "output_type": "stream",
     "text": [
      "The autoreload extension is already loaded. To reload it, use:\n",
      "  %reload_ext autoreload\n"
     ]
    },
    {
     "data": {
      "text/plain": [
       "True"
      ]
     },
     "execution_count": 15,
     "metadata": {},
     "output_type": "execute_result"
    }
   ],
   "source": [
    "%load_ext autoreload\n",
    "%autoreload 2\n",
    "\n",
    "from ficast.assembly.ficast import FiCast\n",
    "from ficast.dialogue.speech import DialogueSynthesis\n",
    "load_dotenv(override=True)"
   ]
  },
  {
   "cell_type": "code",
   "execution_count": 16,
   "metadata": {},
   "outputs": [
    {
     "ename": "PermissionError",
     "evalue": "Token verification failed. Please check your API key.",
     "output_type": "error",
     "traceback": [
      "\u001b[0;31m---------------------------------------------------------------------------\u001b[0m",
      "\u001b[0;31mPermissionError\u001b[0m                           Traceback (most recent call last)",
      "Cell \u001b[0;32mIn[16], line 1\u001b[0m\n\u001b[0;32m----> 1\u001b[0m dialoguer \u001b[38;5;241m=\u001b[39m \u001b[43mDialogueSynthesis\u001b[49m\u001b[43m(\u001b[49m\n\u001b[1;32m      2\u001b[0m \u001b[43m  \u001b[49m\u001b[43mclient_type\u001b[49m\u001b[38;5;241;43m=\u001b[39;49m\u001b[38;5;124;43m\"\u001b[39;49m\u001b[38;5;124;43mapi\u001b[39;49m\u001b[38;5;124;43m\"\u001b[39;49m\u001b[43m,\u001b[49m\u001b[43m \u001b[49m\n\u001b[1;32m      3\u001b[0m \u001b[43m  \u001b[49m\u001b[43mbase_url\u001b[49m\u001b[38;5;241;43m=\u001b[39;49m\u001b[43mos\u001b[49m\u001b[38;5;241;43m.\u001b[39;49m\u001b[43mgetenv\u001b[49m\u001b[43m(\u001b[49m\u001b[38;5;124;43m\"\u001b[39;49m\u001b[38;5;124;43mTTS_API_BASE_URL\u001b[39;49m\u001b[38;5;124;43m\"\u001b[39;49m\u001b[43m)\u001b[49m\u001b[43m,\u001b[49m\n\u001b[1;32m      4\u001b[0m \u001b[43m  \u001b[49m\u001b[43mapi_key\u001b[49m\u001b[38;5;241;43m=\u001b[39;49m\u001b[43mos\u001b[49m\u001b[38;5;241;43m.\u001b[39;49m\u001b[43mgetenv\u001b[49m\u001b[43m(\u001b[49m\u001b[38;5;124;43m\"\u001b[39;49m\u001b[38;5;124;43mTTS_API_KEY\u001b[39;49m\u001b[38;5;124;43m\"\u001b[39;49m\u001b[43m)\u001b[49m\n\u001b[1;32m      5\u001b[0m \u001b[43m)\u001b[49m\n\u001b[1;32m      6\u001b[0m fantasy_ficast \u001b[38;5;241m=\u001b[39m FiCast(\n\u001b[1;32m      7\u001b[0m   conversation\u001b[38;5;241m=\u001b[39mmy_podcast, dialogue_synthesizer\u001b[38;5;241m=\u001b[39mdialoguer\n\u001b[1;32m      8\u001b[0m )\n",
      "File \u001b[0;32m~/FiCast-GPT/ficast/dialogue/speech.py:100\u001b[0m, in \u001b[0;36mDialogueSynthesis.__init__\u001b[0;34m(self, client_type, **kwargs)\u001b[0m\n\u001b[1;32m     99\u001b[0m \u001b[38;5;28;01mdef\u001b[39;00m \u001b[38;5;21m__init__\u001b[39m(\u001b[38;5;28mself\u001b[39m, client_type\u001b[38;5;241m=\u001b[39m\u001b[38;5;124m\"\u001b[39m\u001b[38;5;124melevenlabs\u001b[39m\u001b[38;5;124m\"\u001b[39m, \u001b[38;5;241m*\u001b[39m\u001b[38;5;241m*\u001b[39mkwargs):\n\u001b[0;32m--> 100\u001b[0m   \u001b[38;5;28;43msuper\u001b[39;49m\u001b[43m(\u001b[49m\u001b[43m)\u001b[49m\u001b[38;5;241;43m.\u001b[39;49m\u001b[38;5;21;43m__init__\u001b[39;49m\u001b[43m(\u001b[49m\u001b[43mclient_type\u001b[49m\u001b[38;5;241;43m=\u001b[39;49m\u001b[43mclient_type\u001b[49m\u001b[43m,\u001b[49m\u001b[43m \u001b[49m\u001b[38;5;241;43m*\u001b[39;49m\u001b[38;5;241;43m*\u001b[39;49m\u001b[43mkwargs\u001b[49m\u001b[43m)\u001b[49m\n",
      "File \u001b[0;32m~/FiCast-GPT/ficast/dialogue/speech.py:30\u001b[0m, in \u001b[0;36mTextToSpeech.__init__\u001b[0;34m(self, client_type, **kwargs)\u001b[0m\n\u001b[1;32m     20\u001b[0m \u001b[38;5;250m\u001b[39m\u001b[38;5;124;03m\"\"\"\u001b[39;00m\n\u001b[1;32m     21\u001b[0m \u001b[38;5;124;03mInitializes the TextToSpeech object.\u001b[39;00m\n\u001b[1;32m     22\u001b[0m \n\u001b[0;32m   (...)\u001b[0m\n\u001b[1;32m     27\u001b[0m \u001b[38;5;124;03m    None\u001b[39;00m\n\u001b[1;32m     28\u001b[0m \u001b[38;5;124;03m\"\"\"\u001b[39;00m\n\u001b[1;32m     29\u001b[0m \u001b[38;5;66;03m#### Init TTS Client\u001b[39;00m\n\u001b[0;32m---> 30\u001b[0m \u001b[38;5;28mself\u001b[39m\u001b[38;5;241m.\u001b[39mclient \u001b[38;5;241m=\u001b[39m \u001b[43mtts_client_factory\u001b[49m\u001b[43m(\u001b[49m\u001b[43mclient_type\u001b[49m\u001b[43m,\u001b[49m\u001b[43m \u001b[49m\u001b[38;5;241;43m*\u001b[39;49m\u001b[38;5;241;43m*\u001b[39;49m\u001b[43mkwargs\u001b[49m\u001b[43m)\u001b[49m\n",
      "File \u001b[0;32m~/FiCast-GPT/ficast/dialogue/clients.py:38\u001b[0m, in \u001b[0;36mtts_client_factory\u001b[0;34m(client_type, base_url, api_key)\u001b[0m\n\u001b[1;32m     36\u001b[0m     \u001b[38;5;28;01mif\u001b[39;00m \u001b[38;5;129;01mnot\u001b[39;00m base_url:\n\u001b[1;32m     37\u001b[0m         \u001b[38;5;28;01mraise\u001b[39;00m \u001b[38;5;167;01mValueError\u001b[39;00m(\u001b[38;5;124m\"\u001b[39m\u001b[38;5;124mBase URL must be provided for FiCastTTS client\u001b[39m\u001b[38;5;124m\"\u001b[39m)\n\u001b[0;32m---> 38\u001b[0m     \u001b[38;5;28;01mreturn\u001b[39;00m \u001b[43mAPIClient\u001b[49m\u001b[43m(\u001b[49m\u001b[43mbase_url\u001b[49m\u001b[38;5;241;43m=\u001b[39;49m\u001b[43mbase_url\u001b[49m\u001b[43m)\u001b[49m\n\u001b[1;32m     39\u001b[0m \u001b[38;5;28;01melse\u001b[39;00m:\n\u001b[1;32m     40\u001b[0m     \u001b[38;5;28;01mraise\u001b[39;00m \u001b[38;5;167;01mValueError\u001b[39;00m(\u001b[38;5;124m\"\u001b[39m\u001b[38;5;124mUnknown client type. Supported: \u001b[39m\u001b[38;5;124m'\u001b[39m\u001b[38;5;124mapi\u001b[39m\u001b[38;5;124m'\u001b[39m\u001b[38;5;124m, \u001b[39m\u001b[38;5;124m'\u001b[39m\u001b[38;5;124melevenlabs\u001b[39m\u001b[38;5;124m'\u001b[39m\u001b[38;5;124m\"\u001b[39m)\n",
      "File \u001b[0;32m~/FiCast-GPT/ficast/dialogue/clients.py:119\u001b[0m, in \u001b[0;36mAPIClient.__init__\u001b[0;34m(self, base_url, api_key)\u001b[0m\n\u001b[1;32m    117\u001b[0m \u001b[38;5;66;03m# Verify the API token\u001b[39;00m\n\u001b[1;32m    118\u001b[0m \u001b[38;5;28;01mif\u001b[39;00m \u001b[38;5;129;01mnot\u001b[39;00m \u001b[38;5;28mself\u001b[39m\u001b[38;5;241m.\u001b[39mverify_token():\n\u001b[0;32m--> 119\u001b[0m     \u001b[38;5;28;01mraise\u001b[39;00m \u001b[38;5;167;01mPermissionError\u001b[39;00m(\u001b[38;5;124m\"\u001b[39m\u001b[38;5;124mToken verification failed. Please check your API key.\u001b[39m\u001b[38;5;124m\"\u001b[39m)\n\u001b[1;32m    120\u001b[0m \u001b[38;5;28;01melse\u001b[39;00m:\n\u001b[1;32m    121\u001b[0m     \u001b[38;5;28mprint\u001b[39m(\u001b[38;5;124m\"\u001b[39m\u001b[38;5;124mToken verification successful.\u001b[39m\u001b[38;5;124m\"\u001b[39m)\n",
      "\u001b[0;31mPermissionError\u001b[0m: Token verification failed. Please check your API key."
     ]
    }
   ],
   "source": [
    "dialoguer = DialogueSynthesis(\n",
    "  client_type=\"api\", \n",
    "  base_url=os.getenv(\"TTS_API_BASE_URL\"),\n",
    "  api_key=os.getenv(\"TTS_API_KEY\")\n",
    ")\n",
    "fantasy_ficast = FiCast(\n",
    "  conversation=my_podcast, dialogue_synthesizer=dialoguer\n",
    ")"
   ]
  },
  {
   "cell_type": "code",
   "execution_count": 16,
   "metadata": {},
   "outputs": [
    {
     "name": "stderr",
     "output_type": "stream",
     "text": [
      "/home/mymm_psu_gmail_com/hackathon/FiCast-GPT/ficast/dialogue/speech.py:115: UserWarning: Could not find the 1 voice for gender male. Using the (n_available % nth) voice which is the 0 voice. Check as it may not be the desired or duplicate with existing voices\n",
      "  warnings.warn(f\"Could not find the {nth} voice for gender {gender}. Using the (n_available % nth) voice which is the {nth_voice} voice. Check as it may not be the desired or duplicate with existing voices\", UserWarning)\n",
      "Processing script entries:   0%|          | 0/15 [00:00<?, ?it/s]/home/mymm_psu_gmail_com/hackathon/FiCast-GPT/ficast/dialogue/speech.py:82: UserWarning: Both `voice_id` and `voice_name` are provided. Defaulting to `voice_id`.\n",
      "  warnings.warn(\"Both `voice_id` and `voice_name` are provided. Defaulting to `voice_id`.\")\n"
     ]
    },
    {
     "name": "stdout",
     "output_type": "stream",
     "text": [
      "Task created:  dd4aa7d9-f433-4d94-ab8c-15e084eaaeb2\n"
     ]
    },
    {
     "name": "stderr",
     "output_type": "stream",
     "text": [
      "Processing script entries:   7%|▋         | 1/15 [01:31<21:14, 91.02s/it]"
     ]
    },
    {
     "name": "stdout",
     "output_type": "stream",
     "text": [
      "Streamed audio total size: 612942 bytes\n",
      "Task created:  9031bfd8-c6e5-4618-b024-9980dce0bcf3\n"
     ]
    },
    {
     "name": "stderr",
     "output_type": "stream",
     "text": [
      "Processing script entries:  13%|█▎        | 2/15 [03:50<25:52, 119.43s/it]"
     ]
    },
    {
     "name": "stdout",
     "output_type": "stream",
     "text": [
      "Streamed audio total size: 811086 bytes\n",
      "Task created:  0b18a3d6-5774-4047-8dcd-77bc059d6d23\n"
     ]
    },
    {
     "name": "stderr",
     "output_type": "stream",
     "text": [
      "Processing script entries:  20%|██        | 3/15 [06:21<26:48, 134.00s/it]"
     ]
    },
    {
     "name": "stdout",
     "output_type": "stream",
     "text": [
      "Streamed audio total size: 944718 bytes\n",
      "Task created:  8f5898f6-8ccb-426e-8eb0-869bc5a8d76c\n"
     ]
    },
    {
     "name": "stderr",
     "output_type": "stream",
     "text": [
      "Processing script entries:  27%|██▋       | 4/15 [09:05<26:41, 145.62s/it]"
     ]
    },
    {
     "name": "stdout",
     "output_type": "stream",
     "text": [
      "Streamed audio total size: 882766 bytes\n",
      "Task created:  3aff25eb-838a-4186-9461-38fc8a3a1175\n"
     ]
    },
    {
     "name": "stderr",
     "output_type": "stream",
     "text": [
      "Processing script entries:  33%|███▎      | 5/15 [10:48<21:42, 130.24s/it]"
     ]
    },
    {
     "name": "stdout",
     "output_type": "stream",
     "text": [
      "Streamed audio total size: 612942 bytes\n",
      "Task created:  a26309fe-0c45-4d9c-ab78-c66a8ad615a1\n"
     ]
    },
    {
     "name": "stderr",
     "output_type": "stream",
     "text": [
      "Processing script entries:  40%|████      | 6/15 [14:13<23:23, 155.97s/it]"
     ]
    },
    {
     "name": "stdout",
     "output_type": "stream",
     "text": [
      "Streamed audio total size: 1114190 bytes\n",
      "Task created:  0b65ea1d-424c-4e40-9ae3-3ec6f9cc36f6\n"
     ]
    },
    {
     "name": "stderr",
     "output_type": "stream",
     "text": [
      "Processing script entries:  47%|████▋     | 7/15 [15:14<16:38, 124.86s/it]"
     ]
    },
    {
     "name": "stdout",
     "output_type": "stream",
     "text": [
      "Streamed audio total size: 441422 bytes\n",
      "Task created:  40c8b13b-abaa-4d55-aba8-624676f4a196\n"
     ]
    },
    {
     "name": "stderr",
     "output_type": "stream",
     "text": [
      "Processing script entries:  53%|█████▎    | 8/15 [17:46<15:33, 133.36s/it]"
     ]
    },
    {
     "name": "stdout",
     "output_type": "stream",
     "text": [
      "Streamed audio total size: 886862 bytes\n",
      "Task created:  b0487be1-1e77-4cdf-9083-59094582a4e3\n"
     ]
    },
    {
     "name": "stderr",
     "output_type": "stream",
     "text": [
      "Processing script entries:  60%|██████    | 9/15 [19:47<12:57, 129.53s/it]"
     ]
    },
    {
     "name": "stdout",
     "output_type": "stream",
     "text": [
      "Streamed audio total size: 704078 bytes\n",
      "Task created:  58e13b2e-347f-40b1-9a49-630e915d548d\n"
     ]
    },
    {
     "name": "stderr",
     "output_type": "stream",
     "text": [
      "Processing script entries:  67%|██████▋   | 10/15 [22:48<12:07, 145.57s/it]"
     ]
    },
    {
     "name": "stdout",
     "output_type": "stream",
     "text": [
      "Streamed audio total size: 931406 bytes\n",
      "Task created:  e2e26314-4525-4782-8842-52426512bec2\n"
     ]
    },
    {
     "name": "stderr",
     "output_type": "stream",
     "text": [
      "Processing script entries:  73%|███████▎  | 11/15 [24:56<09:19, 140.00s/it]"
     ]
    },
    {
     "name": "stdout",
     "output_type": "stream",
     "text": [
      "Streamed audio total size: 848974 bytes\n",
      "Task created:  dc2640be-4d56-4577-9297-4b0a77206fd7\n"
     ]
    },
    {
     "name": "stderr",
     "output_type": "stream",
     "text": [
      "Processing script entries:  80%|████████  | 12/15 [27:33<07:15, 145.28s/it]"
     ]
    },
    {
     "name": "stdout",
     "output_type": "stream",
     "text": [
      "Streamed audio total size: 900174 bytes\n",
      "Task created:  ba63322f-191c-495e-ac92-9baf699b2e02\n"
     ]
    },
    {
     "name": "stderr",
     "output_type": "stream",
     "text": [
      "Processing script entries:  87%|████████▋ | 13/15 [29:46<04:43, 141.63s/it]"
     ]
    },
    {
     "name": "stdout",
     "output_type": "stream",
     "text": [
      "Streamed audio total size: 797774 bytes\n",
      "Task created:  0b51a6c1-f060-4719-9e29-38736db9bd29\n"
     ]
    },
    {
     "name": "stderr",
     "output_type": "stream",
     "text": [
      "Processing script entries:  93%|█████████▎| 14/15 [33:12<02:41, 161.01s/it]"
     ]
    },
    {
     "name": "stdout",
     "output_type": "stream",
     "text": [
      "Streamed audio total size: 1114190 bytes\n",
      "Task created:  7cf56ffb-cff8-4b76-be34-f835426c75ec\n"
     ]
    },
    {
     "name": "stderr",
     "output_type": "stream",
     "text": [
      "Processing script entries: 100%|██████████| 15/15 [35:25<00:00, 141.73s/it]"
     ]
    },
    {
     "name": "stdout",
     "output_type": "stream",
     "text": [
      "Streamed audio total size: 791118 bytes\n",
      "Joined 15 audio segments\n"
     ]
    },
    {
     "name": "stderr",
     "output_type": "stream",
     "text": [
      "\n"
     ]
    },
    {
     "data": {
      "text/plain": [
       "12394642"
      ]
     },
     "execution_count": 16,
     "metadata": {},
     "output_type": "execute_result"
    }
   ],
   "source": [
    "my_audio = fantasy_ficast.to_podcast(ignore_errors=True)\n",
    "len(my_audio)"
   ]
  },
  {
   "cell_type": "code",
   "execution_count": 17,
   "metadata": {},
   "outputs": [],
   "source": [
    "# save audio\n",
    "from datetime import datetime\n",
    "# fantasy_ficast.save_podcast(\n",
    "#   \"ficast-outputs/\", save_segments=True)\n",
    "# or\n",
    "from ficast.dialogue.utils import save_bytes_to_wav\n",
    "save_bytes_to_wav(my_audio, f\"ficast-outputs/samples/podcasts/{datetime.now()}.wav\")\n",
    "# with open(fn, 'wb') as file:\n",
    "#   file.write(my_audio)"
   ]
  },
  {
   "cell_type": "code",
   "execution_count": 18,
   "metadata": {},
   "outputs": [
    {
     "ename": "TypeError",
     "evalue": "encoding without a string argument",
     "output_type": "error",
     "traceback": [
      "\u001b[0;31m---------------------------------------------------------------------------\u001b[0m",
      "\u001b[0;31mTypeError\u001b[0m                                 Traceback (most recent call last)",
      "Cell \u001b[0;32mIn[18], line 3\u001b[0m\n\u001b[1;32m      1\u001b[0m \u001b[38;5;66;03m# play audio\u001b[39;00m\n\u001b[1;32m      2\u001b[0m \u001b[38;5;28;01mfrom\u001b[39;00m \u001b[38;5;21;01melevenlabs\u001b[39;00m \u001b[38;5;28;01mimport\u001b[39;00m play\n\u001b[0;32m----> 3\u001b[0m play(\u001b[38;5;28;43mbytes\u001b[39;49m\u001b[43m(\u001b[49m\u001b[43mmy_audio\u001b[49m\u001b[43m,\u001b[49m\u001b[43m \u001b[49m\u001b[38;5;124;43m'\u001b[39;49m\u001b[38;5;124;43mlatin-1\u001b[39;49m\u001b[38;5;124;43m'\u001b[39;49m\u001b[43m)\u001b[49m)\n",
      "\u001b[0;31mTypeError\u001b[0m: encoding without a string argument"
     ]
    }
   ],
   "source": [
    "# play audio\n",
    "from elevenlabs import play\n",
    "play(bytes(my_audio, 'latin-1'))"
   ]
  }
 ],
 "metadata": {
  "kernelspec": {
   "display_name": "dl",
   "language": "python",
   "name": "python3"
  },
  "language_info": {
   "codemirror_mode": {
    "name": "ipython",
    "version": 3
   },
   "file_extension": ".py",
   "mimetype": "text/x-python",
   "name": "python",
   "nbconvert_exporter": "python",
   "pygments_lexer": "ipython3",
   "version": "3.11.9"
  },
  "orig_nbformat": 4
 },
 "nbformat": 4,
 "nbformat_minor": 2
}
