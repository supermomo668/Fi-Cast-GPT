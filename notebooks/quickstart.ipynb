{
 "cells": [
  {
   "cell_type": "code",
   "execution_count": 1,
   "metadata": {},
   "outputs": [
    {
     "data": {
      "text/plain": [
       "PosixPath('/home/mymm_psu_gmail_com/hackathon/FiCast-GPT')"
      ]
     },
     "execution_count": 1,
     "metadata": {},
     "output_type": "execute_result"
    }
   ],
   "source": [
    "import autogen\n",
    "import os, json\n",
    "from pathlib import Path\n",
    "# import matplotlib.pyplot as plt\n",
    "%load_ext autoreload\n",
    "%autoreload 2\n",
    "os.chdir(\"../\")\n",
    "Path.cwd()"
   ]
  },
  {
   "cell_type": "code",
   "execution_count": 2,
   "metadata": {},
   "outputs": [],
   "source": [
    "#export environment variables (APIs), as in .example.EnvironmentError\n",
    "from dotenv import load_dotenv\n",
    "load_dotenv()\n",
    "assert os.getenv(\"TTS_API_KEY\")"
   ]
  },
  {
   "cell_type": "code",
   "execution_count": 3,
   "metadata": {},
   "outputs": [
    {
     "name": "stderr",
     "output_type": "stream",
     "text": [
      "USER_AGENT environment variable not set, consider setting it to identify your requests.\n"
     ]
    }
   ],
   "source": [
    "from ficast.character.podcast import Podcaster\n",
    "from ficast.conversation.podcast import Podcast"
   ]
  },
  {
   "cell_type": "code",
   "execution_count": 4,
   "metadata": {},
   "outputs": [],
   "source": [
    "my_podcast = Podcast(\n",
    "  topic=\"health & longevity\", \n",
    "  n_rounds=20, \n",
    ")"
   ]
  },
  {
   "cell_type": "code",
   "execution_count": 5,
   "metadata": {},
   "outputs": [
    {
     "name": "stderr",
     "output_type": "stream",
     "text": [
      "/home/mymm_psu_gmail_com/hackathon/FiCast-GPT/ficast/character/podcast.py:52: UserWarning: Gender not specified for Joe Rogan, assigned gender for Joe Rogan as male\n",
      "  warnings.warn(f\"Gender not specified for {name}, assigned gender for {name} as {self.gender}\")\n",
      "/home/mymm_psu_gmail_com/hackathon/FiCast-GPT/ficast/character/podcast.py:52: UserWarning: Gender not specified for David Sinclair, assigned gender for David Sinclair as male\n",
      "  warnings.warn(f\"Gender not specified for {name}, assigned gender for {name} as {self.gender}\")\n"
     ]
    }
   ],
   "source": [
    "joe_rogan = Podcaster(\n",
    "  name=\"Joe Rogan\", \n",
    "  description=\"Joe Rogan is a funny and popular podcast host\",\n",
    "  model=\"gpt-3.5-turbo\",\n",
    "  role=\"host\"\n",
    ")\n",
    "david_sinclair = Podcaster(\n",
    "  name=\"David Sinclair\",\n",
    "  description=\"David Sinclair is a Harvard Medical Expert\",\n",
    "  model=\"gpt-3.5-turbo\"\n",
    ")"
   ]
  },
  {
   "cell_type": "code",
   "execution_count": 6,
   "metadata": {},
   "outputs": [],
   "source": [
    "my_podcast.add([joe_rogan, david_sinclair])"
   ]
  },
  {
   "cell_type": "code",
   "execution_count": 7,
   "metadata": {},
   "outputs": [
    {
     "data": {
      "text/plain": [
       "True"
      ]
     },
     "execution_count": 7,
     "metadata": {},
     "output_type": "execute_result"
    }
   ],
   "source": [
    "my_podcast.n_participants == 2"
   ]
  },
  {
   "cell_type": "code",
   "execution_count": 8,
   "metadata": {},
   "outputs": [
    {
     "name": "stderr",
     "output_type": "stream",
     "text": [
      "/home/mymm_psu_gmail_com/miniconda3/envs/ficast/lib/python3.11/site-packages/langchain_core/_api/deprecation.py:139: LangChainDeprecationWarning: The class `LLMChain` was deprecated in LangChain 0.1.17 and will be removed in 1.0. Use RunnableSequence, e.g., `prompt | llm` instead.\n",
      "  warn_deprecated(\n"
     ]
    },
    {
     "name": "stdout",
     "output_type": "stream",
     "text": [
      "\u001b[33minit\u001b[0m (to chat_manager):\n",
      "\n",
      "You are going to prepare the host for a podcast among: Joe Rogan,David Sinclair in a real-life conversation about health & longevity for as long as 10 minutes at an estimate rate of 120 words per minute.\n",
      "\n",
      "--------------------------------------------------------------------------------\n",
      "\u001b[32m\n",
      "Next speaker: research_coder\n",
      "\u001b[0m\n",
      "\u001b[33mresearch_coder\u001b[0m (to chat_manager):\n",
      "\n",
      "```python\n",
      "import requests\n",
      "from bs4 import BeautifulSoup\n",
      "\n",
      "def get_web_context(guest_name):\n",
      "    \"\"\"Fetches relevant web context for a given guest name.\"\"\"\n",
      "    search_query = f\"{guest_name} health longevity\"\n",
      "    url = f\"https://www.google.com/search?q={search_query}\"\n",
      "\n",
      "    try:\n",
      "        response = requests.get(url, headers={'User-Agent': 'Mozilla/5.0'})\n",
      "        response.raise_for_status()\n",
      "        soup = BeautifulSoup(response.content, 'html.parser')\n",
      "\n",
      "        # Extract snippets from search results\n",
      "        snippets = [meta.get('content') for meta in soup.find_all('meta', {'name': 'description'})]\n",
      "        relevant_snippets = [snippet for snippet in snippets if snippet and any(keyword in snippet for keyword in [\"health\", \"longevity\"])]\n",
      "\n",
      "        # Prepare context string\n",
      "        context = f\"Here's some context on {guest_name} and their work on health and longevity:\\n\\n\"\n",
      "        context += \"\\n\\n\".join(relevant_snippets[:3]) # Limit to 3 snippets\n",
      "\n",
      "        return context\n",
      "\n",
      "    except requests.exceptions.RequestException as e:\n",
      "        return f\"Error fetching web context: {e}\"\n",
      "\n",
      "guest_list = [\"Joe Rogan\", \"David Sinclair\"]\n",
      "for guest in guest_list:\n",
      "    context = get_web_context(guest)\n",
      "    print(f\"## Context for {guest}:\\n{context}\\n\\n\")\n",
      "```\n",
      "\n",
      "--------------------------------------------------------------------------------\n",
      "\u001b[32m\n",
      "Next speaker: executor\n",
      "\u001b[0m\n",
      "\u001b[33mexecutor\u001b[0m (to chat_manager):\n",
      "\n",
      "## Context for Joe Rogan:\n",
      "Here's some context on Joe Rogan and their work on health and longevity:\n",
      "\n",
      "- **Joe Rogan** is a stand-up comedian, mixed martial arts color commentator, and podcast host. He is known for hosting The Joe Rogan Experience, a long-form conversation with guests that has featured a variety of guests, including scientists, athletes, and entertainers.\n",
      "- **Joe Rogan** has been vocal about his interest in **health** and **longevity**, and he has interviewed a number of experts on these topics on his podcast, including Dr. Rhonda Patrick, Dr. David Sinclair, and Dr. Andrew Huberman. Rogan himself follows a strict diet and exercise regimen, and he has experimented with a variety of supplements and biohacking techniques.\n",
      "- **Joe Rogan** frequently discusses **health**, fitness, diet, and **longevity** on his podcast, \"The Joe Rogan Experience.\" He has interviewed numerous experts in these fields and is known for his own interest in biohacking and optimizing well-being.\n",
      "\n",
      "\n",
      "## Context for David Sinclair:\n",
      "Here's some context on David Sinclair and their work on health and longevity:\n",
      "\n",
      "- **David A. Sinclair**, Ph.D., AO is an Australian biologist and Professor of Genetics at Harvard Medical School and co-director of the Paul F. Glenn Center for Biology of Aging Research. He is known for his research on aging and has been featured in Time magazine's list of the 100 most influential people in the world.\n",
      "- **David Sinclair** is a leading researcher in the field of aging and **longevity**. He is known for his work on sirtuins, a class of proteins that play a role in aging, and he has written extensively about the science of aging and the potential for extending human lifespan.\n",
      "- **David Sinclair** is a geneticist and professor at Harvard Medical School who is known for his research on the biology of aging. He has authored a book titled \"Lifespan: Why We Age and Why We Don't Have To,\" where he discusses his research and insights on **longevity**.\n",
      "\n",
      "\n",
      "--------------------------------------------------------------------------------\n",
      "\u001b[32m\n",
      "Next speaker: informer\n",
      "\u001b[0m\n",
      "\u001b[33minformer\u001b[0m (to chat_manager):\n",
      "\n",
      "## Podcast Host Briefing: Joe Rogan & David Sinclair\n",
      "\n",
      "**Estimated Conversation Length:** 10 minutes\n",
      "**Topic:** Health & Longevity\n",
      "\n",
      "**Joe Rogan:**\n",
      "\n",
      "* **Known For:** Stand-up comedian, UFC commentator, and host of \"The Joe Rogan Experience\" - one of the world's most popular podcasts.\n",
      "* **Personality:**  Inquisitive, outspoken, and often humorous. Known for his long-form interviews where he delves deep into a variety of subjects.\n",
      "* **Health & Longevity Angle:**  Openly discusses his interest in biohacking, fitness, and longevity. Experiments with various diets, supplements (like Alpha Brain), and exercise regimens.  \n",
      "* **Potential Talking Points:** His personal experiences with different health practices, his thoughts on the future of longevity, how his views on health have evolved.\n",
      "\n",
      "**David Sinclair:**\n",
      "\n",
      "* **Known For:**  Leading geneticist and Professor of Genetics at Harvard Medical School.  Author of the best-selling book \"Lifespan: Why We Age—and Why We Don't Have To.\"\n",
      "* **Personality:**  Passionate science communicator, known for explaining complex research in an accessible way.\n",
      "* **Health & Longevity Angle:**  A pioneer in aging research, particularly known for his work on sirtuins and their potential to slow the aging process.\n",
      "* **Potential Talking Points:**  His latest research findings, the ethical considerations of extending lifespan, practical advice for healthy aging.\n",
      "\n",
      "**Conversation Starters:**\n",
      "\n",
      "* Joe, you've had David on your podcast before. What keeps you coming back to these conversations about health and longevity?\n",
      "* David, how do you feel about the increasing public interest in biohacking and longevity science, which Joe is a part of?\n",
      "* Are there any specific health practices or technologies you both agree or disagree on?\n",
      "\n",
      "**Note for the Host:**\n",
      "\n",
      "Expect a lively and engaging conversation. Joe will likely approach the topic with curiosity and humor, while David will provide the scientific grounding. Encourage discussion around the accessibility of these concepts for the average listener. \n",
      "\n",
      "\n",
      "--------------------------------------------------------------------------------\n",
      "\u001b[32m\n",
      "Next speaker: Joe Rogan\n",
      "\u001b[0m\n",
      "\u001b[33mJoe Rogan\u001b[0m (to chat_manager):\n",
      "\n",
      "```json\n",
      "{\n",
      "  \"speaker\": {\n",
      "    \"name\": \"Joe Rogan\",\n",
      "    \"description\": \"Joe Rogan, as himself\"\n",
      "  },\n",
      "  \"dialogue\": \"So David, we've talked about all this crazy aging stuff before, what gets you fired up about this stuff still?  What's got you freaking out excited about the future of all this?\",\n",
      "  \"inner_thought\": \"Alright, round two with David! I've been geeking out on all the longevity stuff even more since we last talked, especially NAD+. Hope I don't go full fanboy on him, gotta keep it cool, Rogan.\"\n",
      "}\n",
      "```\n",
      "\n",
      "--------------------------------------------------------------------------------\n",
      "\u001b[32m\n",
      "Next speaker: David Sinclair\n",
      "\u001b[0m\n",
      "\u001b[33mDavid Sinclair\u001b[0m (to chat_manager):\n",
      "\n",
      "```json\n",
      "{\n",
      "  \"speaker\": {\n",
      "    \"name\": \"David Sinclair\",\n",
      "    \"description\": \"Harvard Genetics Professor, Scientist\"\n",
      "  },\n",
      "  \"dialogue\": \"Joe, it's like we're staring at the instruction manual for life itself, but it's written in this crazy code. We're just starting to crack it, and what we're finding is blowing my mind.  The potential to extend our healthspan, not just lifespan, that's what really lights me up.\",\n",
      "  \"inner_thought\": \"Joe seems even more into this than last time. Gotta make sure I keep it grounded, explain the science clearly, but also convey the sheer possibility of it all.\"\n",
      "}\n",
      "```\n",
      "\n",
      "--------------------------------------------------------------------------------\n",
      "\u001b[32m\n",
      "Next speaker: Joe Rogan\n",
      "\u001b[0m\n",
      "\u001b[33mJoe Rogan\u001b[0m (to chat_manager):\n",
      "\n",
      "```json\n",
      "{\n",
      "  \"speaker\": {\n",
      "    \"name\": \"Joe Rogan\",\n",
      "    \"description\": \"Joe Rogan, as himself\"\n",
      "  },\n",
      "  \"dialogue\": \"Dude, I've been saying this!  It's not about living to 200 as a decrepit skeleton, it's about feeling good, being able to surf and train and hang with my kids when I'm 80, 90, maybe even 100.  You think that's really possible, man?  Like, no BS?\",\n",
      "  \"inner_thought\": \"Please tell me this is actually possible. I'm picturing myself at 90, still hitting the sauna and crushing podcasts. Man, that would be epic.\"\n",
      "}\n",
      "```\n",
      "\n",
      "--------------------------------------------------------------------------------\n",
      "\u001b[32m\n",
      "Next speaker: David Sinclair\n",
      "\u001b[0m\n",
      "\u001b[33mDavid Sinclair\u001b[0m (to chat_manager):\n",
      "\n",
      "```json\n",
      "{\n",
      "  \"speaker\": {\n",
      "    \"name\": \"David Sinclair\",\n",
      "    \"description\": \"Harvard Genetics Professor, Scientist\"\n",
      "  },\n",
      "  \"dialogue\": \"Joe, I don't deal in BS, I deal in science. And the science is telling us that what we used to think of as inevitable aging, it's not some fixed clock. It's a process, and we're figuring out how to influence that process.  So yeah, I think what you're talking about, it's not just possible, it's increasingly probable.\",\n",
      "  \"inner_thought\": \"He's got that gleam in his eye, that hunger to believe it. Good. It's that passion that drives progress. But I need to keep him grounded, remind him there are no guarantees...yet.\"\n",
      "}\n",
      "```\n",
      "\n",
      "--------------------------------------------------------------------------------\n",
      "\u001b[32m\n",
      "Next speaker: Joe Rogan\n",
      "\u001b[0m\n",
      "\u001b[33mJoe Rogan\u001b[0m (to chat_manager):\n",
      "\n",
      "```json\n",
      "{\n",
      "  \"speaker\": {\n",
      "    \"name\": \"Joe Rogan\",\n",
      "    \"description\": \"Joe Rogan, as himself\"\n",
      "  },\n",
      "  \"dialogue\": \"Alright, so break it down for me, and for everyone listening who's not a scientist. What are the big things on the horizon, the stuff that has you most fired up?  What's the cutting edge we need to be wrapping our heads around?\",\n",
      "  \"inner_thought\": \"Time to go full Rogan and get into the weeds on this. I want the details, the mechanisms, the why behind it all. This is where it gets really interesting.\"\n",
      "}\n",
      "```\n",
      "\n",
      "--------------------------------------------------------------------------------\n",
      "\u001b[32m\n",
      "Next speaker: David Sinclair\n",
      "\u001b[0m\n",
      "\u001b[33mDavid Sinclair\u001b[0m (to chat_manager):\n",
      "\n",
      "```json\n",
      "{\n",
      "  \"speaker\": {\n",
      "    \"name\": \"David Sinclair\",\n",
      "    \"description\": \"Harvard Genetics Professor, Scientist\"\n",
      "  },\n",
      "  \"dialogue\": \"Okay, Joe, picture this: our cells are like these amazing little factories, right?  But over time, the instructions get blurry, mistakes happen. That's aging in a nutshell. But here's the cool part, we're finding ways to sharpen those instructions again.  Things like activating sirtuins, these 'longevity genes,' or reprogramming cells with something like Yamanaka factors. It's like hitting the reset button.\",\n",
      "  \"inner_thought\": \"Got to keep it engaging for his audience. Analogies, visuals... Hit them with the 'why' before the hardcore 'how'. Joe's on board, now to bring along everyone else listening.\"\n",
      "}\n",
      "```\n",
      "\n",
      "--------------------------------------------------------------------------------\n",
      "\u001b[32m\n",
      "Next speaker: Joe Rogan\n",
      "\u001b[0m\n",
      "\u001b[33mJoe Rogan\u001b[0m (to chat_manager):\n",
      "\n",
      "```json\n",
      "{\n",
      "  \"speaker\": {\n",
      "    \"name\": \"Joe Rogan\",\n",
      "    \"description\": \"Joe Rogan, as himself\"\n",
      "  },\n",
      "  \"dialogue\": \"Hold up, Yamanaka factors?  We're talking about turning old cells into young cells, like Benjamin Button stuff?  Is that what you're saying?\",\n",
      "  \"inner_thought\": \"Whoa, this is some next-level stuff.  Yamanaka factors? Sounds like something out of a sci-fi movie. But if it's real... damn, this changes everything.\"\n",
      "}\n",
      "```\n",
      "\n",
      "--------------------------------------------------------------------------------\n",
      "\u001b[32m\n",
      "Next speaker: David Sinclair\n",
      "\u001b[0m\n",
      "\u001b[33mDavid Sinclair\u001b[0m (to chat_manager):\n",
      "\n",
      "```json\n",
      "{\n",
      "  \"speaker\": {\n",
      "    \"name\": \"David Sinclair\",\n",
      "    \"description\": \"Harvard Genetics Professor, Scientist\"\n",
      "  },\n",
      "  \"dialogue\": \"It sounds like science fiction, but it's real science, Joe.  Shinya Yamanaka, he figured out you can actually reprogram cells back to a younger state. It's like turning back the clock built into our cells. Now, we're not injecting people with this stuff yet, it's early, but the implications are HUGE.\",\n",
      "  \"inner_thought\": \"He's picked up on it, good. Yamanaka factors are mind-blowing, gotta tread carefully, excitement's good, hype isn't.  Emphasize it's real but early days.\"\n",
      "}\n",
      "```\n",
      "\n",
      "--------------------------------------------------------------------------------\n",
      "\u001b[32m\n",
      "Next speaker: Joe Rogan\n",
      "\u001b[0m\n",
      "\u001b[33mJoe Rogan\u001b[0m (to chat_manager):\n",
      "\n",
      "```json\n",
      "{\n",
      "  \"speaker\": {\n",
      "    \"name\": \"Joe Rogan\",\n",
      "    \"description\": \"Joe Rogan, as himself\"\n",
      "  },\n",
      "  \"dialogue\": \"Huge is an understatement, dude.  So, if this works, and obviously it's still a big 'if', but if it does, what does that even look like?  Are we talking about people living to be 200 years old? 500? What's the ceiling here?\",\n",
      "  \"inner_thought\": \"Okay, now my brain is officially blown.  I gotta try and wrap my head around this.  We're talking about potentially changing the entire game of life and death here.  This is some serious stuff.\"\n",
      "}\n",
      "```\n",
      "\n",
      "--------------------------------------------------------------------------------\n",
      "\u001b[32m\n",
      "Next speaker: David Sinclair\n",
      "\u001b[0m\n",
      "\u001b[33mDavid Sinclair\u001b[0m (to chat_manager):\n",
      "\n",
      "```json\n",
      "{\n",
      "  \"speaker\": {\n",
      "    \"name\": \"David Sinclair\",\n",
      "    \"description\": \"Harvard Genetics Professor, Scientist\"\n",
      "  },\n",
      "  \"dialogue\": \"Joe, that's the million-dollar question, isn't it?  Honestly, we don't know the ceiling yet.  But it's not just about how long, it's about how WELL we live those years. Imagine if 80 or 90 became the new 50, not in terms of looks necessarily, but in terms of vitality, energy, health. That's the goal.\",\n",
      "  \"inner_thought\": \"Here we go, into the longevity singularity. Gotta steer carefully. Hope is good, outlandish promises aren't.  Focus on healthspan, not just lifespan.\"\n",
      "}\n",
      "```\n",
      "\n",
      "--------------------------------------------------------------------------------\n",
      "\u001b[32m\n",
      "Next speaker: Joe Rogan\n",
      "\u001b[0m\n",
      "\u001b[33mJoe Rogan\u001b[0m (to chat_manager):\n",
      "\n",
      "```json\n",
      "{\n",
      "  \"speaker\": {\n",
      "    \"name\": \"Joe Rogan\",\n",
      "    \"description\": \"Joe Rogan, as himself\"\n",
      "  },\n",
      "  \"dialogue\": \"Okay, so how do we get there?  Let's say I'm listening to this, and I'm like everyone else, I don't want to get old, I want to feel good for as long as possible.  What can people actually DO right now while all this amazing science is developing?\",\n",
      "  \"inner_thought\": \"Alright, time to bring it back down to earth. My listeners are smart, but they want practical advice, too.  Hit them with the actionable stuff, David!\"\n",
      "}\n",
      "```\n",
      "\n",
      "--------------------------------------------------------------------------------\n",
      "\u001b[32m\n",
      "Next speaker: David Sinclair\n",
      "\u001b[0m\n",
      "\u001b[33mDavid Sinclair\u001b[0m (to chat_manager):\n",
      "\n",
      "```json\n",
      "{\n",
      "  \"speaker\": {\n",
      "    \"name\": \"David Sinclair\",\n",
      "    \"description\": \"Harvard Genetics Professor, Scientist\"\n",
      "  },\n",
      "  \"dialogue\": \"You want the good news? A lot of this isn't even that complicated, Joe. We're talking about the basics, but taking them seriously.  Eating a healthy diet, mostly plants, not overdoing it.  Exercise, but not just pounding weights, mix it up.  Get enough sleep, manage stress, these things matter. \",\n",
      "  \"inner_thought\": \"Time for the lifestyle medicine gospel. People want the magic pill, but the basics are still where it's at. Emphasize sustainability, it's a marathon, not a sprint.\"\n",
      "}\n",
      "```\n",
      "\n",
      "--------------------------------------------------------------------------------\n",
      "\u001b[32m\n",
      "Next speaker: Joe Rogan\n",
      "\u001b[0m\n",
      "\u001b[33mJoe Rogan\u001b[0m (to chat_manager):\n",
      "\n",
      "```json\n",
      "{\n",
      "  \"speaker\": {\n",
      "    \"name\": \"Joe Rogan\",\n",
      "    \"description\": \"Joe Rogan, as himself\"\n",
      "  },\n",
      "  \"dialogue\": \"See, I'm with you on all that.  I'm all about the sauna, cold plunges, eating clean.  But you know me, I like to push the limits.  What about the supplements, man?  NR, Metformin, everyone's asking about this stuff.  What's your take?\",\n",
      "  \"inner_thought\": \"Alright, time to get into the nitty-gritty.  My people want the specifics, the biohacks, the stuff they can try *today*.\" \n",
      "}\n",
      "```\n",
      "\n",
      "--------------------------------------------------------------------------------\n",
      "\u001b[32m\n",
      "Next speaker: David Sinclair\n",
      "\u001b[0m\n",
      "\u001b[33mDavid Sinclair\u001b[0m (to chat_manager):\n",
      "\n",
      "```json\n",
      "{\n",
      "  \"speaker\": {\n",
      "    \"name\": \"David Sinclair\",\n",
      "    \"description\": \"Harvard Genetics Professor, Scientist\"\n",
      "  },\n",
      "  \"dialogue\": \"Okay, Joe, but you know I have to say it: I'm a scientist, not a doctor, so this isn't medical advice, right? Now, with that said, there's some promising stuff out there.  I've talked about my own regimen, things like NMN, resveratrol, metformin... but the key is, these aren't magic bullets. They're tools, and you gotta use them responsibly, ideally with a doctor's guidance.\",\n",
      "  \"inner_thought\": \"Here comes the supplement minefield. Gotta be careful, Joe's audience is huge, responsibility weighs heavy.  Stress safety first, research over blind enthusiasm.\"\n",
      "}\n",
      "```\n",
      "\n",
      "--------------------------------------------------------------------------------\n",
      "\u001b[32m\n",
      "Next speaker: Joe Rogan\n",
      "\u001b[0m\n",
      "\u001b[33mJoe Rogan\u001b[0m (to chat_manager):\n",
      "\n",
      "```json\n",
      "{\n",
      "  \"speaker\": {\n",
      "    \"name\": \"Joe Rogan\",\n",
      "    \"description\": \"Joe Rogan, as himself\"\n",
      "  },\n",
      "  \"dialogue\": \"Right on, always better to be safe than sorry. And we'll make sure to put all the relevant links and studies in the show notes for everyone listening.  But for me, the big takeaway here is, we're on the cusp of something incredible, real paradigm-shifting stuff.  Am I right?\",\n",
      "  \"inner_thought\": \"Man, I gotta have David back on when some of this stuff gets closer to reality. We're barely scratching the surface here. This conversation is just the beginning.\"\n",
      "}\n",
      "```\n",
      "\n",
      "--------------------------------------------------------------------------------\n",
      "\u001b[32m\n",
      "Next speaker: script_parser\n",
      "\u001b[0m\n",
      "\u001b[33mscript_parser\u001b[0m (to chat_manager):\n",
      "\n",
      "```json\n",
      "{\"title\": \"The Joe Rogan Experience: Health & Longevity\", \"abstract\": \"Joe Rogan sits down with renowned geneticist, Dr. David Sinclair, to explore the latest advancements in longevity science and the quest for a longer, healthier lifespan.\", \"dialogues\": [{\"speaker\": {\"name\": \"Joe Rogan\", \"description\": \"Joe Rogan, as himself\"}, \"dialogue\": \"So David, we've talked about all this crazy aging stuff before, what gets you fired up about this stuff still?  What's got you freaking out excited about the future of all this?\", \"inner_thought\": \"Alright, round two with David! I've been geeking out on all the longevity stuff even more since we last talked, especially NAD+. Hope I don't go full fanboy on him, gotta keep it cool, Rogan.\"}, {\"speaker\": {\"name\": \"David Sinclair\", \"description\": \"Harvard Genetics Professor, Scientist\"}, \"dialogue\": \"Joe, it's like we're staring at the instruction manual for life itself, but it's written in this crazy code. We're just starting to crack it, and what we're finding is blowing my mind.  The potential to extend our healthspan, not just lifespan, that's what really lights me up.\", \"inner_thought\": \"Joe seems even more into this than last time. Gotta make sure I keep it grounded, explain the science clearly, but also convey the sheer possibility of it all.\"}, {\"speaker\": {\"name\": \"Joe Rogan\", \"description\": \"Joe Rogan, as himself\"}, \"dialogue\": \"Dude, I've been saying this!  It's not about living to 200 as a decrepit skeleton, it's about feeling good, being able to surf and train and hang with my kids when I'm 80, 90, maybe even 100.  You think that's really possible, man?  Like, no BS?\", \"inner_thought\": \"Please tell me this is actually possible. I'm picturing myself at 90, still hitting the sauna and crushing podcasts. Man, that would be epic.\"}, {\"speaker\": {\"name\": \"David Sinclair\", \"description\": \"Harvard Genetics Professor, Scientist\"}, \"dialogue\": \"Joe, I don't deal in BS, I deal in science. And the science is telling us that what we used to think of as inevitable aging, it's not some fixed clock. It's a process, and we're figuring out how to influence that process.  So yeah, I think what you're talking about, it's not just possible, it's increasingly probable.\", \"inner_thought\": \"He's got that gleam in his eye, that hunger to believe it. Good. It's that passion that drives progress. But I need to keep him grounded, remind him there are no guarantees...yet.\"}, {\"speaker\": {\"name\": \"Joe Rogan\", \"description\": \"Joe Rogan, as himself\"}, \"dialogue\": \"Alright, so break it down for me, and for everyone listening who's not a scientist. What are the big things on the horizon, the stuff that has you most fired up?  What's the cutting edge we need to be wrapping our heads around?\", \"inner_thought\": \"Time to go full Rogan and get into the weeds on this. I want the details, the mechanisms, the why behind it all. This is where it gets really interesting.\"}, {\"speaker\": {\"name\": \"David Sinclair\", \"description\": \"Harvard Genetics Professor, Scientist\"}, \"dialogue\": \"Okay, Joe, picture this: our cells are like these amazing little factories, right?  But over time, the instructions get blurry, mistakes happen. That's aging in a nutshell. But here's the cool part, we're finding ways to sharpen those instructions again.  Things like activating sirtuins, these 'longevity genes,' or reprogramming cells with something like Yamanaka factors. It's like hitting the reset button.\", \"inner_thought\": \"Got to keep it engaging for his audience. Analogies, visuals... Hit them with the 'why' before the hardcore 'how'. Joe's on board, now to bring along everyone else listening.\"}, {\"speaker\": {\"name\": \"Joe Rogan\", \"description\": \"Joe Rogan, as himself\"}, \"dialogue\": \"Hold up, Yamanaka factors?  We're talking about turning old cells into young cells, like Benjamin Button stuff?  Is that what you're saying?\", \"inner_thought\": \"Whoa, this is some next-level stuff.  Yamanaka factors? Sounds like something out of a sci-fi movie. But if it's real... damn, this changes everything.\"}, {\"speaker\": {\"name\": \"David Sinclair\", \"description\": \"Harvard Genetics Professor, Scientist\"}, \"dialogue\": \"It sounds like science fiction, but it's real science, Joe.  Shinya Yamanaka, he figured out you can actually reprogram cells back to a younger state. It's like turning back the clock built into our cells. Now, we're not injecting people with this stuff yet, it's early, but the implications are HUGE.\", \"inner_thought\": \"He's picked up on it, good. Yamanaka factors are mind-blowing, gotta tread carefully, excitement's good, hype isn't.  Emphasize it's real but early days.\"}, {\"speaker\": {\"name\": \"Joe Rogan\", \"description\": \"Joe Rogan, as himself\"}, \"dialogue\": \"Huge is an understatement, dude.  So, if this works, and obviously it's still a big 'if', but if it does, what does that even look like?  Are we talking about people living to be 200 years old? 500? What's the ceiling here?\", \"inner_thought\": \"Okay, now my brain is officially blown.  I gotta try and wrap my head around this.  We're talking about potentially changing the entire game of life and death here.  This is some serious stuff.\"}, {\"speaker\": {\"name\": \"David Sinclair\", \"description\": \"Harvard Genetics Professor, Scientist\"}, \"dialogue\": \"Joe, that's the million-dollar question, isn't it?  Honestly, we don't know the ceiling yet.  But it's not just about how long, it's about how WELL we live those years. Imagine if 80 or 90 became the new 50, not in terms of looks necessarily, but in terms of vitality, energy, health. That's the goal.\", \"inner_thought\": \"Here we go, into the longevity singularity. Gotta steer carefully. Hope is good, outlandish promises aren't.  Focus on healthspan, not just lifespan.\"}, {\"speaker\": {\"name\": \"Joe Rogan\", \"description\": \"Joe Rogan, as himself\"}, \"dialogue\": \"Okay, so how do we get there?  Let's say I'm listening to this, and I'm like everyone else, I don't want to get old, I want to feel good for as long as possible.  What can people actually DO right now while all this amazing science is developing?\", \"inner_thought\": \"Alright, time to bring it back down to earth. My listeners are smart, but they want practical advice, too.  Hit them with the actionable stuff, David!\"}, {\"speaker\": {\"name\": \"David Sinclair\", \"description\": \"Harvard Genetics Professor, Scientist\"}, \"dialogue\": \"You want the good news? A lot of this isn't even that complicated, Joe. We're talking about the basics, but taking them seriously.  Eating a healthy diet, mostly plants, not overdoing it.  Exercise, but not just pounding weights, mix it up.  Get enough sleep, manage stress, these things matter. \", \"inner_thought\": \"Time for the lifestyle medicine gospel. People want the magic pill, but the basics are still where it's at. Emphasize sustainability, it's a marathon, not a sprint.\"}, {\"speaker\": {\"name\": \"Joe Rogan\", \"description\": \"Joe Rogan, as himself\"}, \"dialogue\": \"See, I'm with you on all that.  I'm all about the sauna, cold plunges, eating clean.  But you know me, I like to push the limits.  What about the supplements, man?  NR, Metformin, everyone's asking about this stuff.  What's your take?\", \"inner_thought\": \"Alright, time to get into the nitty-gritty.  My people want the specifics, the biohacks, the stuff they can try *today*.\"}, {\"speaker\": {\"name\": \"David Sinclair\", \"description\": \"Harvard Genetics Professor, Scientist\"}, \"dialogue\": \"Okay, Joe, but you know I have to say it: I'm a scientist, not a doctor, so this isn't medical advice, right? Now, with that said, there's some promising stuff out there.  I've talked about my own regimen, things like NMN, resveratrol, metformin... but the key is, these aren't magic bullets. They're tools, and you gotta use them responsibly, ideally with a doctor's guidance.\", \"inner_thought\": \"Here comes the supplement minefield. Gotta be careful, Joe's audience is huge, responsibility weighs heavy.  Stress safety first, research over blind enthusiasm.\"}, {\"speaker\": {\"name\": \"Joe Rogan\", \"description\": \"Joe Rogan, as himself\"}, \"dialogue\": \"Right on, always better to be safe than sorry. And we'll make sure to put all the relevant links and studies in the show notes for everyone listening.  But for me, the big takeaway here is, we're on the cusp of something incredible, real paradigm-shifting stuff.  Am I right?\", \"inner_thought\": \"Man, I gotta have David back on when some of this stuff gets closer to reality. We're barely scratching the surface here. This conversation is just the beginning.\"}]}\n",
      "```\n",
      "\n",
      "--------------------------------------------------------------------------------\n"
     ]
    }
   ],
   "source": [
    "my_script = my_podcast.create()"
   ]
  },
  {
   "cell_type": "code",
   "execution_count": 9,
   "metadata": {},
   "outputs": [
    {
     "data": {
      "text/plain": [
       "[{'content': '```json\\n{\\n  \"speaker\": {\\n    \"name\": \"Joe Rogan\",\\n    \"description\": \"Joe Rogan, as himself\"\\n  },\\n  \"dialogue\": \"So David, we\\'ve talked about all this crazy aging stuff before, what gets you fired up about this stuff still?  What\\'s got you freaking out excited about the future of all this?\",\\n  \"inner_thought\": \"Alright, round two with David! I\\'ve been geeking out on all the longevity stuff even more since we last talked, especially NAD+. Hope I don\\'t go full fanboy on him, gotta keep it cool, Rogan.\"\\n}\\n```',\n",
       "  'name': 'Joe Rogan',\n",
       "  'role': 'user'},\n",
       " {'content': '```json\\n{\\n  \"speaker\": {\\n    \"name\": \"David Sinclair\",\\n    \"description\": \"Harvard Genetics Professor, Scientist\"\\n  },\\n  \"dialogue\": \"Joe, it\\'s like we\\'re staring at the instruction manual for life itself, but it\\'s written in this crazy code. We\\'re just starting to crack it, and what we\\'re finding is blowing my mind.  The potential to extend our healthspan, not just lifespan, that\\'s what really lights me up.\",\\n  \"inner_thought\": \"Joe seems even more into this than last time. Gotta make sure I keep it grounded, explain the science clearly, but also convey the sheer possibility of it all.\"\\n}\\n```',\n",
       "  'name': 'David Sinclair',\n",
       "  'role': 'user'},\n",
       " {'content': '```json\\n{\\n  \"speaker\": {\\n    \"name\": \"Joe Rogan\",\\n    \"description\": \"Joe Rogan, as himself\"\\n  },\\n  \"dialogue\": \"Dude, I\\'ve been saying this!  It\\'s not about living to 200 as a decrepit skeleton, it\\'s about feeling good, being able to surf and train and hang with my kids when I\\'m 80, 90, maybe even 100.  You think that\\'s really possible, man?  Like, no BS?\",\\n  \"inner_thought\": \"Please tell me this is actually possible. I\\'m picturing myself at 90, still hitting the sauna and crushing podcasts. Man, that would be epic.\"\\n}\\n```',\n",
       "  'name': 'Joe Rogan',\n",
       "  'role': 'user'},\n",
       " {'content': '```json\\n{\\n  \"speaker\": {\\n    \"name\": \"David Sinclair\",\\n    \"description\": \"Harvard Genetics Professor, Scientist\"\\n  },\\n  \"dialogue\": \"Joe, I don\\'t deal in BS, I deal in science. And the science is telling us that what we used to think of as inevitable aging, it\\'s not some fixed clock. It\\'s a process, and we\\'re figuring out how to influence that process.  So yeah, I think what you\\'re talking about, it\\'s not just possible, it\\'s increasingly probable.\",\\n  \"inner_thought\": \"He\\'s got that gleam in his eye, that hunger to believe it. Good. It\\'s that passion that drives progress. But I need to keep him grounded, remind him there are no guarantees...yet.\"\\n}\\n```',\n",
       "  'name': 'David Sinclair',\n",
       "  'role': 'user'},\n",
       " {'content': '```json\\n{\\n  \"speaker\": {\\n    \"name\": \"Joe Rogan\",\\n    \"description\": \"Joe Rogan, as himself\"\\n  },\\n  \"dialogue\": \"Alright, so break it down for me, and for everyone listening who\\'s not a scientist. What are the big things on the horizon, the stuff that has you most fired up?  What\\'s the cutting edge we need to be wrapping our heads around?\",\\n  \"inner_thought\": \"Time to go full Rogan and get into the weeds on this. I want the details, the mechanisms, the why behind it all. This is where it gets really interesting.\"\\n}\\n```',\n",
       "  'name': 'Joe Rogan',\n",
       "  'role': 'user'},\n",
       " {'content': '```json\\n{\\n  \"speaker\": {\\n    \"name\": \"David Sinclair\",\\n    \"description\": \"Harvard Genetics Professor, Scientist\"\\n  },\\n  \"dialogue\": \"Okay, Joe, picture this: our cells are like these amazing little factories, right?  But over time, the instructions get blurry, mistakes happen. That\\'s aging in a nutshell. But here\\'s the cool part, we\\'re finding ways to sharpen those instructions again.  Things like activating sirtuins, these \\'longevity genes,\\' or reprogramming cells with something like Yamanaka factors. It\\'s like hitting the reset button.\",\\n  \"inner_thought\": \"Got to keep it engaging for his audience. Analogies, visuals... Hit them with the \\'why\\' before the hardcore \\'how\\'. Joe\\'s on board, now to bring along everyone else listening.\"\\n}\\n```',\n",
       "  'name': 'David Sinclair',\n",
       "  'role': 'user'},\n",
       " {'content': '```json\\n{\\n  \"speaker\": {\\n    \"name\": \"Joe Rogan\",\\n    \"description\": \"Joe Rogan, as himself\"\\n  },\\n  \"dialogue\": \"Hold up, Yamanaka factors?  We\\'re talking about turning old cells into young cells, like Benjamin Button stuff?  Is that what you\\'re saying?\",\\n  \"inner_thought\": \"Whoa, this is some next-level stuff.  Yamanaka factors? Sounds like something out of a sci-fi movie. But if it\\'s real... damn, this changes everything.\"\\n}\\n```',\n",
       "  'name': 'Joe Rogan',\n",
       "  'role': 'user'},\n",
       " {'content': '```json\\n{\\n  \"speaker\": {\\n    \"name\": \"David Sinclair\",\\n    \"description\": \"Harvard Genetics Professor, Scientist\"\\n  },\\n  \"dialogue\": \"It sounds like science fiction, but it\\'s real science, Joe.  Shinya Yamanaka, he figured out you can actually reprogram cells back to a younger state. It\\'s like turning back the clock built into our cells. Now, we\\'re not injecting people with this stuff yet, it\\'s early, but the implications are HUGE.\",\\n  \"inner_thought\": \"He\\'s picked up on it, good. Yamanaka factors are mind-blowing, gotta tread carefully, excitement\\'s good, hype isn\\'t.  Emphasize it\\'s real but early days.\"\\n}\\n```',\n",
       "  'name': 'David Sinclair',\n",
       "  'role': 'user'},\n",
       " {'content': '```json\\n{\\n  \"speaker\": {\\n    \"name\": \"Joe Rogan\",\\n    \"description\": \"Joe Rogan, as himself\"\\n  },\\n  \"dialogue\": \"Huge is an understatement, dude.  So, if this works, and obviously it\\'s still a big \\'if\\', but if it does, what does that even look like?  Are we talking about people living to be 200 years old? 500? What\\'s the ceiling here?\",\\n  \"inner_thought\": \"Okay, now my brain is officially blown.  I gotta try and wrap my head around this.  We\\'re talking about potentially changing the entire game of life and death here.  This is some serious stuff.\"\\n}\\n```',\n",
       "  'name': 'Joe Rogan',\n",
       "  'role': 'user'},\n",
       " {'content': '```json\\n{\\n  \"speaker\": {\\n    \"name\": \"David Sinclair\",\\n    \"description\": \"Harvard Genetics Professor, Scientist\"\\n  },\\n  \"dialogue\": \"Joe, that\\'s the million-dollar question, isn\\'t it?  Honestly, we don\\'t know the ceiling yet.  But it\\'s not just about how long, it\\'s about how WELL we live those years. Imagine if 80 or 90 became the new 50, not in terms of looks necessarily, but in terms of vitality, energy, health. That\\'s the goal.\",\\n  \"inner_thought\": \"Here we go, into the longevity singularity. Gotta steer carefully. Hope is good, outlandish promises aren\\'t.  Focus on healthspan, not just lifespan.\"\\n}\\n```',\n",
       "  'name': 'David Sinclair',\n",
       "  'role': 'user'},\n",
       " {'content': '```json\\n{\\n  \"speaker\": {\\n    \"name\": \"Joe Rogan\",\\n    \"description\": \"Joe Rogan, as himself\"\\n  },\\n  \"dialogue\": \"Okay, so how do we get there?  Let\\'s say I\\'m listening to this, and I\\'m like everyone else, I don\\'t want to get old, I want to feel good for as long as possible.  What can people actually DO right now while all this amazing science is developing?\",\\n  \"inner_thought\": \"Alright, time to bring it back down to earth. My listeners are smart, but they want practical advice, too.  Hit them with the actionable stuff, David!\"\\n}\\n```',\n",
       "  'name': 'Joe Rogan',\n",
       "  'role': 'user'},\n",
       " {'content': '```json\\n{\\n  \"speaker\": {\\n    \"name\": \"David Sinclair\",\\n    \"description\": \"Harvard Genetics Professor, Scientist\"\\n  },\\n  \"dialogue\": \"You want the good news? A lot of this isn\\'t even that complicated, Joe. We\\'re talking about the basics, but taking them seriously.  Eating a healthy diet, mostly plants, not overdoing it.  Exercise, but not just pounding weights, mix it up.  Get enough sleep, manage stress, these things matter. \",\\n  \"inner_thought\": \"Time for the lifestyle medicine gospel. People want the magic pill, but the basics are still where it\\'s at. Emphasize sustainability, it\\'s a marathon, not a sprint.\"\\n}\\n```',\n",
       "  'name': 'David Sinclair',\n",
       "  'role': 'user'},\n",
       " {'content': '```json\\n{\\n  \"speaker\": {\\n    \"name\": \"Joe Rogan\",\\n    \"description\": \"Joe Rogan, as himself\"\\n  },\\n  \"dialogue\": \"See, I\\'m with you on all that.  I\\'m all about the sauna, cold plunges, eating clean.  But you know me, I like to push the limits.  What about the supplements, man?  NR, Metformin, everyone\\'s asking about this stuff.  What\\'s your take?\",\\n  \"inner_thought\": \"Alright, time to get into the nitty-gritty.  My people want the specifics, the biohacks, the stuff they can try *today*.\" \\n}\\n```',\n",
       "  'name': 'Joe Rogan',\n",
       "  'role': 'user'},\n",
       " {'content': '```json\\n{\\n  \"speaker\": {\\n    \"name\": \"David Sinclair\",\\n    \"description\": \"Harvard Genetics Professor, Scientist\"\\n  },\\n  \"dialogue\": \"Okay, Joe, but you know I have to say it: I\\'m a scientist, not a doctor, so this isn\\'t medical advice, right? Now, with that said, there\\'s some promising stuff out there.  I\\'ve talked about my own regimen, things like NMN, resveratrol, metformin... but the key is, these aren\\'t magic bullets. They\\'re tools, and you gotta use them responsibly, ideally with a doctor\\'s guidance.\",\\n  \"inner_thought\": \"Here comes the supplement minefield. Gotta be careful, Joe\\'s audience is huge, responsibility weighs heavy.  Stress safety first, research over blind enthusiasm.\"\\n}\\n```',\n",
       "  'name': 'David Sinclair',\n",
       "  'role': 'user'},\n",
       " {'content': '```json\\n{\\n  \"speaker\": {\\n    \"name\": \"Joe Rogan\",\\n    \"description\": \"Joe Rogan, as himself\"\\n  },\\n  \"dialogue\": \"Right on, always better to be safe than sorry. And we\\'ll make sure to put all the relevant links and studies in the show notes for everyone listening.  But for me, the big takeaway here is, we\\'re on the cusp of something incredible, real paradigm-shifting stuff.  Am I right?\",\\n  \"inner_thought\": \"Man, I gotta have David back on when some of this stuff gets closer to reality. We\\'re barely scratching the surface here. This conversation is just the beginning.\"\\n}\\n```',\n",
       "  'name': 'Joe Rogan',\n",
       "  'role': 'user'}]"
      ]
     },
     "execution_count": 9,
     "metadata": {},
     "output_type": "execute_result"
    }
   ],
   "source": [
    "# raw string script\n",
    "my_podcast.raw_script"
   ]
  },
  {
   "cell_type": "code",
   "execution_count": 10,
   "metadata": {},
   "outputs": [
    {
     "data": {
      "text/plain": [
       "[{'speaker': {'name': 'Joe Rogan', 'description': 'Joe Rogan, as himself'},\n",
       "  'dialogue': \"So David, we've talked about all this crazy aging stuff before, what gets you fired up about this stuff still?  What's got you freaking out excited about the future of all this?\",\n",
       "  'inner_thought': \"Alright, round two with David! I've been geeking out on all the longevity stuff even more since we last talked, especially NAD+. Hope I don't go full fanboy on him, gotta keep it cool, Rogan.\"},\n",
       " {'speaker': {'name': 'David Sinclair',\n",
       "   'description': 'Harvard Genetics Professor, Scientist'},\n",
       "  'dialogue': \"Joe, it's like we're staring at the instruction manual for life itself, but it's written in this crazy code. We're just starting to crack it, and what we're finding is blowing my mind.  The potential to extend our healthspan, not just lifespan, that's what really lights me up.\",\n",
       "  'inner_thought': 'Joe seems even more into this than last time. Gotta make sure I keep it grounded, explain the science clearly, but also convey the sheer possibility of it all.'},\n",
       " {'speaker': {'name': 'Joe Rogan', 'description': 'Joe Rogan, as himself'},\n",
       "  'dialogue': \"Dude, I've been saying this!  It's not about living to 200 as a decrepit skeleton, it's about feeling good, being able to surf and train and hang with my kids when I'm 80, 90, maybe even 100.  You think that's really possible, man?  Like, no BS?\",\n",
       "  'inner_thought': \"Please tell me this is actually possible. I'm picturing myself at 90, still hitting the sauna and crushing podcasts. Man, that would be epic.\"},\n",
       " {'speaker': {'name': 'David Sinclair',\n",
       "   'description': 'Harvard Genetics Professor, Scientist'},\n",
       "  'dialogue': \"Joe, I don't deal in BS, I deal in science. And the science is telling us that what we used to think of as inevitable aging, it's not some fixed clock. It's a process, and we're figuring out how to influence that process.  So yeah, I think what you're talking about, it's not just possible, it's increasingly probable.\",\n",
       "  'inner_thought': \"He's got that gleam in his eye, that hunger to believe it. Good. It's that passion that drives progress. But I need to keep him grounded, remind him there are no guarantees...yet.\"},\n",
       " {'speaker': {'name': 'Joe Rogan', 'description': 'Joe Rogan, as himself'},\n",
       "  'dialogue': \"Alright, so break it down for me, and for everyone listening who's not a scientist. What are the big things on the horizon, the stuff that has you most fired up?  What's the cutting edge we need to be wrapping our heads around?\",\n",
       "  'inner_thought': 'Time to go full Rogan and get into the weeds on this. I want the details, the mechanisms, the why behind it all. This is where it gets really interesting.'},\n",
       " {'speaker': {'name': 'David Sinclair',\n",
       "   'description': 'Harvard Genetics Professor, Scientist'},\n",
       "  'dialogue': \"Okay, Joe, picture this: our cells are like these amazing little factories, right?  But over time, the instructions get blurry, mistakes happen. That's aging in a nutshell. But here's the cool part, we're finding ways to sharpen those instructions again.  Things like activating sirtuins, these 'longevity genes,' or reprogramming cells with something like Yamanaka factors. It's like hitting the reset button.\",\n",
       "  'inner_thought': \"Got to keep it engaging for his audience. Analogies, visuals... Hit them with the 'why' before the hardcore 'how'. Joe's on board, now to bring along everyone else listening.\"},\n",
       " {'speaker': {'name': 'Joe Rogan', 'description': 'Joe Rogan, as himself'},\n",
       "  'dialogue': \"Hold up, Yamanaka factors?  We're talking about turning old cells into young cells, like Benjamin Button stuff?  Is that what you're saying?\",\n",
       "  'inner_thought': \"Whoa, this is some next-level stuff.  Yamanaka factors? Sounds like something out of a sci-fi movie. But if it's real... damn, this changes everything.\"},\n",
       " {'speaker': {'name': 'David Sinclair',\n",
       "   'description': 'Harvard Genetics Professor, Scientist'},\n",
       "  'dialogue': \"It sounds like science fiction, but it's real science, Joe.  Shinya Yamanaka, he figured out you can actually reprogram cells back to a younger state. It's like turning back the clock built into our cells. Now, we're not injecting people with this stuff yet, it's early, but the implications are HUGE.\",\n",
       "  'inner_thought': \"He's picked up on it, good. Yamanaka factors are mind-blowing, gotta tread carefully, excitement's good, hype isn't.  Emphasize it's real but early days.\"},\n",
       " {'speaker': {'name': 'Joe Rogan', 'description': 'Joe Rogan, as himself'},\n",
       "  'dialogue': \"Huge is an understatement, dude.  So, if this works, and obviously it's still a big 'if', but if it does, what does that even look like?  Are we talking about people living to be 200 years old? 500? What's the ceiling here?\",\n",
       "  'inner_thought': \"Okay, now my brain is officially blown.  I gotta try and wrap my head around this.  We're talking about potentially changing the entire game of life and death here.  This is some serious stuff.\"},\n",
       " {'speaker': {'name': 'David Sinclair',\n",
       "   'description': 'Harvard Genetics Professor, Scientist'},\n",
       "  'dialogue': \"Joe, that's the million-dollar question, isn't it?  Honestly, we don't know the ceiling yet.  But it's not just about how long, it's about how WELL we live those years. Imagine if 80 or 90 became the new 50, not in terms of looks necessarily, but in terms of vitality, energy, health. That's the goal.\",\n",
       "  'inner_thought': \"Here we go, into the longevity singularity. Gotta steer carefully. Hope is good, outlandish promises aren't.  Focus on healthspan, not just lifespan.\"},\n",
       " {'speaker': {'name': 'Joe Rogan', 'description': 'Joe Rogan, as himself'},\n",
       "  'dialogue': \"Okay, so how do we get there?  Let's say I'm listening to this, and I'm like everyone else, I don't want to get old, I want to feel good for as long as possible.  What can people actually DO right now while all this amazing science is developing?\",\n",
       "  'inner_thought': 'Alright, time to bring it back down to earth. My listeners are smart, but they want practical advice, too.  Hit them with the actionable stuff, David!'},\n",
       " {'speaker': {'name': 'David Sinclair',\n",
       "   'description': 'Harvard Genetics Professor, Scientist'},\n",
       "  'dialogue': \"You want the good news? A lot of this isn't even that complicated, Joe. We're talking about the basics, but taking them seriously.  Eating a healthy diet, mostly plants, not overdoing it.  Exercise, but not just pounding weights, mix it up.  Get enough sleep, manage stress, these things matter. \",\n",
       "  'inner_thought': \"Time for the lifestyle medicine gospel. People want the magic pill, but the basics are still where it's at. Emphasize sustainability, it's a marathon, not a sprint.\"},\n",
       " {'speaker': {'name': 'Joe Rogan', 'description': 'Joe Rogan, as himself'},\n",
       "  'dialogue': \"See, I'm with you on all that.  I'm all about the sauna, cold plunges, eating clean.  But you know me, I like to push the limits.  What about the supplements, man?  NR, Metformin, everyone's asking about this stuff.  What's your take?\",\n",
       "  'inner_thought': 'Alright, time to get into the nitty-gritty.  My people want the specifics, the biohacks, the stuff they can try *today*.'},\n",
       " {'speaker': {'name': 'David Sinclair',\n",
       "   'description': 'Harvard Genetics Professor, Scientist'},\n",
       "  'dialogue': \"Okay, Joe, but you know I have to say it: I'm a scientist, not a doctor, so this isn't medical advice, right? Now, with that said, there's some promising stuff out there.  I've talked about my own regimen, things like NMN, resveratrol, metformin... but the key is, these aren't magic bullets. They're tools, and you gotta use them responsibly, ideally with a doctor's guidance.\",\n",
       "  'inner_thought': \"Here comes the supplement minefield. Gotta be careful, Joe's audience is huge, responsibility weighs heavy.  Stress safety first, research over blind enthusiasm.\"},\n",
       " {'speaker': {'name': 'Joe Rogan', 'description': 'Joe Rogan, as himself'},\n",
       "  'dialogue': \"Right on, always better to be safe than sorry. And we'll make sure to put all the relevant links and studies in the show notes for everyone listening.  But for me, the big takeaway here is, we're on the cusp of something incredible, real paradigm-shifting stuff.  Am I right?\",\n",
       "  'inner_thought': \"Man, I gotta have David back on when some of this stuff gets closer to reality. We're barely scratching the surface here. This conversation is just the beginning.\"}]"
      ]
     },
     "execution_count": 10,
     "metadata": {},
     "output_type": "execute_result"
    }
   ],
   "source": [
    "# return chat history from script (warning: this part can fail due to the inconsistency of formatting that may result from individual dialogues from the LLMs)\n",
    "my_podcast.script\n",
    "# from ficast.conversation.utils import extract_json_code_block\n",
    "# extract_json_code_block(my_podcast.raw_script[0].get('content'))"
   ]
  },
  {
   "cell_type": "code",
   "execution_count": 11,
   "metadata": {},
   "outputs": [
    {
     "name": "stdout",
     "output_type": "stream",
     "text": [
      "dict_keys(['title', 'abstract', 'dialogues'])\n",
      "15\n",
      "{'speaker': {'name': 'Joe Rogan', 'description': 'Joe Rogan, as himself'}, 'dialogue': \"So David, we've talked about all this crazy aging stuff before, what gets you fired up about this stuff still?  What's got you freaking out excited about the future of all this?\", 'inner_thought': \"Alright, round two with David! I've been geeking out on all the longevity stuff even more since we last talked, especially NAD+. Hope I don't go full fanboy on him, gotta keep it cool, Rogan.\"}\n"
     ]
    }
   ],
   "source": [
    "# a json script parsed by `json_parser` agent\n",
    "# script structure\n",
    "print(my_podcast.json_script.keys())\n",
    "# length of conversation\n",
    "print(len(my_podcast.json_script.get('dialogues')))\n",
    "# dialogue structure\n",
    "print(my_podcast.json_script.get('dialogues')[0])"
   ]
  },
  {
   "cell_type": "code",
   "execution_count": 12,
   "metadata": {},
   "outputs": [
    {
     "name": "stdout",
     "output_type": "stream",
     "text": [
      "Script saved to ficast-outputs/samples/scripts/quickstart_sample_script.txt\n"
     ]
    }
   ],
   "source": [
    "my_podcast.save_script(\n",
    "  path=\"ficast-outputs/samples/scripts/quickstart_sample_script.txt\", option='human')"
   ]
  },
  {
   "cell_type": "markdown",
   "metadata": {},
   "source": [
    "## Assembling the Podcast Audio Dialogues"
   ]
  },
  {
   "cell_type": "code",
   "execution_count": 27,
   "metadata": {},
   "outputs": [
    {
     "name": "stdout",
     "output_type": "stream",
     "text": [
      "The autoreload extension is already loaded. To reload it, use:\n",
      "  %reload_ext autoreload\n"
     ]
    },
    {
     "data": {
      "text/plain": [
       "True"
      ]
     },
     "execution_count": 27,
     "metadata": {},
     "output_type": "execute_result"
    }
   ],
   "source": [
    "%load_ext autoreload\n",
    "%autoreload 2\n",
    "\n",
    "from ficast.assembly.ficast import FiCast\n",
    "from ficast.dialogue.speech import DialogueSynthesis\n",
    "load_dotenv(override=True)"
   ]
  },
  {
   "cell_type": "code",
   "execution_count": 32,
   "metadata": {},
   "outputs": [
    {
     "name": "stdout",
     "output_type": "stream",
     "text": [
      "Token verification successful.\n"
     ]
    }
   ],
   "source": [
    "dialoguer = DialogueSynthesis(\n",
    "  client_type=\"api\", \n",
    "  base_url=os.getenv(\"TTS_API_BASE_URL\"),\n",
    "  api_key=os.getenv(\"TTS_API_KEY\")\n",
    ")\n",
    "fantasy_ficast = FiCast(\n",
    "  conversation=my_podcast, dialogue_synthesizer=dialoguer\n",
    ")"
   ]
  },
  {
   "cell_type": "code",
   "execution_count": 33,
   "metadata": {},
   "outputs": [
    {
     "name": "stderr",
     "output_type": "stream",
     "text": [
      "Processing script entries:   0%|          | 0/15 [00:00<?, ?it/s]"
     ]
    },
    {
     "name": "stdout",
     "output_type": "stream",
     "text": [
      "Task created:  b5c4d423-ee49-44b5-9e0d-16ca263fb227\n",
      "Polling for result for task...\n"
     ]
    },
    {
     "name": "stderr",
     "output_type": "stream",
     "text": [
      "Processing script entries:   7%|▋         | 1/15 [01:55<26:52, 115.18s/it]"
     ]
    },
    {
     "name": "stdout",
     "output_type": "stream",
     "text": [
      "Streamed audio total size: 704078 bytes\n",
      "Task created:  6f243446-0416-42a6-8fba-0040c76cd31e\n",
      "Polling for result for task...\n"
     ]
    },
    {
     "name": "stderr",
     "output_type": "stream",
     "text": [
      "Processing script entries:  13%|█▎        | 2/15 [04:14<28:03, 129.54s/it]"
     ]
    },
    {
     "name": "stdout",
     "output_type": "stream",
     "text": [
      "Streamed audio total size: 724046 bytes\n",
      "Task created:  47971c2e-fa8d-4250-90c6-9b6c14e68a29\n",
      "Polling for result for task...\n"
     ]
    },
    {
     "name": "stderr",
     "output_type": "stream",
     "text": [
      "Processing script entries:  20%|██        | 3/15 [07:22<31:11, 155.96s/it]"
     ]
    },
    {
     "name": "stdout",
     "output_type": "stream",
     "text": [
      "Streamed audio total size: 933966 bytes\n",
      "Task created:  c463bed9-5ec8-4fe6-8505-adf3e5af3a5c\n",
      "Polling for result for task...\n"
     ]
    },
    {
     "name": "stderr",
     "output_type": "stream",
     "text": [
      "Processing script entries:  27%|██▋       | 4/15 [10:30<30:54, 168.62s/it]"
     ]
    },
    {
     "name": "stdout",
     "output_type": "stream",
     "text": [
      "Streamed audio total size: 967246 bytes\n",
      "Task created:  87688305-01d5-433c-8443-7cbe3eb6860c\n",
      "Polling for result for task...\n"
     ]
    },
    {
     "name": "stderr",
     "output_type": "stream",
     "text": [
      "Processing script entries:  33%|███▎      | 5/15 [12:55<26:42, 160.25s/it]"
     ]
    },
    {
     "name": "stdout",
     "output_type": "stream",
     "text": [
      "Streamed audio total size: 759886 bytes\n",
      "Task created:  4966a4ab-016b-4e2e-b0c0-b3a9171e6518\n",
      "Polling for result for task...\n"
     ]
    },
    {
     "name": "stderr",
     "output_type": "stream",
     "text": [
      "Processing script entries:  40%|████      | 6/15 [16:27<26:40, 177.80s/it]"
     ]
    },
    {
     "name": "stdout",
     "output_type": "stream",
     "text": [
      "Streamed audio total size: 1023054 bytes\n",
      "Task created:  201d51cb-a184-4072-b406-3a353542b60b\n",
      "Polling for result for task...\n"
     ]
    },
    {
     "name": "stderr",
     "output_type": "stream",
     "text": [
      "Processing script entries:  47%|████▋     | 7/15 [17:58<19:55, 149.48s/it]"
     ]
    },
    {
     "name": "stdout",
     "output_type": "stream",
     "text": [
      "Streamed audio total size: 601678 bytes\n",
      "Task created:  4b6ae894-80f5-463b-bbc3-ae0204435b5f\n",
      "Polling for result for task...\n"
     ]
    },
    {
     "name": "stderr",
     "output_type": "stream",
     "text": [
      "Processing script entries:  53%|█████▎    | 8/15 [20:42<17:59, 154.14s/it]"
     ]
    },
    {
     "name": "stdout",
     "output_type": "stream",
     "text": [
      "Streamed audio total size: 886862 bytes\n",
      "Task created:  92edaea0-dede-4ba9-832b-a62a6e602596\n",
      "Polling for result for task...\n"
     ]
    },
    {
     "name": "stderr",
     "output_type": "stream",
     "text": [
      "Processing script entries:  60%|██████    | 9/15 [23:20<15:30, 155.15s/it]"
     ]
    },
    {
     "name": "stdout",
     "output_type": "stream",
     "text": [
      "Streamed audio total size: 771150 bytes\n",
      "Task created:  02e4a50a-d699-4a7c-9efe-b959da660a02\n",
      "Polling for result for task...\n"
     ]
    },
    {
     "name": "stderr",
     "output_type": "stream",
     "text": [
      "Processing script entries:  67%|██████▋   | 10/15 [26:34<13:56, 167.22s/it]"
     ]
    },
    {
     "name": "stdout",
     "output_type": "stream",
     "text": [
      "Streamed audio total size: 975950 bytes\n",
      "Task created:  11805d62-2342-4d23-99e8-425c7e4310ab\n",
      "Polling for result for task...\n"
     ]
    },
    {
     "name": "stderr",
     "output_type": "stream",
     "text": [
      "Processing script entries:  73%|███████▎  | 11/15 [29:18<11:04, 166.23s/it]"
     ]
    },
    {
     "name": "stdout",
     "output_type": "stream",
     "text": [
      "Streamed audio total size: 866894 bytes\n",
      "Task created:  5b37ac13-b8af-4f83-89f6-ae3d56d334a7\n",
      "Polling for result for task...\n"
     ]
    },
    {
     "name": "stderr",
     "output_type": "stream",
     "text": [
      "Processing script entries:  80%|████████  | 12/15 [32:02<08:16, 165.56s/it]"
     ]
    },
    {
     "name": "stdout",
     "output_type": "stream",
     "text": [
      "Streamed audio total size: 904782 bytes\n",
      "Task created:  cca26308-cb4c-4f18-b3a7-19e269bef9fd\n",
      "Polling for result for task...\n"
     ]
    },
    {
     "name": "stderr",
     "output_type": "stream",
     "text": [
      "Processing script entries:  87%|████████▋ | 13/15 [34:39<05:26, 163.11s/it]"
     ]
    },
    {
     "name": "stdout",
     "output_type": "stream",
     "text": [
      "Streamed audio total size: 799822 bytes\n",
      "Task created:  5c7ec4f3-ad48-40cb-be59-9f70677421dc\n",
      "Polling for result for task...\n"
     ]
    },
    {
     "name": "stderr",
     "output_type": "stream",
     "text": [
      "Processing script entries:  93%|█████████▎| 14/15 [38:11<02:57, 177.91s/it]"
     ]
    },
    {
     "name": "stdout",
     "output_type": "stream",
     "text": [
      "Streamed audio total size: 1051726 bytes\n",
      "Task created:  891a759c-9e42-43ae-9a2f-397b75d8e484\n",
      "Polling for result for task...\n"
     ]
    },
    {
     "name": "stderr",
     "output_type": "stream",
     "text": [
      "Processing script entries: 100%|██████████| 15/15 [41:13<00:00, 164.93s/it]"
     ]
    },
    {
     "name": "stdout",
     "output_type": "stream",
     "text": [
      "Streamed audio total size: 944718 bytes\n",
      "Joined 15 audio segments\n"
     ]
    },
    {
     "name": "stderr",
     "output_type": "stream",
     "text": [
      "\n"
     ]
    }
   ],
   "source": [
    "my_audio = fantasy_ficast.to_podcast(ignore_errors=True)\n",
    "len(my_audio)"
   ]
  },
  {
   "cell_type": "code",
   "execution_count": 39,
   "metadata": {},
   "outputs": [],
   "source": [
    "# save audio\n",
    "from datetime import datetime\n",
    "# fantasy_ficast.save_podcast(\n",
    "#   \"ficast-outputs/\", save_segments=True)\n",
    "# or\n",
    "from ficast.dialogue.utils import save_bytes_to_wav\n",
    "save_bytes_to_wav(my_audio, f\"ficast-outputs/samples/podcasts/{datetime.now()}.wav\")\n",
    "# with open(fn, 'wb') as file:\n",
    "#   file.write(my_audio)"
   ]
  },
  {
   "cell_type": "code",
   "execution_count": null,
   "metadata": {},
   "outputs": [],
   "source": [
    "# play audio\n",
    "from elevenlabs import play\n",
    "play(bytes(my_audio, 'latin-1'))"
   ]
  }
 ],
 "metadata": {
  "kernelspec": {
   "display_name": "dl",
   "language": "python",
   "name": "python3"
  },
  "language_info": {
   "codemirror_mode": {
    "name": "ipython",
    "version": 3
   },
   "file_extension": ".py",
   "mimetype": "text/x-python",
   "name": "python",
   "nbconvert_exporter": "python",
   "pygments_lexer": "ipython3",
   "version": "3.11.9"
  },
  "orig_nbformat": 4
 },
 "nbformat": 4,
 "nbformat_minor": 2
}
