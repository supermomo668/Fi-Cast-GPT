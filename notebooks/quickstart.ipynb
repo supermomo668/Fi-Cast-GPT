{
 "cells": [
  {
   "cell_type": "code",
   "execution_count": 1,
   "metadata": {},
   "outputs": [
    {
     "data": {
      "text/plain": [
       "PosixPath('/home/mymm_psu_gmail_com/hackathon/FiCast-GPT')"
      ]
     },
     "execution_count": 1,
     "metadata": {},
     "output_type": "execute_result"
    }
   ],
   "source": [
    "import autogen\n",
    "import os, json\n",
    "from pathlib import Path\n",
    "# import matplotlib.pyplot as plt\n",
    "%load_ext autoreload\n",
    "%autoreload 2\n",
    "os.chdir(\"../\")\n",
    "Path.cwd()"
   ]
  },
  {
   "cell_type": "code",
   "execution_count": 2,
   "metadata": {},
   "outputs": [
    {
     "data": {
      "text/plain": [
       "True"
      ]
     },
     "execution_count": 2,
     "metadata": {},
     "output_type": "execute_result"
    }
   ],
   "source": [
    "#export environment variables (APIs), as in .example.EnvironmentError\n",
    "from dotenv import load_dotenv\n",
    "load_dotenv()"
   ]
  },
  {
   "cell_type": "code",
   "execution_count": 3,
   "metadata": {},
   "outputs": [
    {
     "name": "stderr",
     "output_type": "stream",
     "text": [
      "/home/mymm_psu_gmail_com/hackathon/FiCast-GPT/ficast/character/config.py:8: UserWarning: \n",
      "The version_base parameter is not specified.\n",
      "Please specify a compatability version level, or None.\n",
      "Will assume defaults for version 1.1\n",
      "  with initialize(config_path=\"../../conf/dialogue\"):\n",
      "/home/mymm_psu_gmail_com/miniconda3/envs/ficast/lib/python3.11/site-packages/hydra/_internal/defaults_list.py:251: UserWarning: In 'default': Defaults list is missing `_self_`. See https://hydra.cc/docs/1.2/upgrades/1.0_to_1.1/default_composition_order for more information\n",
      "  warnings.warn(msg, UserWarning)\n",
      "USER_AGENT environment variable not set, consider setting it to identify your requests.\n",
      "/home/mymm_psu_gmail_com/hackathon/FiCast-GPT/ficast/conversation/config.py:8: UserWarning: \n",
      "The version_base parameter is not specified.\n",
      "Please specify a compatability version level, or None.\n",
      "Will assume defaults for version 1.1\n",
      "  with initialize(config_path=\"../../conf/dialogue\"):\n",
      "/home/mymm_psu_gmail_com/miniconda3/envs/ficast/lib/python3.11/site-packages/hydra/_internal/defaults_list.py:251: UserWarning: In 'default': Defaults list is missing `_self_`. See https://hydra.cc/docs/1.2/upgrades/1.0_to_1.1/default_composition_order for more information\n",
      "  warnings.warn(msg, UserWarning)\n"
     ]
    }
   ],
   "source": [
    "from ficast.character.podcast import Podcaster\n",
    "from ficast.conversation.podcast import Podcast"
   ]
  },
  {
   "cell_type": "code",
   "execution_count": 4,
   "metadata": {},
   "outputs": [],
   "source": [
    "my_podcast = Podcast(\n",
    "  topic=\"health & longevity\", \n",
    "  n_rounds=20, \n",
    ")"
   ]
  },
  {
   "cell_type": "code",
   "execution_count": 5,
   "metadata": {},
   "outputs": [
    {
     "name": "stderr",
     "output_type": "stream",
     "text": [
      "/home/mymm_psu_gmail_com/hackathon/FiCast-GPT/ficast/character/podcast.py:52: UserWarning: Gender not specified for Joe Rogan, assigned gender for Joe Rogan as male\n",
      "  warnings.warn(f\"Gender not specified for {name}, assigned gender for {name} as {self.gender}\")\n",
      "/home/mymm_psu_gmail_com/hackathon/FiCast-GPT/ficast/character/podcast.py:52: UserWarning: Gender not specified for David Sinclair, assigned gender for David Sinclair as male\n",
      "  warnings.warn(f\"Gender not specified for {name}, assigned gender for {name} as {self.gender}\")\n"
     ]
    }
   ],
   "source": [
    "joe_rogan = Podcaster(\n",
    "  name=\"Joe Rogan\", \n",
    "  description=\"Joe Rogan is a funny and popular podcast host\",\n",
    "  model=\"gpt-3.5-turbo\",\n",
    "  role=\"host\"\n",
    ")\n",
    "david_sinclair = Podcaster(\n",
    "  name=\"David Sinclair\",\n",
    "  description=\"David Sinclair is a Harvard Medical Expert\",\n",
    "  model=\"gpt-3.5-turbo\"\n",
    ")"
   ]
  },
  {
   "cell_type": "code",
   "execution_count": 6,
   "metadata": {},
   "outputs": [],
   "source": [
    "my_podcast.add([joe_rogan, david_sinclair])"
   ]
  },
  {
   "cell_type": "code",
   "execution_count": 7,
   "metadata": {},
   "outputs": [
    {
     "data": {
      "text/plain": [
       "True"
      ]
     },
     "execution_count": 7,
     "metadata": {},
     "output_type": "execute_result"
    }
   ],
   "source": [
    "my_podcast.n_participants == 2"
   ]
  },
  {
   "cell_type": "code",
   "execution_count": 8,
   "metadata": {},
   "outputs": [
    {
     "name": "stderr",
     "output_type": "stream",
     "text": [
      "/home/mymm_psu_gmail_com/miniconda3/envs/ficast/lib/python3.11/site-packages/langchain_core/_api/deprecation.py:139: LangChainDeprecationWarning: The class `LLMChain` was deprecated in LangChain 0.1.17 and will be removed in 1.0. Use RunnableSequence, e.g., `prompt | llm` instead.\n",
      "  warn_deprecated(\n"
     ]
    },
    {
     "name": "stdout",
     "output_type": "stream",
     "text": [
      "\u001b[33minit\u001b[0m (to chat_manager):\n",
      "\n",
      "You are going to prepare the host for a podcast among: Joe Rogan,David Sinclair in a real-life conversation about health & longevity for as long as 10 minutes at an estimate rate of 120 words per minute.\n",
      "\n",
      "--------------------------------------------------------------------------------\n",
      "\u001b[32m\n",
      "Next speaker: research_coder\n",
      "\u001b[0m\n",
      "\u001b[33mresearch_coder\u001b[0m (to chat_manager):\n",
      "\n",
      "```python\n",
      "import requests\n",
      "from bs4 import BeautifulSoup\n",
      "\n",
      "def get_web_context(guest_name):\n",
      "    \"\"\"Fetches relevant web context for a given guest name.\"\"\"\n",
      "    search_query = f\"{guest_name} health longevity\"\n",
      "    url = f\"https://www.google.com/search?q={search_query}\"\n",
      "\n",
      "    try:\n",
      "        response = requests.get(url, headers={'User-Agent': 'Mozilla/5.0'})\n",
      "        response.raise_for_status()\n",
      "        soup = BeautifulSoup(response.content, 'html.parser')\n",
      "\n",
      "        # Extract snippets from search results\n",
      "        snippets = [meta.get('content') for meta in soup.find_all('meta', {'name': 'description'})]\n",
      "        relevant_snippets = [snippet for snippet in snippets if snippet and any(keyword in snippet for keyword in [\"health\", \"longevity\"])]\n",
      "\n",
      "        # Prepare context string\n",
      "        context = f\"Here's some context on {guest_name} and their work on health and longevity:\\n\\n\"\n",
      "        context += \"\\n\\n\".join(relevant_snippets[:3]) # Limit to 3 snippets\n",
      "\n",
      "        return context\n",
      "\n",
      "    except requests.exceptions.RequestException as e:\n",
      "        return f\"Error fetching web context: {e}\"\n",
      "\n",
      "guest_list = [\"Joe Rogan\", \"David Sinclair\"]\n",
      "for guest in guest_list:\n",
      "    context = get_web_context(guest)\n",
      "    print(f\"## Context for {guest}:\\n{context}\\n\\n\")\n",
      "```\n",
      "\n",
      "--------------------------------------------------------------------------------\n",
      "\u001b[32m\n",
      "Next speaker: executor\n",
      "\u001b[0m\n",
      "\u001b[33mexecutor\u001b[0m (to chat_manager):\n",
      "\n",
      "## Context for Joe Rogan:\n",
      "Here's some context on Joe Rogan and their work on health and longevity:\n",
      "\n",
      "- **Joe Rogan** is a stand-up comedian, mixed martial arts color commentator, and podcast host. He is known for hosting The Joe Rogan Experience, a long-form conversation with guests that has featured a variety of guests, including scientists, athletes, and entertainers.\n",
      "- **Joe Rogan** has been vocal about his interest in **health** and **longevity**, and he has interviewed a number of experts on these topics on his podcast, including Dr. Rhonda Patrick, Dr. David Sinclair, and Dr. Andrew Huberman. Rogan himself follows a strict diet and exercise regimen, and he has experimented with a variety of supplements and biohacking techniques.\n",
      "- **Joe Rogan** frequently discusses **health**, fitness, diet, and **longevity** on his podcast, \"The Joe Rogan Experience.\" He has interviewed numerous experts in these fields and is known for his own interest in biohacking and optimizing well-being.\n",
      "\n",
      "\n",
      "## Context for David Sinclair:\n",
      "Here's some context on David Sinclair and their work on health and longevity:\n",
      "\n",
      "- **David A. Sinclair**, Ph.D., AO is an Australian biologist and Professor of Genetics at Harvard Medical School and co-director of the Paul F. Glenn Center for Biology of Aging Research. He is known for his research on aging and has been featured in Time magazine's list of the 100 most influential people in the world.\n",
      "- **David Sinclair** is a leading researcher in the field of aging and **longevity**. He is known for his work on sirtuins, a class of proteins that play a role in aging, and he has written extensively about the science of aging and the potential for extending human lifespan.\n",
      "- **David Sinclair** is a geneticist and professor at Harvard Medical School who is known for his research on the biology of aging. He has authored a book titled \"Lifespan: Why We Age and Why We Don't Have To,\" where he discusses his research and insights on **longevity**.\n",
      "\n",
      "\n",
      "--------------------------------------------------------------------------------\n",
      "\u001b[32m\n",
      "Next speaker: informer\n",
      "\u001b[0m\n",
      "\u001b[33minformer\u001b[0m (to chat_manager):\n",
      "\n",
      "## Podcast Host Briefing: Joe Rogan & David Sinclair\n",
      "\n",
      "**Estimated Conversation Length:** 10 minutes\n",
      "**Topic:** Health & Longevity\n",
      "\n",
      "**Joe Rogan:**\n",
      "\n",
      "* **Known For:** Stand-up comedian, UFC commentator, and host of \"The Joe Rogan Experience\" - one of the world's most popular podcasts.\n",
      "* **Personality:**  Inquisitive, outspoken, and often humorous. Known for his long-form interviews where he delves deep into a variety of subjects.\n",
      "* **Health & Longevity Angle:**  Openly discusses his interest in biohacking, fitness, and longevity. Experiments with various diets, supplements (like Alpha Brain), and exercise regimens.  \n",
      "* **Potential Talking Points:** His personal experiences with different health practices, his thoughts on the future of longevity, how his views on health have evolved.\n",
      "\n",
      "**David Sinclair:**\n",
      "\n",
      "* **Known For:**  Leading geneticist and Professor of Genetics at Harvard Medical School.  Author of the best-selling book \"Lifespan: Why We Age—and Why We Don't Have To.\"\n",
      "* **Personality:**  Passionate science communicator, known for explaining complex research in an accessible way.\n",
      "* **Health & Longevity Angle:**  A pioneer in aging research, particularly known for his work on sirtuins and their potential to slow the aging process.\n",
      "* **Potential Talking Points:**  His latest research findings, the ethical considerations of extending lifespan, practical advice for healthy aging.\n",
      "\n",
      "**Conversation Starters:**\n",
      "\n",
      "* Joe, you've had David on your podcast before. What keeps you coming back to these conversations about health and longevity?\n",
      "* David, how do you feel about the increasing public interest in biohacking and longevity science, which Joe is a part of?\n",
      "* Are there any specific health practices or technologies you both agree or disagree on?\n",
      "\n",
      "**Note for the Host:**\n",
      "\n",
      "Expect a lively and engaging conversation. Joe will likely approach the topic with curiosity and humor, while David will provide the scientific grounding. Encourage discussion around the accessibility of these concepts for the average listener. \n",
      "\n",
      "\n",
      "--------------------------------------------------------------------------------\n",
      "\u001b[32m\n",
      "Next speaker: Joe Rogan\n",
      "\u001b[0m\n",
      "\u001b[33mJoe Rogan\u001b[0m (to chat_manager):\n",
      "\n",
      "```json\n",
      "{\n",
      "  \"speaker\": {\n",
      "    \"name\": \"Joe Rogan\",\n",
      "    \"description\": \"Joe Rogan, as himself\"\n",
      "  },\n",
      "  \"dialogue\": \"So David, we've talked about all this crazy aging stuff before, what gets you fired up about this stuff still?  What's got you freaking out excited about the future of all this?\",\n",
      "  \"inner_thought\": \"Alright, round two with David! I've been geeking out on all the longevity stuff even more since we last talked, especially NAD+. Hope I don't go full fanboy on him, gotta keep it cool, Rogan.\"\n",
      "}\n",
      "```\n",
      "\n",
      "--------------------------------------------------------------------------------\n",
      "\u001b[32m\n",
      "Next speaker: David Sinclair\n",
      "\u001b[0m\n",
      "\u001b[33mDavid Sinclair\u001b[0m (to chat_manager):\n",
      "\n",
      "```json\n",
      "{\n",
      "  \"speaker\": {\n",
      "    \"name\": \"David Sinclair\",\n",
      "    \"description\": \"Harvard Genetics Professor, Scientist\"\n",
      "  },\n",
      "  \"dialogue\": \"Joe, it's like we're staring at the instruction manual for life itself, but it's written in this crazy code. We're just starting to crack it, and what we're finding is blowing my mind.  The potential to extend our healthspan, not just lifespan, that's what really lights me up.\",\n",
      "  \"inner_thought\": \"Joe seems even more into this than last time. Gotta make sure I keep it grounded, explain the science clearly, but also convey the sheer possibility of it all.\"\n",
      "}\n",
      "```\n",
      "\n",
      "--------------------------------------------------------------------------------\n",
      "\u001b[32m\n",
      "Next speaker: Joe Rogan\n",
      "\u001b[0m\n",
      "\u001b[33mJoe Rogan\u001b[0m (to chat_manager):\n",
      "\n",
      "```json\n",
      "{\n",
      "  \"speaker\": {\n",
      "    \"name\": \"Joe Rogan\",\n",
      "    \"description\": \"Joe Rogan, as himself\"\n",
      "  },\n",
      "  \"dialogue\": \"Dude, I've been saying this!  It's not about living to 200 as a decrepit skeleton, it's about feeling good, being able to surf and train and hang with my kids when I'm 80, 90, maybe even 100.  You think that's really possible, man?  Like, no BS?\",\n",
      "  \"inner_thought\": \"Please tell me this is actually possible. I'm picturing myself at 90, still hitting the sauna and crushing podcasts. Man, that would be epic.\"\n",
      "}\n",
      "```\n",
      "\n",
      "--------------------------------------------------------------------------------\n",
      "\u001b[32m\n",
      "Next speaker: David Sinclair\n",
      "\u001b[0m\n",
      "\u001b[33mDavid Sinclair\u001b[0m (to chat_manager):\n",
      "\n",
      "```json\n",
      "{\n",
      "  \"speaker\": {\n",
      "    \"name\": \"David Sinclair\",\n",
      "    \"description\": \"Harvard Genetics Professor, Scientist\"\n",
      "  },\n",
      "  \"dialogue\": \"Joe, I don't deal in BS, I deal in science. And the science is telling us that what we used to think of as inevitable aging, it's not some fixed clock. It's a process, and we're figuring out how to influence that process.  So yeah, I think what you're talking about, it's not just possible, it's increasingly probable.\",\n",
      "  \"inner_thought\": \"He's got that gleam in his eye, that hunger to believe it. Good. It's that passion that drives progress. But I need to keep him grounded, remind him there are no guarantees...yet.\"\n",
      "}\n",
      "```\n",
      "\n",
      "--------------------------------------------------------------------------------\n",
      "\u001b[32m\n",
      "Next speaker: Joe Rogan\n",
      "\u001b[0m\n",
      "\u001b[33mJoe Rogan\u001b[0m (to chat_manager):\n",
      "\n",
      "```json\n",
      "{\n",
      "  \"speaker\": {\n",
      "    \"name\": \"Joe Rogan\",\n",
      "    \"description\": \"Joe Rogan, as himself\"\n",
      "  },\n",
      "  \"dialogue\": \"Alright, so break it down for me, and for everyone listening who's not a scientist. What are the big things on the horizon, the stuff that has you most fired up?  What's the cutting edge we need to be wrapping our heads around?\",\n",
      "  \"inner_thought\": \"Time to go full Rogan and get into the weeds on this. I want the details, the mechanisms, the why behind it all. This is where it gets really interesting.\"\n",
      "}\n",
      "```\n",
      "\n",
      "--------------------------------------------------------------------------------\n",
      "\u001b[32m\n",
      "Next speaker: David Sinclair\n",
      "\u001b[0m\n",
      "\u001b[33mDavid Sinclair\u001b[0m (to chat_manager):\n",
      "\n",
      "```json\n",
      "{\n",
      "  \"speaker\": {\n",
      "    \"name\": \"David Sinclair\",\n",
      "    \"description\": \"Harvard Genetics Professor, Scientist\"\n",
      "  },\n",
      "  \"dialogue\": \"Okay, Joe, picture this: our cells are like these amazing little factories, right?  But over time, the instructions get blurry, mistakes happen. That's aging in a nutshell. But here's the cool part, we're finding ways to sharpen those instructions again.  Things like activating sirtuins, these 'longevity genes,' or reprogramming cells with something like Yamanaka factors. It's like hitting the reset button.\",\n",
      "  \"inner_thought\": \"Got to keep it engaging for his audience. Analogies, visuals... Hit them with the 'why' before the hardcore 'how'. Joe's on board, now to bring along everyone else listening.\"\n",
      "}\n",
      "```\n",
      "\n",
      "--------------------------------------------------------------------------------\n",
      "\u001b[32m\n",
      "Next speaker: Joe Rogan\n",
      "\u001b[0m\n",
      "\u001b[33mJoe Rogan\u001b[0m (to chat_manager):\n",
      "\n",
      "```json\n",
      "{\n",
      "  \"speaker\": {\n",
      "    \"name\": \"Joe Rogan\",\n",
      "    \"description\": \"Joe Rogan, as himself\"\n",
      "  },\n",
      "  \"dialogue\": \"Hold up, Yamanaka factors?  We're talking about turning old cells into young cells, like Benjamin Button stuff?  Is that what you're saying?\",\n",
      "  \"inner_thought\": \"Whoa, this is some next-level stuff.  Yamanaka factors? Sounds like something out of a sci-fi movie. But if it's real... damn, this changes everything.\"\n",
      "}\n",
      "```\n",
      "\n",
      "--------------------------------------------------------------------------------\n",
      "\u001b[32m\n",
      "Next speaker: David Sinclair\n",
      "\u001b[0m\n",
      "\u001b[33mDavid Sinclair\u001b[0m (to chat_manager):\n",
      "\n",
      "```json\n",
      "{\n",
      "  \"speaker\": {\n",
      "    \"name\": \"David Sinclair\",\n",
      "    \"description\": \"Harvard Genetics Professor, Scientist\"\n",
      "  },\n",
      "  \"dialogue\": \"It sounds like science fiction, but it's real science, Joe.  Shinya Yamanaka, he figured out you can actually reprogram cells back to a younger state. It's like turning back the clock built into our cells. Now, we're not injecting people with this stuff yet, it's early, but the implications are HUGE.\",\n",
      "  \"inner_thought\": \"He's picked up on it, good. Yamanaka factors are mind-blowing, gotta tread carefully, excitement's good, hype isn't.  Emphasize it's real but early days.\"\n",
      "}\n",
      "```\n",
      "\n",
      "--------------------------------------------------------------------------------\n",
      "\u001b[32m\n",
      "Next speaker: Joe Rogan\n",
      "\u001b[0m\n",
      "\u001b[33mJoe Rogan\u001b[0m (to chat_manager):\n",
      "\n",
      "```json\n",
      "{\n",
      "  \"speaker\": {\n",
      "    \"name\": \"Joe Rogan\",\n",
      "    \"description\": \"Joe Rogan, as himself\"\n",
      "  },\n",
      "  \"dialogue\": \"Huge is an understatement, dude.  So, if this works, and obviously it's still a big 'if', but if it does, what does that even look like?  Are we talking about people living to be 200 years old? 500? What's the ceiling here?\",\n",
      "  \"inner_thought\": \"Okay, now my brain is officially blown.  I gotta try and wrap my head around this.  We're talking about potentially changing the entire game of life and death here.  This is some serious stuff.\"\n",
      "}\n",
      "```\n",
      "\n",
      "--------------------------------------------------------------------------------\n",
      "\u001b[32m\n",
      "Next speaker: David Sinclair\n",
      "\u001b[0m\n",
      "\u001b[33mDavid Sinclair\u001b[0m (to chat_manager):\n",
      "\n",
      "```json\n",
      "{\n",
      "  \"speaker\": {\n",
      "    \"name\": \"David Sinclair\",\n",
      "    \"description\": \"Harvard Genetics Professor, Scientist\"\n",
      "  },\n",
      "  \"dialogue\": \"Joe, that's the million-dollar question, isn't it?  Honestly, we don't know the ceiling yet.  But it's not just about how long, it's about how WELL we live those years. Imagine if 80 or 90 became the new 50, not in terms of looks necessarily, but in terms of vitality, energy, health. That's the goal.\",\n",
      "  \"inner_thought\": \"Here we go, into the longevity singularity. Gotta steer carefully. Hope is good, outlandish promises aren't.  Focus on healthspan, not just lifespan.\"\n",
      "}\n",
      "```\n",
      "\n",
      "--------------------------------------------------------------------------------\n",
      "\u001b[32m\n",
      "Next speaker: Joe Rogan\n",
      "\u001b[0m\n",
      "\u001b[33mJoe Rogan\u001b[0m (to chat_manager):\n",
      "\n",
      "```json\n",
      "{\n",
      "  \"speaker\": {\n",
      "    \"name\": \"Joe Rogan\",\n",
      "    \"description\": \"Joe Rogan, as himself\"\n",
      "  },\n",
      "  \"dialogue\": \"Okay, so how do we get there?  Let's say I'm listening to this, and I'm like everyone else, I don't want to get old, I want to feel good for as long as possible.  What can people actually DO right now while all this amazing science is developing?\",\n",
      "  \"inner_thought\": \"Alright, time to bring it back down to earth. My listeners are smart, but they want practical advice, too.  Hit them with the actionable stuff, David!\"\n",
      "}\n",
      "```\n",
      "\n",
      "--------------------------------------------------------------------------------\n",
      "\u001b[32m\n",
      "Next speaker: David Sinclair\n",
      "\u001b[0m\n",
      "\u001b[33mDavid Sinclair\u001b[0m (to chat_manager):\n",
      "\n",
      "```json\n",
      "{\n",
      "  \"speaker\": {\n",
      "    \"name\": \"David Sinclair\",\n",
      "    \"description\": \"Harvard Genetics Professor, Scientist\"\n",
      "  },\n",
      "  \"dialogue\": \"You want the good news? A lot of this isn't even that complicated, Joe. We're talking about the basics, but taking them seriously.  Eating a healthy diet, mostly plants, not overdoing it.  Exercise, but not just pounding weights, mix it up.  Get enough sleep, manage stress, these things matter. \",\n",
      "  \"inner_thought\": \"Time for the lifestyle medicine gospel. People want the magic pill, but the basics are still where it's at. Emphasize sustainability, it's a marathon, not a sprint.\"\n",
      "}\n",
      "```\n",
      "\n",
      "--------------------------------------------------------------------------------\n",
      "\u001b[32m\n",
      "Next speaker: Joe Rogan\n",
      "\u001b[0m\n",
      "\u001b[33mJoe Rogan\u001b[0m (to chat_manager):\n",
      "\n",
      "```json\n",
      "{\n",
      "  \"speaker\": {\n",
      "    \"name\": \"Joe Rogan\",\n",
      "    \"description\": \"Joe Rogan, as himself\"\n",
      "  },\n",
      "  \"dialogue\": \"See, I'm with you on all that.  I'm all about the sauna, cold plunges, eating clean.  But you know me, I like to push the limits.  What about the supplements, man?  NR, Metformin, everyone's asking about this stuff.  What's your take?\",\n",
      "  \"inner_thought\": \"Alright, time to get into the nitty-gritty.  My people want the specifics, the biohacks, the stuff they can try *today*.\" \n",
      "}\n",
      "```\n",
      "\n",
      "--------------------------------------------------------------------------------\n",
      "\u001b[32m\n",
      "Next speaker: David Sinclair\n",
      "\u001b[0m\n",
      "\u001b[33mDavid Sinclair\u001b[0m (to chat_manager):\n",
      "\n",
      "```json\n",
      "{\n",
      "  \"speaker\": {\n",
      "    \"name\": \"David Sinclair\",\n",
      "    \"description\": \"Harvard Genetics Professor, Scientist\"\n",
      "  },\n",
      "  \"dialogue\": \"Okay, Joe, but you know I have to say it: I'm a scientist, not a doctor, so this isn't medical advice, right? Now, with that said, there's some promising stuff out there.  I've talked about my own regimen, things like NMN, resveratrol, metformin... but the key is, these aren't magic bullets. They're tools, and you gotta use them responsibly, ideally with a doctor's guidance.\",\n",
      "  \"inner_thought\": \"Here comes the supplement minefield. Gotta be careful, Joe's audience is huge, responsibility weighs heavy.  Stress safety first, research over blind enthusiasm.\"\n",
      "}\n",
      "```\n",
      "\n",
      "--------------------------------------------------------------------------------\n",
      "\u001b[32m\n",
      "Next speaker: Joe Rogan\n",
      "\u001b[0m\n",
      "\u001b[33mJoe Rogan\u001b[0m (to chat_manager):\n",
      "\n",
      "```json\n",
      "{\n",
      "  \"speaker\": {\n",
      "    \"name\": \"Joe Rogan\",\n",
      "    \"description\": \"Joe Rogan, as himself\"\n",
      "  },\n",
      "  \"dialogue\": \"Right on, always better to be safe than sorry. And we'll make sure to put all the relevant links and studies in the show notes for everyone listening.  But for me, the big takeaway here is, we're on the cusp of something incredible, real paradigm-shifting stuff.  Am I right?\",\n",
      "  \"inner_thought\": \"Man, I gotta have David back on when some of this stuff gets closer to reality. We're barely scratching the surface here. This conversation is just the beginning.\"\n",
      "}\n",
      "```\n",
      "\n",
      "--------------------------------------------------------------------------------\n",
      "\u001b[32m\n",
      "Next speaker: script_parser\n",
      "\u001b[0m\n",
      "\u001b[33mscript_parser\u001b[0m (to chat_manager):\n",
      "\n",
      "```json\n",
      "{\"title\": \"The Joe Rogan Experience: Health & Longevity\", \"abstract\": \"Joe Rogan sits down with renowned geneticist, Dr. David Sinclair, to explore the latest advancements in longevity science and the quest for a longer, healthier lifespan.\", \"dialogues\": [{\"speaker\": {\"name\": \"Joe Rogan\", \"description\": \"Joe Rogan, as himself\"}, \"dialogue\": \"So David, we've talked about all this crazy aging stuff before, what gets you fired up about this stuff still?  What's got you freaking out excited about the future of all this?\", \"inner_thought\": \"Alright, round two with David! I've been geeking out on all the longevity stuff even more since we last talked, especially NAD+. Hope I don't go full fanboy on him, gotta keep it cool, Rogan.\"}, {\"speaker\": {\"name\": \"David Sinclair\", \"description\": \"Harvard Genetics Professor, Scientist\"}, \"dialogue\": \"Joe, it's like we're staring at the instruction manual for life itself, but it's written in this crazy code. We're just starting to crack it, and what we're finding is blowing my mind.  The potential to extend our healthspan, not just lifespan, that's what really lights me up.\", \"inner_thought\": \"Joe seems even more into this than last time. Gotta make sure I keep it grounded, explain the science clearly, but also convey the sheer possibility of it all.\"}, {\"speaker\": {\"name\": \"Joe Rogan\", \"description\": \"Joe Rogan, as himself\"}, \"dialogue\": \"Dude, I've been saying this!  It's not about living to 200 as a decrepit skeleton, it's about feeling good, being able to surf and train and hang with my kids when I'm 80, 90, maybe even 100.  You think that's really possible, man?  Like, no BS?\", \"inner_thought\": \"Please tell me this is actually possible. I'm picturing myself at 90, still hitting the sauna and crushing podcasts. Man, that would be epic.\"}, {\"speaker\": {\"name\": \"David Sinclair\", \"description\": \"Harvard Genetics Professor, Scientist\"}, \"dialogue\": \"Joe, I don't deal in BS, I deal in science. And the science is telling us that what we used to think of as inevitable aging, it's not some fixed clock. It's a process, and we're figuring out how to influence that process.  So yeah, I think what you're talking about, it's not just possible, it's increasingly probable.\", \"inner_thought\": \"He's got that gleam in his eye, that hunger to believe it. Good. It's that passion that drives progress. But I need to keep him grounded, remind him there are no guarantees...yet.\"}, {\"speaker\": {\"name\": \"Joe Rogan\", \"description\": \"Joe Rogan, as himself\"}, \"dialogue\": \"Alright, so break it down for me, and for everyone listening who's not a scientist. What are the big things on the horizon, the stuff that has you most fired up?  What's the cutting edge we need to be wrapping our heads around?\", \"inner_thought\": \"Time to go full Rogan and get into the weeds on this. I want the details, the mechanisms, the why behind it all. This is where it gets really interesting.\"}, {\"speaker\": {\"name\": \"David Sinclair\", \"description\": \"Harvard Genetics Professor, Scientist\"}, \"dialogue\": \"Okay, Joe, picture this: our cells are like these amazing little factories, right?  But over time, the instructions get blurry, mistakes happen. That's aging in a nutshell. But here's the cool part, we're finding ways to sharpen those instructions again.  Things like activating sirtuins, these 'longevity genes,' or reprogramming cells with something like Yamanaka factors. It's like hitting the reset button.\", \"inner_thought\": \"Got to keep it engaging for his audience. Analogies, visuals... Hit them with the 'why' before the hardcore 'how'. Joe's on board, now to bring along everyone else listening.\"}, {\"speaker\": {\"name\": \"Joe Rogan\", \"description\": \"Joe Rogan, as himself\"}, \"dialogue\": \"Hold up, Yamanaka factors?  We're talking about turning old cells into young cells, like Benjamin Button stuff?  Is that what you're saying?\", \"inner_thought\": \"Whoa, this is some next-level stuff.  Yamanaka factors? Sounds like something out of a sci-fi movie. But if it's real... damn, this changes everything.\"}, {\"speaker\": {\"name\": \"David Sinclair\", \"description\": \"Harvard Genetics Professor, Scientist\"}, \"dialogue\": \"It sounds like science fiction, but it's real science, Joe.  Shinya Yamanaka, he figured out you can actually reprogram cells back to a younger state. It's like turning back the clock built into our cells. Now, we're not injecting people with this stuff yet, it's early, but the implications are HUGE.\", \"inner_thought\": \"He's picked up on it, good. Yamanaka factors are mind-blowing, gotta tread carefully, excitement's good, hype isn't.  Emphasize it's real but early days.\"}, {\"speaker\": {\"name\": \"Joe Rogan\", \"description\": \"Joe Rogan, as himself\"}, \"dialogue\": \"Huge is an understatement, dude.  So, if this works, and obviously it's still a big 'if', but if it does, what does that even look like?  Are we talking about people living to be 200 years old? 500? What's the ceiling here?\", \"inner_thought\": \"Okay, now my brain is officially blown.  I gotta try and wrap my head around this.  We're talking about potentially changing the entire game of life and death here.  This is some serious stuff.\"}, {\"speaker\": {\"name\": \"David Sinclair\", \"description\": \"Harvard Genetics Professor, Scientist\"}, \"dialogue\": \"Joe, that's the million-dollar question, isn't it?  Honestly, we don't know the ceiling yet.  But it's not just about how long, it's about how WELL we live those years. Imagine if 80 or 90 became the new 50, not in terms of looks necessarily, but in terms of vitality, energy, health. That's the goal.\", \"inner_thought\": \"Here we go, into the longevity singularity. Gotta steer carefully. Hope is good, outlandish promises aren't.  Focus on healthspan, not just lifespan.\"}, {\"speaker\": {\"name\": \"Joe Rogan\", \"description\": \"Joe Rogan, as himself\"}, \"dialogue\": \"Okay, so how do we get there?  Let's say I'm listening to this, and I'm like everyone else, I don't want to get old, I want to feel good for as long as possible.  What can people actually DO right now while all this amazing science is developing?\", \"inner_thought\": \"Alright, time to bring it back down to earth. My listeners are smart, but they want practical advice, too.  Hit them with the actionable stuff, David!\"}, {\"speaker\": {\"name\": \"David Sinclair\", \"description\": \"Harvard Genetics Professor, Scientist\"}, \"dialogue\": \"You want the good news? A lot of this isn't even that complicated, Joe. We're talking about the basics, but taking them seriously.  Eating a healthy diet, mostly plants, not overdoing it.  Exercise, but not just pounding weights, mix it up.  Get enough sleep, manage stress, these things matter. \", \"inner_thought\": \"Time for the lifestyle medicine gospel. People want the magic pill, but the basics are still where it's at. Emphasize sustainability, it's a marathon, not a sprint.\"}, {\"speaker\": {\"name\": \"Joe Rogan\", \"description\": \"Joe Rogan, as himself\"}, \"dialogue\": \"See, I'm with you on all that.  I'm all about the sauna, cold plunges, eating clean.  But you know me, I like to push the limits.  What about the supplements, man?  NR, Metformin, everyone's asking about this stuff.  What's your take?\", \"inner_thought\": \"Alright, time to get into the nitty-gritty.  My people want the specifics, the biohacks, the stuff they can try *today*.\"}, {\"speaker\": {\"name\": \"David Sinclair\", \"description\": \"Harvard Genetics Professor, Scientist\"}, \"dialogue\": \"Okay, Joe, but you know I have to say it: I'm a scientist, not a doctor, so this isn't medical advice, right? Now, with that said, there's some promising stuff out there.  I've talked about my own regimen, things like NMN, resveratrol, metformin... but the key is, these aren't magic bullets. They're tools, and you gotta use them responsibly, ideally with a doctor's guidance.\", \"inner_thought\": \"Here comes the supplement minefield. Gotta be careful, Joe's audience is huge, responsibility weighs heavy.  Stress safety first, research over blind enthusiasm.\"}, {\"speaker\": {\"name\": \"Joe Rogan\", \"description\": \"Joe Rogan, as himself\"}, \"dialogue\": \"Right on, always better to be safe than sorry. And we'll make sure to put all the relevant links and studies in the show notes for everyone listening.  But for me, the big takeaway here is, we're on the cusp of something incredible, real paradigm-shifting stuff.  Am I right?\", \"inner_thought\": \"Man, I gotta have David back on when some of this stuff gets closer to reality. We're barely scratching the surface here. This conversation is just the beginning.\"}]}\n",
      "```\n",
      "\n",
      "--------------------------------------------------------------------------------\n"
     ]
    }
   ],
   "source": [
    "my_script = my_podcast.create()"
   ]
  },
  {
   "cell_type": "code",
   "execution_count": 9,
   "metadata": {},
   "outputs": [
    {
     "data": {
      "text/plain": [
       "[{'content': '```json\\n{\\n  \"speaker\": {\\n    \"name\": \"Joe Rogan\",\\n    \"description\": \"Joe Rogan, as himself\"\\n  },\\n  \"dialogue\": \"So David, we\\'ve talked about all this crazy aging stuff before, what gets you fired up about this stuff still?  What\\'s got you freaking out excited about the future of all this?\",\\n  \"inner_thought\": \"Alright, round two with David! I\\'ve been geeking out on all the longevity stuff even more since we last talked, especially NAD+. Hope I don\\'t go full fanboy on him, gotta keep it cool, Rogan.\"\\n}\\n```',\n",
       "  'name': 'Joe Rogan',\n",
       "  'role': 'user'},\n",
       " {'content': '```json\\n{\\n  \"speaker\": {\\n    \"name\": \"David Sinclair\",\\n    \"description\": \"Harvard Genetics Professor, Scientist\"\\n  },\\n  \"dialogue\": \"Joe, it\\'s like we\\'re staring at the instruction manual for life itself, but it\\'s written in this crazy code. We\\'re just starting to crack it, and what we\\'re finding is blowing my mind.  The potential to extend our healthspan, not just lifespan, that\\'s what really lights me up.\",\\n  \"inner_thought\": \"Joe seems even more into this than last time. Gotta make sure I keep it grounded, explain the science clearly, but also convey the sheer possibility of it all.\"\\n}\\n```',\n",
       "  'name': 'David Sinclair',\n",
       "  'role': 'user'},\n",
       " {'content': '```json\\n{\\n  \"speaker\": {\\n    \"name\": \"Joe Rogan\",\\n    \"description\": \"Joe Rogan, as himself\"\\n  },\\n  \"dialogue\": \"Dude, I\\'ve been saying this!  It\\'s not about living to 200 as a decrepit skeleton, it\\'s about feeling good, being able to surf and train and hang with my kids when I\\'m 80, 90, maybe even 100.  You think that\\'s really possible, man?  Like, no BS?\",\\n  \"inner_thought\": \"Please tell me this is actually possible. I\\'m picturing myself at 90, still hitting the sauna and crushing podcasts. Man, that would be epic.\"\\n}\\n```',\n",
       "  'name': 'Joe Rogan',\n",
       "  'role': 'user'},\n",
       " {'content': '```json\\n{\\n  \"speaker\": {\\n    \"name\": \"David Sinclair\",\\n    \"description\": \"Harvard Genetics Professor, Scientist\"\\n  },\\n  \"dialogue\": \"Joe, I don\\'t deal in BS, I deal in science. And the science is telling us that what we used to think of as inevitable aging, it\\'s not some fixed clock. It\\'s a process, and we\\'re figuring out how to influence that process.  So yeah, I think what you\\'re talking about, it\\'s not just possible, it\\'s increasingly probable.\",\\n  \"inner_thought\": \"He\\'s got that gleam in his eye, that hunger to believe it. Good. It\\'s that passion that drives progress. But I need to keep him grounded, remind him there are no guarantees...yet.\"\\n}\\n```',\n",
       "  'name': 'David Sinclair',\n",
       "  'role': 'user'},\n",
       " {'content': '```json\\n{\\n  \"speaker\": {\\n    \"name\": \"Joe Rogan\",\\n    \"description\": \"Joe Rogan, as himself\"\\n  },\\n  \"dialogue\": \"Alright, so break it down for me, and for everyone listening who\\'s not a scientist. What are the big things on the horizon, the stuff that has you most fired up?  What\\'s the cutting edge we need to be wrapping our heads around?\",\\n  \"inner_thought\": \"Time to go full Rogan and get into the weeds on this. I want the details, the mechanisms, the why behind it all. This is where it gets really interesting.\"\\n}\\n```',\n",
       "  'name': 'Joe Rogan',\n",
       "  'role': 'user'},\n",
       " {'content': '```json\\n{\\n  \"speaker\": {\\n    \"name\": \"David Sinclair\",\\n    \"description\": \"Harvard Genetics Professor, Scientist\"\\n  },\\n  \"dialogue\": \"Okay, Joe, picture this: our cells are like these amazing little factories, right?  But over time, the instructions get blurry, mistakes happen. That\\'s aging in a nutshell. But here\\'s the cool part, we\\'re finding ways to sharpen those instructions again.  Things like activating sirtuins, these \\'longevity genes,\\' or reprogramming cells with something like Yamanaka factors. It\\'s like hitting the reset button.\",\\n  \"inner_thought\": \"Got to keep it engaging for his audience. Analogies, visuals... Hit them with the \\'why\\' before the hardcore \\'how\\'. Joe\\'s on board, now to bring along everyone else listening.\"\\n}\\n```',\n",
       "  'name': 'David Sinclair',\n",
       "  'role': 'user'},\n",
       " {'content': '```json\\n{\\n  \"speaker\": {\\n    \"name\": \"Joe Rogan\",\\n    \"description\": \"Joe Rogan, as himself\"\\n  },\\n  \"dialogue\": \"Hold up, Yamanaka factors?  We\\'re talking about turning old cells into young cells, like Benjamin Button stuff?  Is that what you\\'re saying?\",\\n  \"inner_thought\": \"Whoa, this is some next-level stuff.  Yamanaka factors? Sounds like something out of a sci-fi movie. But if it\\'s real... damn, this changes everything.\"\\n}\\n```',\n",
       "  'name': 'Joe Rogan',\n",
       "  'role': 'user'},\n",
       " {'content': '```json\\n{\\n  \"speaker\": {\\n    \"name\": \"David Sinclair\",\\n    \"description\": \"Harvard Genetics Professor, Scientist\"\\n  },\\n  \"dialogue\": \"It sounds like science fiction, but it\\'s real science, Joe.  Shinya Yamanaka, he figured out you can actually reprogram cells back to a younger state. It\\'s like turning back the clock built into our cells. Now, we\\'re not injecting people with this stuff yet, it\\'s early, but the implications are HUGE.\",\\n  \"inner_thought\": \"He\\'s picked up on it, good. Yamanaka factors are mind-blowing, gotta tread carefully, excitement\\'s good, hype isn\\'t.  Emphasize it\\'s real but early days.\"\\n}\\n```',\n",
       "  'name': 'David Sinclair',\n",
       "  'role': 'user'},\n",
       " {'content': '```json\\n{\\n  \"speaker\": {\\n    \"name\": \"Joe Rogan\",\\n    \"description\": \"Joe Rogan, as himself\"\\n  },\\n  \"dialogue\": \"Huge is an understatement, dude.  So, if this works, and obviously it\\'s still a big \\'if\\', but if it does, what does that even look like?  Are we talking about people living to be 200 years old? 500? What\\'s the ceiling here?\",\\n  \"inner_thought\": \"Okay, now my brain is officially blown.  I gotta try and wrap my head around this.  We\\'re talking about potentially changing the entire game of life and death here.  This is some serious stuff.\"\\n}\\n```',\n",
       "  'name': 'Joe Rogan',\n",
       "  'role': 'user'},\n",
       " {'content': '```json\\n{\\n  \"speaker\": {\\n    \"name\": \"David Sinclair\",\\n    \"description\": \"Harvard Genetics Professor, Scientist\"\\n  },\\n  \"dialogue\": \"Joe, that\\'s the million-dollar question, isn\\'t it?  Honestly, we don\\'t know the ceiling yet.  But it\\'s not just about how long, it\\'s about how WELL we live those years. Imagine if 80 or 90 became the new 50, not in terms of looks necessarily, but in terms of vitality, energy, health. That\\'s the goal.\",\\n  \"inner_thought\": \"Here we go, into the longevity singularity. Gotta steer carefully. Hope is good, outlandish promises aren\\'t.  Focus on healthspan, not just lifespan.\"\\n}\\n```',\n",
       "  'name': 'David Sinclair',\n",
       "  'role': 'user'},\n",
       " {'content': '```json\\n{\\n  \"speaker\": {\\n    \"name\": \"Joe Rogan\",\\n    \"description\": \"Joe Rogan, as himself\"\\n  },\\n  \"dialogue\": \"Okay, so how do we get there?  Let\\'s say I\\'m listening to this, and I\\'m like everyone else, I don\\'t want to get old, I want to feel good for as long as possible.  What can people actually DO right now while all this amazing science is developing?\",\\n  \"inner_thought\": \"Alright, time to bring it back down to earth. My listeners are smart, but they want practical advice, too.  Hit them with the actionable stuff, David!\"\\n}\\n```',\n",
       "  'name': 'Joe Rogan',\n",
       "  'role': 'user'},\n",
       " {'content': '```json\\n{\\n  \"speaker\": {\\n    \"name\": \"David Sinclair\",\\n    \"description\": \"Harvard Genetics Professor, Scientist\"\\n  },\\n  \"dialogue\": \"You want the good news? A lot of this isn\\'t even that complicated, Joe. We\\'re talking about the basics, but taking them seriously.  Eating a healthy diet, mostly plants, not overdoing it.  Exercise, but not just pounding weights, mix it up.  Get enough sleep, manage stress, these things matter. \",\\n  \"inner_thought\": \"Time for the lifestyle medicine gospel. People want the magic pill, but the basics are still where it\\'s at. Emphasize sustainability, it\\'s a marathon, not a sprint.\"\\n}\\n```',\n",
       "  'name': 'David Sinclair',\n",
       "  'role': 'user'},\n",
       " {'content': '```json\\n{\\n  \"speaker\": {\\n    \"name\": \"Joe Rogan\",\\n    \"description\": \"Joe Rogan, as himself\"\\n  },\\n  \"dialogue\": \"See, I\\'m with you on all that.  I\\'m all about the sauna, cold plunges, eating clean.  But you know me, I like to push the limits.  What about the supplements, man?  NR, Metformin, everyone\\'s asking about this stuff.  What\\'s your take?\",\\n  \"inner_thought\": \"Alright, time to get into the nitty-gritty.  My people want the specifics, the biohacks, the stuff they can try *today*.\" \\n}\\n```',\n",
       "  'name': 'Joe Rogan',\n",
       "  'role': 'user'},\n",
       " {'content': '```json\\n{\\n  \"speaker\": {\\n    \"name\": \"David Sinclair\",\\n    \"description\": \"Harvard Genetics Professor, Scientist\"\\n  },\\n  \"dialogue\": \"Okay, Joe, but you know I have to say it: I\\'m a scientist, not a doctor, so this isn\\'t medical advice, right? Now, with that said, there\\'s some promising stuff out there.  I\\'ve talked about my own regimen, things like NMN, resveratrol, metformin... but the key is, these aren\\'t magic bullets. They\\'re tools, and you gotta use them responsibly, ideally with a doctor\\'s guidance.\",\\n  \"inner_thought\": \"Here comes the supplement minefield. Gotta be careful, Joe\\'s audience is huge, responsibility weighs heavy.  Stress safety first, research over blind enthusiasm.\"\\n}\\n```',\n",
       "  'name': 'David Sinclair',\n",
       "  'role': 'user'},\n",
       " {'content': '```json\\n{\\n  \"speaker\": {\\n    \"name\": \"Joe Rogan\",\\n    \"description\": \"Joe Rogan, as himself\"\\n  },\\n  \"dialogue\": \"Right on, always better to be safe than sorry. And we\\'ll make sure to put all the relevant links and studies in the show notes for everyone listening.  But for me, the big takeaway here is, we\\'re on the cusp of something incredible, real paradigm-shifting stuff.  Am I right?\",\\n  \"inner_thought\": \"Man, I gotta have David back on when some of this stuff gets closer to reality. We\\'re barely scratching the surface here. This conversation is just the beginning.\"\\n}\\n```',\n",
       "  'name': 'Joe Rogan',\n",
       "  'role': 'user'}]"
      ]
     },
     "execution_count": 9,
     "metadata": {},
     "output_type": "execute_result"
    }
   ],
   "source": [
    "# raw string script\n",
    "my_podcast.raw_script"
   ]
  },
  {
   "cell_type": "code",
   "execution_count": 10,
   "metadata": {},
   "outputs": [
    {
     "data": {
      "text/plain": [
       "[{'speaker': {'name': 'Joe Rogan', 'description': 'Joe Rogan, as himself'},\n",
       "  'dialogue': \"So David, we've talked about all this crazy aging stuff before, what gets you fired up about this stuff still?  What's got you freaking out excited about the future of all this?\",\n",
       "  'inner_thought': \"Alright, round two with David! I've been geeking out on all the longevity stuff even more since we last talked, especially NAD+. Hope I don't go full fanboy on him, gotta keep it cool, Rogan.\"},\n",
       " {'speaker': {'name': 'David Sinclair',\n",
       "   'description': 'Harvard Genetics Professor, Scientist'},\n",
       "  'dialogue': \"Joe, it's like we're staring at the instruction manual for life itself, but it's written in this crazy code. We're just starting to crack it, and what we're finding is blowing my mind.  The potential to extend our healthspan, not just lifespan, that's what really lights me up.\",\n",
       "  'inner_thought': 'Joe seems even more into this than last time. Gotta make sure I keep it grounded, explain the science clearly, but also convey the sheer possibility of it all.'},\n",
       " {'speaker': {'name': 'Joe Rogan', 'description': 'Joe Rogan, as himself'},\n",
       "  'dialogue': \"Dude, I've been saying this!  It's not about living to 200 as a decrepit skeleton, it's about feeling good, being able to surf and train and hang with my kids when I'm 80, 90, maybe even 100.  You think that's really possible, man?  Like, no BS?\",\n",
       "  'inner_thought': \"Please tell me this is actually possible. I'm picturing myself at 90, still hitting the sauna and crushing podcasts. Man, that would be epic.\"},\n",
       " {'speaker': {'name': 'David Sinclair',\n",
       "   'description': 'Harvard Genetics Professor, Scientist'},\n",
       "  'dialogue': \"Joe, I don't deal in BS, I deal in science. And the science is telling us that what we used to think of as inevitable aging, it's not some fixed clock. It's a process, and we're figuring out how to influence that process.  So yeah, I think what you're talking about, it's not just possible, it's increasingly probable.\",\n",
       "  'inner_thought': \"He's got that gleam in his eye, that hunger to believe it. Good. It's that passion that drives progress. But I need to keep him grounded, remind him there are no guarantees...yet.\"},\n",
       " {'speaker': {'name': 'Joe Rogan', 'description': 'Joe Rogan, as himself'},\n",
       "  'dialogue': \"Alright, so break it down for me, and for everyone listening who's not a scientist. What are the big things on the horizon, the stuff that has you most fired up?  What's the cutting edge we need to be wrapping our heads around?\",\n",
       "  'inner_thought': 'Time to go full Rogan and get into the weeds on this. I want the details, the mechanisms, the why behind it all. This is where it gets really interesting.'},\n",
       " {'speaker': {'name': 'David Sinclair',\n",
       "   'description': 'Harvard Genetics Professor, Scientist'},\n",
       "  'dialogue': \"Okay, Joe, picture this: our cells are like these amazing little factories, right?  But over time, the instructions get blurry, mistakes happen. That's aging in a nutshell. But here's the cool part, we're finding ways to sharpen those instructions again.  Things like activating sirtuins, these 'longevity genes,' or reprogramming cells with something like Yamanaka factors. It's like hitting the reset button.\",\n",
       "  'inner_thought': \"Got to keep it engaging for his audience. Analogies, visuals... Hit them with the 'why' before the hardcore 'how'. Joe's on board, now to bring along everyone else listening.\"},\n",
       " {'speaker': {'name': 'Joe Rogan', 'description': 'Joe Rogan, as himself'},\n",
       "  'dialogue': \"Hold up, Yamanaka factors?  We're talking about turning old cells into young cells, like Benjamin Button stuff?  Is that what you're saying?\",\n",
       "  'inner_thought': \"Whoa, this is some next-level stuff.  Yamanaka factors? Sounds like something out of a sci-fi movie. But if it's real... damn, this changes everything.\"},\n",
       " {'speaker': {'name': 'David Sinclair',\n",
       "   'description': 'Harvard Genetics Professor, Scientist'},\n",
       "  'dialogue': \"It sounds like science fiction, but it's real science, Joe.  Shinya Yamanaka, he figured out you can actually reprogram cells back to a younger state. It's like turning back the clock built into our cells. Now, we're not injecting people with this stuff yet, it's early, but the implications are HUGE.\",\n",
       "  'inner_thought': \"He's picked up on it, good. Yamanaka factors are mind-blowing, gotta tread carefully, excitement's good, hype isn't.  Emphasize it's real but early days.\"},\n",
       " {'speaker': {'name': 'Joe Rogan', 'description': 'Joe Rogan, as himself'},\n",
       "  'dialogue': \"Huge is an understatement, dude.  So, if this works, and obviously it's still a big 'if', but if it does, what does that even look like?  Are we talking about people living to be 200 years old? 500? What's the ceiling here?\",\n",
       "  'inner_thought': \"Okay, now my brain is officially blown.  I gotta try and wrap my head around this.  We're talking about potentially changing the entire game of life and death here.  This is some serious stuff.\"},\n",
       " {'speaker': {'name': 'David Sinclair',\n",
       "   'description': 'Harvard Genetics Professor, Scientist'},\n",
       "  'dialogue': \"Joe, that's the million-dollar question, isn't it?  Honestly, we don't know the ceiling yet.  But it's not just about how long, it's about how WELL we live those years. Imagine if 80 or 90 became the new 50, not in terms of looks necessarily, but in terms of vitality, energy, health. That's the goal.\",\n",
       "  'inner_thought': \"Here we go, into the longevity singularity. Gotta steer carefully. Hope is good, outlandish promises aren't.  Focus on healthspan, not just lifespan.\"},\n",
       " {'speaker': {'name': 'Joe Rogan', 'description': 'Joe Rogan, as himself'},\n",
       "  'dialogue': \"Okay, so how do we get there?  Let's say I'm listening to this, and I'm like everyone else, I don't want to get old, I want to feel good for as long as possible.  What can people actually DO right now while all this amazing science is developing?\",\n",
       "  'inner_thought': 'Alright, time to bring it back down to earth. My listeners are smart, but they want practical advice, too.  Hit them with the actionable stuff, David!'},\n",
       " {'speaker': {'name': 'David Sinclair',\n",
       "   'description': 'Harvard Genetics Professor, Scientist'},\n",
       "  'dialogue': \"You want the good news? A lot of this isn't even that complicated, Joe. We're talking about the basics, but taking them seriously.  Eating a healthy diet, mostly plants, not overdoing it.  Exercise, but not just pounding weights, mix it up.  Get enough sleep, manage stress, these things matter. \",\n",
       "  'inner_thought': \"Time for the lifestyle medicine gospel. People want the magic pill, but the basics are still where it's at. Emphasize sustainability, it's a marathon, not a sprint.\"},\n",
       " {'speaker': {'name': 'Joe Rogan', 'description': 'Joe Rogan, as himself'},\n",
       "  'dialogue': \"See, I'm with you on all that.  I'm all about the sauna, cold plunges, eating clean.  But you know me, I like to push the limits.  What about the supplements, man?  NR, Metformin, everyone's asking about this stuff.  What's your take?\",\n",
       "  'inner_thought': 'Alright, time to get into the nitty-gritty.  My people want the specifics, the biohacks, the stuff they can try *today*.'},\n",
       " {'speaker': {'name': 'David Sinclair',\n",
       "   'description': 'Harvard Genetics Professor, Scientist'},\n",
       "  'dialogue': \"Okay, Joe, but you know I have to say it: I'm a scientist, not a doctor, so this isn't medical advice, right? Now, with that said, there's some promising stuff out there.  I've talked about my own regimen, things like NMN, resveratrol, metformin... but the key is, these aren't magic bullets. They're tools, and you gotta use them responsibly, ideally with a doctor's guidance.\",\n",
       "  'inner_thought': \"Here comes the supplement minefield. Gotta be careful, Joe's audience is huge, responsibility weighs heavy.  Stress safety first, research over blind enthusiasm.\"},\n",
       " {'speaker': {'name': 'Joe Rogan', 'description': 'Joe Rogan, as himself'},\n",
       "  'dialogue': \"Right on, always better to be safe than sorry. And we'll make sure to put all the relevant links and studies in the show notes for everyone listening.  But for me, the big takeaway here is, we're on the cusp of something incredible, real paradigm-shifting stuff.  Am I right?\",\n",
       "  'inner_thought': \"Man, I gotta have David back on when some of this stuff gets closer to reality. We're barely scratching the surface here. This conversation is just the beginning.\"}]"
      ]
     },
     "execution_count": 10,
     "metadata": {},
     "output_type": "execute_result"
    }
   ],
   "source": [
    "# return chat history from script (warning: this part can fail due to the inconsistency of formatting that may result from individual dialogues from the LLMs)\n",
    "my_podcast.script\n",
    "# from ficast.conversation.utils import extract_json_code_block\n",
    "# extract_json_code_block(my_podcast.raw_script[0].get('content'))"
   ]
  },
  {
   "cell_type": "code",
   "execution_count": 11,
   "metadata": {},
   "outputs": [
    {
     "name": "stdout",
     "output_type": "stream",
     "text": [
      "dict_keys(['title', 'abstract', 'dialogues'])\n",
      "15\n",
      "{'speaker': {'name': 'Joe Rogan', 'description': 'Joe Rogan, as himself'}, 'dialogue': \"So David, we've talked about all this crazy aging stuff before, what gets you fired up about this stuff still?  What's got you freaking out excited about the future of all this?\", 'inner_thought': \"Alright, round two with David! I've been geeking out on all the longevity stuff even more since we last talked, especially NAD+. Hope I don't go full fanboy on him, gotta keep it cool, Rogan.\"}\n"
     ]
    }
   ],
   "source": [
    "# a json script parsed by `json_parser` agent\n",
    "# script structure\n",
    "print(my_podcast.json_script.keys())\n",
    "# length of conversation\n",
    "print(len(my_podcast.json_script.get('dialogues')))\n",
    "# dialogue structure\n",
    "print(my_podcast.json_script.get('dialogues')[0])"
   ]
  },
  {
   "cell_type": "code",
   "execution_count": 12,
   "metadata": {},
   "outputs": [
    {
     "name": "stdout",
     "output_type": "stream",
     "text": [
      "Script saved to ficast-outputs/samples/scripts/quickstart_sample_script.txt\n"
     ]
    }
   ],
   "source": [
    "my_podcast.save_script(\n",
    "  path=\"ficast-outputs/samples/scripts/quickstart_sample_script.txt\", option='human')"
   ]
  },
  {
   "cell_type": "markdown",
   "metadata": {},
   "source": [
    "## Assembling the Podcast Audio Dialogues"
   ]
  },
  {
   "cell_type": "code",
   "execution_count": 16,
   "metadata": {},
   "outputs": [
    {
     "name": "stdout",
     "output_type": "stream",
     "text": [
      "The autoreload extension is already loaded. To reload it, use:\n",
      "  %reload_ext autoreload\n"
     ]
    },
    {
     "ename": "ConnectionError",
     "evalue": "Ping check failed. The TTS service is not available.",
     "output_type": "error",
     "traceback": [
      "\u001b[0;31m---------------------------------------------------------------------------\u001b[0m",
      "\u001b[0;31mConnectionError\u001b[0m                           Traceback (most recent call last)",
      "Cell \u001b[0;32mIn[16], line 6\u001b[0m\n\u001b[1;32m      4\u001b[0m \u001b[38;5;28;01mfrom\u001b[39;00m \u001b[38;5;21;01mficast\u001b[39;00m\u001b[38;5;21;01m.\u001b[39;00m\u001b[38;5;21;01massembly\u001b[39;00m\u001b[38;5;21;01m.\u001b[39;00m\u001b[38;5;21;01mficast\u001b[39;00m \u001b[38;5;28;01mimport\u001b[39;00m FiCast\n\u001b[1;32m      5\u001b[0m \u001b[38;5;28;01mfrom\u001b[39;00m \u001b[38;5;21;01mficast\u001b[39;00m\u001b[38;5;21;01m.\u001b[39;00m\u001b[38;5;21;01mdialogue\u001b[39;00m\u001b[38;5;21;01m.\u001b[39;00m\u001b[38;5;21;01mspeech\u001b[39;00m \u001b[38;5;28;01mimport\u001b[39;00m DialogueSynthesis\n\u001b[0;32m----> 6\u001b[0m dialoguer \u001b[38;5;241m=\u001b[39m \u001b[43mDialogueSynthesis\u001b[49m\u001b[43m(\u001b[49m\n\u001b[1;32m      7\u001b[0m \u001b[43m  \u001b[49m\u001b[43mclient_type\u001b[49m\u001b[38;5;241;43m=\u001b[39;49m\u001b[38;5;124;43m\"\u001b[39;49m\u001b[38;5;124;43mapi\u001b[39;49m\u001b[38;5;124;43m\"\u001b[39;49m\u001b[43m,\u001b[49m\u001b[43m \u001b[49m\n\u001b[1;32m      8\u001b[0m \u001b[43m  \u001b[49m\u001b[43mbase_url\u001b[49m\u001b[38;5;241;43m=\u001b[39;49m\u001b[43mos\u001b[49m\u001b[38;5;241;43m.\u001b[39;49m\u001b[43mgetenv\u001b[49m\u001b[43m(\u001b[49m\u001b[38;5;124;43m\"\u001b[39;49m\u001b[38;5;124;43mTTS_API_BASE_URL\u001b[39;49m\u001b[38;5;124;43m\"\u001b[39;49m\u001b[43m)\u001b[49m\u001b[43m,\u001b[49m\n\u001b[1;32m      9\u001b[0m \u001b[43m  \u001b[49m\u001b[43mapi_key\u001b[49m\u001b[38;5;241;43m=\u001b[39;49m\u001b[43mos\u001b[49m\u001b[38;5;241;43m.\u001b[39;49m\u001b[43mgetenv\u001b[49m\u001b[43m(\u001b[49m\u001b[38;5;124;43m\"\u001b[39;49m\u001b[38;5;124;43mTTS_API_KEY\u001b[39;49m\u001b[38;5;124;43m\"\u001b[39;49m\u001b[43m)\u001b[49m\n\u001b[1;32m     10\u001b[0m \u001b[43m  \u001b[49m\u001b[43m)\u001b[49m\n\u001b[1;32m     11\u001b[0m fantasy_ficast \u001b[38;5;241m=\u001b[39m FiCast(\n\u001b[1;32m     12\u001b[0m   conversation\u001b[38;5;241m=\u001b[39mmy_podcast, dialogue_synthesizer\u001b[38;5;241m=\u001b[39mdialoguer)\n",
      "File \u001b[0;32m~/hackathon/FiCast-GPT/ficast/dialogue/speech.py:72\u001b[0m, in \u001b[0;36mDialogueSynthesis.__init__\u001b[0;34m(self, client_type, **kwargs)\u001b[0m\n\u001b[1;32m     71\u001b[0m \u001b[38;5;28;01mdef\u001b[39;00m \u001b[38;5;21m__init__\u001b[39m(\u001b[38;5;28mself\u001b[39m, client_type\u001b[38;5;241m=\u001b[39m\u001b[38;5;124m\"\u001b[39m\u001b[38;5;124melevenlabs\u001b[39m\u001b[38;5;124m\"\u001b[39m, \u001b[38;5;241m*\u001b[39m\u001b[38;5;241m*\u001b[39mkwargs):\n\u001b[0;32m---> 72\u001b[0m   \u001b[38;5;28;43msuper\u001b[39;49m\u001b[43m(\u001b[49m\u001b[43m)\u001b[49m\u001b[38;5;241;43m.\u001b[39;49m\u001b[38;5;21;43m__init__\u001b[39;49m\u001b[43m(\u001b[49m\u001b[43mclient_type\u001b[49m\u001b[38;5;241;43m=\u001b[39;49m\u001b[43mclient_type\u001b[49m\u001b[43m,\u001b[49m\u001b[43m \u001b[49m\u001b[38;5;241;43m*\u001b[39;49m\u001b[38;5;241;43m*\u001b[39;49m\u001b[43mkwargs\u001b[49m\u001b[43m)\u001b[49m\n",
      "File \u001b[0;32m~/hackathon/FiCast-GPT/ficast/dialogue/speech.py:27\u001b[0m, in \u001b[0;36mTextToSpeech.__init__\u001b[0;34m(self, client_type, **kwargs)\u001b[0m\n\u001b[1;32m     17\u001b[0m \u001b[38;5;250m\u001b[39m\u001b[38;5;124;03m\"\"\"\u001b[39;00m\n\u001b[1;32m     18\u001b[0m \u001b[38;5;124;03mInitializes the TextToSpeech object.\u001b[39;00m\n\u001b[1;32m     19\u001b[0m \n\u001b[0;32m   (...)\u001b[0m\n\u001b[1;32m     24\u001b[0m \u001b[38;5;124;03m    None\u001b[39;00m\n\u001b[1;32m     25\u001b[0m \u001b[38;5;124;03m\"\"\"\u001b[39;00m\n\u001b[1;32m     26\u001b[0m \u001b[38;5;66;03m#### Init TTS Client\u001b[39;00m\n\u001b[0;32m---> 27\u001b[0m \u001b[38;5;28mself\u001b[39m\u001b[38;5;241m.\u001b[39mclient \u001b[38;5;241m=\u001b[39m \u001b[43mtts_client_factory\u001b[49m\u001b[43m(\u001b[49m\u001b[43mclient_type\u001b[49m\u001b[43m,\u001b[49m\u001b[43m \u001b[49m\u001b[38;5;241;43m*\u001b[39;49m\u001b[38;5;241;43m*\u001b[39;49m\u001b[43mkwargs\u001b[49m\u001b[43m)\u001b[49m\n",
      "File \u001b[0;32m~/hackathon/FiCast-GPT/ficast/dialogue/clients.py:30\u001b[0m, in \u001b[0;36mtts_client_factory\u001b[0;34m(client_type, base_url, api_key)\u001b[0m\n\u001b[1;32m     28\u001b[0m     \u001b[38;5;28;01mif\u001b[39;00m base_url \u001b[38;5;129;01mis\u001b[39;00m \u001b[38;5;28;01mNone\u001b[39;00m:\n\u001b[1;32m     29\u001b[0m         \u001b[38;5;28;01mraise\u001b[39;00m \u001b[38;5;167;01mValueError\u001b[39;00m(\u001b[38;5;124m\"\u001b[39m\u001b[38;5;124mBase URL must be provided for FiCastTTS client\u001b[39m\u001b[38;5;124m\"\u001b[39m)\n\u001b[0;32m---> 30\u001b[0m     \u001b[38;5;28;01mreturn\u001b[39;00m \u001b[43mAPIClient\u001b[49m\u001b[43m(\u001b[49m\u001b[43mbase_url\u001b[49m\u001b[38;5;241;43m=\u001b[39;49m\u001b[43mbase_url\u001b[49m\u001b[43m)\u001b[49m\n\u001b[1;32m     31\u001b[0m \u001b[38;5;28;01melse\u001b[39;00m:\n\u001b[1;32m     32\u001b[0m     \u001b[38;5;28;01mraise\u001b[39;00m \u001b[38;5;167;01mValueError\u001b[39;00m(\u001b[38;5;124m\"\u001b[39m\u001b[38;5;124mUnknown client type. Supported: \u001b[39m\u001b[38;5;124m'\u001b[39m\u001b[38;5;124mapi\u001b[39m\u001b[38;5;124m'\u001b[39m\u001b[38;5;124m, \u001b[39m\u001b[38;5;124m'\u001b[39m\u001b[38;5;124melevenlabs\u001b[39m\u001b[38;5;124m'\u001b[39m\u001b[38;5;124m\"\u001b[39m)\n",
      "File \u001b[0;32m~/hackathon/FiCast-GPT/ficast/dialogue/clients.py:93\u001b[0m, in \u001b[0;36mAPIClient.__init__\u001b[0;34m(self, base_url, api_key)\u001b[0m\n\u001b[1;32m     84\u001b[0m \u001b[38;5;28mself\u001b[39m\u001b[38;5;241m.\u001b[39mclient \u001b[38;5;241m=\u001b[39m httpx\u001b[38;5;241m.\u001b[39mClient(\n\u001b[1;32m     85\u001b[0m     base_url\u001b[38;5;241m=\u001b[39mbase_url, \n\u001b[1;32m     86\u001b[0m     timeout\u001b[38;5;241m=\u001b[39mhttpx\u001b[38;5;241m.\u001b[39mTimeout(\u001b[38;5;241m40.0\u001b[39m, connect\u001b[38;5;241m=\u001b[39m\u001b[38;5;241m60.0\u001b[39m),\n\u001b[0;32m   (...)\u001b[0m\n\u001b[1;32m     90\u001b[0m     }\n\u001b[1;32m     91\u001b[0m )\n\u001b[1;32m     92\u001b[0m \u001b[38;5;28;01mif\u001b[39;00m \u001b[38;5;129;01mnot\u001b[39;00m \u001b[38;5;28mself\u001b[39m\u001b[38;5;241m.\u001b[39mping():\n\u001b[0;32m---> 93\u001b[0m     \u001b[38;5;28;01mraise\u001b[39;00m \u001b[38;5;167;01mConnectionError\u001b[39;00m(\u001b[38;5;124m\"\u001b[39m\u001b[38;5;124mPing check failed. The TTS service is not available.\u001b[39m\u001b[38;5;124m\"\u001b[39m)\n",
      "\u001b[0;31mConnectionError\u001b[0m: Ping check failed. The TTS service is not available."
     ]
    }
   ],
   "source": [
    "%load_ext autoreload\n",
    "%autoreload 2\n",
    "\n",
    "from ficast.assembly.ficast import FiCast\n",
    "from ficast.dialogue.speech import DialogueSynthesis\n",
    "dialoguer = DialogueSynthesis(\n",
    "  client_type=\"api\", \n",
    "  base_url=os.getenv(\"TTS_API_BASE_URL\"),\n",
    "  api_key=os.getenv(\"TTS_API_KEY\")\n",
    ")\n",
    "fantasy_ficast = FiCast(\n",
    "  conversation=my_podcast, dialogue_synthesizer=dialoguer)"
   ]
  },
  {
   "cell_type": "code",
   "execution_count": null,
   "metadata": {},
   "outputs": [
    {
     "name": "stderr",
     "output_type": "stream",
     "text": [
      "/home/mymm_psu_gmail_com/hackathon/FiCast-GPT/ficast/dialogue/speech.py:88: UserWarning: Could not find the 1 voice for gender male. Using the (n_available % nth) voice which is the 0 voice. Check as it may not be the desired or duplicate with existing voices\n",
      "  warnings.warn(f\"Could not find the {nth} voice for gender {gender}. Using the (n_available % nth) voice which is the {nth_voice} voice. Check as it may not be the desired or duplicate with existing voices\", UserWarning)\n",
      "Processing script entries:   0%|          | 0/15 [01:50<?, ?it/s]\n"
     ]
    },
    {
     "ename": "KeyboardInterrupt",
     "evalue": "",
     "output_type": "error",
     "traceback": [
      "\u001b[0;31m---------------------------------------------------------------------------\u001b[0m",
      "\u001b[0;31mKeyboardInterrupt\u001b[0m                         Traceback (most recent call last)",
      "Cell \u001b[0;32mIn[30], line 1\u001b[0m\n\u001b[0;32m----> 1\u001b[0m my_audio \u001b[38;5;241m=\u001b[39m \u001b[43mfantasy_ficast\u001b[49m\u001b[38;5;241;43m.\u001b[39;49m\u001b[43mto_podcast\u001b[49m\u001b[43m(\u001b[49m\u001b[43m)\u001b[49m\n",
      "File \u001b[0;32m~/hackathon/FiCast-GPT/ficast/assembly/ficast.py:85\u001b[0m, in \u001b[0;36mFiCast.to_podcast\u001b[0;34m(self, include_inner_thoughts, use_json_script)\u001b[0m\n\u001b[1;32m     82\u001b[0m \u001b[38;5;66;03m# Get the voice for the speaker\u001b[39;00m\n\u001b[1;32m     83\u001b[0m \u001b[38;5;28;01mif\u001b[39;00m speaker_name \u001b[38;5;129;01min\u001b[39;00m voice_mapping:\n\u001b[1;32m     84\u001b[0m     \u001b[38;5;66;03m# Synthesize the dialogue text\u001b[39;00m\n\u001b[0;32m---> 85\u001b[0m \u001b[43m    \u001b[49m\u001b[38;5;28;43;01mfor\u001b[39;49;00m\u001b[43m \u001b[49m\u001b[43maudio_chunk\u001b[49m\u001b[43m \u001b[49m\u001b[38;5;129;43;01min\u001b[39;49;00m\u001b[43m \u001b[49m\u001b[38;5;28;43mself\u001b[39;49m\u001b[38;5;241;43m.\u001b[39;49m\u001b[43mdialogue_synthesizer\u001b[49m\u001b[38;5;241;43m.\u001b[39;49m\u001b[43msynthesize\u001b[49m\u001b[43m(\u001b[49m\n\u001b[1;32m     86\u001b[0m \u001b[43m        \u001b[49m\u001b[43mentry\u001b[49m\u001b[38;5;241;43m.\u001b[39;49m\u001b[43mget\u001b[49m\u001b[43m(\u001b[49m\u001b[38;5;124;43m\"\u001b[39;49m\u001b[38;5;124;43mdialogue\u001b[39;49m\u001b[38;5;124;43m\"\u001b[39;49m\u001b[43m)\u001b[49m\u001b[43m,\u001b[49m\n\u001b[1;32m     87\u001b[0m \u001b[43m        \u001b[49m\u001b[43mvoice_mapping\u001b[49m\u001b[43m[\u001b[49m\u001b[43mspeaker_name\u001b[49m\u001b[43m]\u001b[49m\u001b[38;5;241;43m.\u001b[39;49m\u001b[43mvoice_id\u001b[49m\n\u001b[1;32m     88\u001b[0m \u001b[43m        \u001b[49m\u001b[43m)\u001b[49m\u001b[43m:\u001b[49m\n\u001b[1;32m     89\u001b[0m \u001b[43m        \u001b[49m\u001b[43maudio_segments\u001b[49m\u001b[38;5;241;43m.\u001b[39;49m\u001b[43mappend\u001b[49m\u001b[43m(\u001b[49m\u001b[43maudio_chunk\u001b[49m\u001b[43m)\u001b[49m\n\u001b[1;32m     91\u001b[0m     \u001b[38;5;66;03m# Optionally synthesize inner thoughts if needed\u001b[39;00m\n",
      "File \u001b[0;32m~/hackathon/FiCast-GPT/ficast/dialogue/clients.py:154\u001b[0m, in \u001b[0;36mAPIClient.text_to_speech\u001b[0;34m(self, text, voice, **kwargs)\u001b[0m\n\u001b[1;32m    152\u001b[0m     \u001b[38;5;28;01mraise\u001b[39;00m \u001b[38;5;167;01mValueError\u001b[39;00m(\u001b[38;5;124mf\u001b[39m\u001b[38;5;124m\"\u001b[39m\u001b[38;5;124mTask cannot be created: \u001b[39m\u001b[38;5;132;01m{\u001b[39;00mtask_response\u001b[38;5;241m.\u001b[39mjson()\u001b[38;5;132;01m}\u001b[39;00m\u001b[38;5;124m\"\u001b[39m)\n\u001b[1;32m    153\u001b[0m \u001b[38;5;66;03m# Post the result\u001b[39;00m\n\u001b[0;32m--> 154\u001b[0m result_response \u001b[38;5;241m=\u001b[39m \u001b[38;5;28;43mself\u001b[39;49m\u001b[38;5;241;43m.\u001b[39;49m\u001b[43mclient\u001b[49m\u001b[38;5;241;43m.\u001b[39;49m\u001b[43mget\u001b[49m\u001b[43m(\u001b[49m\n\u001b[1;32m    155\u001b[0m \u001b[43m    \u001b[49m\u001b[38;5;124;43mf\u001b[39;49m\u001b[38;5;124;43m\"\u001b[39;49m\u001b[38;5;132;43;01m{\u001b[39;49;00m\u001b[38;5;28;43mself\u001b[39;49m\u001b[38;5;241;43m.\u001b[39;49m\u001b[43mbase_url\u001b[49m\u001b[38;5;132;43;01m}\u001b[39;49;00m\u001b[38;5;124;43m/task-result/\u001b[39;49m\u001b[38;5;132;43;01m{\u001b[39;49;00m\u001b[43mtask_id\u001b[49m\u001b[38;5;132;43;01m}\u001b[39;49;00m\u001b[38;5;124;43m\"\u001b[39;49m\n\u001b[1;32m    156\u001b[0m \u001b[43m\u001b[49m\u001b[43m)\u001b[49m\n\u001b[1;32m    157\u001b[0m result_response\u001b[38;5;241m.\u001b[39mraise_for_status()\n\u001b[1;32m    158\u001b[0m \u001b[38;5;28;01mfor\u001b[39;00m chunk \u001b[38;5;129;01min\u001b[39;00m result_response\u001b[38;5;241m.\u001b[39miter_bytes():\n",
      "File \u001b[0;32m~/miniconda3/envs/ficast/lib/python3.11/site-packages/httpx/_client.py:1054\u001b[0m, in \u001b[0;36mClient.get\u001b[0;34m(self, url, params, headers, cookies, auth, follow_redirects, timeout, extensions)\u001b[0m\n\u001b[1;32m   1037\u001b[0m \u001b[38;5;28;01mdef\u001b[39;00m \u001b[38;5;21mget\u001b[39m(\n\u001b[1;32m   1038\u001b[0m     \u001b[38;5;28mself\u001b[39m,\n\u001b[1;32m   1039\u001b[0m     url: URLTypes,\n\u001b[0;32m   (...)\u001b[0m\n\u001b[1;32m   1047\u001b[0m     extensions: RequestExtensions \u001b[38;5;241m|\u001b[39m \u001b[38;5;28;01mNone\u001b[39;00m \u001b[38;5;241m=\u001b[39m \u001b[38;5;28;01mNone\u001b[39;00m,\n\u001b[1;32m   1048\u001b[0m ) \u001b[38;5;241m-\u001b[39m\u001b[38;5;241m>\u001b[39m Response:\n\u001b[1;32m   1049\u001b[0m \u001b[38;5;250m    \u001b[39m\u001b[38;5;124;03m\"\"\"\u001b[39;00m\n\u001b[1;32m   1050\u001b[0m \u001b[38;5;124;03m    Send a `GET` request.\u001b[39;00m\n\u001b[1;32m   1051\u001b[0m \n\u001b[1;32m   1052\u001b[0m \u001b[38;5;124;03m    **Parameters**: See `httpx.request`.\u001b[39;00m\n\u001b[1;32m   1053\u001b[0m \u001b[38;5;124;03m    \"\"\"\u001b[39;00m\n\u001b[0;32m-> 1054\u001b[0m     \u001b[38;5;28;01mreturn\u001b[39;00m \u001b[38;5;28;43mself\u001b[39;49m\u001b[38;5;241;43m.\u001b[39;49m\u001b[43mrequest\u001b[49m\u001b[43m(\u001b[49m\n\u001b[1;32m   1055\u001b[0m \u001b[43m        \u001b[49m\u001b[38;5;124;43m\"\u001b[39;49m\u001b[38;5;124;43mGET\u001b[39;49m\u001b[38;5;124;43m\"\u001b[39;49m\u001b[43m,\u001b[49m\n\u001b[1;32m   1056\u001b[0m \u001b[43m        \u001b[49m\u001b[43murl\u001b[49m\u001b[43m,\u001b[49m\n\u001b[1;32m   1057\u001b[0m \u001b[43m        \u001b[49m\u001b[43mparams\u001b[49m\u001b[38;5;241;43m=\u001b[39;49m\u001b[43mparams\u001b[49m\u001b[43m,\u001b[49m\n\u001b[1;32m   1058\u001b[0m \u001b[43m        \u001b[49m\u001b[43mheaders\u001b[49m\u001b[38;5;241;43m=\u001b[39;49m\u001b[43mheaders\u001b[49m\u001b[43m,\u001b[49m\n\u001b[1;32m   1059\u001b[0m \u001b[43m        \u001b[49m\u001b[43mcookies\u001b[49m\u001b[38;5;241;43m=\u001b[39;49m\u001b[43mcookies\u001b[49m\u001b[43m,\u001b[49m\n\u001b[1;32m   1060\u001b[0m \u001b[43m        \u001b[49m\u001b[43mauth\u001b[49m\u001b[38;5;241;43m=\u001b[39;49m\u001b[43mauth\u001b[49m\u001b[43m,\u001b[49m\n\u001b[1;32m   1061\u001b[0m \u001b[43m        \u001b[49m\u001b[43mfollow_redirects\u001b[49m\u001b[38;5;241;43m=\u001b[39;49m\u001b[43mfollow_redirects\u001b[49m\u001b[43m,\u001b[49m\n\u001b[1;32m   1062\u001b[0m \u001b[43m        \u001b[49m\u001b[43mtimeout\u001b[49m\u001b[38;5;241;43m=\u001b[39;49m\u001b[43mtimeout\u001b[49m\u001b[43m,\u001b[49m\n\u001b[1;32m   1063\u001b[0m \u001b[43m        \u001b[49m\u001b[43mextensions\u001b[49m\u001b[38;5;241;43m=\u001b[39;49m\u001b[43mextensions\u001b[49m\u001b[43m,\u001b[49m\n\u001b[1;32m   1064\u001b[0m \u001b[43m    \u001b[49m\u001b[43m)\u001b[49m\n",
      "File \u001b[0;32m~/miniconda3/envs/ficast/lib/python3.11/site-packages/httpx/_client.py:827\u001b[0m, in \u001b[0;36mClient.request\u001b[0;34m(self, method, url, content, data, files, json, params, headers, cookies, auth, follow_redirects, timeout, extensions)\u001b[0m\n\u001b[1;32m    812\u001b[0m     warnings\u001b[38;5;241m.\u001b[39mwarn(message, \u001b[38;5;167;01mDeprecationWarning\u001b[39;00m)\n\u001b[1;32m    814\u001b[0m request \u001b[38;5;241m=\u001b[39m \u001b[38;5;28mself\u001b[39m\u001b[38;5;241m.\u001b[39mbuild_request(\n\u001b[1;32m    815\u001b[0m     method\u001b[38;5;241m=\u001b[39mmethod,\n\u001b[1;32m    816\u001b[0m     url\u001b[38;5;241m=\u001b[39murl,\n\u001b[0;32m   (...)\u001b[0m\n\u001b[1;32m    825\u001b[0m     extensions\u001b[38;5;241m=\u001b[39mextensions,\n\u001b[1;32m    826\u001b[0m )\n\u001b[0;32m--> 827\u001b[0m \u001b[38;5;28;01mreturn\u001b[39;00m \u001b[38;5;28;43mself\u001b[39;49m\u001b[38;5;241;43m.\u001b[39;49m\u001b[43msend\u001b[49m\u001b[43m(\u001b[49m\u001b[43mrequest\u001b[49m\u001b[43m,\u001b[49m\u001b[43m \u001b[49m\u001b[43mauth\u001b[49m\u001b[38;5;241;43m=\u001b[39;49m\u001b[43mauth\u001b[49m\u001b[43m,\u001b[49m\u001b[43m \u001b[49m\u001b[43mfollow_redirects\u001b[49m\u001b[38;5;241;43m=\u001b[39;49m\u001b[43mfollow_redirects\u001b[49m\u001b[43m)\u001b[49m\n",
      "File \u001b[0;32m~/miniconda3/envs/ficast/lib/python3.11/site-packages/httpx/_client.py:914\u001b[0m, in \u001b[0;36mClient.send\u001b[0;34m(self, request, stream, auth, follow_redirects)\u001b[0m\n\u001b[1;32m    906\u001b[0m follow_redirects \u001b[38;5;241m=\u001b[39m (\n\u001b[1;32m    907\u001b[0m     \u001b[38;5;28mself\u001b[39m\u001b[38;5;241m.\u001b[39mfollow_redirects\n\u001b[1;32m    908\u001b[0m     \u001b[38;5;28;01mif\u001b[39;00m \u001b[38;5;28misinstance\u001b[39m(follow_redirects, UseClientDefault)\n\u001b[1;32m    909\u001b[0m     \u001b[38;5;28;01melse\u001b[39;00m follow_redirects\n\u001b[1;32m    910\u001b[0m )\n\u001b[1;32m    912\u001b[0m auth \u001b[38;5;241m=\u001b[39m \u001b[38;5;28mself\u001b[39m\u001b[38;5;241m.\u001b[39m_build_request_auth(request, auth)\n\u001b[0;32m--> 914\u001b[0m response \u001b[38;5;241m=\u001b[39m \u001b[38;5;28;43mself\u001b[39;49m\u001b[38;5;241;43m.\u001b[39;49m\u001b[43m_send_handling_auth\u001b[49m\u001b[43m(\u001b[49m\n\u001b[1;32m    915\u001b[0m \u001b[43m    \u001b[49m\u001b[43mrequest\u001b[49m\u001b[43m,\u001b[49m\n\u001b[1;32m    916\u001b[0m \u001b[43m    \u001b[49m\u001b[43mauth\u001b[49m\u001b[38;5;241;43m=\u001b[39;49m\u001b[43mauth\u001b[49m\u001b[43m,\u001b[49m\n\u001b[1;32m    917\u001b[0m \u001b[43m    \u001b[49m\u001b[43mfollow_redirects\u001b[49m\u001b[38;5;241;43m=\u001b[39;49m\u001b[43mfollow_redirects\u001b[49m\u001b[43m,\u001b[49m\n\u001b[1;32m    918\u001b[0m \u001b[43m    \u001b[49m\u001b[43mhistory\u001b[49m\u001b[38;5;241;43m=\u001b[39;49m\u001b[43m[\u001b[49m\u001b[43m]\u001b[49m\u001b[43m,\u001b[49m\n\u001b[1;32m    919\u001b[0m \u001b[43m\u001b[49m\u001b[43m)\u001b[49m\n\u001b[1;32m    920\u001b[0m \u001b[38;5;28;01mtry\u001b[39;00m:\n\u001b[1;32m    921\u001b[0m     \u001b[38;5;28;01mif\u001b[39;00m \u001b[38;5;129;01mnot\u001b[39;00m stream:\n",
      "File \u001b[0;32m~/miniconda3/envs/ficast/lib/python3.11/site-packages/httpx/_client.py:942\u001b[0m, in \u001b[0;36mClient._send_handling_auth\u001b[0;34m(self, request, auth, follow_redirects, history)\u001b[0m\n\u001b[1;32m    939\u001b[0m request \u001b[38;5;241m=\u001b[39m \u001b[38;5;28mnext\u001b[39m(auth_flow)\n\u001b[1;32m    941\u001b[0m \u001b[38;5;28;01mwhile\u001b[39;00m \u001b[38;5;28;01mTrue\u001b[39;00m:\n\u001b[0;32m--> 942\u001b[0m     response \u001b[38;5;241m=\u001b[39m \u001b[38;5;28;43mself\u001b[39;49m\u001b[38;5;241;43m.\u001b[39;49m\u001b[43m_send_handling_redirects\u001b[49m\u001b[43m(\u001b[49m\n\u001b[1;32m    943\u001b[0m \u001b[43m        \u001b[49m\u001b[43mrequest\u001b[49m\u001b[43m,\u001b[49m\n\u001b[1;32m    944\u001b[0m \u001b[43m        \u001b[49m\u001b[43mfollow_redirects\u001b[49m\u001b[38;5;241;43m=\u001b[39;49m\u001b[43mfollow_redirects\u001b[49m\u001b[43m,\u001b[49m\n\u001b[1;32m    945\u001b[0m \u001b[43m        \u001b[49m\u001b[43mhistory\u001b[49m\u001b[38;5;241;43m=\u001b[39;49m\u001b[43mhistory\u001b[49m\u001b[43m,\u001b[49m\n\u001b[1;32m    946\u001b[0m \u001b[43m    \u001b[49m\u001b[43m)\u001b[49m\n\u001b[1;32m    947\u001b[0m     \u001b[38;5;28;01mtry\u001b[39;00m:\n\u001b[1;32m    948\u001b[0m         \u001b[38;5;28;01mtry\u001b[39;00m:\n",
      "File \u001b[0;32m~/miniconda3/envs/ficast/lib/python3.11/site-packages/httpx/_client.py:979\u001b[0m, in \u001b[0;36mClient._send_handling_redirects\u001b[0;34m(self, request, follow_redirects, history)\u001b[0m\n\u001b[1;32m    976\u001b[0m \u001b[38;5;28;01mfor\u001b[39;00m hook \u001b[38;5;129;01min\u001b[39;00m \u001b[38;5;28mself\u001b[39m\u001b[38;5;241m.\u001b[39m_event_hooks[\u001b[38;5;124m\"\u001b[39m\u001b[38;5;124mrequest\u001b[39m\u001b[38;5;124m\"\u001b[39m]:\n\u001b[1;32m    977\u001b[0m     hook(request)\n\u001b[0;32m--> 979\u001b[0m response \u001b[38;5;241m=\u001b[39m \u001b[38;5;28;43mself\u001b[39;49m\u001b[38;5;241;43m.\u001b[39;49m\u001b[43m_send_single_request\u001b[49m\u001b[43m(\u001b[49m\u001b[43mrequest\u001b[49m\u001b[43m)\u001b[49m\n\u001b[1;32m    980\u001b[0m \u001b[38;5;28;01mtry\u001b[39;00m:\n\u001b[1;32m    981\u001b[0m     \u001b[38;5;28;01mfor\u001b[39;00m hook \u001b[38;5;129;01min\u001b[39;00m \u001b[38;5;28mself\u001b[39m\u001b[38;5;241m.\u001b[39m_event_hooks[\u001b[38;5;124m\"\u001b[39m\u001b[38;5;124mresponse\u001b[39m\u001b[38;5;124m\"\u001b[39m]:\n",
      "File \u001b[0;32m~/miniconda3/envs/ficast/lib/python3.11/site-packages/httpx/_client.py:1015\u001b[0m, in \u001b[0;36mClient._send_single_request\u001b[0;34m(self, request)\u001b[0m\n\u001b[1;32m   1010\u001b[0m     \u001b[38;5;28;01mraise\u001b[39;00m \u001b[38;5;167;01mRuntimeError\u001b[39;00m(\n\u001b[1;32m   1011\u001b[0m         \u001b[38;5;124m\"\u001b[39m\u001b[38;5;124mAttempted to send an async request with a sync Client instance.\u001b[39m\u001b[38;5;124m\"\u001b[39m\n\u001b[1;32m   1012\u001b[0m     )\n\u001b[1;32m   1014\u001b[0m \u001b[38;5;28;01mwith\u001b[39;00m request_context(request\u001b[38;5;241m=\u001b[39mrequest):\n\u001b[0;32m-> 1015\u001b[0m     response \u001b[38;5;241m=\u001b[39m \u001b[43mtransport\u001b[49m\u001b[38;5;241;43m.\u001b[39;49m\u001b[43mhandle_request\u001b[49m\u001b[43m(\u001b[49m\u001b[43mrequest\u001b[49m\u001b[43m)\u001b[49m\n\u001b[1;32m   1017\u001b[0m \u001b[38;5;28;01massert\u001b[39;00m \u001b[38;5;28misinstance\u001b[39m(response\u001b[38;5;241m.\u001b[39mstream, SyncByteStream)\n\u001b[1;32m   1019\u001b[0m response\u001b[38;5;241m.\u001b[39mrequest \u001b[38;5;241m=\u001b[39m request\n",
      "File \u001b[0;32m~/miniconda3/envs/ficast/lib/python3.11/site-packages/httpx/_transports/default.py:233\u001b[0m, in \u001b[0;36mHTTPTransport.handle_request\u001b[0;34m(self, request)\u001b[0m\n\u001b[1;32m    220\u001b[0m req \u001b[38;5;241m=\u001b[39m httpcore\u001b[38;5;241m.\u001b[39mRequest(\n\u001b[1;32m    221\u001b[0m     method\u001b[38;5;241m=\u001b[39mrequest\u001b[38;5;241m.\u001b[39mmethod,\n\u001b[1;32m    222\u001b[0m     url\u001b[38;5;241m=\u001b[39mhttpcore\u001b[38;5;241m.\u001b[39mURL(\n\u001b[0;32m   (...)\u001b[0m\n\u001b[1;32m    230\u001b[0m     extensions\u001b[38;5;241m=\u001b[39mrequest\u001b[38;5;241m.\u001b[39mextensions,\n\u001b[1;32m    231\u001b[0m )\n\u001b[1;32m    232\u001b[0m \u001b[38;5;28;01mwith\u001b[39;00m map_httpcore_exceptions():\n\u001b[0;32m--> 233\u001b[0m     resp \u001b[38;5;241m=\u001b[39m \u001b[38;5;28;43mself\u001b[39;49m\u001b[38;5;241;43m.\u001b[39;49m\u001b[43m_pool\u001b[49m\u001b[38;5;241;43m.\u001b[39;49m\u001b[43mhandle_request\u001b[49m\u001b[43m(\u001b[49m\u001b[43mreq\u001b[49m\u001b[43m)\u001b[49m\n\u001b[1;32m    235\u001b[0m \u001b[38;5;28;01massert\u001b[39;00m \u001b[38;5;28misinstance\u001b[39m(resp\u001b[38;5;241m.\u001b[39mstream, typing\u001b[38;5;241m.\u001b[39mIterable)\n\u001b[1;32m    237\u001b[0m \u001b[38;5;28;01mreturn\u001b[39;00m Response(\n\u001b[1;32m    238\u001b[0m     status_code\u001b[38;5;241m=\u001b[39mresp\u001b[38;5;241m.\u001b[39mstatus,\n\u001b[1;32m    239\u001b[0m     headers\u001b[38;5;241m=\u001b[39mresp\u001b[38;5;241m.\u001b[39mheaders,\n\u001b[1;32m    240\u001b[0m     stream\u001b[38;5;241m=\u001b[39mResponseStream(resp\u001b[38;5;241m.\u001b[39mstream),\n\u001b[1;32m    241\u001b[0m     extensions\u001b[38;5;241m=\u001b[39mresp\u001b[38;5;241m.\u001b[39mextensions,\n\u001b[1;32m    242\u001b[0m )\n",
      "File \u001b[0;32m~/miniconda3/envs/ficast/lib/python3.11/site-packages/httpcore/_sync/connection_pool.py:216\u001b[0m, in \u001b[0;36mConnectionPool.handle_request\u001b[0;34m(self, request)\u001b[0m\n\u001b[1;32m    213\u001b[0m         closing \u001b[38;5;241m=\u001b[39m \u001b[38;5;28mself\u001b[39m\u001b[38;5;241m.\u001b[39m_assign_requests_to_connections()\n\u001b[1;32m    215\u001b[0m     \u001b[38;5;28mself\u001b[39m\u001b[38;5;241m.\u001b[39m_close_connections(closing)\n\u001b[0;32m--> 216\u001b[0m     \u001b[38;5;28;01mraise\u001b[39;00m exc \u001b[38;5;28;01mfrom\u001b[39;00m \u001b[38;5;28;01mNone\u001b[39;00m\n\u001b[1;32m    218\u001b[0m \u001b[38;5;66;03m# Return the response. Note that in this case we still have to manage\u001b[39;00m\n\u001b[1;32m    219\u001b[0m \u001b[38;5;66;03m# the point at which the response is closed.\u001b[39;00m\n\u001b[1;32m    220\u001b[0m \u001b[38;5;28;01massert\u001b[39;00m \u001b[38;5;28misinstance\u001b[39m(response\u001b[38;5;241m.\u001b[39mstream, Iterable)\n",
      "File \u001b[0;32m~/miniconda3/envs/ficast/lib/python3.11/site-packages/httpcore/_sync/connection_pool.py:196\u001b[0m, in \u001b[0;36mConnectionPool.handle_request\u001b[0;34m(self, request)\u001b[0m\n\u001b[1;32m    192\u001b[0m connection \u001b[38;5;241m=\u001b[39m pool_request\u001b[38;5;241m.\u001b[39mwait_for_connection(timeout\u001b[38;5;241m=\u001b[39mtimeout)\n\u001b[1;32m    194\u001b[0m \u001b[38;5;28;01mtry\u001b[39;00m:\n\u001b[1;32m    195\u001b[0m     \u001b[38;5;66;03m# Send the request on the assigned connection.\u001b[39;00m\n\u001b[0;32m--> 196\u001b[0m     response \u001b[38;5;241m=\u001b[39m \u001b[43mconnection\u001b[49m\u001b[38;5;241;43m.\u001b[39;49m\u001b[43mhandle_request\u001b[49m\u001b[43m(\u001b[49m\n\u001b[1;32m    197\u001b[0m \u001b[43m        \u001b[49m\u001b[43mpool_request\u001b[49m\u001b[38;5;241;43m.\u001b[39;49m\u001b[43mrequest\u001b[49m\n\u001b[1;32m    198\u001b[0m \u001b[43m    \u001b[49m\u001b[43m)\u001b[49m\n\u001b[1;32m    199\u001b[0m \u001b[38;5;28;01mexcept\u001b[39;00m ConnectionNotAvailable:\n\u001b[1;32m    200\u001b[0m     \u001b[38;5;66;03m# In some cases a connection may initially be available to\u001b[39;00m\n\u001b[1;32m    201\u001b[0m     \u001b[38;5;66;03m# handle a request, but then become unavailable.\u001b[39;00m\n\u001b[1;32m    202\u001b[0m     \u001b[38;5;66;03m#\u001b[39;00m\n\u001b[1;32m    203\u001b[0m     \u001b[38;5;66;03m# In this case we clear the connection and try again.\u001b[39;00m\n\u001b[1;32m    204\u001b[0m     pool_request\u001b[38;5;241m.\u001b[39mclear_connection()\n",
      "File \u001b[0;32m~/miniconda3/envs/ficast/lib/python3.11/site-packages/httpcore/_sync/connection.py:101\u001b[0m, in \u001b[0;36mHTTPConnection.handle_request\u001b[0;34m(self, request)\u001b[0m\n\u001b[1;32m     98\u001b[0m     \u001b[38;5;28mself\u001b[39m\u001b[38;5;241m.\u001b[39m_connect_failed \u001b[38;5;241m=\u001b[39m \u001b[38;5;28;01mTrue\u001b[39;00m\n\u001b[1;32m     99\u001b[0m     \u001b[38;5;28;01mraise\u001b[39;00m exc\n\u001b[0;32m--> 101\u001b[0m \u001b[38;5;28;01mreturn\u001b[39;00m \u001b[38;5;28;43mself\u001b[39;49m\u001b[38;5;241;43m.\u001b[39;49m\u001b[43m_connection\u001b[49m\u001b[38;5;241;43m.\u001b[39;49m\u001b[43mhandle_request\u001b[49m\u001b[43m(\u001b[49m\u001b[43mrequest\u001b[49m\u001b[43m)\u001b[49m\n",
      "File \u001b[0;32m~/miniconda3/envs/ficast/lib/python3.11/site-packages/httpcore/_sync/http11.py:143\u001b[0m, in \u001b[0;36mHTTP11Connection.handle_request\u001b[0;34m(self, request)\u001b[0m\n\u001b[1;32m    141\u001b[0m     \u001b[38;5;28;01mwith\u001b[39;00m Trace(\u001b[38;5;124m\"\u001b[39m\u001b[38;5;124mresponse_closed\u001b[39m\u001b[38;5;124m\"\u001b[39m, logger, request) \u001b[38;5;28;01mas\u001b[39;00m trace:\n\u001b[1;32m    142\u001b[0m         \u001b[38;5;28mself\u001b[39m\u001b[38;5;241m.\u001b[39m_response_closed()\n\u001b[0;32m--> 143\u001b[0m \u001b[38;5;28;01mraise\u001b[39;00m exc\n",
      "File \u001b[0;32m~/miniconda3/envs/ficast/lib/python3.11/site-packages/httpcore/_sync/http11.py:113\u001b[0m, in \u001b[0;36mHTTP11Connection.handle_request\u001b[0;34m(self, request)\u001b[0m\n\u001b[1;32m    102\u001b[0m     \u001b[38;5;28;01mpass\u001b[39;00m\n\u001b[1;32m    104\u001b[0m \u001b[38;5;28;01mwith\u001b[39;00m Trace(\n\u001b[1;32m    105\u001b[0m     \u001b[38;5;124m\"\u001b[39m\u001b[38;5;124mreceive_response_headers\u001b[39m\u001b[38;5;124m\"\u001b[39m, logger, request, kwargs\n\u001b[1;32m    106\u001b[0m ) \u001b[38;5;28;01mas\u001b[39;00m trace:\n\u001b[1;32m    107\u001b[0m     (\n\u001b[1;32m    108\u001b[0m         http_version,\n\u001b[1;32m    109\u001b[0m         status,\n\u001b[1;32m    110\u001b[0m         reason_phrase,\n\u001b[1;32m    111\u001b[0m         headers,\n\u001b[1;32m    112\u001b[0m         trailing_data,\n\u001b[0;32m--> 113\u001b[0m     ) \u001b[38;5;241m=\u001b[39m \u001b[38;5;28;43mself\u001b[39;49m\u001b[38;5;241;43m.\u001b[39;49m\u001b[43m_receive_response_headers\u001b[49m\u001b[43m(\u001b[49m\u001b[38;5;241;43m*\u001b[39;49m\u001b[38;5;241;43m*\u001b[39;49m\u001b[43mkwargs\u001b[49m\u001b[43m)\u001b[49m\n\u001b[1;32m    114\u001b[0m     trace\u001b[38;5;241m.\u001b[39mreturn_value \u001b[38;5;241m=\u001b[39m (\n\u001b[1;32m    115\u001b[0m         http_version,\n\u001b[1;32m    116\u001b[0m         status,\n\u001b[1;32m    117\u001b[0m         reason_phrase,\n\u001b[1;32m    118\u001b[0m         headers,\n\u001b[1;32m    119\u001b[0m     )\n\u001b[1;32m    121\u001b[0m network_stream \u001b[38;5;241m=\u001b[39m \u001b[38;5;28mself\u001b[39m\u001b[38;5;241m.\u001b[39m_network_stream\n",
      "File \u001b[0;32m~/miniconda3/envs/ficast/lib/python3.11/site-packages/httpcore/_sync/http11.py:186\u001b[0m, in \u001b[0;36mHTTP11Connection._receive_response_headers\u001b[0;34m(self, request)\u001b[0m\n\u001b[1;32m    183\u001b[0m timeout \u001b[38;5;241m=\u001b[39m timeouts\u001b[38;5;241m.\u001b[39mget(\u001b[38;5;124m\"\u001b[39m\u001b[38;5;124mread\u001b[39m\u001b[38;5;124m\"\u001b[39m, \u001b[38;5;28;01mNone\u001b[39;00m)\n\u001b[1;32m    185\u001b[0m \u001b[38;5;28;01mwhile\u001b[39;00m \u001b[38;5;28;01mTrue\u001b[39;00m:\n\u001b[0;32m--> 186\u001b[0m     event \u001b[38;5;241m=\u001b[39m \u001b[38;5;28;43mself\u001b[39;49m\u001b[38;5;241;43m.\u001b[39;49m\u001b[43m_receive_event\u001b[49m\u001b[43m(\u001b[49m\u001b[43mtimeout\u001b[49m\u001b[38;5;241;43m=\u001b[39;49m\u001b[43mtimeout\u001b[49m\u001b[43m)\u001b[49m\n\u001b[1;32m    187\u001b[0m     \u001b[38;5;28;01mif\u001b[39;00m \u001b[38;5;28misinstance\u001b[39m(event, h11\u001b[38;5;241m.\u001b[39mResponse):\n\u001b[1;32m    188\u001b[0m         \u001b[38;5;28;01mbreak\u001b[39;00m\n",
      "File \u001b[0;32m~/miniconda3/envs/ficast/lib/python3.11/site-packages/httpcore/_sync/http11.py:224\u001b[0m, in \u001b[0;36mHTTP11Connection._receive_event\u001b[0;34m(self, timeout)\u001b[0m\n\u001b[1;32m    221\u001b[0m     event \u001b[38;5;241m=\u001b[39m \u001b[38;5;28mself\u001b[39m\u001b[38;5;241m.\u001b[39m_h11_state\u001b[38;5;241m.\u001b[39mnext_event()\n\u001b[1;32m    223\u001b[0m \u001b[38;5;28;01mif\u001b[39;00m event \u001b[38;5;129;01mis\u001b[39;00m h11\u001b[38;5;241m.\u001b[39mNEED_DATA:\n\u001b[0;32m--> 224\u001b[0m     data \u001b[38;5;241m=\u001b[39m \u001b[38;5;28;43mself\u001b[39;49m\u001b[38;5;241;43m.\u001b[39;49m\u001b[43m_network_stream\u001b[49m\u001b[38;5;241;43m.\u001b[39;49m\u001b[43mread\u001b[49m\u001b[43m(\u001b[49m\n\u001b[1;32m    225\u001b[0m \u001b[43m        \u001b[49m\u001b[38;5;28;43mself\u001b[39;49m\u001b[38;5;241;43m.\u001b[39;49m\u001b[43mREAD_NUM_BYTES\u001b[49m\u001b[43m,\u001b[49m\u001b[43m \u001b[49m\u001b[43mtimeout\u001b[49m\u001b[38;5;241;43m=\u001b[39;49m\u001b[43mtimeout\u001b[49m\n\u001b[1;32m    226\u001b[0m \u001b[43m    \u001b[49m\u001b[43m)\u001b[49m\n\u001b[1;32m    228\u001b[0m     \u001b[38;5;66;03m# If we feed this case through h11 we'll raise an exception like:\u001b[39;00m\n\u001b[1;32m    229\u001b[0m     \u001b[38;5;66;03m#\u001b[39;00m\n\u001b[1;32m    230\u001b[0m     \u001b[38;5;66;03m#     httpcore.RemoteProtocolError: can't handle event type\u001b[39;00m\n\u001b[0;32m   (...)\u001b[0m\n\u001b[1;32m    234\u001b[0m     \u001b[38;5;66;03m# perspective. Instead we handle this case distinctly and treat\u001b[39;00m\n\u001b[1;32m    235\u001b[0m     \u001b[38;5;66;03m# it as a ConnectError.\u001b[39;00m\n\u001b[1;32m    236\u001b[0m     \u001b[38;5;28;01mif\u001b[39;00m data \u001b[38;5;241m==\u001b[39m \u001b[38;5;124mb\u001b[39m\u001b[38;5;124m\"\u001b[39m\u001b[38;5;124m\"\u001b[39m \u001b[38;5;129;01mand\u001b[39;00m \u001b[38;5;28mself\u001b[39m\u001b[38;5;241m.\u001b[39m_h11_state\u001b[38;5;241m.\u001b[39mtheir_state \u001b[38;5;241m==\u001b[39m h11\u001b[38;5;241m.\u001b[39mSEND_RESPONSE:\n",
      "File \u001b[0;32m~/miniconda3/envs/ficast/lib/python3.11/site-packages/httpcore/_backends/sync.py:126\u001b[0m, in \u001b[0;36mSyncStream.read\u001b[0;34m(self, max_bytes, timeout)\u001b[0m\n\u001b[1;32m    124\u001b[0m \u001b[38;5;28;01mwith\u001b[39;00m map_exceptions(exc_map):\n\u001b[1;32m    125\u001b[0m     \u001b[38;5;28mself\u001b[39m\u001b[38;5;241m.\u001b[39m_sock\u001b[38;5;241m.\u001b[39msettimeout(timeout)\n\u001b[0;32m--> 126\u001b[0m     \u001b[38;5;28;01mreturn\u001b[39;00m \u001b[38;5;28;43mself\u001b[39;49m\u001b[38;5;241;43m.\u001b[39;49m\u001b[43m_sock\u001b[49m\u001b[38;5;241;43m.\u001b[39;49m\u001b[43mrecv\u001b[49m\u001b[43m(\u001b[49m\u001b[43mmax_bytes\u001b[49m\u001b[43m)\u001b[49m\n",
      "\u001b[0;31mKeyboardInterrupt\u001b[0m: "
     ]
    }
   ],
   "source": [
    "my_audio = fantasy_ficast.to_podcast()"
   ]
  },
  {
   "cell_type": "code",
   "execution_count": null,
   "metadata": {},
   "outputs": [],
   "source": [
    "# save audio\n",
    "from datetime import datetime\n",
    "fantasy_ficast.save_podcast(f\"ficast-outputs/my_podcast-{datetime.now().strftime('%Y%m%d_%H%M%S')}.mp3\")"
   ]
  },
  {
   "cell_type": "code",
   "execution_count": null,
   "metadata": {},
   "outputs": [],
   "source": [
    "# play audio\n",
    "from elevenlabs import play\n",
    "play(bytes(my_audio, 'latin-1'))"
   ]
  }
 ],
 "metadata": {
  "kernelspec": {
   "display_name": "dl",
   "language": "python",
   "name": "python3"
  },
  "language_info": {
   "codemirror_mode": {
    "name": "ipython",
    "version": 3
   },
   "file_extension": ".py",
   "mimetype": "text/x-python",
   "name": "python",
   "nbconvert_exporter": "python",
   "pygments_lexer": "ipython3",
   "version": "3.11.9"
  },
  "orig_nbformat": 4
 },
 "nbformat": 4,
 "nbformat_minor": 2
}
