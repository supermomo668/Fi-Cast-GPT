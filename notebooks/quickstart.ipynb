{
 "cells": [
  {
   "cell_type": "code",
   "execution_count": 1,
   "metadata": {},
   "outputs": [
    {
     "data": {
      "text/plain": [
       "PosixPath('/home/mymm_psu_gmail_com/hackathon/FiCast-GPT')"
      ]
     },
     "execution_count": 1,
     "metadata": {},
     "output_type": "execute_result"
    }
   ],
   "source": [
    "import autogen\n",
    "import os, json\n",
    "from pathlib import Path\n",
    "# import matplotlib.pyplot as plt\n",
    "%load_ext autoreload\n",
    "%autoreload 2\n",
    "os.chdir(\"../\")\n",
    "Path.cwd()"
   ]
  },
  {
   "cell_type": "code",
   "execution_count": 2,
   "metadata": {},
   "outputs": [],
   "source": [
    "#export environment variables (APIs), as in .example.EnvironmentError\n",
    "from dotenv import load_dotenv\n",
    "load_dotenv()\n",
    "assert os.getenv(\"TTS_API_KEY\")"
   ]
  },
  {
   "cell_type": "code",
   "execution_count": 3,
   "metadata": {},
   "outputs": [
    {
     "name": "stdout",
     "output_type": "stream",
     "text": [
      "Loading config version: default from path: ../conf/dialogue\n"
     ]
    },
    {
     "name": "stderr",
     "output_type": "stream",
     "text": [
      "USER_AGENT environment variable not set, consider setting it to identify your requests.\n"
     ]
    },
    {
     "name": "stdout",
     "output_type": "stream",
     "text": [
      "Loading config version: default from path: ../conf/dialogue\n"
     ]
    }
   ],
   "source": [
    "from ficast.character.podcast import Podcaster\n",
    "from ficast.conversation.podcast import Podcast"
   ]
  },
  {
   "cell_type": "code",
   "execution_count": 4,
   "metadata": {},
   "outputs": [],
   "source": [
    "my_podcast = Podcast(\n",
    "  topic=\"health & longevity\", \n",
    "  n_rounds=20, \n",
    ")"
   ]
  },
  {
   "cell_type": "code",
   "execution_count": 5,
   "metadata": {},
   "outputs": [
    {
     "name": "stdout",
     "output_type": "stream",
     "text": [
      "Loading config version: default from path: ../conf/dialogue\n"
     ]
    },
    {
     "name": "stderr",
     "output_type": "stream",
     "text": [
      "/home/mymm_psu_gmail_com/hackathon/FiCast-GPT/ficast/character/podcast.py:52: UserWarning: Gender not specified for Joe Rogan, assigned gender for Joe Rogan as male\n",
      "  warnings.warn(f\"Gender not specified for {name}, assigned gender for {name} as {self.gender}\")\n"
     ]
    },
    {
     "name": "stdout",
     "output_type": "stream",
     "text": [
      "Loading config version: default from path: ../conf/dialogue\n"
     ]
    },
    {
     "name": "stderr",
     "output_type": "stream",
     "text": [
      "/home/mymm_psu_gmail_com/hackathon/FiCast-GPT/ficast/character/podcast.py:52: UserWarning: Gender not specified for David Sinclair, assigned gender for David Sinclair as male\n",
      "  warnings.warn(f\"Gender not specified for {name}, assigned gender for {name} as {self.gender}\")\n"
     ]
    }
   ],
   "source": [
    "joe_rogan = Podcaster(\n",
    "  name=\"Joe Rogan\", \n",
    "  description=\"Joe Rogan is a funny and popular podcast host\",\n",
    "  model=\"gpt-3.5-turbo\",\n",
    "  role=\"host\"\n",
    ")\n",
    "david_sinclair = Podcaster(\n",
    "  name=\"David Sinclair\",\n",
    "  description=\"David Sinclair is a Harvard Medical Expert\",\n",
    "  model=\"gpt-3.5-turbo\"\n",
    ")"
   ]
  },
  {
   "cell_type": "code",
   "execution_count": 6,
   "metadata": {},
   "outputs": [],
   "source": [
    "my_podcast.add([joe_rogan, david_sinclair])"
   ]
  },
  {
   "cell_type": "code",
   "execution_count": 7,
   "metadata": {},
   "outputs": [
    {
     "data": {
      "text/plain": [
       "True"
      ]
     },
     "execution_count": 7,
     "metadata": {},
     "output_type": "execute_result"
    }
   ],
   "source": [
    "my_podcast.n_participants == 2"
   ]
  },
  {
   "cell_type": "code",
   "execution_count": 8,
   "metadata": {},
   "outputs": [
    {
     "name": "stderr",
     "output_type": "stream",
     "text": [
      "/home/mymm_psu_gmail_com/miniconda3/envs/ficast/lib/python3.11/site-packages/langchain_core/_api/beta_decorator.py:87: LangChainBetaWarning: The function `loads` is in beta. It is actively being worked on, so the API may change.\n",
      "  warn_beta(\n",
      "/home/mymm_psu_gmail_com/miniconda3/envs/ficast/lib/python3.11/site-packages/langchain_core/_api/deprecation.py:141: LangChainDeprecationWarning: The class `LLMChain` was deprecated in LangChain 0.1.17 and will be removed in 1.0. Use RunnableSequence, e.g., `prompt | llm` instead.\n",
      "  warn_deprecated(\n",
      "/home/mymm_psu_gmail_com/miniconda3/envs/ficast/lib/python3.11/site-packages/langchain_core/_api/deprecation.py:141: LangChainDeprecationWarning: This class is deprecated. Use the `create_stuff_documents_chain` constructor instead. See migration guide here: https://python.langchain.com/v0.2/docs/versions/migrating_chains/stuff_docs_chain/\n",
      "  warn_deprecated(\n"
     ]
    },
    {
     "name": "stdout",
     "output_type": "stream",
     "text": [
      "\u001b[33minit\u001b[0m (to chat_manager):\n",
      "\n",
      "You are going to prepare the host for a podcast among: Joe Rogan,David Sinclair in a real-life conversation about health & longevity for as long as 10 minutes at an estimate rate of 120 words per minute.\n",
      "\n",
      "--------------------------------------------------------------------------------\n",
      "\u001b[32m\n",
      "Next speaker: research_coder\n",
      "\u001b[0m\n",
      "\u001b[33mresearch_coder\u001b[0m (to chat_manager):\n",
      "\n",
      "```python\n",
      "import requests\n",
      "from bs4 import BeautifulSoup\n",
      "\n",
      "def get_web_context(guest_name):\n",
      "    \"\"\"Fetches relevant web context for a given guest name.\"\"\"\n",
      "    search_query = f\"{guest_name} health longevity\"\n",
      "    url = f\"https://www.google.com/search?q={search_query}\"\n",
      "\n",
      "    try:\n",
      "        response = requests.get(url, headers={'User-Agent': 'Mozilla/5.0'})\n",
      "        response.raise_for_status()\n",
      "        soup = BeautifulSoup(response.content, 'html.parser')\n",
      "\n",
      "        # Extract snippets from search results\n",
      "        snippets = [meta.get('content') for meta in soup.find_all('meta', {'name': 'description'})]\n",
      "        relevant_snippets = [snippet for snippet in snippets if snippet and any(keyword in snippet for keyword in [\"health\", \"longevity\"])]\n",
      "\n",
      "        # Prepare context string\n",
      "        context = f\"Here's some context on {guest_name} and their work on health and longevity:\\n\\n\"\n",
      "        context += \"\\n\\n\".join(relevant_snippets[:3]) # Limit to 3 snippets\n",
      "\n",
      "        return context\n",
      "\n",
      "    except requests.exceptions.RequestException as e:\n",
      "        return f\"Error fetching web context: {e}\"\n",
      "\n",
      "guest_list = [\"Joe Rogan\", \"David Sinclair\"]\n",
      "for guest in guest_list:\n",
      "    context = get_web_context(guest)\n",
      "    print(f\"## Context for {guest}:\\n{context}\\n\\n\")\n",
      "```\n",
      "\n",
      "--------------------------------------------------------------------------------\n",
      "\u001b[32m\n",
      "Next speaker: executor\n",
      "\u001b[0m\n",
      "\u001b[33mexecutor\u001b[0m (to chat_manager):\n",
      "\n",
      "## Context for Joe Rogan:\n",
      "Here's some context on Joe Rogan and their work on health and longevity:\n",
      "\n",
      "- **Joe Rogan** is a stand-up comedian, mixed martial arts color commentator, and podcast host. He is known for hosting The Joe Rogan Experience, a long-form conversation with guests that has featured a variety of guests, including scientists, athletes, and entertainers.\n",
      "- **Joe Rogan** has been vocal about his interest in **health** and **longevity**, and he has interviewed a number of experts on these topics on his podcast, including Dr. Rhonda Patrick, Dr. David Sinclair, and Dr. Andrew Huberman. Rogan himself follows a strict diet and exercise regimen, and he has experimented with a variety of supplements and biohacking techniques.\n",
      "- **Joe Rogan** frequently discusses **health**, fitness, diet, and **longevity** on his podcast, \"The Joe Rogan Experience.\" He has interviewed numerous experts in these fields and is known for his own interest in biohacking and optimizing well-being.\n",
      "\n",
      "\n",
      "## Context for David Sinclair:\n",
      "Here's some context on David Sinclair and their work on health and longevity:\n",
      "\n",
      "- **David A. Sinclair**, Ph.D., AO is an Australian biologist and Professor of Genetics at Harvard Medical School and co-director of the Paul F. Glenn Center for Biology of Aging Research. He is known for his research on aging and has been featured in Time magazine's list of the 100 most influential people in the world.\n",
      "- **David Sinclair** is a leading researcher in the field of aging and **longevity**. He is known for his work on sirtuins, a class of proteins that play a role in aging, and he has written extensively about the science of aging and the potential for extending human lifespan.\n",
      "- **David Sinclair** is a geneticist and professor at Harvard Medical School who is known for his research on the biology of aging. He has authored a book titled \"Lifespan: Why We Age and Why We Don't Have To,\" where he discusses his research and insights on **longevity**.\n",
      "\n",
      "\n",
      "--------------------------------------------------------------------------------\n",
      "\u001b[32m\n",
      "Next speaker: informer\n",
      "\u001b[0m\n",
      "\u001b[33minformer\u001b[0m (to chat_manager):\n",
      "\n",
      "## Podcast Host Briefing: Joe Rogan & David Sinclair\n",
      "\n",
      "**Estimated Conversation Length:** 10 minutes\n",
      "**Topic:** Health & Longevity\n",
      "\n",
      "**Joe Rogan:**\n",
      "\n",
      "* **Known For:** Stand-up comedian, UFC commentator, and host of \"The Joe Rogan Experience\" - one of the world's most popular podcasts.\n",
      "* **Personality:**  Inquisitive, outspoken, and often humorous. Known for his long-form interviews where he delves deep into a variety of subjects.\n",
      "* **Health & Longevity Angle:**  Openly discusses his interest in biohacking, fitness, and longevity. Experiments with various diets, supplements (like Alpha Brain), and exercise regimens.  \n",
      "* **Potential Talking Points:** His personal experiences with different health practices, his thoughts on the future of longevity, how his views on health have evolved.\n",
      "\n",
      "**David Sinclair:**\n",
      "\n",
      "* **Known For:**  Leading geneticist and Professor of Genetics at Harvard Medical School.  Author of the best-selling book \"Lifespan: Why We Age—and Why We Don't Have To.\"\n",
      "* **Personality:**  Passionate science communicator, known for explaining complex research in an accessible way.\n",
      "* **Health & Longevity Angle:**  A pioneer in aging research, particularly known for his work on sirtuins and their potential to slow the aging process.\n",
      "* **Potential Talking Points:**  His latest research findings, the ethical considerations of extending lifespan, practical advice for healthy aging.\n",
      "\n",
      "**Conversation Starters:**\n",
      "\n",
      "* Joe, you've had David on your podcast before. What keeps you coming back to these conversations about health and longevity?\n",
      "* David, how do you feel about the increasing public interest in biohacking and longevity science, which Joe is a part of?\n",
      "* Are there any specific health practices or technologies you both agree or disagree on?\n",
      "\n",
      "**Note for the Host:**\n",
      "\n",
      "Expect a lively and engaging conversation. Joe will likely approach the topic with curiosity and humor, while David will provide the scientific grounding. Encourage discussion around the accessibility of these concepts for the average listener. \n",
      "\n",
      "\n",
      "--------------------------------------------------------------------------------\n",
      "\u001b[32m\n",
      "Next speaker: Joe Rogan\n",
      "\u001b[0m\n",
      "\u001b[33mJoe Rogan\u001b[0m (to chat_manager):\n",
      "\n",
      "```json\n",
      "{\n",
      "  \"speaker\": {\n",
      "    \"name\": \"Joe Rogan\",\n",
      "    \"description\": \"Joe Rogan, as himself\"\n",
      "  },\n",
      "  \"dialogue\": \"So David, we've talked about all this crazy aging stuff before, what gets you fired up about this stuff still?  What's got you freaking out excited about the future of all this?\",\n",
      "  \"inner_thought\": \"Alright, round two with David! I've been geeking out on all the longevity stuff even more since we last talked, especially NAD+. Hope I don't go full fanboy on him, gotta keep it cool, Rogan.\"\n",
      "}\n",
      "```\n",
      "\n",
      "--------------------------------------------------------------------------------\n",
      "\u001b[32m\n",
      "Next speaker: David Sinclair\n",
      "\u001b[0m\n",
      "\u001b[33mDavid Sinclair\u001b[0m (to chat_manager):\n",
      "\n",
      "```json\n",
      "{\n",
      "  \"speaker\": {\n",
      "    \"name\": \"David Sinclair\",\n",
      "    \"description\": \"Harvard Genetics Professor, Scientist\"\n",
      "  },\n",
      "  \"dialogue\": \"Joe, it's like we're staring at the instruction manual for life itself, but it's written in this crazy code. We're just starting to crack it, and what we're finding is blowing my mind.  The potential to extend our healthspan, not just lifespan, that's what really lights me up.\",\n",
      "  \"inner_thought\": \"Joe seems even more into this than last time. Gotta make sure I keep it grounded, explain the science clearly, but also convey the sheer possibility of it all.\"\n",
      "}\n",
      "```\n",
      "\n",
      "--------------------------------------------------------------------------------\n",
      "\u001b[32m\n",
      "Next speaker: Joe Rogan\n",
      "\u001b[0m\n",
      "\u001b[33mJoe Rogan\u001b[0m (to chat_manager):\n",
      "\n",
      "```json\n",
      "{\n",
      "  \"speaker\": {\n",
      "    \"name\": \"Joe Rogan\",\n",
      "    \"description\": \"Joe Rogan, as himself\"\n",
      "  },\n",
      "  \"dialogue\": \"Dude, I've been saying this!  It's not about living to 200 as a decrepit skeleton, it's about feeling good, being able to surf and train and hang with my kids when I'm 80, 90, maybe even 100.  You think that's really possible, man?  Like, no BS?\",\n",
      "  \"inner_thought\": \"Please tell me this is actually possible. I'm picturing myself at 90, still hitting the sauna and crushing podcasts. Man, that would be epic.\"\n",
      "}\n",
      "```\n",
      "\n",
      "--------------------------------------------------------------------------------\n",
      "\u001b[32m\n",
      "Next speaker: David Sinclair\n",
      "\u001b[0m\n",
      "\u001b[33mDavid Sinclair\u001b[0m (to chat_manager):\n",
      "\n",
      "```json\n",
      "{\n",
      "  \"speaker\": {\n",
      "    \"name\": \"David Sinclair\",\n",
      "    \"description\": \"Harvard Genetics Professor, Scientist\"\n",
      "  },\n",
      "  \"dialogue\": \"Joe, I don't deal in BS, I deal in science. And the science is telling us that what we used to think of as inevitable aging, it's not some fixed clock. It's a process, and we're figuring out how to influence that process.  So yeah, I think what you're talking about, it's not just possible, it's increasingly probable.\",\n",
      "  \"inner_thought\": \"He's got that gleam in his eye, that hunger to believe it. Good. It's that passion that drives progress. But I need to keep him grounded, remind him there are no guarantees...yet.\"\n",
      "}\n",
      "```\n",
      "\n",
      "--------------------------------------------------------------------------------\n",
      "\u001b[32m\n",
      "Next speaker: Joe Rogan\n",
      "\u001b[0m\n",
      "\u001b[33mJoe Rogan\u001b[0m (to chat_manager):\n",
      "\n",
      "```json\n",
      "{\n",
      "  \"speaker\": {\n",
      "    \"name\": \"Joe Rogan\",\n",
      "    \"description\": \"Joe Rogan, as himself\"\n",
      "  },\n",
      "  \"dialogue\": \"Alright, so break it down for me, and for everyone listening who's not a scientist. What are the big things on the horizon, the stuff that has you most fired up?  What's the cutting edge we need to be wrapping our heads around?\",\n",
      "  \"inner_thought\": \"Time to go full Rogan and get into the weeds on this. I want the details, the mechanisms, the why behind it all. This is where it gets really interesting.\"\n",
      "}\n",
      "```\n",
      "\n",
      "--------------------------------------------------------------------------------\n",
      "\u001b[32m\n",
      "Next speaker: David Sinclair\n",
      "\u001b[0m\n",
      "\u001b[33mDavid Sinclair\u001b[0m (to chat_manager):\n",
      "\n",
      "```json\n",
      "{\n",
      "  \"speaker\": {\n",
      "    \"name\": \"David Sinclair\",\n",
      "    \"description\": \"Harvard Genetics Professor, Scientist\"\n",
      "  },\n",
      "  \"dialogue\": \"Okay, Joe, picture this: our cells are like these amazing little factories, right?  But over time, the instructions get blurry, mistakes happen. That's aging in a nutshell. But here's the cool part, we're finding ways to sharpen those instructions again.  Things like activating sirtuins, these 'longevity genes,' or reprogramming cells with something like Yamanaka factors. It's like hitting the reset button.\",\n",
      "  \"inner_thought\": \"Got to keep it engaging for his audience. Analogies, visuals... Hit them with the 'why' before the hardcore 'how'. Joe's on board, now to bring along everyone else listening.\"\n",
      "}\n",
      "```\n",
      "\n",
      "--------------------------------------------------------------------------------\n",
      "\u001b[32m\n",
      "Next speaker: Joe Rogan\n",
      "\u001b[0m\n",
      "\u001b[33mJoe Rogan\u001b[0m (to chat_manager):\n",
      "\n",
      "```json\n",
      "{\n",
      "  \"speaker\": {\n",
      "    \"name\": \"Joe Rogan\",\n",
      "    \"description\": \"Joe Rogan, as himself\"\n",
      "  },\n",
      "  \"dialogue\": \"Hold up, Yamanaka factors?  We're talking about turning old cells into young cells, like Benjamin Button stuff?  Is that what you're saying?\",\n",
      "  \"inner_thought\": \"Whoa, this is some next-level stuff.  Yamanaka factors? Sounds like something out of a sci-fi movie. But if it's real... damn, this changes everything.\"\n",
      "}\n",
      "```\n",
      "\n",
      "--------------------------------------------------------------------------------\n",
      "\u001b[32m\n",
      "Next speaker: David Sinclair\n",
      "\u001b[0m\n",
      "\u001b[33mDavid Sinclair\u001b[0m (to chat_manager):\n",
      "\n",
      "```json\n",
      "{\n",
      "  \"speaker\": {\n",
      "    \"name\": \"David Sinclair\",\n",
      "    \"description\": \"Harvard Genetics Professor, Scientist\"\n",
      "  },\n",
      "  \"dialogue\": \"It sounds like science fiction, but it's real science, Joe.  Shinya Yamanaka, he figured out you can actually reprogram cells back to a younger state. It's like turning back the clock built into our cells. Now, we're not injecting people with this stuff yet, it's early, but the implications are HUGE.\",\n",
      "  \"inner_thought\": \"He's picked up on it, good. Yamanaka factors are mind-blowing, gotta tread carefully, excitement's good, hype isn't.  Emphasize it's real but early days.\"\n",
      "}\n",
      "```\n",
      "\n",
      "--------------------------------------------------------------------------------\n",
      "\u001b[32m\n",
      "Next speaker: Joe Rogan\n",
      "\u001b[0m\n",
      "\u001b[33mJoe Rogan\u001b[0m (to chat_manager):\n",
      "\n",
      "```json\n",
      "{\n",
      "  \"speaker\": {\n",
      "    \"name\": \"Joe Rogan\",\n",
      "    \"description\": \"Joe Rogan, as himself\"\n",
      "  },\n",
      "  \"dialogue\": \"Huge is an understatement, dude.  So, if this works, and obviously it's still a big 'if', but if it does, what does that even look like?  Are we talking about people living to be 200 years old? 500? What's the ceiling here?\",\n",
      "  \"inner_thought\": \"Okay, now my brain is officially blown.  I gotta try and wrap my head around this.  We're talking about potentially changing the entire game of life and death here.  This is some serious stuff.\"\n",
      "}\n",
      "```\n",
      "\n",
      "--------------------------------------------------------------------------------\n",
      "\u001b[32m\n",
      "Next speaker: David Sinclair\n",
      "\u001b[0m\n",
      "\u001b[33mDavid Sinclair\u001b[0m (to chat_manager):\n",
      "\n",
      "```json\n",
      "{\n",
      "  \"speaker\": {\n",
      "    \"name\": \"David Sinclair\",\n",
      "    \"description\": \"Harvard Genetics Professor, Scientist\"\n",
      "  },\n",
      "  \"dialogue\": \"Joe, that's the million-dollar question, isn't it?  Honestly, we don't know the ceiling yet.  But it's not just about how long, it's about how WELL we live those years. Imagine if 80 or 90 became the new 50, not in terms of looks necessarily, but in terms of vitality, energy, health. That's the goal.\",\n",
      "  \"inner_thought\": \"Here we go, into the longevity singularity. Gotta steer carefully. Hope is good, outlandish promises aren't.  Focus on healthspan, not just lifespan.\"\n",
      "}\n",
      "```\n",
      "\n",
      "--------------------------------------------------------------------------------\n",
      "\u001b[32m\n",
      "Next speaker: Joe Rogan\n",
      "\u001b[0m\n",
      "\u001b[33mJoe Rogan\u001b[0m (to chat_manager):\n",
      "\n",
      "```json\n",
      "{\n",
      "  \"speaker\": {\n",
      "    \"name\": \"Joe Rogan\",\n",
      "    \"description\": \"Joe Rogan, as himself\"\n",
      "  },\n",
      "  \"dialogue\": \"Okay, so how do we get there?  Let's say I'm listening to this, and I'm like everyone else, I don't want to get old, I want to feel good for as long as possible.  What can people actually DO right now while all this amazing science is developing?\",\n",
      "  \"inner_thought\": \"Alright, time to bring it back down to earth. My listeners are smart, but they want practical advice, too.  Hit them with the actionable stuff, David!\"\n",
      "}\n",
      "```\n",
      "\n",
      "--------------------------------------------------------------------------------\n",
      "\u001b[32m\n",
      "Next speaker: David Sinclair\n",
      "\u001b[0m\n",
      "\u001b[33mDavid Sinclair\u001b[0m (to chat_manager):\n",
      "\n",
      "```json\n",
      "{\n",
      "  \"speaker\": {\n",
      "    \"name\": \"David Sinclair\",\n",
      "    \"description\": \"Harvard Genetics Professor, Scientist\"\n",
      "  },\n",
      "  \"dialogue\": \"You want the good news? A lot of this isn't even that complicated, Joe. We're talking about the basics, but taking them seriously.  Eating a healthy diet, mostly plants, not overdoing it.  Exercise, but not just pounding weights, mix it up.  Get enough sleep, manage stress, these things matter. \",\n",
      "  \"inner_thought\": \"Time for the lifestyle medicine gospel. People want the magic pill, but the basics are still where it's at. Emphasize sustainability, it's a marathon, not a sprint.\"\n",
      "}\n",
      "```\n",
      "\n",
      "--------------------------------------------------------------------------------\n",
      "\u001b[32m\n",
      "Next speaker: Joe Rogan\n",
      "\u001b[0m\n",
      "\u001b[33mJoe Rogan\u001b[0m (to chat_manager):\n",
      "\n",
      "```json\n",
      "{\n",
      "  \"speaker\": {\n",
      "    \"name\": \"Joe Rogan\",\n",
      "    \"description\": \"Joe Rogan, as himself\"\n",
      "  },\n",
      "  \"dialogue\": \"See, I'm with you on all that.  I'm all about the sauna, cold plunges, eating clean.  But you know me, I like to push the limits.  What about the supplements, man?  NR, Metformin, everyone's asking about this stuff.  What's your take?\",\n",
      "  \"inner_thought\": \"Alright, time to get into the nitty-gritty.  My people want the specifics, the biohacks, the stuff they can try *today*.\" \n",
      "}\n",
      "```\n",
      "\n",
      "--------------------------------------------------------------------------------\n",
      "\u001b[32m\n",
      "Next speaker: David Sinclair\n",
      "\u001b[0m\n",
      "\u001b[33mDavid Sinclair\u001b[0m (to chat_manager):\n",
      "\n",
      "```json\n",
      "{\n",
      "  \"speaker\": {\n",
      "    \"name\": \"David Sinclair\",\n",
      "    \"description\": \"Harvard Genetics Professor, Scientist\"\n",
      "  },\n",
      "  \"dialogue\": \"Okay, Joe, but you know I have to say it: I'm a scientist, not a doctor, so this isn't medical advice, right? Now, with that said, there's some promising stuff out there.  I've talked about my own regimen, things like NMN, resveratrol, metformin... but the key is, these aren't magic bullets. They're tools, and you gotta use them responsibly, ideally with a doctor's guidance.\",\n",
      "  \"inner_thought\": \"Here comes the supplement minefield. Gotta be careful, Joe's audience is huge, responsibility weighs heavy.  Stress safety first, research over blind enthusiasm.\"\n",
      "}\n",
      "```\n",
      "\n",
      "--------------------------------------------------------------------------------\n",
      "\u001b[32m\n",
      "Next speaker: Joe Rogan\n",
      "\u001b[0m\n",
      "\u001b[33mJoe Rogan\u001b[0m (to chat_manager):\n",
      "\n",
      "```json\n",
      "{\n",
      "  \"speaker\": {\n",
      "    \"name\": \"Joe Rogan\",\n",
      "    \"description\": \"Joe Rogan, as himself\"\n",
      "  },\n",
      "  \"dialogue\": \"Right on, always better to be safe than sorry. And we'll make sure to put all the relevant links and studies in the show notes for everyone listening.  But for me, the big takeaway here is, we're on the cusp of something incredible, real paradigm-shifting stuff.  Am I right?\",\n",
      "  \"inner_thought\": \"Man, I gotta have David back on when some of this stuff gets closer to reality. We're barely scratching the surface here. This conversation is just the beginning.\"\n",
      "}\n",
      "```\n",
      "\n",
      "--------------------------------------------------------------------------------\n",
      "\u001b[32m\n",
      "Next speaker: script_parser\n",
      "\u001b[0m\n",
      "\u001b[33mscript_parser\u001b[0m (to chat_manager):\n",
      "\n",
      "```json\n",
      "{\"title\": \"The Joe Rogan Experience: Health & Longevity\", \"abstract\": \"Joe Rogan sits down with renowned geneticist, Dr. David Sinclair, to explore the latest advancements in longevity science and the quest for a longer, healthier lifespan.\", \"dialogues\": [{\"speaker\": {\"name\": \"Joe Rogan\", \"description\": \"Joe Rogan, as himself\"}, \"dialogue\": \"So David, we've talked about all this crazy aging stuff before, what gets you fired up about this stuff still?  What's got you freaking out excited about the future of all this?\", \"inner_thought\": \"Alright, round two with David! I've been geeking out on all the longevity stuff even more since we last talked, especially NAD+. Hope I don't go full fanboy on him, gotta keep it cool, Rogan.\"}, {\"speaker\": {\"name\": \"David Sinclair\", \"description\": \"Harvard Genetics Professor, Scientist\"}, \"dialogue\": \"Joe, it's like we're staring at the instruction manual for life itself, but it's written in this crazy code. We're just starting to crack it, and what we're finding is blowing my mind.  The potential to extend our healthspan, not just lifespan, that's what really lights me up.\", \"inner_thought\": \"Joe seems even more into this than last time. Gotta make sure I keep it grounded, explain the science clearly, but also convey the sheer possibility of it all.\"}, {\"speaker\": {\"name\": \"Joe Rogan\", \"description\": \"Joe Rogan, as himself\"}, \"dialogue\": \"Dude, I've been saying this!  It's not about living to 200 as a decrepit skeleton, it's about feeling good, being able to surf and train and hang with my kids when I'm 80, 90, maybe even 100.  You think that's really possible, man?  Like, no BS?\", \"inner_thought\": \"Please tell me this is actually possible. I'm picturing myself at 90, still hitting the sauna and crushing podcasts. Man, that would be epic.\"}, {\"speaker\": {\"name\": \"David Sinclair\", \"description\": \"Harvard Genetics Professor, Scientist\"}, \"dialogue\": \"Joe, I don't deal in BS, I deal in science. And the science is telling us that what we used to think of as inevitable aging, it's not some fixed clock. It's a process, and we're figuring out how to influence that process.  So yeah, I think what you're talking about, it's not just possible, it's increasingly probable.\", \"inner_thought\": \"He's got that gleam in his eye, that hunger to believe it. Good. It's that passion that drives progress. But I need to keep him grounded, remind him there are no guarantees...yet.\"}, {\"speaker\": {\"name\": \"Joe Rogan\", \"description\": \"Joe Rogan, as himself\"}, \"dialogue\": \"Alright, so break it down for me, and for everyone listening who's not a scientist. What are the big things on the horizon, the stuff that has you most fired up?  What's the cutting edge we need to be wrapping our heads around?\", \"inner_thought\": \"Time to go full Rogan and get into the weeds on this. I want the details, the mechanisms, the why behind it all. This is where it gets really interesting.\"}, {\"speaker\": {\"name\": \"David Sinclair\", \"description\": \"Harvard Genetics Professor, Scientist\"}, \"dialogue\": \"Okay, Joe, picture this: our cells are like these amazing little factories, right?  But over time, the instructions get blurry, mistakes happen. That's aging in a nutshell. But here's the cool part, we're finding ways to sharpen those instructions again.  Things like activating sirtuins, these 'longevity genes,' or reprogramming cells with something like Yamanaka factors. It's like hitting the reset button.\", \"inner_thought\": \"Got to keep it engaging for his audience. Analogies, visuals... Hit them with the 'why' before the hardcore 'how'. Joe's on board, now to bring along everyone else listening.\"}, {\"speaker\": {\"name\": \"Joe Rogan\", \"description\": \"Joe Rogan, as himself\"}, \"dialogue\": \"Hold up, Yamanaka factors?  We're talking about turning old cells into young cells, like Benjamin Button stuff?  Is that what you're saying?\", \"inner_thought\": \"Whoa, this is some next-level stuff.  Yamanaka factors? Sounds like something out of a sci-fi movie. But if it's real... damn, this changes everything.\"}, {\"speaker\": {\"name\": \"David Sinclair\", \"description\": \"Harvard Genetics Professor, Scientist\"}, \"dialogue\": \"It sounds like science fiction, but it's real science, Joe.  Shinya Yamanaka, he figured out you can actually reprogram cells back to a younger state. It's like turning back the clock built into our cells. Now, we're not injecting people with this stuff yet, it's early, but the implications are HUGE.\", \"inner_thought\": \"He's picked up on it, good. Yamanaka factors are mind-blowing, gotta tread carefully, excitement's good, hype isn't.  Emphasize it's real but early days.\"}, {\"speaker\": {\"name\": \"Joe Rogan\", \"description\": \"Joe Rogan, as himself\"}, \"dialogue\": \"Huge is an understatement, dude.  So, if this works, and obviously it's still a big 'if', but if it does, what does that even look like?  Are we talking about people living to be 200 years old? 500? What's the ceiling here?\", \"inner_thought\": \"Okay, now my brain is officially blown.  I gotta try and wrap my head around this.  We're talking about potentially changing the entire game of life and death here.  This is some serious stuff.\"}, {\"speaker\": {\"name\": \"David Sinclair\", \"description\": \"Harvard Genetics Professor, Scientist\"}, \"dialogue\": \"Joe, that's the million-dollar question, isn't it?  Honestly, we don't know the ceiling yet.  But it's not just about how long, it's about how WELL we live those years. Imagine if 80 or 90 became the new 50, not in terms of looks necessarily, but in terms of vitality, energy, health. That's the goal.\", \"inner_thought\": \"Here we go, into the longevity singularity. Gotta steer carefully. Hope is good, outlandish promises aren't.  Focus on healthspan, not just lifespan.\"}, {\"speaker\": {\"name\": \"Joe Rogan\", \"description\": \"Joe Rogan, as himself\"}, \"dialogue\": \"Okay, so how do we get there?  Let's say I'm listening to this, and I'm like everyone else, I don't want to get old, I want to feel good for as long as possible.  What can people actually DO right now while all this amazing science is developing?\", \"inner_thought\": \"Alright, time to bring it back down to earth. My listeners are smart, but they want practical advice, too.  Hit them with the actionable stuff, David!\"}, {\"speaker\": {\"name\": \"David Sinclair\", \"description\": \"Harvard Genetics Professor, Scientist\"}, \"dialogue\": \"You want the good news? A lot of this isn't even that complicated, Joe. We're talking about the basics, but taking them seriously.  Eating a healthy diet, mostly plants, not overdoing it.  Exercise, but not just pounding weights, mix it up.  Get enough sleep, manage stress, these things matter. \", \"inner_thought\": \"Time for the lifestyle medicine gospel. People want the magic pill, but the basics are still where it's at. Emphasize sustainability, it's a marathon, not a sprint.\"}, {\"speaker\": {\"name\": \"Joe Rogan\", \"description\": \"Joe Rogan, as himself\"}, \"dialogue\": \"See, I'm with you on all that.  I'm all about the sauna, cold plunges, eating clean.  But you know me, I like to push the limits.  What about the supplements, man?  NR, Metformin, everyone's asking about this stuff.  What's your take?\", \"inner_thought\": \"Alright, time to get into the nitty-gritty.  My people want the specifics, the biohacks, the stuff they can try *today*.\"}, {\"speaker\": {\"name\": \"David Sinclair\", \"description\": \"Harvard Genetics Professor, Scientist\"}, \"dialogue\": \"Okay, Joe, but you know I have to say it: I'm a scientist, not a doctor, so this isn't medical advice, right? Now, with that said, there's some promising stuff out there.  I've talked about my own regimen, things like NMN, resveratrol, metformin... but the key is, these aren't magic bullets. They're tools, and you gotta use them responsibly, ideally with a doctor's guidance.\", \"inner_thought\": \"Here comes the supplement minefield. Gotta be careful, Joe's audience is huge, responsibility weighs heavy.  Stress safety first, research over blind enthusiasm.\"}, {\"speaker\": {\"name\": \"Joe Rogan\", \"description\": \"Joe Rogan, as himself\"}, \"dialogue\": \"Right on, always better to be safe than sorry. And we'll make sure to put all the relevant links and studies in the show notes for everyone listening.  But for me, the big takeaway here is, we're on the cusp of something incredible, real paradigm-shifting stuff.  Am I right?\", \"inner_thought\": \"Man, I gotta have David back on when some of this stuff gets closer to reality. We're barely scratching the surface here. This conversation is just the beginning.\"}]}\n",
      "```\n",
      "\n",
      "--------------------------------------------------------------------------------\n"
     ]
    }
   ],
   "source": [
    "chat_result = my_podcast.create()"
   ]
  },
  {
   "cell_type": "code",
   "execution_count": 9,
   "metadata": {},
   "outputs": [
    {
     "data": {
      "text/plain": [
       "{'content': 'You are going to prepare the host for a podcast among: Joe Rogan,David Sinclair in a real-life conversation about health & longevity for as long as 10 minutes at an estimate rate of 120 words per minute.',\n",
       " 'role': 'assistant'}"
      ]
     },
     "execution_count": 9,
     "metadata": {},
     "output_type": "execute_result"
    }
   ],
   "source": [
    "chat_result[0]"
   ]
  },
  {
   "cell_type": "code",
   "execution_count": 10,
   "metadata": {},
   "outputs": [
    {
     "data": {
      "text/plain": [
       "[{'content': '## Podcast Host Briefing: Joe Rogan & David Sinclair\\n\\n**Estimated Conversation Length:** 10 minutes\\n**Topic:** Health & Longevity\\n\\n**Joe Rogan:**\\n\\n* **Known For:** Stand-up comedian, UFC commentator, and host of \"The Joe Rogan Experience\" - one of the world\\'s most popular podcasts.\\n* **Personality:**  Inquisitive, outspoken, and often humorous. Known for his long-form interviews where he delves deep into a variety of subjects.\\n* **Health & Longevity Angle:**  Openly discusses his interest in biohacking, fitness, and longevity. Experiments with various diets, supplements (like Alpha Brain), and exercise regimens.  \\n* **Potential Talking Points:** His personal experiences with different health practices, his thoughts on the future of longevity, how his views on health have evolved.\\n\\n**David Sinclair:**\\n\\n* **Known For:**  Leading geneticist and Professor of Genetics at Harvard Medical School.  Author of the best-selling book \"Lifespan: Why We Age—and Why We Don\\'t Have To.\"\\n* **Personality:**  Passionate science communicator, known for explaining complex research in an accessible way.\\n* **Health & Longevity Angle:**  A pioneer in aging research, particularly known for his work on sirtuins and their potential to slow the aging process.\\n* **Potential Talking Points:**  His latest research findings, the ethical considerations of extending lifespan, practical advice for healthy aging.\\n\\n**Conversation Starters:**\\n\\n* Joe, you\\'ve had David on your podcast before. What keeps you coming back to these conversations about health and longevity?\\n* David, how do you feel about the increasing public interest in biohacking and longevity science, which Joe is a part of?\\n* Are there any specific health practices or technologies you both agree or disagree on?\\n\\n**Note for the Host:**\\n\\nExpect a lively and engaging conversation. Joe will likely approach the topic with curiosity and humor, while David will provide the scientific grounding. Encourage discussion around the accessibility of these concepts for the average listener. \\n',\n",
       "  'name': 'informer',\n",
       "  'role': 'user'},\n",
       " {'content': '```json\\n{\\n  \"speaker\": {\\n    \"name\": \"Joe Rogan\",\\n    \"description\": \"Joe Rogan, as himself\"\\n  },\\n  \"dialogue\": \"So David, we\\'ve talked about all this crazy aging stuff before, what gets you fired up about this stuff still?  What\\'s got you freaking out excited about the future of all this?\",\\n  \"inner_thought\": \"Alright, round two with David! I\\'ve been geeking out on all the longevity stuff even more since we last talked, especially NAD+. Hope I don\\'t go full fanboy on him, gotta keep it cool, Rogan.\"\\n}\\n```',\n",
       "  'name': 'Joe Rogan',\n",
       "  'role': 'user'},\n",
       " {'content': '```json\\n{\\n  \"speaker\": {\\n    \"name\": \"David Sinclair\",\\n    \"description\": \"Harvard Genetics Professor, Scientist\"\\n  },\\n  \"dialogue\": \"Joe, it\\'s like we\\'re staring at the instruction manual for life itself, but it\\'s written in this crazy code. We\\'re just starting to crack it, and what we\\'re finding is blowing my mind.  The potential to extend our healthspan, not just lifespan, that\\'s what really lights me up.\",\\n  \"inner_thought\": \"Joe seems even more into this than last time. Gotta make sure I keep it grounded, explain the science clearly, but also convey the sheer possibility of it all.\"\\n}\\n```',\n",
       "  'name': 'David Sinclair',\n",
       "  'role': 'user'},\n",
       " {'content': '```json\\n{\\n  \"speaker\": {\\n    \"name\": \"Joe Rogan\",\\n    \"description\": \"Joe Rogan, as himself\"\\n  },\\n  \"dialogue\": \"Dude, I\\'ve been saying this!  It\\'s not about living to 200 as a decrepit skeleton, it\\'s about feeling good, being able to surf and train and hang with my kids when I\\'m 80, 90, maybe even 100.  You think that\\'s really possible, man?  Like, no BS?\",\\n  \"inner_thought\": \"Please tell me this is actually possible. I\\'m picturing myself at 90, still hitting the sauna and crushing podcasts. Man, that would be epic.\"\\n}\\n```',\n",
       "  'name': 'Joe Rogan',\n",
       "  'role': 'user'},\n",
       " {'content': '```json\\n{\\n  \"speaker\": {\\n    \"name\": \"David Sinclair\",\\n    \"description\": \"Harvard Genetics Professor, Scientist\"\\n  },\\n  \"dialogue\": \"Joe, I don\\'t deal in BS, I deal in science. And the science is telling us that what we used to think of as inevitable aging, it\\'s not some fixed clock. It\\'s a process, and we\\'re figuring out how to influence that process.  So yeah, I think what you\\'re talking about, it\\'s not just possible, it\\'s increasingly probable.\",\\n  \"inner_thought\": \"He\\'s got that gleam in his eye, that hunger to believe it. Good. It\\'s that passion that drives progress. But I need to keep him grounded, remind him there are no guarantees...yet.\"\\n}\\n```',\n",
       "  'name': 'David Sinclair',\n",
       "  'role': 'user'},\n",
       " {'content': '```json\\n{\\n  \"speaker\": {\\n    \"name\": \"Joe Rogan\",\\n    \"description\": \"Joe Rogan, as himself\"\\n  },\\n  \"dialogue\": \"Alright, so break it down for me, and for everyone listening who\\'s not a scientist. What are the big things on the horizon, the stuff that has you most fired up?  What\\'s the cutting edge we need to be wrapping our heads around?\",\\n  \"inner_thought\": \"Time to go full Rogan and get into the weeds on this. I want the details, the mechanisms, the why behind it all. This is where it gets really interesting.\"\\n}\\n```',\n",
       "  'name': 'Joe Rogan',\n",
       "  'role': 'user'},\n",
       " {'content': '```json\\n{\\n  \"speaker\": {\\n    \"name\": \"David Sinclair\",\\n    \"description\": \"Harvard Genetics Professor, Scientist\"\\n  },\\n  \"dialogue\": \"Okay, Joe, picture this: our cells are like these amazing little factories, right?  But over time, the instructions get blurry, mistakes happen. That\\'s aging in a nutshell. But here\\'s the cool part, we\\'re finding ways to sharpen those instructions again.  Things like activating sirtuins, these \\'longevity genes,\\' or reprogramming cells with something like Yamanaka factors. It\\'s like hitting the reset button.\",\\n  \"inner_thought\": \"Got to keep it engaging for his audience. Analogies, visuals... Hit them with the \\'why\\' before the hardcore \\'how\\'. Joe\\'s on board, now to bring along everyone else listening.\"\\n}\\n```',\n",
       "  'name': 'David Sinclair',\n",
       "  'role': 'user'},\n",
       " {'content': '```json\\n{\\n  \"speaker\": {\\n    \"name\": \"Joe Rogan\",\\n    \"description\": \"Joe Rogan, as himself\"\\n  },\\n  \"dialogue\": \"Hold up, Yamanaka factors?  We\\'re talking about turning old cells into young cells, like Benjamin Button stuff?  Is that what you\\'re saying?\",\\n  \"inner_thought\": \"Whoa, this is some next-level stuff.  Yamanaka factors? Sounds like something out of a sci-fi movie. But if it\\'s real... damn, this changes everything.\"\\n}\\n```',\n",
       "  'name': 'Joe Rogan',\n",
       "  'role': 'user'},\n",
       " {'content': '```json\\n{\\n  \"speaker\": {\\n    \"name\": \"David Sinclair\",\\n    \"description\": \"Harvard Genetics Professor, Scientist\"\\n  },\\n  \"dialogue\": \"It sounds like science fiction, but it\\'s real science, Joe.  Shinya Yamanaka, he figured out you can actually reprogram cells back to a younger state. It\\'s like turning back the clock built into our cells. Now, we\\'re not injecting people with this stuff yet, it\\'s early, but the implications are HUGE.\",\\n  \"inner_thought\": \"He\\'s picked up on it, good. Yamanaka factors are mind-blowing, gotta tread carefully, excitement\\'s good, hype isn\\'t.  Emphasize it\\'s real but early days.\"\\n}\\n```',\n",
       "  'name': 'David Sinclair',\n",
       "  'role': 'user'},\n",
       " {'content': '```json\\n{\\n  \"speaker\": {\\n    \"name\": \"Joe Rogan\",\\n    \"description\": \"Joe Rogan, as himself\"\\n  },\\n  \"dialogue\": \"Huge is an understatement, dude.  So, if this works, and obviously it\\'s still a big \\'if\\', but if it does, what does that even look like?  Are we talking about people living to be 200 years old? 500? What\\'s the ceiling here?\",\\n  \"inner_thought\": \"Okay, now my brain is officially blown.  I gotta try and wrap my head around this.  We\\'re talking about potentially changing the entire game of life and death here.  This is some serious stuff.\"\\n}\\n```',\n",
       "  'name': 'Joe Rogan',\n",
       "  'role': 'user'},\n",
       " {'content': '```json\\n{\\n  \"speaker\": {\\n    \"name\": \"David Sinclair\",\\n    \"description\": \"Harvard Genetics Professor, Scientist\"\\n  },\\n  \"dialogue\": \"Joe, that\\'s the million-dollar question, isn\\'t it?  Honestly, we don\\'t know the ceiling yet.  But it\\'s not just about how long, it\\'s about how WELL we live those years. Imagine if 80 or 90 became the new 50, not in terms of looks necessarily, but in terms of vitality, energy, health. That\\'s the goal.\",\\n  \"inner_thought\": \"Here we go, into the longevity singularity. Gotta steer carefully. Hope is good, outlandish promises aren\\'t.  Focus on healthspan, not just lifespan.\"\\n}\\n```',\n",
       "  'name': 'David Sinclair',\n",
       "  'role': 'user'},\n",
       " {'content': '```json\\n{\\n  \"speaker\": {\\n    \"name\": \"Joe Rogan\",\\n    \"description\": \"Joe Rogan, as himself\"\\n  },\\n  \"dialogue\": \"Okay, so how do we get there?  Let\\'s say I\\'m listening to this, and I\\'m like everyone else, I don\\'t want to get old, I want to feel good for as long as possible.  What can people actually DO right now while all this amazing science is developing?\",\\n  \"inner_thought\": \"Alright, time to bring it back down to earth. My listeners are smart, but they want practical advice, too.  Hit them with the actionable stuff, David!\"\\n}\\n```',\n",
       "  'name': 'Joe Rogan',\n",
       "  'role': 'user'},\n",
       " {'content': '```json\\n{\\n  \"speaker\": {\\n    \"name\": \"David Sinclair\",\\n    \"description\": \"Harvard Genetics Professor, Scientist\"\\n  },\\n  \"dialogue\": \"You want the good news? A lot of this isn\\'t even that complicated, Joe. We\\'re talking about the basics, but taking them seriously.  Eating a healthy diet, mostly plants, not overdoing it.  Exercise, but not just pounding weights, mix it up.  Get enough sleep, manage stress, these things matter. \",\\n  \"inner_thought\": \"Time for the lifestyle medicine gospel. People want the magic pill, but the basics are still where it\\'s at. Emphasize sustainability, it\\'s a marathon, not a sprint.\"\\n}\\n```',\n",
       "  'name': 'David Sinclair',\n",
       "  'role': 'user'},\n",
       " {'content': '```json\\n{\\n  \"speaker\": {\\n    \"name\": \"Joe Rogan\",\\n    \"description\": \"Joe Rogan, as himself\"\\n  },\\n  \"dialogue\": \"See, I\\'m with you on all that.  I\\'m all about the sauna, cold plunges, eating clean.  But you know me, I like to push the limits.  What about the supplements, man?  NR, Metformin, everyone\\'s asking about this stuff.  What\\'s your take?\",\\n  \"inner_thought\": \"Alright, time to get into the nitty-gritty.  My people want the specifics, the biohacks, the stuff they can try *today*.\" \\n}\\n```',\n",
       "  'name': 'Joe Rogan',\n",
       "  'role': 'user'},\n",
       " {'content': '```json\\n{\\n  \"speaker\": {\\n    \"name\": \"David Sinclair\",\\n    \"description\": \"Harvard Genetics Professor, Scientist\"\\n  },\\n  \"dialogue\": \"Okay, Joe, but you know I have to say it: I\\'m a scientist, not a doctor, so this isn\\'t medical advice, right? Now, with that said, there\\'s some promising stuff out there.  I\\'ve talked about my own regimen, things like NMN, resveratrol, metformin... but the key is, these aren\\'t magic bullets. They\\'re tools, and you gotta use them responsibly, ideally with a doctor\\'s guidance.\",\\n  \"inner_thought\": \"Here comes the supplement minefield. Gotta be careful, Joe\\'s audience is huge, responsibility weighs heavy.  Stress safety first, research over blind enthusiasm.\"\\n}\\n```',\n",
       "  'name': 'David Sinclair',\n",
       "  'role': 'user'},\n",
       " {'content': '```json\\n{\\n  \"speaker\": {\\n    \"name\": \"Joe Rogan\",\\n    \"description\": \"Joe Rogan, as himself\"\\n  },\\n  \"dialogue\": \"Right on, always better to be safe than sorry. And we\\'ll make sure to put all the relevant links and studies in the show notes for everyone listening.  But for me, the big takeaway here is, we\\'re on the cusp of something incredible, real paradigm-shifting stuff.  Am I right?\",\\n  \"inner_thought\": \"Man, I gotta have David back on when some of this stuff gets closer to reality. We\\'re barely scratching the surface here. This conversation is just the beginning.\"\\n}\\n```',\n",
       "  'name': 'Joe Rogan',\n",
       "  'role': 'user'}]"
      ]
     },
     "execution_count": 10,
     "metadata": {},
     "output_type": "execute_result"
    }
   ],
   "source": [
    "# raw string script\n",
    "my_podcast.raw_script"
   ]
  },
  {
   "cell_type": "code",
   "execution_count": 11,
   "metadata": {},
   "outputs": [
    {
     "data": {
      "text/plain": [
       "[{'content': '## Podcast Host Briefing: Joe Rogan & David Sinclair\\n\\n**Estimated Conversation Length:** 10 minutes\\n**Topic:** Health & Longevity\\n\\n**Joe Rogan:**\\n\\n* **Known For:** Stand-up comedian, UFC commentator, and host of \"The Joe Rogan Experience\" - one of the world\\'s most popular podcasts.\\n* **Personality:**  Inquisitive, outspoken, and often humorous. Known for his long-form interviews where he delves deep into a variety of subjects.\\n* **Health & Longevity Angle:**  Openly discusses his interest in biohacking, fitness, and longevity. Experiments with various diets, supplements (like Alpha Brain), and exercise regimens.  \\n* **Potential Talking Points:** His personal experiences with different health practices, his thoughts on the future of longevity, how his views on health have evolved.\\n\\n**David Sinclair:**\\n\\n* **Known For:**  Leading geneticist and Professor of Genetics at Harvard Medical School.  Author of the best-selling book \"Lifespan: Why We Age—and Why We Don\\'t Have To.\"\\n* **Personality:**  Passionate science communicator, known for explaining complex research in an accessible way.\\n* **Health & Longevity Angle:**  A pioneer in aging research, particularly known for his work on sirtuins and their potential to slow the aging process.\\n* **Potential Talking Points:**  His latest research findings, the ethical considerations of extending lifespan, practical advice for healthy aging.\\n\\n**Conversation Starters:**\\n\\n* Joe, you\\'ve had David on your podcast before. What keeps you coming back to these conversations about health and longevity?\\n* David, how do you feel about the increasing public interest in biohacking and longevity science, which Joe is a part of?\\n* Are there any specific health practices or technologies you both agree or disagree on?\\n\\n**Note for the Host:**\\n\\nExpect a lively and engaging conversation. Joe will likely approach the topic with curiosity and humor, while David will provide the scientific grounding. Encourage discussion around the accessibility of these concepts for the average listener. \\n',\n",
       "  'name': 'informer',\n",
       "  'role': 'user'},\n",
       " {'content': '```json\\n{\\n  \"speaker\": {\\n    \"name\": \"Joe Rogan\",\\n    \"description\": \"Joe Rogan, as himself\"\\n  },\\n  \"dialogue\": \"So David, we\\'ve talked about all this crazy aging stuff before, what gets you fired up about this stuff still?  What\\'s got you freaking out excited about the future of all this?\",\\n  \"inner_thought\": \"Alright, round two with David! I\\'ve been geeking out on all the longevity stuff even more since we last talked, especially NAD+. Hope I don\\'t go full fanboy on him, gotta keep it cool, Rogan.\"\\n}\\n```',\n",
       "  'name': 'Joe Rogan',\n",
       "  'role': 'user'},\n",
       " {'content': '```json\\n{\\n  \"speaker\": {\\n    \"name\": \"David Sinclair\",\\n    \"description\": \"Harvard Genetics Professor, Scientist\"\\n  },\\n  \"dialogue\": \"Joe, it\\'s like we\\'re staring at the instruction manual for life itself, but it\\'s written in this crazy code. We\\'re just starting to crack it, and what we\\'re finding is blowing my mind.  The potential to extend our healthspan, not just lifespan, that\\'s what really lights me up.\",\\n  \"inner_thought\": \"Joe seems even more into this than last time. Gotta make sure I keep it grounded, explain the science clearly, but also convey the sheer possibility of it all.\"\\n}\\n```',\n",
       "  'name': 'David Sinclair',\n",
       "  'role': 'user'},\n",
       " {'content': '```json\\n{\\n  \"speaker\": {\\n    \"name\": \"Joe Rogan\",\\n    \"description\": \"Joe Rogan, as himself\"\\n  },\\n  \"dialogue\": \"Dude, I\\'ve been saying this!  It\\'s not about living to 200 as a decrepit skeleton, it\\'s about feeling good, being able to surf and train and hang with my kids when I\\'m 80, 90, maybe even 100.  You think that\\'s really possible, man?  Like, no BS?\",\\n  \"inner_thought\": \"Please tell me this is actually possible. I\\'m picturing myself at 90, still hitting the sauna and crushing podcasts. Man, that would be epic.\"\\n}\\n```',\n",
       "  'name': 'Joe Rogan',\n",
       "  'role': 'user'},\n",
       " {'content': '```json\\n{\\n  \"speaker\": {\\n    \"name\": \"David Sinclair\",\\n    \"description\": \"Harvard Genetics Professor, Scientist\"\\n  },\\n  \"dialogue\": \"Joe, I don\\'t deal in BS, I deal in science. And the science is telling us that what we used to think of as inevitable aging, it\\'s not some fixed clock. It\\'s a process, and we\\'re figuring out how to influence that process.  So yeah, I think what you\\'re talking about, it\\'s not just possible, it\\'s increasingly probable.\",\\n  \"inner_thought\": \"He\\'s got that gleam in his eye, that hunger to believe it. Good. It\\'s that passion that drives progress. But I need to keep him grounded, remind him there are no guarantees...yet.\"\\n}\\n```',\n",
       "  'name': 'David Sinclair',\n",
       "  'role': 'user'},\n",
       " {'content': '```json\\n{\\n  \"speaker\": {\\n    \"name\": \"Joe Rogan\",\\n    \"description\": \"Joe Rogan, as himself\"\\n  },\\n  \"dialogue\": \"Alright, so break it down for me, and for everyone listening who\\'s not a scientist. What are the big things on the horizon, the stuff that has you most fired up?  What\\'s the cutting edge we need to be wrapping our heads around?\",\\n  \"inner_thought\": \"Time to go full Rogan and get into the weeds on this. I want the details, the mechanisms, the why behind it all. This is where it gets really interesting.\"\\n}\\n```',\n",
       "  'name': 'Joe Rogan',\n",
       "  'role': 'user'},\n",
       " {'content': '```json\\n{\\n  \"speaker\": {\\n    \"name\": \"David Sinclair\",\\n    \"description\": \"Harvard Genetics Professor, Scientist\"\\n  },\\n  \"dialogue\": \"Okay, Joe, picture this: our cells are like these amazing little factories, right?  But over time, the instructions get blurry, mistakes happen. That\\'s aging in a nutshell. But here\\'s the cool part, we\\'re finding ways to sharpen those instructions again.  Things like activating sirtuins, these \\'longevity genes,\\' or reprogramming cells with something like Yamanaka factors. It\\'s like hitting the reset button.\",\\n  \"inner_thought\": \"Got to keep it engaging for his audience. Analogies, visuals... Hit them with the \\'why\\' before the hardcore \\'how\\'. Joe\\'s on board, now to bring along everyone else listening.\"\\n}\\n```',\n",
       "  'name': 'David Sinclair',\n",
       "  'role': 'user'},\n",
       " {'content': '```json\\n{\\n  \"speaker\": {\\n    \"name\": \"Joe Rogan\",\\n    \"description\": \"Joe Rogan, as himself\"\\n  },\\n  \"dialogue\": \"Hold up, Yamanaka factors?  We\\'re talking about turning old cells into young cells, like Benjamin Button stuff?  Is that what you\\'re saying?\",\\n  \"inner_thought\": \"Whoa, this is some next-level stuff.  Yamanaka factors? Sounds like something out of a sci-fi movie. But if it\\'s real... damn, this changes everything.\"\\n}\\n```',\n",
       "  'name': 'Joe Rogan',\n",
       "  'role': 'user'},\n",
       " {'content': '```json\\n{\\n  \"speaker\": {\\n    \"name\": \"David Sinclair\",\\n    \"description\": \"Harvard Genetics Professor, Scientist\"\\n  },\\n  \"dialogue\": \"It sounds like science fiction, but it\\'s real science, Joe.  Shinya Yamanaka, he figured out you can actually reprogram cells back to a younger state. It\\'s like turning back the clock built into our cells. Now, we\\'re not injecting people with this stuff yet, it\\'s early, but the implications are HUGE.\",\\n  \"inner_thought\": \"He\\'s picked up on it, good. Yamanaka factors are mind-blowing, gotta tread carefully, excitement\\'s good, hype isn\\'t.  Emphasize it\\'s real but early days.\"\\n}\\n```',\n",
       "  'name': 'David Sinclair',\n",
       "  'role': 'user'},\n",
       " {'content': '```json\\n{\\n  \"speaker\": {\\n    \"name\": \"Joe Rogan\",\\n    \"description\": \"Joe Rogan, as himself\"\\n  },\\n  \"dialogue\": \"Huge is an understatement, dude.  So, if this works, and obviously it\\'s still a big \\'if\\', but if it does, what does that even look like?  Are we talking about people living to be 200 years old? 500? What\\'s the ceiling here?\",\\n  \"inner_thought\": \"Okay, now my brain is officially blown.  I gotta try and wrap my head around this.  We\\'re talking about potentially changing the entire game of life and death here.  This is some serious stuff.\"\\n}\\n```',\n",
       "  'name': 'Joe Rogan',\n",
       "  'role': 'user'},\n",
       " {'content': '```json\\n{\\n  \"speaker\": {\\n    \"name\": \"David Sinclair\",\\n    \"description\": \"Harvard Genetics Professor, Scientist\"\\n  },\\n  \"dialogue\": \"Joe, that\\'s the million-dollar question, isn\\'t it?  Honestly, we don\\'t know the ceiling yet.  But it\\'s not just about how long, it\\'s about how WELL we live those years. Imagine if 80 or 90 became the new 50, not in terms of looks necessarily, but in terms of vitality, energy, health. That\\'s the goal.\",\\n  \"inner_thought\": \"Here we go, into the longevity singularity. Gotta steer carefully. Hope is good, outlandish promises aren\\'t.  Focus on healthspan, not just lifespan.\"\\n}\\n```',\n",
       "  'name': 'David Sinclair',\n",
       "  'role': 'user'},\n",
       " {'content': '```json\\n{\\n  \"speaker\": {\\n    \"name\": \"Joe Rogan\",\\n    \"description\": \"Joe Rogan, as himself\"\\n  },\\n  \"dialogue\": \"Okay, so how do we get there?  Let\\'s say I\\'m listening to this, and I\\'m like everyone else, I don\\'t want to get old, I want to feel good for as long as possible.  What can people actually DO right now while all this amazing science is developing?\",\\n  \"inner_thought\": \"Alright, time to bring it back down to earth. My listeners are smart, but they want practical advice, too.  Hit them with the actionable stuff, David!\"\\n}\\n```',\n",
       "  'name': 'Joe Rogan',\n",
       "  'role': 'user'},\n",
       " {'content': '```json\\n{\\n  \"speaker\": {\\n    \"name\": \"David Sinclair\",\\n    \"description\": \"Harvard Genetics Professor, Scientist\"\\n  },\\n  \"dialogue\": \"You want the good news? A lot of this isn\\'t even that complicated, Joe. We\\'re talking about the basics, but taking them seriously.  Eating a healthy diet, mostly plants, not overdoing it.  Exercise, but not just pounding weights, mix it up.  Get enough sleep, manage stress, these things matter. \",\\n  \"inner_thought\": \"Time for the lifestyle medicine gospel. People want the magic pill, but the basics are still where it\\'s at. Emphasize sustainability, it\\'s a marathon, not a sprint.\"\\n}\\n```',\n",
       "  'name': 'David Sinclair',\n",
       "  'role': 'user'},\n",
       " {'content': '```json\\n{\\n  \"speaker\": {\\n    \"name\": \"Joe Rogan\",\\n    \"description\": \"Joe Rogan, as himself\"\\n  },\\n  \"dialogue\": \"See, I\\'m with you on all that.  I\\'m all about the sauna, cold plunges, eating clean.  But you know me, I like to push the limits.  What about the supplements, man?  NR, Metformin, everyone\\'s asking about this stuff.  What\\'s your take?\",\\n  \"inner_thought\": \"Alright, time to get into the nitty-gritty.  My people want the specifics, the biohacks, the stuff they can try *today*.\" \\n}\\n```',\n",
       "  'name': 'Joe Rogan',\n",
       "  'role': 'user'},\n",
       " {'content': '```json\\n{\\n  \"speaker\": {\\n    \"name\": \"David Sinclair\",\\n    \"description\": \"Harvard Genetics Professor, Scientist\"\\n  },\\n  \"dialogue\": \"Okay, Joe, but you know I have to say it: I\\'m a scientist, not a doctor, so this isn\\'t medical advice, right? Now, with that said, there\\'s some promising stuff out there.  I\\'ve talked about my own regimen, things like NMN, resveratrol, metformin... but the key is, these aren\\'t magic bullets. They\\'re tools, and you gotta use them responsibly, ideally with a doctor\\'s guidance.\",\\n  \"inner_thought\": \"Here comes the supplement minefield. Gotta be careful, Joe\\'s audience is huge, responsibility weighs heavy.  Stress safety first, research over blind enthusiasm.\"\\n}\\n```',\n",
       "  'name': 'David Sinclair',\n",
       "  'role': 'user'},\n",
       " {'content': '```json\\n{\\n  \"speaker\": {\\n    \"name\": \"Joe Rogan\",\\n    \"description\": \"Joe Rogan, as himself\"\\n  },\\n  \"dialogue\": \"Right on, always better to be safe than sorry. And we\\'ll make sure to put all the relevant links and studies in the show notes for everyone listening.  But for me, the big takeaway here is, we\\'re on the cusp of something incredible, real paradigm-shifting stuff.  Am I right?\",\\n  \"inner_thought\": \"Man, I gotta have David back on when some of this stuff gets closer to reality. We\\'re barely scratching the surface here. This conversation is just the beginning.\"\\n}\\n```',\n",
       "  'name': 'Joe Rogan',\n",
       "  'role': 'user'}]"
      ]
     },
     "execution_count": 11,
     "metadata": {},
     "output_type": "execute_result"
    }
   ],
   "source": [
    "# return chat history from script (warning: this part can fail due to the inconsistency of formatting that may result from individual dialogues from the LLMs)\n",
    "my_podcast.get_script('raw')\n",
    "# from ficast.conversation.utils import extract_json_code_block\n",
    "# extract_json_code_block(my_podcast.raw_script[0].get('content'))"
   ]
  },
  {
   "cell_type": "code",
   "execution_count": 12,
   "metadata": {},
   "outputs": [
    {
     "name": "stdout",
     "output_type": "stream",
     "text": [
      "dict_keys(['title', 'abstract', 'dialogues'])\n",
      "15\n",
      "{'speaker': {'name': 'Joe Rogan', 'description': 'Joe Rogan, as himself'}, 'dialogue': \"So David, we've talked about all this crazy aging stuff before, what gets you fired up about this stuff still?  What's got you freaking out excited about the future of all this?\", 'inner_thought': \"Alright, round two with David! I've been geeking out on all the longevity stuff even more since we last talked, especially NAD+. Hope I don't go full fanboy on him, gotta keep it cool, Rogan.\"}\n"
     ]
    }
   ],
   "source": [
    "# a json script parsed by `json_parser` agent\n",
    "# script structure\n",
    "print(my_podcast.json_script.keys())\n",
    "# length of conversation\n",
    "print(len(my_podcast.json_script.get('dialogues')))\n",
    "# dialogue structure\n",
    "print(my_podcast.json_script.get('dialogues')[0])"
   ]
  },
  {
   "cell_type": "code",
   "execution_count": 13,
   "metadata": {},
   "outputs": [
    {
     "name": "stdout",
     "output_type": "stream",
     "text": [
      "Script saved to ficast-outputs/samples/scripts/quickstart_sample_script.txt\n"
     ]
    }
   ],
   "source": [
    "my_podcast.save_script(\n",
    "  save_path=\"ficast-outputs/samples/scripts/quickstart_sample_script.txt\", option='human')"
   ]
  },
  {
   "cell_type": "markdown",
   "metadata": {},
   "source": [
    "## Assembling the Podcast Audio Dialogues"
   ]
  },
  {
   "cell_type": "code",
   "execution_count": 14,
   "metadata": {},
   "outputs": [
    {
     "name": "stdout",
     "output_type": "stream",
     "text": [
      "The autoreload extension is already loaded. To reload it, use:\n",
      "  %reload_ext autoreload\n"
     ]
    },
    {
     "name": "stderr",
     "output_type": "stream",
     "text": [
      "/home/mymm_psu_gmail_com/miniconda3/envs/ficast/lib/python3.11/site-packages/pydantic/_internal/_config.py:341: UserWarning: Valid config keys have changed in V2:\n",
      "* 'allow_population_by_field_name' has been renamed to 'populate_by_name'\n",
      "* 'smart_union' has been removed\n",
      "  warnings.warn(message, UserWarning)\n",
      "/home/mymm_psu_gmail_com/miniconda3/envs/ficast/lib/python3.11/site-packages/pydantic/_internal/_fields.py:161: UserWarning: Field \"model_id\" has conflict with protected namespace \"model_\".\n",
      "\n",
      "You may be able to resolve this warning by setting `model_config['protected_namespaces'] = ()`.\n",
      "  warnings.warn(\n"
     ]
    },
    {
     "data": {
      "text/plain": [
       "True"
      ]
     },
     "execution_count": 14,
     "metadata": {},
     "output_type": "execute_result"
    }
   ],
   "source": [
    "%load_ext autoreload\n",
    "%autoreload 2\n",
    "\n",
    "from ficast.assembly.ficast import FiCast\n",
    "from ficast.dialogue.speech import DialogueSynthesis\n",
    "load_dotenv(override=True)"
   ]
  },
  {
   "cell_type": "code",
   "execution_count": 15,
   "metadata": {},
   "outputs": [
    {
     "name": "stdout",
     "output_type": "stream",
     "text": [
      "Token verification successful.\n"
     ]
    }
   ],
   "source": [
    "dialoguer = DialogueSynthesis(\n",
    "  client_type=\"api\", \n",
    "  base_url=os.getenv(\"TTS_API_BASE_URL\"),\n",
    "  api_key=os.getenv(\"TTS_API_KEY\")\n",
    ")\n",
    "fantasy_ficast = FiCast(\n",
    "  conversation=my_podcast, dialogue_synthesizer=dialoguer\n",
    ")"
   ]
  },
  {
   "cell_type": "code",
   "execution_count": 16,
   "metadata": {},
   "outputs": [
    {
     "name": "stderr",
     "output_type": "stream",
     "text": [
      "/home/mymm_psu_gmail_com/hackathon/FiCast-GPT/ficast/dialogue/speech.py:116: UserWarning: Could not find the 1 voice for gender male. Using the (n_available % nth) voice which is the 0 voice. Check as it may not be the desired or duplicate with existing voices\n",
      "  warnings.warn(f\"Could not find the {nth} voice for gender {gender}. Using the (n_available % nth) voice which is the {nth_voice} voice. Check as it may not be the desired or duplicate with existing voices\", UserWarning)\n",
      "Processing script entries:   0%|          | 0/15 [00:00<?, ?it/s]/home/mymm_psu_gmail_com/hackathon/FiCast-GPT/ficast/dialogue/speech.py:83: UserWarning: Both `voice_id` and `voice_name` are provided. Defaulting to `voice_id`.\n",
      "  warnings.warn(\"Both `voice_id` and `voice_name` are provided. Defaulting to `voice_id`.\")\n"
     ]
    },
    {
     "name": "stdout",
     "output_type": "stream",
     "text": [
      "Task created:  2ed94748-b61d-40dc-900b-55b5eb0daa32\n",
      "Polling for result for task...\n"
     ]
    },
    {
     "name": "stderr",
     "output_type": "stream",
     "text": [
      "Processing script entries:   7%|▋         | 1/15 [03:08<43:52, 188.07s/it]"
     ]
    },
    {
     "name": "stdout",
     "output_type": "stream",
     "text": [
      "Streamed audio total size: 666190 bytes\n",
      "Task created:  9e74df21-1231-4646-a24e-37d19440af3b\n",
      "Polling for result for task...\n"
     ]
    },
    {
     "name": "stderr",
     "output_type": "stream",
     "text": [
      "Processing script entries:  13%|█▎        | 2/15 [07:15<48:17, 222.89s/it]"
     ]
    },
    {
     "name": "stdout",
     "output_type": "stream",
     "text": [
      "Streamed audio total size: 632910 bytes\n",
      "Task created:  4a3dee92-9da8-49d4-9f35-88da8c6031a8\n",
      "Polling for result for task...\n"
     ]
    },
    {
     "name": "stderr",
     "output_type": "stream",
     "text": [
      "Processing script entries:  20%|██        | 3/15 [10:41<43:02, 215.23s/it]"
     ]
    },
    {
     "name": "stdout",
     "output_type": "stream",
     "text": [
      "Streamed audio total size: 793166 bytes\n",
      "Task created:  2f284842-72e1-41ca-8942-99bf9f97d119\n",
      "Polling for result for task...\n"
     ]
    },
    {
     "name": "stderr",
     "output_type": "stream",
     "text": [
      "Processing script entries:  27%|██▋       | 4/15 [15:49<46:08, 251.68s/it]"
     ]
    },
    {
     "name": "stdout",
     "output_type": "stream",
     "text": [
      "Streamed audio total size: 777806 bytes\n",
      "Task created:  e00c0771-5aed-445e-8cf4-8d76f5b05faa\n",
      "Polling for result for task...\n"
     ]
    },
    {
     "name": "stderr",
     "output_type": "stream",
     "text": [
      "Processing script entries:  33%|███▎      | 5/15 [19:09<38:50, 233.06s/it]"
     ]
    },
    {
     "name": "stdout",
     "output_type": "stream",
     "text": [
      "Streamed audio total size: 672846 bytes\n",
      "Task created:  8f2bdcdc-c1b2-4a19-9b32-15a2228ce135\n",
      "Polling for result for task...\n"
     ]
    },
    {
     "name": "stderr",
     "output_type": "stream",
     "text": [
      "Processing script entries:  40%|████      | 6/15 [25:23<42:08, 281.00s/it]"
     ]
    },
    {
     "name": "stdout",
     "output_type": "stream",
     "text": [
      "Streamed audio total size: 955982 bytes\n",
      "Task created:  d9a430b6-1009-484f-bff9-c6cd12bb80c4\n",
      "Polling for result for task...\n"
     ]
    },
    {
     "name": "stderr",
     "output_type": "stream",
     "text": [
      "Processing script entries:  47%|████▋     | 7/15 [28:06<32:20, 242.55s/it]"
     ]
    },
    {
     "name": "stdout",
     "output_type": "stream",
     "text": [
      "Streamed audio total size: 507982 bytes\n",
      "Task created:  5d568c87-3900-4f30-8090-2cfe3594ba47\n",
      "Polling for result for task...\n"
     ]
    },
    {
     "name": "stderr",
     "output_type": "stream",
     "text": [
      "Processing script entries:  53%|█████▎    | 8/15 [33:25<31:08, 267.00s/it]"
     ]
    },
    {
     "name": "stdout",
     "output_type": "stream",
     "text": [
      "Streamed audio total size: 704078 bytes\n",
      "Task created:  94a65266-03d8-4c16-88f2-34971f59725e\n",
      "Polling for result for task...\n"
     ]
    },
    {
     "name": "stderr",
     "output_type": "stream",
     "text": [
      "Processing script entries:  60%|██████    | 9/15 [38:39<28:10, 281.72s/it]"
     ]
    },
    {
     "name": "stdout",
     "output_type": "stream",
     "text": [
      "Streamed audio total size: 809038 bytes\n",
      "Task created:  6cfb85bd-1107-4ed0-a464-9781a1a03012\n",
      "Polling for result for task...\n"
     ]
    },
    {
     "name": "stderr",
     "output_type": "stream",
     "text": [
      "Processing script entries:  67%|██████▋   | 10/15 [41:05<19:57, 239.58s/it]"
     ]
    },
    {
     "name": "stdout",
     "output_type": "stream",
     "text": [
      "Streamed audio total size: 840270 bytes\n",
      "Task created:  d3f968c0-efb3-4402-9809-39e47f12a054\n",
      "Polling for result for task...\n"
     ]
    },
    {
     "name": "stderr",
     "output_type": "stream",
     "text": [
      "Processing script entries:  73%|███████▎  | 11/15 [43:31<14:03, 210.92s/it]"
     ]
    },
    {
     "name": "stdout",
     "output_type": "stream",
     "text": [
      "Streamed audio total size: 751182 bytes\n",
      "Task created:  145b136f-73b3-4e5f-a545-e1837bdf578d\n",
      "Polling for result for task...\n"
     ]
    },
    {
     "name": "stderr",
     "output_type": "stream",
     "text": [
      "Processing script entries:  80%|████████  | 12/15 [45:32<09:11, 183.70s/it]"
     ]
    },
    {
     "name": "stdout",
     "output_type": "stream",
     "text": [
      "Streamed audio total size: 706638 bytes\n",
      "Task created:  2a2e4554-a100-4cc2-843c-aab463cfe2b3\n",
      "Polling for result for task...\n"
     ]
    },
    {
     "name": "stderr",
     "output_type": "stream",
     "text": [
      "Processing script entries:  87%|████████▋ | 13/15 [47:46<05:37, 168.55s/it]"
     ]
    },
    {
     "name": "stdout",
     "output_type": "stream",
     "text": [
      "Streamed audio total size: 731214 bytes\n",
      "Task created:  4e465a92-5f4b-48be-8616-1e4b8afed692\n",
      "Polling for result for task...\n"
     ]
    },
    {
     "name": "stderr",
     "output_type": "stream",
     "text": [
      "Processing script entries:  93%|█████████▎| 14/15 [50:35<02:48, 168.85s/it]"
     ]
    },
    {
     "name": "stdout",
     "output_type": "stream",
     "text": [
      "Streamed audio total size: 898126 bytes\n",
      "Task created:  6181c3e9-782b-470c-bfb0-28b5bd0cb587\n",
      "Polling for result for task...\n"
     ]
    },
    {
     "name": "stderr",
     "output_type": "stream",
     "text": [
      "Processing script entries: 100%|██████████| 15/15 [53:25<00:00, 213.72s/it]"
     ]
    },
    {
     "name": "stdout",
     "output_type": "stream",
     "text": [
      "Streamed audio total size: 842318 bytes\n",
      "Joined 15 audio segments\n"
     ]
    },
    {
     "name": "stderr",
     "output_type": "stream",
     "text": [
      "\n"
     ]
    },
    {
     "data": {
      "text/plain": [
       "11289746"
      ]
     },
     "execution_count": 16,
     "metadata": {},
     "output_type": "execute_result"
    }
   ],
   "source": [
    "my_audio = fantasy_ficast.to_podcast(ignore_errors=True)\n",
    "len(my_audio)"
   ]
  },
  {
   "cell_type": "code",
   "execution_count": 17,
   "metadata": {},
   "outputs": [],
   "source": [
    "# save audio\n",
    "from datetime import datetime\n",
    "# fantasy_ficast.save_podcast(\n",
    "#   \"ficast-outputs/\", save_segments=True)\n",
    "# or\n",
    "from ficast.dialogue.utils import save_bytes_to_wav\n",
    "save_bytes_to_wav(my_audio, f\"ficast-outputs/samples/podcasts/{datetime.now()}.wav\")\n",
    "# with open(fn, 'wb') as file:\n",
    "#   file.write(my_audio)"
   ]
  },
  {
   "cell_type": "code",
   "execution_count": 18,
   "metadata": {},
   "outputs": [
    {
     "ename": "TypeError",
     "evalue": "encoding without a string argument",
     "output_type": "error",
     "traceback": [
      "\u001b[0;31m---------------------------------------------------------------------------\u001b[0m",
      "\u001b[0;31mTypeError\u001b[0m                                 Traceback (most recent call last)",
      "Cell \u001b[0;32mIn[18], line 3\u001b[0m\n\u001b[1;32m      1\u001b[0m \u001b[38;5;66;03m# play audio\u001b[39;00m\n\u001b[1;32m      2\u001b[0m \u001b[38;5;28;01mfrom\u001b[39;00m \u001b[38;5;21;01melevenlabs\u001b[39;00m \u001b[38;5;28;01mimport\u001b[39;00m play\n\u001b[0;32m----> 3\u001b[0m play(\u001b[38;5;28;43mbytes\u001b[39;49m\u001b[43m(\u001b[49m\u001b[43mmy_audio\u001b[49m\u001b[43m,\u001b[49m\u001b[43m \u001b[49m\u001b[38;5;124;43m'\u001b[39;49m\u001b[38;5;124;43mlatin-1\u001b[39;49m\u001b[38;5;124;43m'\u001b[39;49m\u001b[43m)\u001b[49m)\n",
      "\u001b[0;31mTypeError\u001b[0m: encoding without a string argument"
     ]
    }
   ],
   "source": [
    "# play audio\n",
    "from elevenlabs import play\n",
    "play(bytes(my_audio, 'latin-1'))"
   ]
  }
 ],
 "metadata": {
  "kernelspec": {
   "display_name": "dl",
   "language": "python",
   "name": "python3"
  },
  "language_info": {
   "codemirror_mode": {
    "name": "ipython",
    "version": 3
   },
   "file_extension": ".py",
   "mimetype": "text/x-python",
   "name": "python",
   "nbconvert_exporter": "python",
   "pygments_lexer": "ipython3",
   "version": "3.11.9"
  },
  "orig_nbformat": 4
 },
 "nbformat": 4,
 "nbformat_minor": 2
}
