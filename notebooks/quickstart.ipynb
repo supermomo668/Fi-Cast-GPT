{
 "cells": [
  {
   "cell_type": "code",
   "execution_count": 1,
   "metadata": {},
   "outputs": [
    {
     "data": {
      "text/plain": [
       "PosixPath('/home/mymm_psu_gmail_com/hackathon/FiCast-GPT')"
      ]
     },
     "execution_count": 1,
     "metadata": {},
     "output_type": "execute_result"
    }
   ],
   "source": [
    "import autogen\n",
    "import os, json\n",
    "from pathlib import Path\n",
    "# import matplotlib.pyplot as plt\n",
    "%load_ext autoreload\n",
    "%autoreload 2\n",
    "os.chdir(\"../\")\n",
    "Path.cwd()"
   ]
  },
  {
   "cell_type": "code",
   "execution_count": 2,
   "metadata": {},
   "outputs": [],
   "source": [
    "#export environment variables (APIs), as in .example.EnvironmentError\n",
    "from dotenv import load_dotenv\n",
    "load_dotenv()\n",
    "assert os.getenv(\"TTS_API_KEY\")"
   ]
  },
  {
   "cell_type": "code",
   "execution_count": 3,
   "metadata": {},
   "outputs": [
    {
     "name": "stdout",
     "output_type": "stream",
     "text": [
      "Loading config version: default from path: ../conf/dialogue\n"
     ]
    },
    {
     "name": "stderr",
     "output_type": "stream",
     "text": [
      "USER_AGENT environment variable not set, consider setting it to identify your requests.\n"
     ]
    },
    {
     "name": "stdout",
     "output_type": "stream",
     "text": [
      "Loading config version: default from path: ../conf/dialogue\n"
     ]
    }
   ],
   "source": [
    "from ficast.character.podcast import Podcaster\n",
    "from ficast.conversation.podcast import Podcast"
   ]
  },
  {
   "cell_type": "code",
   "execution_count": 4,
   "metadata": {},
   "outputs": [],
   "source": [
    "my_podcast = Podcast(\n",
    "  topic=\"health & longevity\", \n",
    "  n_rounds=20, \n",
    ")"
   ]
  },
  {
   "cell_type": "code",
   "execution_count": 6,
   "metadata": {},
   "outputs": [
    {
     "name": "stdout",
     "output_type": "stream",
     "text": [
      "Loading config version: default from path: ../conf/dialogue\n",
      "Loading config version: default from path: ../conf/dialogue\n"
     ]
    }
   ],
   "source": [
    "joe_rogan = Podcaster(\n",
    "  name=\"Joe Rogan\", \n",
    "  description=\"Joe Rogan is a funny and popular podcast host\",\n",
    "  model=\"gpt-3.5-turbo\",\n",
    "  role=\"host\"\n",
    ")\n",
    "david_sinclair = Podcaster(\n",
    "  name=\"David Sinclair\",\n",
    "  description=\"David Sinclair is a Harvard Medical Expert\",\n",
    "  model=\"gpt-3.5-turbo\"\n",
    ")"
   ]
  },
  {
   "cell_type": "code",
   "execution_count": 9,
   "metadata": {},
   "outputs": [],
   "source": [
    "my_podcast.add([joe_rogan, david_sinclair])"
   ]
  },
  {
   "cell_type": "code",
   "execution_count": 11,
   "metadata": {},
   "outputs": [],
   "source": [
    "assert my_podcast.n_participants == 2, \"Number of participants should be 2, but it is {my_podcast.n_participants}\""
   ]
  },
  {
   "cell_type": "code",
   "execution_count": 12,
   "metadata": {},
   "outputs": [
    {
     "name": "stderr",
     "output_type": "stream",
     "text": [
      "/home/mymm_psu_gmail_com/miniconda3/envs/ficast/lib/python3.11/site-packages/langsmith/client.py:5301: LangChainBetaWarning: The function `loads` is in beta. It is actively being worked on, so the API may change.\n",
      "  prompt = loads(json.dumps(prompt_object.manifest))\n",
      "/home/mymm_psu_gmail_com/miniconda3/envs/ficast/lib/python3.11/site-packages/thought_agents/web/summarizer.py:70: LangChainDeprecationWarning: The class `LLMChain` was deprecated in LangChain 0.1.17 and will be removed in 1.0. Use RunnableSequence, e.g., `prompt | llm` instead.\n",
      "  map_chain = LLMChain(llm=llm, prompt=self.map_prompt)\n",
      "/home/mymm_psu_gmail_com/miniconda3/envs/ficast/lib/python3.11/site-packages/thought_agents/web/summarizer.py:74: LangChainDeprecationWarning: This class is deprecated. Use the `create_stuff_documents_chain` constructor instead. See migration guide here: https://python.langchain.com/v0.2/docs/versions/migrating_chains/stuff_docs_chain/\n",
      "  combine_chain = StuffDocumentsChain(\n"
     ]
    },
    {
     "name": "stdout",
     "output_type": "stream",
     "text": [
      "\u001b[33minit\u001b[0m (to chat_manager):\n",
      "\n",
      "You are going to prepare the host for a podcast among: Joe Rogan,David Sinclair in a real-life conversation about health & longevity for as long as 10 minutes at an estimate rate of 120 words per minute.\n",
      "\n",
      "--------------------------------------------------------------------------------\n",
      "\u001b[32m\n",
      "Next speaker: research_coder\n",
      "\u001b[0m\n",
      "\u001b[33mresearch_coder\u001b[0m (to chat_manager):\n",
      "\n",
      "```python\n",
      "import requests\n",
      "from bs4 import BeautifulSoup\n",
      "\n",
      "def get_web_context(guest_name):\n",
      "    \"\"\"Fetches relevant web context for a given guest name.\"\"\"\n",
      "    search_query = f\"{guest_name} health longevity\"\n",
      "    url = f\"https://www.google.com/search?q={search_query}\"\n",
      "\n",
      "    try:\n",
      "        response = requests.get(url, headers={'User-Agent': 'Mozilla/5.0'})\n",
      "        response.raise_for_status()\n",
      "        soup = BeautifulSoup(response.content, 'html.parser')\n",
      "\n",
      "        # Extract snippets from search results\n",
      "        snippets = [meta.get('content') for meta in soup.find_all('meta', {'name': 'description'})]\n",
      "        relevant_snippets = [snippet for snippet in snippets if snippet and any(keyword in snippet for keyword in [\"health\", \"longevity\"])]\n",
      "\n",
      "        # Prepare context string\n",
      "        context = f\"Here's some context on {guest_name} and their work on health and longevity:\\n\\n\"\n",
      "        context += \"\\n\\n\".join(relevant_snippets[:3]) # Limit to 3 snippets\n",
      "\n",
      "        return context\n",
      "\n",
      "    except requests.exceptions.RequestException as e:\n",
      "        return f\"Error fetching web context: {e}\"\n",
      "\n",
      "guest_list = [\"Joe Rogan\", \"David Sinclair\"]\n",
      "for guest in guest_list:\n",
      "    context = get_web_context(guest)\n",
      "    print(f\"## Context for {guest}:\\n{context}\\n\\n\")\n",
      "```\n",
      "\n",
      "--------------------------------------------------------------------------------\n",
      "\u001b[32m\n",
      "Next speaker: executor\n",
      "\u001b[0m\n",
      "\u001b[33mexecutor\u001b[0m (to chat_manager):\n",
      "\n",
      "## Context for Joe Rogan:\n",
      "Here's some context on Joe Rogan and their work on health and longevity:\n",
      "\n",
      "- **Joe Rogan** is a stand-up comedian, mixed martial arts color commentator, and podcast host. He is known for hosting The Joe Rogan Experience, a long-form conversation with guests that has featured a variety of guests, including scientists, athletes, and entertainers.\n",
      "- **Joe Rogan** has been vocal about his interest in **health** and **longevity**, and he has interviewed a number of experts on these topics on his podcast, including Dr. Rhonda Patrick, Dr. David Sinclair, and Dr. Andrew Huberman. Rogan himself follows a strict diet and exercise regimen, and he has experimented with a variety of supplements and biohacking techniques.\n",
      "- **Joe Rogan** frequently discusses **health**, fitness, diet, and **longevity** on his podcast, \"The Joe Rogan Experience.\" He has interviewed numerous experts in these fields and is known for his own interest in biohacking and optimizing well-being.\n",
      "\n",
      "\n",
      "## Context for David Sinclair:\n",
      "Here's some context on David Sinclair and their work on health and longevity:\n",
      "\n",
      "- **David A. Sinclair**, Ph.D., AO is an Australian biologist and Professor of Genetics at Harvard Medical School and co-director of the Paul F. Glenn Center for Biology of Aging Research. He is known for his research on aging and has been featured in Time magazine's list of the 100 most influential people in the world.\n",
      "- **David Sinclair** is a leading researcher in the field of aging and **longevity**. He is known for his work on sirtuins, a class of proteins that play a role in aging, and he has written extensively about the science of aging and the potential for extending human lifespan.\n",
      "- **David Sinclair** is a geneticist and professor at Harvard Medical School who is known for his research on the biology of aging. He has authored a book titled \"Lifespan: Why We Age and Why We Don't Have To,\" where he discusses his research and insights on **longevity**.\n",
      "\n",
      "\n",
      "--------------------------------------------------------------------------------\n",
      "\u001b[32m\n",
      "Next speaker: informer\n",
      "\u001b[0m\n",
      "\u001b[33minformer\u001b[0m (to chat_manager):\n",
      "\n",
      "## Podcast Host Briefing: Joe Rogan & David Sinclair\n",
      "\n",
      "**Estimated Conversation Length:** 10 minutes\n",
      "**Topic:** Health & Longevity\n",
      "\n",
      "**Joe Rogan:**\n",
      "\n",
      "* **Known For:** Stand-up comedian, UFC commentator, and host of \"The Joe Rogan Experience\" - one of the world's most popular podcasts.\n",
      "* **Personality:**  Inquisitive, outspoken, and often humorous. Known for his long-form interviews where he delves deep into a variety of subjects.\n",
      "* **Health & Longevity Angle:**  Openly discusses his interest in biohacking, fitness, and longevity. Experiments with various diets, supplements (like Alpha Brain), and exercise regimens.  \n",
      "* **Potential Talking Points:** His personal experiences with different health practices, his thoughts on the future of longevity, how his views on health have evolved.\n",
      "\n",
      "**David Sinclair:**\n",
      "\n",
      "* **Known For:**  Leading geneticist and Professor of Genetics at Harvard Medical School.  Author of the best-selling book \"Lifespan: Why We Age—and Why We Don't Have To.\"\n",
      "* **Personality:**  Passionate science communicator, known for explaining complex research in an accessible way.\n",
      "* **Health & Longevity Angle:**  A pioneer in aging research, particularly known for his work on sirtuins and their potential to slow the aging process.\n",
      "* **Potential Talking Points:**  His latest research findings, the ethical considerations of extending lifespan, practical advice for healthy aging.\n",
      "\n",
      "**Conversation Starters:**\n",
      "\n",
      "* Joe, you've had David on your podcast before. What keeps you coming back to these conversations about health and longevity?\n",
      "* David, how do you feel about the increasing public interest in biohacking and longevity science, which Joe is a part of?\n",
      "* Are there any specific health practices or technologies you both agree or disagree on?\n",
      "\n",
      "**Note for the Host:**\n",
      "\n",
      "Expect a lively and engaging conversation. Joe will likely approach the topic with curiosity and humor, while David will provide the scientific grounding. Encourage discussion around the accessibility of these concepts for the average listener. \n",
      "\n",
      "\n",
      "--------------------------------------------------------------------------------\n",
      "\u001b[32m\n",
      "Next speaker: Joe Rogan\n",
      "\u001b[0m\n",
      "\u001b[33mJoe Rogan\u001b[0m (to chat_manager):\n",
      "\n",
      "```json\n",
      "{\"speaker\": \"Joe Rogan\", \"dialogue\": \"So David, you've been knee-deep in the science of aging for a while now. What's got you most fired up these days?  Any breakthroughs we can all be excited about?\", \"inner_thought\": \"Let's get right into this. People want the good stuff.  Plus, I'm genuinely curious what Sinclair's been working on.\"}\n",
      "```\n",
      "\n",
      "--------------------------------------------------------------------------------\n",
      "\u001b[32m\n",
      "Next speaker: David Sinclair\n",
      "\u001b[0m\n",
      "\u001b[33mDavid Sinclair\u001b[0m (to chat_manager):\n",
      "\n",
      "```json\n",
      "{\"speaker\": \"David Sinclair\", \"dialogue\": \"Well, Joe, thanks for having me back. There's never a dull moment in the world of aging research, that's for sure. What's really got me excited is the progress we're making in understanding the information theory of aging.  It's not just about wear and tear, but about the cell losing its identity in a way. We're starting to crack that code.\", \"inner_thought\": \"This is a great opportunity to talk about the latest research on the information theory of aging to Joe's massive audience. Hopefully, it sparks some interest and further exploration.\"}\n",
      "```\n",
      "\n",
      "--------------------------------------------------------------------------------\n",
      "\u001b[32m\n",
      "Next speaker: Joe Rogan\n",
      "\u001b[0m\n",
      "\u001b[33mJoe Rogan\u001b[0m (to chat_manager):\n",
      "\n",
      "```json\n",
      "{\"speaker\": \"Joe Rogan\", \"dialogue\": \"Information theory of aging?  Alright, break that down for us, David. I'm sure I'm not the only one who needs the layman's explanation on that.\", \"inner_thought\": \"Alright, gotta make sure we don't get too science-y too fast.  Keep it relatable, Sinclair.\"}\n",
      "```\n",
      "\n",
      "--------------------------------------------------------------------------------\n",
      "\u001b[32m\n",
      "Next speaker: David Sinclair\n",
      "\u001b[0m\n",
      "\u001b[33mDavid Sinclair\u001b[0m (to chat_manager):\n",
      "\n",
      "```json\n",
      "{\"speaker\": \"David Sinclair\", \"dialogue\": \"You got it, Joe. Imagine a cassette tape, remember those? They hold music, but over time, the magnetic information can get scrambled, and the music gets distorted.  That's kind of what happens to our cells. The information they need to function, to know what they are and what to do, gets messed up over time. We age because our bodies lose the instructions for staying young.\", \"inner_thought\": \"Analogies always work best with Joe. Hopefully, this lands and explains the concept clearly.\"}\n",
      "```\n",
      "\n",
      "--------------------------------------------------------------------------------\n",
      "\u001b[32m\n",
      "Next speaker: Joe Rogan\n",
      "\u001b[0m\n",
      "\u001b[33mJoe Rogan\u001b[0m (to chat_manager):\n",
      "\n",
      "```json\n",
      "{\"speaker\": \"Joe Rogan\", \"dialogue\": \"Okay, so like, our cells have this blueprint, but it fades as we get older.  So what, are we trying to find the rewind button? Hit play on the fountain of youth?\", \"inner_thought\": \"Cassette tapes, now that's a throwback.  Sinclair's making sense though, I think.  Get ready to ask about the practical applications.\"}\n",
      "```\n",
      "\n",
      "--------------------------------------------------------------------------------\n",
      "\u001b[32m\n",
      "Next speaker: David Sinclair\n",
      "\u001b[0m\n",
      "\u001b[33mDavid Sinclair\u001b[0m (to chat_manager):\n",
      "\n",
      "```json\n",
      "{\"speaker\": \"David Sinclair\", \"dialogue\": \"That's a great way to put it, Joe!  It's not about stopping time, but about figuring out how to hit 'pause' or even 'rewind' on some of those age-related changes.  We're already discovering molecules that can potentially slow down or even reverse some of these information losses in the cell.\", \"inner_thought\": \"Joe's getting it!  I knew the cassette tape analogy would resonate.  Time to segue into the exciting stuff we're working on.\"}\n",
      "```\n",
      "\n",
      "--------------------------------------------------------------------------------\n",
      "\u001b[32m\n",
      "Next speaker: Joe Rogan\n",
      "\u001b[0m\n",
      "\u001b[33mJoe Rogan\u001b[0m (to chat_manager):\n",
      "\n",
      "```json\n",
      "{\"speaker\": \"Joe Rogan\", \"dialogue\": \"Molecules, huh? You're talking about like supplements and stuff?  Man, people are going to want to know what these molecules are.  Don't hold out on us, David!\", \"inner_thought\": \"Here we go, getting to the good stuff.  I knew Sinclair would have some cutting-edge stuff to talk about. The audience is going to be all over this.\"}\n",
      "```\n",
      "\n",
      "--------------------------------------------------------------------------------\n",
      "\u001b[32m\n",
      "Next speaker: David Sinclair\n",
      "\u001b[0m\n",
      "\u001b[33mDavid Sinclair\u001b[0m (to chat_manager):\n",
      "\n",
      "```json\n",
      "{\"speaker\": \"David Sinclair\", \"dialogue\": \"Hold your horses, Joe! We're still in the early stages of research, but yeah, some of these molecules could be delivered as supplements or therapies. We're seeing promising results with things like NMN, resveratrol, and metformin, just to name a few. But it's crucial to remember that these aren't magic bullets, and more research is always necessary.\", \"inner_thought\": \"Gotta be careful here.  Don't want to overpromise or give medical advice.  But I can at least mention some of the interesting areas we're exploring.\"}\n",
      "```\n",
      "\n",
      "--------------------------------------------------------------------------------\n",
      "\u001b[32m\n",
      "Next speaker: Joe Rogan\n",
      "\u001b[0m\n",
      "\u001b[33mJoe Rogan\u001b[0m (to chat_manager):\n",
      "\n",
      "```json\n",
      "{\"speaker\": \"Joe Rogan\", \"dialogue\": \"NMN, resveratrol... those are ringing a bell.  I've dabbled with those.  Metformin, that's the diabetic drug, right? Wild.  So, we're basically talking about hacking the software of our cells instead of just upgrading the hardware, is that what you're saying?\", \"inner_thought\": \"I knew it!  I'm on top of some of this stuff.  Sinclair always brings the heat with these longevity breakthroughs.\"}\n",
      "```\n",
      "\n",
      "--------------------------------------------------------------------------------\n",
      "\u001b[32m\n",
      "Next speaker: David Sinclair\n",
      "\u001b[0m\n",
      "\u001b[33mDavid Sinclair\u001b[0m (to chat_manager):\n",
      "\n",
      "```json\n",
      "{\"speaker\": \"David Sinclair\", \"dialogue\": \"You got it, Joe! You're thinking like an aging researcher already. For a long time, we focused on the hardware - the physical aspects of aging. Now, we're realizing that the software - the information flow within and between cells - is just as crucial.  By targeting that, we could potentially have a much more significant impact on how we age.\", \"inner_thought\": \"Joe's surprisingly on point today! It's refreshing to discuss this with someone who gets it. This podcast is going great.\"}\n",
      "```\n",
      "\n",
      "--------------------------------------------------------------------------------\n",
      "\u001b[32m\n",
      "Next speaker: Joe Rogan\n",
      "\u001b[0m\n",
      "\u001b[33mJoe Rogan\u001b[0m (to chat_manager):\n",
      "\n",
      "```json\n",
      "{\"speaker\": \"Joe Rogan\", \"dialogue\": \"Dude, that's mind-blowing. So, like, instead of just replacing worn-out parts, we're talking about rewriting the code to prevent the wear and tear in the first place?  What kind of timeline are we looking at here?  When can I upgrade my software package, doc?\", \"inner_thought\": \"This is way cooler than just talking about supplements. We're getting into sci-fi territory here, but it's real science. Sinclair's the man.\"}\n",
      "```\n",
      "\n",
      "--------------------------------------------------------------------------------\n",
      "\u001b[32m\n",
      "Next speaker: David Sinclair\n",
      "\u001b[0m\n",
      "\u001b[33mDavid Sinclair\u001b[0m (to chat_manager):\n",
      "\n",
      "```json\n",
      "{\"speaker\": \"David Sinclair\", \"dialogue\": \"Haha, I love the enthusiasm, Joe!  We're making incredible progress, but it's not like downloading the latest software update, not just yet anyway. The real breakthroughs will likely come in stages. We might see significant advancements in the next decade or two, with potentially even bigger leaps further down the line.\", \"inner_thought\": \"He's getting ahead of himself, which is understandable. It's important to manage expectations, even with someone as enthusiastic as Joe.\"}\n",
      "```\n",
      "\n",
      "--------------------------------------------------------------------------------\n",
      "\u001b[32m\n",
      "Next speaker: Joe Rogan\n",
      "\u001b[0m\n",
      "\u001b[33mJoe Rogan\u001b[0m (to chat_manager):\n",
      "\n",
      "```json\n",
      "{\"speaker\": \"Joe Rogan\", \"dialogue\": \"A decade or two, huh?  Alright, so no uploading our consciousness into robot bodies just yet. But seriously, that's not that far off in the grand scheme of things. What gives you hope that we're on the right track?\", \"inner_thought\": \"Gotta admit, I'm a little bummed it's not happening sooner. But hey, a decade or two is within my lifetime. I'll take it.\"}\n",
      "```\n",
      "\n",
      "--------------------------------------------------------------------------------\n",
      "\u001b[32m\n",
      "Next speaker: David Sinclair\n",
      "\u001b[0m\n",
      "\u001b[33mDavid Sinclair\u001b[0m (to chat_manager):\n",
      "\n",
      "```json\n",
      "{\"speaker\": \"David Sinclair\", \"dialogue\": \"Joe, you're speaking my language!  We've seen breakthroughs happen faster than we ever imagined, especially in the last few years. Look at what's happening with gene editing technology like CRISPR. The pace of discovery is accelerating exponentially. What makes me optimistic is that we're not just tinkering around the edges anymore. We're starting to understand the fundamental mechanisms of aging, and that's what will lead to truly transformative therapies.\", \"inner_thought\": \"Joe gets it! It's not just about living longer, it's about extending our healthspan and pushing the boundaries of what's possible. I'm glad he sees the bigger picture.\"}\n",
      "```\n",
      "\n",
      "--------------------------------------------------------------------------------\n",
      "\u001b[32m\n",
      "Next speaker: Joe Rogan\n",
      "\u001b[0m\n",
      "\u001b[33mJoe Rogan\u001b[0m (to chat_manager):\n",
      "\n",
      "```json\n",
      "{\"speaker\": \"Joe Rogan\", \"dialogue\": \"CRISPR, man.  Now you're speaking my love language. We've had George Church on the podcast talking about that stuff. It's like we're holding the keys to the kingdom, but we're still figuring out which doors they unlock.  Alright, David, so let's say you're right, and we're on the verge of some serious longevity breakthroughs. What does that even look like for the average person? What kind of world are we stepping into?\", \"inner_thought\": \"Okay, things are getting really interesting now. This is the stuff I live for – exploring the unknown and the implications of these advancements. I can't wait to hear what Sinclair has to say.\"}\n",
      "```\n",
      "\n",
      "--------------------------------------------------------------------------------\n",
      "\u001b[32m\n",
      "Next speaker: script_parser\n",
      "\u001b[0m\n",
      "\u001b[33mscript_parser\u001b[0m (to chat_manager):\n",
      "\n",
      "```json\n",
      "{\"title\": \"The Joe Rogan Experience: Hacking the Code of Aging\", \"abstract\": \"Joe Rogan sits down with renowned geneticist Dr. David Sinclair to delve into the latest breakthroughs in longevity research, exploring the potential to not just extend our lifespan, but to fundamentally rewrite the rules of aging.\", \"participants\": {\"hosts\": [{\"name\": \"Joe Rogan\", \"sex\": \"male\", \"description\": \"Stand-up comedian, UFC commentator, and host of 'The Joe Rogan Experience'\"}], \"guests\": [{\"name\": \"David Sinclair\", \"sex\": \"male\", \"description\": \"Geneticist and Professor of Genetics at Harvard Medical School, known for his research on aging\"}]}, \"dialogues\": [{\"speaker\": \"Joe Rogan\", \"dialogue\": \"So David, you've been knee-deep in the science of aging for a while now. What's got you most fired up these days?  Any breakthroughs we can all be excited about?\", \"inner_thought\": \"Let's get right into this. People want the good stuff.  Plus, I'm genuinely curious what Sinclair's been working on.\"}, {\"speaker\": \"David Sinclair\", \"dialogue\": \"Well, Joe, thanks for having me back. There's never a dull moment in the world of aging research, that's for sure. What's really got me excited is the progress we're making in understanding the information theory of aging.  It's not just about wear and tear, but about the cell losing its identity in a way. We're starting to crack that code.\", \"inner_thought\": \"This is a great opportunity to talk about the latest research on the information theory of aging to Joe's massive audience. Hopefully, it sparks some interest and further exploration.\"}, {\"speaker\": \"Joe Rogan\", \"dialogue\": \"Information theory of aging?  Alright, break that down for us, David. I'm sure I'm not the only one who needs the layman's explanation on that.\", \"inner_thought\": \"Alright, gotta make sure we don't get too science-y too fast.  Keep it relatable, Sinclair.\"}, {\"speaker\": \"David Sinclair\", \"dialogue\": \"You got it, Joe. Imagine a cassette tape, remember those? They hold music, but over time, the magnetic information can get scrambled, and the music gets distorted.  That's kind of what happens to our cells. The information they need to function, to know what they are and what to do, gets messed up over time. We age because our bodies lose the instructions for staying young.\", \"inner_thought\": \"Analogies always work best with Joe. Hopefully, this lands and explains the concept clearly.\"}, {\"speaker\": \"Joe Rogan\", \"dialogue\": \"Okay, so like, our cells have this blueprint, but it fades as we get older.  So what, are we trying to find the rewind button? Hit play on the fountain of youth?\", \"inner_thought\": \"Cassette tapes, now that's a throwback.  Sinclair's making sense though, I think.  Get ready to ask about the practical applications.\"}, {\"speaker\": \"David Sinclair\", \"dialogue\": \"That's a great way to put it, Joe!  It's not about stopping time, but about figuring out how to hit 'pause' or even 'rewind' on some of those age-related changes.  We're already discovering molecules that can potentially slow down or even reverse some of these information losses in the cell.\", \"inner_thought\": \"Joe's getting it!  I knew the cassette tape analogy would resonate.  Time to segue into the exciting stuff we're working on.\"}, {\"speaker\": \"Joe Rogan\", \"dialogue\": \"Molecules, huh? You're talking about like supplements and stuff?  Man, people are going to want to know what these molecules are.  Don't hold out on us, David!\", \"inner_thought\": \"Here we go, getting to the good stuff.  I knew Sinclair would have some cutting-edge stuff to talk about. The audience is going to be all over this.\"}, {\"speaker\": \"David Sinclair\", \"dialogue\": \"Hold your horses, Joe! We're still in the early stages of research, but yeah, some of these molecules could be delivered as supplements or therapies. We're seeing promising results with things like NMN, resveratrol, and metformin, just to name a few. But it's crucial to remember that these aren't magic bullets, and more research is always necessary.\", \"inner_thought\": \"Gotta be careful here.  Don't want to overpromise or give medical advice.  But I can at least mention some of the interesting areas we're exploring.\"}, {\"speaker\": \"Joe Rogan\", \"dialogue\": \"NMN, resveratrol... those are ringing a bell.  I've dabbled with those.  Metformin, that's the diabetic drug, right? Wild.  So, we're basically talking about hacking the software of our cells instead of just upgrading the hardware, is that what you're saying?\", \"inner_thought\": \"I knew it!  I'm on top of some of this stuff.  Sinclair always brings the heat with these longevity breakthroughs.\"}, {\"speaker\": \"David Sinclair\", \"dialogue\": \"You got it, Joe! You're thinking like an aging researcher already. For a long time, we focused on the hardware - the physical aspects of aging. Now, we're realizing that the software - the information flow within and between cells - is just as crucial.  By targeting that, we could potentially have a much more significant impact on how we age.\", \"inner_thought\": \"Joe's surprisingly on point today! It's refreshing to discuss this with someone who gets it. This podcast is going great.\"}, {\"speaker\": \"Joe Rogan\", \"dialogue\": \"Dude, that's mind-blowing. So, like, instead of just replacing worn-out parts, we're talking about rewriting the code to prevent the wear and tear in the first place?  What kind of timeline are we looking at here?  When can I upgrade my software package, doc?\", \"inner_thought\": \"This is way cooler than just talking about supplements. We're getting into sci-fi territory here, but it's real science. Sinclair's the man.\"}, {\"speaker\": \"David Sinclair\", \"dialogue\": \"Haha, I love the enthusiasm, Joe!  We're making incredible progress, but it's not like downloading the latest software update, not just yet anyway. The real breakthroughs will likely come in stages. We might see significant advancements in the next decade or two, with potentially even bigger leaps further down the line.\", \"inner_thought\": \"He's getting ahead of himself, which is understandable. It's important to manage expectations, even with someone as enthusiastic as Joe.\"}, {\"speaker\": \"Joe Rogan\", \"dialogue\": \"A decade or two, huh?  Alright, so no uploading our consciousness into robot bodies just yet. But seriously, that's not that far off in the grand scheme of things. What gives you hope that we're on the right track?\", \"inner_thought\": \"Gotta admit, I'm a little bummed it's not happening sooner. But hey, a decade or two is within my lifetime. I'll take it.\"}, {\"speaker\": \"David Sinclair\", \"dialogue\": \"Joe, you're speaking my language!  We've seen breakthroughs happen faster than we ever imagined, especially in the last few years. Look at what's happening with gene editing technology like CRISPR. The pace of discovery is accelerating exponentially. What makes me optimistic is that we're not just tinkering around the edges anymore. We're starting to understand the fundamental mechanisms of aging, and that's what will lead to truly transformative therapies.\", \"inner_thought\": \"Joe gets it! It's not just about living longer, it's about extending our healthspan and pushing the boundaries of what's possible. I'm glad he sees the bigger picture.\"}, {\"speaker\": \"Joe Rogan\", \"dialogue\": \"CRISPR, man.  Now you're speaking my love language. We've had George Church on the podcast talking about that stuff. It's like we're holding the keys to the kingdom, but we're still figuring out which doors they unlock.  Alright, David, so let's say you're right, and we're on the verge of some serious longevity breakthroughs. What does that even look like for the average person? What kind of world are we stepping into?\", \"inner_thought\": \"Okay, things are getting really interesting now. This is the stuff I live for – exploring the unknown and the implications of these advancements. I can't wait to hear what Sinclair has to say.\"}]}\n",
      "```\n",
      "\n",
      "\n",
      "--------------------------------------------------------------------------------\n"
     ]
    }
   ],
   "source": [
    "chat_result = my_podcast.create()"
   ]
  },
  {
   "cell_type": "code",
   "execution_count": 22,
   "metadata": {},
   "outputs": [
    {
     "data": {
      "text/plain": [
       "{'content': '```json\\n{\"speaker\": \"Joe Rogan\", \"dialogue\": \"So David, you\\'ve been knee-deep in the science of aging for a while now. What\\'s got you most fired up these days?  Any breakthroughs we can all be excited about?\", \"inner_thought\": \"Let\\'s get right into this. People want the good stuff.  Plus, I\\'m genuinely curious what Sinclair\\'s been working on.\"}\\n```',\n",
       " 'name': 'Joe Rogan',\n",
       " 'role': 'user'}"
      ]
     },
     "execution_count": 22,
     "metadata": {},
     "output_type": "execute_result"
    }
   ],
   "source": [
    "# start of the conversation\n",
    "chat_result[4]"
   ]
  },
  {
   "cell_type": "code",
   "execution_count": 14,
   "metadata": {},
   "outputs": [
    {
     "data": {
      "text/plain": [
       "[{'content': '## Podcast Host Briefing: Joe Rogan & David Sinclair\\n\\n**Estimated Conversation Length:** 10 minutes\\n**Topic:** Health & Longevity\\n\\n**Joe Rogan:**\\n\\n* **Known For:** Stand-up comedian, UFC commentator, and host of \"The Joe Rogan Experience\" - one of the world\\'s most popular podcasts.\\n* **Personality:**  Inquisitive, outspoken, and often humorous. Known for his long-form interviews where he delves deep into a variety of subjects.\\n* **Health & Longevity Angle:**  Openly discusses his interest in biohacking, fitness, and longevity. Experiments with various diets, supplements (like Alpha Brain), and exercise regimens.  \\n* **Potential Talking Points:** His personal experiences with different health practices, his thoughts on the future of longevity, how his views on health have evolved.\\n\\n**David Sinclair:**\\n\\n* **Known For:**  Leading geneticist and Professor of Genetics at Harvard Medical School.  Author of the best-selling book \"Lifespan: Why We Age—and Why We Don\\'t Have To.\"\\n* **Personality:**  Passionate science communicator, known for explaining complex research in an accessible way.\\n* **Health & Longevity Angle:**  A pioneer in aging research, particularly known for his work on sirtuins and their potential to slow the aging process.\\n* **Potential Talking Points:**  His latest research findings, the ethical considerations of extending lifespan, practical advice for healthy aging.\\n\\n**Conversation Starters:**\\n\\n* Joe, you\\'ve had David on your podcast before. What keeps you coming back to these conversations about health and longevity?\\n* David, how do you feel about the increasing public interest in biohacking and longevity science, which Joe is a part of?\\n* Are there any specific health practices or technologies you both agree or disagree on?\\n\\n**Note for the Host:**\\n\\nExpect a lively and engaging conversation. Joe will likely approach the topic with curiosity and humor, while David will provide the scientific grounding. Encourage discussion around the accessibility of these concepts for the average listener. \\n',\n",
       "  'name': 'informer',\n",
       "  'role': 'user'},\n",
       " {'content': '```json\\n{\"speaker\": \"Joe Rogan\", \"dialogue\": \"So David, you\\'ve been knee-deep in the science of aging for a while now. What\\'s got you most fired up these days?  Any breakthroughs we can all be excited about?\", \"inner_thought\": \"Let\\'s get right into this. People want the good stuff.  Plus, I\\'m genuinely curious what Sinclair\\'s been working on.\"}\\n```',\n",
       "  'name': 'Joe Rogan',\n",
       "  'role': 'user'},\n",
       " {'content': '```json\\n{\"speaker\": \"David Sinclair\", \"dialogue\": \"Well, Joe, thanks for having me back. There\\'s never a dull moment in the world of aging research, that\\'s for sure. What\\'s really got me excited is the progress we\\'re making in understanding the information theory of aging.  It\\'s not just about wear and tear, but about the cell losing its identity in a way. We\\'re starting to crack that code.\", \"inner_thought\": \"This is a great opportunity to talk about the latest research on the information theory of aging to Joe\\'s massive audience. Hopefully, it sparks some interest and further exploration.\"}\\n```',\n",
       "  'name': 'David Sinclair',\n",
       "  'role': 'user'},\n",
       " {'content': '```json\\n{\"speaker\": \"Joe Rogan\", \"dialogue\": \"Information theory of aging?  Alright, break that down for us, David. I\\'m sure I\\'m not the only one who needs the layman\\'s explanation on that.\", \"inner_thought\": \"Alright, gotta make sure we don\\'t get too science-y too fast.  Keep it relatable, Sinclair.\"}\\n```',\n",
       "  'name': 'Joe Rogan',\n",
       "  'role': 'user'},\n",
       " {'content': '```json\\n{\"speaker\": \"David Sinclair\", \"dialogue\": \"You got it, Joe. Imagine a cassette tape, remember those? They hold music, but over time, the magnetic information can get scrambled, and the music gets distorted.  That\\'s kind of what happens to our cells. The information they need to function, to know what they are and what to do, gets messed up over time. We age because our bodies lose the instructions for staying young.\", \"inner_thought\": \"Analogies always work best with Joe. Hopefully, this lands and explains the concept clearly.\"}\\n```',\n",
       "  'name': 'David Sinclair',\n",
       "  'role': 'user'},\n",
       " {'content': '```json\\n{\"speaker\": \"Joe Rogan\", \"dialogue\": \"Okay, so like, our cells have this blueprint, but it fades as we get older.  So what, are we trying to find the rewind button? Hit play on the fountain of youth?\", \"inner_thought\": \"Cassette tapes, now that\\'s a throwback.  Sinclair\\'s making sense though, I think.  Get ready to ask about the practical applications.\"}\\n```',\n",
       "  'name': 'Joe Rogan',\n",
       "  'role': 'user'},\n",
       " {'content': '```json\\n{\"speaker\": \"David Sinclair\", \"dialogue\": \"That\\'s a great way to put it, Joe!  It\\'s not about stopping time, but about figuring out how to hit \\'pause\\' or even \\'rewind\\' on some of those age-related changes.  We\\'re already discovering molecules that can potentially slow down or even reverse some of these information losses in the cell.\", \"inner_thought\": \"Joe\\'s getting it!  I knew the cassette tape analogy would resonate.  Time to segue into the exciting stuff we\\'re working on.\"}\\n```',\n",
       "  'name': 'David Sinclair',\n",
       "  'role': 'user'},\n",
       " {'content': '```json\\n{\"speaker\": \"Joe Rogan\", \"dialogue\": \"Molecules, huh? You\\'re talking about like supplements and stuff?  Man, people are going to want to know what these molecules are.  Don\\'t hold out on us, David!\", \"inner_thought\": \"Here we go, getting to the good stuff.  I knew Sinclair would have some cutting-edge stuff to talk about. The audience is going to be all over this.\"}\\n```',\n",
       "  'name': 'Joe Rogan',\n",
       "  'role': 'user'},\n",
       " {'content': '```json\\n{\"speaker\": \"David Sinclair\", \"dialogue\": \"Hold your horses, Joe! We\\'re still in the early stages of research, but yeah, some of these molecules could be delivered as supplements or therapies. We\\'re seeing promising results with things like NMN, resveratrol, and metformin, just to name a few. But it\\'s crucial to remember that these aren\\'t magic bullets, and more research is always necessary.\", \"inner_thought\": \"Gotta be careful here.  Don\\'t want to overpromise or give medical advice.  But I can at least mention some of the interesting areas we\\'re exploring.\"}\\n```',\n",
       "  'name': 'David Sinclair',\n",
       "  'role': 'user'},\n",
       " {'content': '```json\\n{\"speaker\": \"Joe Rogan\", \"dialogue\": \"NMN, resveratrol... those are ringing a bell.  I\\'ve dabbled with those.  Metformin, that\\'s the diabetic drug, right? Wild.  So, we\\'re basically talking about hacking the software of our cells instead of just upgrading the hardware, is that what you\\'re saying?\", \"inner_thought\": \"I knew it!  I\\'m on top of some of this stuff.  Sinclair always brings the heat with these longevity breakthroughs.\"}\\n```',\n",
       "  'name': 'Joe Rogan',\n",
       "  'role': 'user'},\n",
       " {'content': '```json\\n{\"speaker\": \"David Sinclair\", \"dialogue\": \"You got it, Joe! You\\'re thinking like an aging researcher already. For a long time, we focused on the hardware - the physical aspects of aging. Now, we\\'re realizing that the software - the information flow within and between cells - is just as crucial.  By targeting that, we could potentially have a much more significant impact on how we age.\", \"inner_thought\": \"Joe\\'s surprisingly on point today! It\\'s refreshing to discuss this with someone who gets it. This podcast is going great.\"}\\n```',\n",
       "  'name': 'David Sinclair',\n",
       "  'role': 'user'},\n",
       " {'content': '```json\\n{\"speaker\": \"Joe Rogan\", \"dialogue\": \"Dude, that\\'s mind-blowing. So, like, instead of just replacing worn-out parts, we\\'re talking about rewriting the code to prevent the wear and tear in the first place?  What kind of timeline are we looking at here?  When can I upgrade my software package, doc?\", \"inner_thought\": \"This is way cooler than just talking about supplements. We\\'re getting into sci-fi territory here, but it\\'s real science. Sinclair\\'s the man.\"}\\n```',\n",
       "  'name': 'Joe Rogan',\n",
       "  'role': 'user'},\n",
       " {'content': '```json\\n{\"speaker\": \"David Sinclair\", \"dialogue\": \"Haha, I love the enthusiasm, Joe!  We\\'re making incredible progress, but it\\'s not like downloading the latest software update, not just yet anyway. The real breakthroughs will likely come in stages. We might see significant advancements in the next decade or two, with potentially even bigger leaps further down the line.\", \"inner_thought\": \"He\\'s getting ahead of himself, which is understandable. It\\'s important to manage expectations, even with someone as enthusiastic as Joe.\"}\\n```',\n",
       "  'name': 'David Sinclair',\n",
       "  'role': 'user'},\n",
       " {'content': '```json\\n{\"speaker\": \"Joe Rogan\", \"dialogue\": \"A decade or two, huh?  Alright, so no uploading our consciousness into robot bodies just yet. But seriously, that\\'s not that far off in the grand scheme of things. What gives you hope that we\\'re on the right track?\", \"inner_thought\": \"Gotta admit, I\\'m a little bummed it\\'s not happening sooner. But hey, a decade or two is within my lifetime. I\\'ll take it.\"}\\n```',\n",
       "  'name': 'Joe Rogan',\n",
       "  'role': 'user'},\n",
       " {'content': '```json\\n{\"speaker\": \"David Sinclair\", \"dialogue\": \"Joe, you\\'re speaking my language!  We\\'ve seen breakthroughs happen faster than we ever imagined, especially in the last few years. Look at what\\'s happening with gene editing technology like CRISPR. The pace of discovery is accelerating exponentially. What makes me optimistic is that we\\'re not just tinkering around the edges anymore. We\\'re starting to understand the fundamental mechanisms of aging, and that\\'s what will lead to truly transformative therapies.\", \"inner_thought\": \"Joe gets it! It\\'s not just about living longer, it\\'s about extending our healthspan and pushing the boundaries of what\\'s possible. I\\'m glad he sees the bigger picture.\"}\\n```',\n",
       "  'name': 'David Sinclair',\n",
       "  'role': 'user'},\n",
       " {'content': '```json\\n{\"speaker\": \"Joe Rogan\", \"dialogue\": \"CRISPR, man.  Now you\\'re speaking my love language. We\\'ve had George Church on the podcast talking about that stuff. It\\'s like we\\'re holding the keys to the kingdom, but we\\'re still figuring out which doors they unlock.  Alright, David, so let\\'s say you\\'re right, and we\\'re on the verge of some serious longevity breakthroughs. What does that even look like for the average person? What kind of world are we stepping into?\", \"inner_thought\": \"Okay, things are getting really interesting now. This is the stuff I live for – exploring the unknown and the implications of these advancements. I can\\'t wait to hear what Sinclair has to say.\"}\\n```',\n",
       "  'name': 'Joe Rogan',\n",
       "  'role': 'user'}]"
      ]
     },
     "execution_count": 14,
     "metadata": {},
     "output_type": "execute_result"
    }
   ],
   "source": [
    "# raw string script\n",
    "my_podcast.raw_script"
   ]
  },
  {
   "cell_type": "code",
   "execution_count": 15,
   "metadata": {},
   "outputs": [
    {
     "data": {
      "text/plain": [
       "[{'content': '## Podcast Host Briefing: Joe Rogan & David Sinclair\\n\\n**Estimated Conversation Length:** 10 minutes\\n**Topic:** Health & Longevity\\n\\n**Joe Rogan:**\\n\\n* **Known For:** Stand-up comedian, UFC commentator, and host of \"The Joe Rogan Experience\" - one of the world\\'s most popular podcasts.\\n* **Personality:**  Inquisitive, outspoken, and often humorous. Known for his long-form interviews where he delves deep into a variety of subjects.\\n* **Health & Longevity Angle:**  Openly discusses his interest in biohacking, fitness, and longevity. Experiments with various diets, supplements (like Alpha Brain), and exercise regimens.  \\n* **Potential Talking Points:** His personal experiences with different health practices, his thoughts on the future of longevity, how his views on health have evolved.\\n\\n**David Sinclair:**\\n\\n* **Known For:**  Leading geneticist and Professor of Genetics at Harvard Medical School.  Author of the best-selling book \"Lifespan: Why We Age—and Why We Don\\'t Have To.\"\\n* **Personality:**  Passionate science communicator, known for explaining complex research in an accessible way.\\n* **Health & Longevity Angle:**  A pioneer in aging research, particularly known for his work on sirtuins and their potential to slow the aging process.\\n* **Potential Talking Points:**  His latest research findings, the ethical considerations of extending lifespan, practical advice for healthy aging.\\n\\n**Conversation Starters:**\\n\\n* Joe, you\\'ve had David on your podcast before. What keeps you coming back to these conversations about health and longevity?\\n* David, how do you feel about the increasing public interest in biohacking and longevity science, which Joe is a part of?\\n* Are there any specific health practices or technologies you both agree or disagree on?\\n\\n**Note for the Host:**\\n\\nExpect a lively and engaging conversation. Joe will likely approach the topic with curiosity and humor, while David will provide the scientific grounding. Encourage discussion around the accessibility of these concepts for the average listener. \\n',\n",
       "  'name': 'informer',\n",
       "  'role': 'user'},\n",
       " {'content': '```json\\n{\"speaker\": \"Joe Rogan\", \"dialogue\": \"So David, you\\'ve been knee-deep in the science of aging for a while now. What\\'s got you most fired up these days?  Any breakthroughs we can all be excited about?\", \"inner_thought\": \"Let\\'s get right into this. People want the good stuff.  Plus, I\\'m genuinely curious what Sinclair\\'s been working on.\"}\\n```',\n",
       "  'name': 'Joe Rogan',\n",
       "  'role': 'user'},\n",
       " {'content': '```json\\n{\"speaker\": \"David Sinclair\", \"dialogue\": \"Well, Joe, thanks for having me back. There\\'s never a dull moment in the world of aging research, that\\'s for sure. What\\'s really got me excited is the progress we\\'re making in understanding the information theory of aging.  It\\'s not just about wear and tear, but about the cell losing its identity in a way. We\\'re starting to crack that code.\", \"inner_thought\": \"This is a great opportunity to talk about the latest research on the information theory of aging to Joe\\'s massive audience. Hopefully, it sparks some interest and further exploration.\"}\\n```',\n",
       "  'name': 'David Sinclair',\n",
       "  'role': 'user'},\n",
       " {'content': '```json\\n{\"speaker\": \"Joe Rogan\", \"dialogue\": \"Information theory of aging?  Alright, break that down for us, David. I\\'m sure I\\'m not the only one who needs the layman\\'s explanation on that.\", \"inner_thought\": \"Alright, gotta make sure we don\\'t get too science-y too fast.  Keep it relatable, Sinclair.\"}\\n```',\n",
       "  'name': 'Joe Rogan',\n",
       "  'role': 'user'},\n",
       " {'content': '```json\\n{\"speaker\": \"David Sinclair\", \"dialogue\": \"You got it, Joe. Imagine a cassette tape, remember those? They hold music, but over time, the magnetic information can get scrambled, and the music gets distorted.  That\\'s kind of what happens to our cells. The information they need to function, to know what they are and what to do, gets messed up over time. We age because our bodies lose the instructions for staying young.\", \"inner_thought\": \"Analogies always work best with Joe. Hopefully, this lands and explains the concept clearly.\"}\\n```',\n",
       "  'name': 'David Sinclair',\n",
       "  'role': 'user'},\n",
       " {'content': '```json\\n{\"speaker\": \"Joe Rogan\", \"dialogue\": \"Okay, so like, our cells have this blueprint, but it fades as we get older.  So what, are we trying to find the rewind button? Hit play on the fountain of youth?\", \"inner_thought\": \"Cassette tapes, now that\\'s a throwback.  Sinclair\\'s making sense though, I think.  Get ready to ask about the practical applications.\"}\\n```',\n",
       "  'name': 'Joe Rogan',\n",
       "  'role': 'user'},\n",
       " {'content': '```json\\n{\"speaker\": \"David Sinclair\", \"dialogue\": \"That\\'s a great way to put it, Joe!  It\\'s not about stopping time, but about figuring out how to hit \\'pause\\' or even \\'rewind\\' on some of those age-related changes.  We\\'re already discovering molecules that can potentially slow down or even reverse some of these information losses in the cell.\", \"inner_thought\": \"Joe\\'s getting it!  I knew the cassette tape analogy would resonate.  Time to segue into the exciting stuff we\\'re working on.\"}\\n```',\n",
       "  'name': 'David Sinclair',\n",
       "  'role': 'user'},\n",
       " {'content': '```json\\n{\"speaker\": \"Joe Rogan\", \"dialogue\": \"Molecules, huh? You\\'re talking about like supplements and stuff?  Man, people are going to want to know what these molecules are.  Don\\'t hold out on us, David!\", \"inner_thought\": \"Here we go, getting to the good stuff.  I knew Sinclair would have some cutting-edge stuff to talk about. The audience is going to be all over this.\"}\\n```',\n",
       "  'name': 'Joe Rogan',\n",
       "  'role': 'user'},\n",
       " {'content': '```json\\n{\"speaker\": \"David Sinclair\", \"dialogue\": \"Hold your horses, Joe! We\\'re still in the early stages of research, but yeah, some of these molecules could be delivered as supplements or therapies. We\\'re seeing promising results with things like NMN, resveratrol, and metformin, just to name a few. But it\\'s crucial to remember that these aren\\'t magic bullets, and more research is always necessary.\", \"inner_thought\": \"Gotta be careful here.  Don\\'t want to overpromise or give medical advice.  But I can at least mention some of the interesting areas we\\'re exploring.\"}\\n```',\n",
       "  'name': 'David Sinclair',\n",
       "  'role': 'user'},\n",
       " {'content': '```json\\n{\"speaker\": \"Joe Rogan\", \"dialogue\": \"NMN, resveratrol... those are ringing a bell.  I\\'ve dabbled with those.  Metformin, that\\'s the diabetic drug, right? Wild.  So, we\\'re basically talking about hacking the software of our cells instead of just upgrading the hardware, is that what you\\'re saying?\", \"inner_thought\": \"I knew it!  I\\'m on top of some of this stuff.  Sinclair always brings the heat with these longevity breakthroughs.\"}\\n```',\n",
       "  'name': 'Joe Rogan',\n",
       "  'role': 'user'},\n",
       " {'content': '```json\\n{\"speaker\": \"David Sinclair\", \"dialogue\": \"You got it, Joe! You\\'re thinking like an aging researcher already. For a long time, we focused on the hardware - the physical aspects of aging. Now, we\\'re realizing that the software - the information flow within and between cells - is just as crucial.  By targeting that, we could potentially have a much more significant impact on how we age.\", \"inner_thought\": \"Joe\\'s surprisingly on point today! It\\'s refreshing to discuss this with someone who gets it. This podcast is going great.\"}\\n```',\n",
       "  'name': 'David Sinclair',\n",
       "  'role': 'user'},\n",
       " {'content': '```json\\n{\"speaker\": \"Joe Rogan\", \"dialogue\": \"Dude, that\\'s mind-blowing. So, like, instead of just replacing worn-out parts, we\\'re talking about rewriting the code to prevent the wear and tear in the first place?  What kind of timeline are we looking at here?  When can I upgrade my software package, doc?\", \"inner_thought\": \"This is way cooler than just talking about supplements. We\\'re getting into sci-fi territory here, but it\\'s real science. Sinclair\\'s the man.\"}\\n```',\n",
       "  'name': 'Joe Rogan',\n",
       "  'role': 'user'},\n",
       " {'content': '```json\\n{\"speaker\": \"David Sinclair\", \"dialogue\": \"Haha, I love the enthusiasm, Joe!  We\\'re making incredible progress, but it\\'s not like downloading the latest software update, not just yet anyway. The real breakthroughs will likely come in stages. We might see significant advancements in the next decade or two, with potentially even bigger leaps further down the line.\", \"inner_thought\": \"He\\'s getting ahead of himself, which is understandable. It\\'s important to manage expectations, even with someone as enthusiastic as Joe.\"}\\n```',\n",
       "  'name': 'David Sinclair',\n",
       "  'role': 'user'},\n",
       " {'content': '```json\\n{\"speaker\": \"Joe Rogan\", \"dialogue\": \"A decade or two, huh?  Alright, so no uploading our consciousness into robot bodies just yet. But seriously, that\\'s not that far off in the grand scheme of things. What gives you hope that we\\'re on the right track?\", \"inner_thought\": \"Gotta admit, I\\'m a little bummed it\\'s not happening sooner. But hey, a decade or two is within my lifetime. I\\'ll take it.\"}\\n```',\n",
       "  'name': 'Joe Rogan',\n",
       "  'role': 'user'},\n",
       " {'content': '```json\\n{\"speaker\": \"David Sinclair\", \"dialogue\": \"Joe, you\\'re speaking my language!  We\\'ve seen breakthroughs happen faster than we ever imagined, especially in the last few years. Look at what\\'s happening with gene editing technology like CRISPR. The pace of discovery is accelerating exponentially. What makes me optimistic is that we\\'re not just tinkering around the edges anymore. We\\'re starting to understand the fundamental mechanisms of aging, and that\\'s what will lead to truly transformative therapies.\", \"inner_thought\": \"Joe gets it! It\\'s not just about living longer, it\\'s about extending our healthspan and pushing the boundaries of what\\'s possible. I\\'m glad he sees the bigger picture.\"}\\n```',\n",
       "  'name': 'David Sinclair',\n",
       "  'role': 'user'},\n",
       " {'content': '```json\\n{\"speaker\": \"Joe Rogan\", \"dialogue\": \"CRISPR, man.  Now you\\'re speaking my love language. We\\'ve had George Church on the podcast talking about that stuff. It\\'s like we\\'re holding the keys to the kingdom, but we\\'re still figuring out which doors they unlock.  Alright, David, so let\\'s say you\\'re right, and we\\'re on the verge of some serious longevity breakthroughs. What does that even look like for the average person? What kind of world are we stepping into?\", \"inner_thought\": \"Okay, things are getting really interesting now. This is the stuff I live for – exploring the unknown and the implications of these advancements. I can\\'t wait to hear what Sinclair has to say.\"}\\n```',\n",
       "  'name': 'Joe Rogan',\n",
       "  'role': 'user'}]"
      ]
     },
     "execution_count": 15,
     "metadata": {},
     "output_type": "execute_result"
    }
   ],
   "source": [
    "# return chat history from script (warning: this part can fail due to the inconsistency of formatting that may result from individual dialogues from the LLMs)\n",
    "my_podcast.get_script('raw')\n",
    "# from ficast.conversation.utils import extract_json_code_block\n",
    "# extract_json_code_block(my_podcast.raw_script[0].get('content'))"
   ]
  },
  {
   "cell_type": "code",
   "execution_count": 16,
   "metadata": {},
   "outputs": [
    {
     "name": "stdout",
     "output_type": "stream",
     "text": [
      "dict_keys(['title', 'abstract', 'participants', 'dialogues'])\n",
      "15\n",
      "{'speaker': 'Joe Rogan', 'dialogue': \"So David, you've been knee-deep in the science of aging for a while now. What's got you most fired up these days?  Any breakthroughs we can all be excited about?\", 'inner_thought': \"Let's get right into this. People want the good stuff.  Plus, I'm genuinely curious what Sinclair's been working on.\"}\n"
     ]
    }
   ],
   "source": [
    "# a json script parsed by `json_parser` agent\n",
    "# script structure\n",
    "print(my_podcast.json_script.keys())\n",
    "# length of conversation\n",
    "print(len(my_podcast.json_script.get('dialogues')))\n",
    "# dialogue structure\n",
    "print(my_podcast.json_script.get('dialogues')[0])"
   ]
  },
  {
   "cell_type": "code",
   "execution_count": 25,
   "metadata": {},
   "outputs": [
    {
     "name": "stdout",
     "output_type": "stream",
     "text": [
      "Script saved to ficast-outputs/samples/scripts/quickstart_sample_script(human).txt\n",
      "Script saved to ficast-outputs/samples/scripts/quickstart_sample_script(json).txt\n"
     ]
    }
   ],
   "source": [
    "my_podcast.save_script(\n",
    "  save_path=\"ficast-outputs/samples/scripts/quickstart_sample_script(human).txt\", \n",
    "  option='human'\n",
    ")\n",
    "my_podcast.save_script(\n",
    "  save_path=\"ficast-outputs/samples/scripts/quickstart_sample_script(json).txt\"\n",
    ")"
   ]
  },
  {
   "cell_type": "markdown",
   "metadata": {},
   "source": [
    "## Assembling the Podcast Audio Dialogues"
   ]
  },
  {
   "cell_type": "code",
   "execution_count": 14,
   "metadata": {},
   "outputs": [
    {
     "name": "stdout",
     "output_type": "stream",
     "text": [
      "The autoreload extension is already loaded. To reload it, use:\n",
      "  %reload_ext autoreload\n"
     ]
    },
    {
     "name": "stderr",
     "output_type": "stream",
     "text": [
      "/home/mymm_psu_gmail_com/miniconda3/envs/ficast/lib/python3.11/site-packages/pydantic/_internal/_config.py:341: UserWarning: Valid config keys have changed in V2:\n",
      "* 'allow_population_by_field_name' has been renamed to 'populate_by_name'\n",
      "* 'smart_union' has been removed\n",
      "  warnings.warn(message, UserWarning)\n",
      "/home/mymm_psu_gmail_com/miniconda3/envs/ficast/lib/python3.11/site-packages/pydantic/_internal/_fields.py:161: UserWarning: Field \"model_id\" has conflict with protected namespace \"model_\".\n",
      "\n",
      "You may be able to resolve this warning by setting `model_config['protected_namespaces'] = ()`.\n",
      "  warnings.warn(\n"
     ]
    },
    {
     "data": {
      "text/plain": [
       "True"
      ]
     },
     "execution_count": 14,
     "metadata": {},
     "output_type": "execute_result"
    }
   ],
   "source": [
    "%load_ext autoreload\n",
    "%autoreload 2\n",
    "\n",
    "from ficast.assembly.ficast import FiCast\n",
    "from ficast.dialogue.speech import DialogueSynthesis\n",
    "load_dotenv(override=True)"
   ]
  },
  {
   "cell_type": "code",
   "execution_count": 15,
   "metadata": {},
   "outputs": [
    {
     "name": "stdout",
     "output_type": "stream",
     "text": [
      "Token verification successful.\n"
     ]
    }
   ],
   "source": [
    "dialoguer = DialogueSynthesis(\n",
    "  client_type=\"api\", \n",
    "  base_url=os.getenv(\"TTS_API_BASE_URL\"),\n",
    "  api_key=os.getenv(\"TTS_API_KEY\")\n",
    ")\n",
    "fantasy_ficast = FiCast(\n",
    "  conversation=my_podcast, dialogue_synthesizer=dialoguer\n",
    ")"
   ]
  },
  {
   "cell_type": "code",
   "execution_count": 16,
   "metadata": {},
   "outputs": [
    {
     "name": "stderr",
     "output_type": "stream",
     "text": [
      "/home/mymm_psu_gmail_com/hackathon/FiCast-GPT/ficast/dialogue/speech.py:115: UserWarning: Could not find the 1 voice for gender male. Using the (n_available % nth) voice which is the 0 voice. Check as it may not be the desired or duplicate with existing voices\n",
      "  warnings.warn(f\"Could not find the {nth} voice for gender {gender}. Using the (n_available % nth) voice which is the {nth_voice} voice. Check as it may not be the desired or duplicate with existing voices\", UserWarning)\n",
      "Processing script entries:   0%|          | 0/15 [00:00<?, ?it/s]/home/mymm_psu_gmail_com/hackathon/FiCast-GPT/ficast/dialogue/speech.py:82: UserWarning: Both `voice_id` and `voice_name` are provided. Defaulting to `voice_id`.\n",
      "  warnings.warn(\"Both `voice_id` and `voice_name` are provided. Defaulting to `voice_id`.\")\n"
     ]
    },
    {
     "name": "stdout",
     "output_type": "stream",
     "text": [
      "Task created:  dd4aa7d9-f433-4d94-ab8c-15e084eaaeb2\n"
     ]
    },
    {
     "name": "stderr",
     "output_type": "stream",
     "text": [
      "Processing script entries:   7%|▋         | 1/15 [01:31<21:14, 91.02s/it]"
     ]
    },
    {
     "name": "stdout",
     "output_type": "stream",
     "text": [
      "Streamed audio total size: 612942 bytes\n",
      "Task created:  9031bfd8-c6e5-4618-b024-9980dce0bcf3\n"
     ]
    },
    {
     "name": "stderr",
     "output_type": "stream",
     "text": [
      "Processing script entries:  13%|█▎        | 2/15 [03:50<25:52, 119.43s/it]"
     ]
    },
    {
     "name": "stdout",
     "output_type": "stream",
     "text": [
      "Streamed audio total size: 811086 bytes\n",
      "Task created:  0b18a3d6-5774-4047-8dcd-77bc059d6d23\n"
     ]
    },
    {
     "name": "stderr",
     "output_type": "stream",
     "text": [
      "Processing script entries:  20%|██        | 3/15 [06:21<26:48, 134.00s/it]"
     ]
    },
    {
     "name": "stdout",
     "output_type": "stream",
     "text": [
      "Streamed audio total size: 944718 bytes\n",
      "Task created:  8f5898f6-8ccb-426e-8eb0-869bc5a8d76c\n"
     ]
    },
    {
     "name": "stderr",
     "output_type": "stream",
     "text": [
      "Processing script entries:  27%|██▋       | 4/15 [09:05<26:41, 145.62s/it]"
     ]
    },
    {
     "name": "stdout",
     "output_type": "stream",
     "text": [
      "Streamed audio total size: 882766 bytes\n",
      "Task created:  3aff25eb-838a-4186-9461-38fc8a3a1175\n"
     ]
    },
    {
     "name": "stderr",
     "output_type": "stream",
     "text": [
      "Processing script entries:  33%|███▎      | 5/15 [10:48<21:42, 130.24s/it]"
     ]
    },
    {
     "name": "stdout",
     "output_type": "stream",
     "text": [
      "Streamed audio total size: 612942 bytes\n",
      "Task created:  a26309fe-0c45-4d9c-ab78-c66a8ad615a1\n"
     ]
    },
    {
     "name": "stderr",
     "output_type": "stream",
     "text": [
      "Processing script entries:  40%|████      | 6/15 [14:13<23:23, 155.97s/it]"
     ]
    },
    {
     "name": "stdout",
     "output_type": "stream",
     "text": [
      "Streamed audio total size: 1114190 bytes\n",
      "Task created:  0b65ea1d-424c-4e40-9ae3-3ec6f9cc36f6\n"
     ]
    },
    {
     "name": "stderr",
     "output_type": "stream",
     "text": [
      "Processing script entries:  47%|████▋     | 7/15 [15:14<16:38, 124.86s/it]"
     ]
    },
    {
     "name": "stdout",
     "output_type": "stream",
     "text": [
      "Streamed audio total size: 441422 bytes\n",
      "Task created:  40c8b13b-abaa-4d55-aba8-624676f4a196\n"
     ]
    },
    {
     "name": "stderr",
     "output_type": "stream",
     "text": [
      "Processing script entries:  53%|█████▎    | 8/15 [17:46<15:33, 133.36s/it]"
     ]
    },
    {
     "name": "stdout",
     "output_type": "stream",
     "text": [
      "Streamed audio total size: 886862 bytes\n",
      "Task created:  b0487be1-1e77-4cdf-9083-59094582a4e3\n"
     ]
    },
    {
     "name": "stderr",
     "output_type": "stream",
     "text": [
      "Processing script entries:  60%|██████    | 9/15 [19:47<12:57, 129.53s/it]"
     ]
    },
    {
     "name": "stdout",
     "output_type": "stream",
     "text": [
      "Streamed audio total size: 704078 bytes\n",
      "Task created:  58e13b2e-347f-40b1-9a49-630e915d548d\n"
     ]
    },
    {
     "name": "stderr",
     "output_type": "stream",
     "text": [
      "Processing script entries:  67%|██████▋   | 10/15 [22:48<12:07, 145.57s/it]"
     ]
    },
    {
     "name": "stdout",
     "output_type": "stream",
     "text": [
      "Streamed audio total size: 931406 bytes\n",
      "Task created:  e2e26314-4525-4782-8842-52426512bec2\n"
     ]
    },
    {
     "name": "stderr",
     "output_type": "stream",
     "text": [
      "Processing script entries:  73%|███████▎  | 11/15 [24:56<09:19, 140.00s/it]"
     ]
    },
    {
     "name": "stdout",
     "output_type": "stream",
     "text": [
      "Streamed audio total size: 848974 bytes\n",
      "Task created:  dc2640be-4d56-4577-9297-4b0a77206fd7\n"
     ]
    },
    {
     "name": "stderr",
     "output_type": "stream",
     "text": [
      "Processing script entries:  80%|████████  | 12/15 [27:33<07:15, 145.28s/it]"
     ]
    },
    {
     "name": "stdout",
     "output_type": "stream",
     "text": [
      "Streamed audio total size: 900174 bytes\n",
      "Task created:  ba63322f-191c-495e-ac92-9baf699b2e02\n"
     ]
    },
    {
     "name": "stderr",
     "output_type": "stream",
     "text": [
      "Processing script entries:  87%|████████▋ | 13/15 [29:46<04:43, 141.63s/it]"
     ]
    },
    {
     "name": "stdout",
     "output_type": "stream",
     "text": [
      "Streamed audio total size: 797774 bytes\n",
      "Task created:  0b51a6c1-f060-4719-9e29-38736db9bd29\n"
     ]
    },
    {
     "name": "stderr",
     "output_type": "stream",
     "text": [
      "Processing script entries:  93%|█████████▎| 14/15 [33:12<02:41, 161.01s/it]"
     ]
    },
    {
     "name": "stdout",
     "output_type": "stream",
     "text": [
      "Streamed audio total size: 1114190 bytes\n",
      "Task created:  7cf56ffb-cff8-4b76-be34-f835426c75ec\n"
     ]
    },
    {
     "name": "stderr",
     "output_type": "stream",
     "text": [
      "Processing script entries: 100%|██████████| 15/15 [35:25<00:00, 141.73s/it]"
     ]
    },
    {
     "name": "stdout",
     "output_type": "stream",
     "text": [
      "Streamed audio total size: 791118 bytes\n",
      "Joined 15 audio segments\n"
     ]
    },
    {
     "name": "stderr",
     "output_type": "stream",
     "text": [
      "\n"
     ]
    },
    {
     "data": {
      "text/plain": [
       "12394642"
      ]
     },
     "execution_count": 16,
     "metadata": {},
     "output_type": "execute_result"
    }
   ],
   "source": [
    "my_audio = fantasy_ficast.to_podcast(ignore_errors=True)\n",
    "len(my_audio)"
   ]
  },
  {
   "cell_type": "code",
   "execution_count": 17,
   "metadata": {},
   "outputs": [],
   "source": [
    "# save audio\n",
    "from datetime import datetime\n",
    "# fantasy_ficast.save_podcast(\n",
    "#   \"ficast-outputs/\", save_segments=True)\n",
    "# or\n",
    "from ficast.dialogue.utils import save_bytes_to_wav\n",
    "save_bytes_to_wav(my_audio, f\"ficast-outputs/samples/podcasts/{datetime.now()}.wav\")\n",
    "# with open(fn, 'wb') as file:\n",
    "#   file.write(my_audio)"
   ]
  },
  {
   "cell_type": "code",
   "execution_count": 18,
   "metadata": {},
   "outputs": [
    {
     "ename": "TypeError",
     "evalue": "encoding without a string argument",
     "output_type": "error",
     "traceback": [
      "\u001b[0;31m---------------------------------------------------------------------------\u001b[0m",
      "\u001b[0;31mTypeError\u001b[0m                                 Traceback (most recent call last)",
      "Cell \u001b[0;32mIn[18], line 3\u001b[0m\n\u001b[1;32m      1\u001b[0m \u001b[38;5;66;03m# play audio\u001b[39;00m\n\u001b[1;32m      2\u001b[0m \u001b[38;5;28;01mfrom\u001b[39;00m \u001b[38;5;21;01melevenlabs\u001b[39;00m \u001b[38;5;28;01mimport\u001b[39;00m play\n\u001b[0;32m----> 3\u001b[0m play(\u001b[38;5;28;43mbytes\u001b[39;49m\u001b[43m(\u001b[49m\u001b[43mmy_audio\u001b[49m\u001b[43m,\u001b[49m\u001b[43m \u001b[49m\u001b[38;5;124;43m'\u001b[39;49m\u001b[38;5;124;43mlatin-1\u001b[39;49m\u001b[38;5;124;43m'\u001b[39;49m\u001b[43m)\u001b[49m)\n",
      "\u001b[0;31mTypeError\u001b[0m: encoding without a string argument"
     ]
    }
   ],
   "source": [
    "# play audio\n",
    "from elevenlabs import play\n",
    "play(bytes(my_audio, 'latin-1'))"
   ]
  }
 ],
 "metadata": {
  "kernelspec": {
   "display_name": "dl",
   "language": "python",
   "name": "python3"
  },
  "language_info": {
   "codemirror_mode": {
    "name": "ipython",
    "version": 3
   },
   "file_extension": ".py",
   "mimetype": "text/x-python",
   "name": "python",
   "nbconvert_exporter": "python",
   "pygments_lexer": "ipython3",
   "version": "3.11.9"
  },
  "orig_nbformat": 4
 },
 "nbformat": 4,
 "nbformat_minor": 2
}
