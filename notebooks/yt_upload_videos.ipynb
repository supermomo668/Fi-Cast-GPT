{
 "cells": [
  {
   "cell_type": "code",
   "execution_count": 1,
   "metadata": {},
   "outputs": [
    {
     "data": {
      "text/plain": [
       "PosixPath('/home/mymm_psu_gmail_com/hackathon/FiCast-GPT')"
      ]
     },
     "execution_count": 1,
     "metadata": {},
     "output_type": "execute_result"
    }
   ],
   "source": [
    "import os, pathlib\n",
    "os.chdir(\"../\")\n",
    "pathlib.Path.cwd()"
   ]
  },
  {
   "cell_type": "code",
   "execution_count": 9,
   "metadata": {},
   "outputs": [
    {
     "name": "stdout",
     "output_type": "stream",
     "text": [
      "The autoreload extension is already loaded. To reload it, use:\n",
      "  %reload_ext autoreload\n"
     ]
    },
    {
     "data": {
      "text/plain": [
       "True"
      ]
     },
     "execution_count": 9,
     "metadata": {},
     "output_type": "execute_result"
    }
   ],
   "source": [
    "import dotenv\n",
    "import json\n",
    "%load_ext autoreload\n",
    "%autoreload 2\n",
    "dotenv.load_dotenv(\"apps/youtube/.env\")"
   ]
  },
  {
   "cell_type": "code",
   "execution_count": 4,
   "metadata": {},
   "outputs": [],
   "source": [
    "from apps.youtube.services.upload_video import get_authenticated_service, initialize_upload, main"
   ]
  },
  {
   "cell_type": "code",
   "execution_count": 25,
   "metadata": {},
   "outputs": [
    {
     "name": "stdout",
     "output_type": "stream",
     "text": [
      "Please go to this URL: https://accounts.google.com/o/oauth2/auth?response_type=code&client_id=894305905321-nob2c3a81rpcs3gh1s79lcikud4tm0rd.apps.googleusercontent.com&redirect_uri=http%3A%2F%2Flocalhost%3A3000&scope=https%3A%2F%2Fwww.googleapis.com%2Fauth%2Fyoutube.upload&state=gPDDoT2KTs3nQqpJAMXIzh5S7kEo2x&prompt=consent&access_type=offline\n",
      "{'error': {'code': 401, 'message': 'Request is missing required authentication credential. Expected OAuth 2 access token, login cookie or other valid authentication credential. See https://developers.google.com/identity/sign-in/web/devconsole-project.', 'status': 'UNAUTHENTICATED'}}\n"
     ]
    }
   ],
   "source": [
    "youtube = get_authenticated_service()"
   ]
  },
  {
   "cell_type": "code",
   "execution_count": 14,
   "metadata": {},
   "outputs": [
    {
     "data": {
      "text/plain": [
       "{'title': 'The Joe Rogan Experience: Health & Longevity',\n",
       " 'abstract': 'Joe Rogan sits down with renowned geneticist, Dr. David Sinclair, to explore the latest advancements in longevity science and the quest for a longer, healthier lifespan.',\n",
       " 'dialogues': [{'speaker': {'name': 'Joe Rogan',\n",
       "    'description': 'Joe Rogan, as himself'},\n",
       "   'dialogue': \"So David, we've talked about all this crazy aging stuff before, what gets you fired up about this stuff still?  What's got you freaking out excited about the future of all this?\",\n",
       "   'inner_thought': \"Alright, round two with David! I've been geeking out on all the longevity stuff even more since we last talked, especially NAD+. Hope I don't go full fanboy on him, gotta keep it cool, Rogan.\"},\n",
       "  {'speaker': {'name': 'David Sinclair',\n",
       "    'description': 'Harvard Genetics Professor, Scientist'},\n",
       "   'dialogue': \"Joe, it's like we're staring at the instruction manual for life itself, but it's written in this crazy code. We're just starting to crack it, and what we're finding is blowing my mind.  The potential to extend our healthspan, not just lifespan, that's what really lights me up.\",\n",
       "   'inner_thought': 'Joe seems even more into this than last time. Gotta make sure I keep it grounded, explain the science clearly, but also convey the sheer possibility of it all.'},\n",
       "  {'speaker': {'name': 'Joe Rogan', 'description': 'Joe Rogan, as himself'},\n",
       "   'dialogue': \"Dude, I've been saying this!  It's not about living to 200 as a decrepit skeleton, it's about feeling good, being able to surf and train and hang with my kids when I'm 80, 90, maybe even 100.  You think that's really possible, man?  Like, no BS?\",\n",
       "   'inner_thought': \"Please tell me this is actually possible. I'm picturing myself at 90, still hitting the sauna and crushing podcasts. Man, that would be epic.\"},\n",
       "  {'speaker': {'name': 'David Sinclair',\n",
       "    'description': 'Harvard Genetics Professor, Scientist'},\n",
       "   'dialogue': \"Joe, I don't deal in BS, I deal in science. And the science is telling us that what we used to think of as inevitable aging, it's not some fixed clock. It's a process, and we're figuring out how to influence that process.  So yeah, I think what you're talking about, it's not just possible, it's increasingly probable.\",\n",
       "   'inner_thought': \"He's got that gleam in his eye, that hunger to believe it. Good. It's that passion that drives progress. But I need to keep him grounded, remind him there are no guarantees...yet.\"},\n",
       "  {'speaker': {'name': 'Joe Rogan', 'description': 'Joe Rogan, as himself'},\n",
       "   'dialogue': \"Alright, so break it down for me, and for everyone listening who's not a scientist. What are the big things on the horizon, the stuff that has you most fired up?  What's the cutting edge we need to be wrapping our heads around?\",\n",
       "   'inner_thought': 'Time to go full Rogan and get into the weeds on this. I want the details, the mechanisms, the why behind it all. This is where it gets really interesting.'},\n",
       "  {'speaker': {'name': 'David Sinclair',\n",
       "    'description': 'Harvard Genetics Professor, Scientist'},\n",
       "   'dialogue': \"Okay, Joe, picture this: our cells are like these amazing little factories, right?  But over time, the instructions get blurry, mistakes happen. That's aging in a nutshell. But here's the cool part, we're finding ways to sharpen those instructions again.  Things like activating sirtuins, these 'longevity genes,' or reprogramming cells with something like Yamanaka factors. It's like hitting the reset button.\",\n",
       "   'inner_thought': \"Got to keep it engaging for his audience. Analogies, visuals... Hit them with the 'why' before the hardcore 'how'. Joe's on board, now to bring along everyone else listening.\"},\n",
       "  {'speaker': {'name': 'Joe Rogan', 'description': 'Joe Rogan, as himself'},\n",
       "   'dialogue': \"Hold up, Yamanaka factors?  We're talking about turning old cells into young cells, like Benjamin Button stuff?  Is that what you're saying?\",\n",
       "   'inner_thought': \"Whoa, this is some next-level stuff.  Yamanaka factors? Sounds like something out of a sci-fi movie. But if it's real... damn, this changes everything.\"},\n",
       "  {'speaker': {'name': 'David Sinclair',\n",
       "    'description': 'Harvard Genetics Professor, Scientist'},\n",
       "   'dialogue': \"It sounds like science fiction, but it's real science, Joe.  Shinya Yamanaka, he figured out you can actually reprogram cells back to a younger state. It's like turning back the clock built into our cells. Now, we're not injecting people with this stuff yet, it's early, but the implications are HUGE.\",\n",
       "   'inner_thought': \"He's picked up on it, good. Yamanaka factors are mind-blowing, gotta tread carefully, excitement's good, hype isn't.  Emphasize it's real but early days.\"},\n",
       "  {'speaker': {'name': 'Joe Rogan', 'description': 'Joe Rogan, as himself'},\n",
       "   'dialogue': \"Huge is an understatement, dude.  So, if this works, and obviously it's still a big 'if', but if it does, what does that even look like?  Are we talking about people living to be 200 years old? 500? What's the ceiling here?\",\n",
       "   'inner_thought': \"Okay, now my brain is officially blown.  I gotta try and wrap my head around this.  We're talking about potentially changing the entire game of life and death here.  This is some serious stuff.\"},\n",
       "  {'speaker': {'name': 'David Sinclair',\n",
       "    'description': 'Harvard Genetics Professor, Scientist'},\n",
       "   'dialogue': \"Joe, that's the million-dollar question, isn't it?  Honestly, we don't know the ceiling yet.  But it's not just about how long, it's about how WELL we live those years. Imagine if 80 or 90 became the new 50, not in terms of looks necessarily, but in terms of vitality, energy, health. That's the goal.\",\n",
       "   'inner_thought': \"Here we go, into the longevity singularity. Gotta steer carefully. Hope is good, outlandish promises aren't.  Focus on healthspan, not just lifespan.\"},\n",
       "  {'speaker': {'name': 'Joe Rogan', 'description': 'Joe Rogan, as himself'},\n",
       "   'dialogue': \"Okay, so how do we get there?  Let's say I'm listening to this, and I'm like everyone else, I don't want to get old, I want to feel good for as long as possible.  What can people actually DO right now while all this amazing science is developing?\",\n",
       "   'inner_thought': 'Alright, time to bring it back down to earth. My listeners are smart, but they want practical advice, too.  Hit them with the actionable stuff, David!'},\n",
       "  {'speaker': {'name': 'David Sinclair',\n",
       "    'description': 'Harvard Genetics Professor, Scientist'},\n",
       "   'dialogue': \"You want the good news? A lot of this isn't even that complicated, Joe. We're talking about the basics, but taking them seriously.  Eating a healthy diet, mostly plants, not overdoing it.  Exercise, but not just pounding weights, mix it up.  Get enough sleep, manage stress, these things matter. \",\n",
       "   'inner_thought': \"Time for the lifestyle medicine gospel. People want the magic pill, but the basics are still where it's at. Emphasize sustainability, it's a marathon, not a sprint.\"},\n",
       "  {'speaker': {'name': 'Joe Rogan', 'description': 'Joe Rogan, as himself'},\n",
       "   'dialogue': \"See, I'm with you on all that.  I'm all about the sauna, cold plunges, eating clean.  But you know me, I like to push the limits.  What about the supplements, man?  NR, Metformin, everyone's asking about this stuff.  What's your take?\",\n",
       "   'inner_thought': 'Alright, time to get into the nitty-gritty.  My people want the specifics, the biohacks, the stuff they can try *today*.'},\n",
       "  {'speaker': {'name': 'David Sinclair',\n",
       "    'description': 'Harvard Genetics Professor, Scientist'},\n",
       "   'dialogue': \"Okay, Joe, but you know I have to say it: I'm a scientist, not a doctor, so this isn't medical advice, right? Now, with that said, there's some promising stuff out there.  I've talked about my own regimen, things like NMN, resveratrol, metformin... but the key is, these aren't magic bullets. They're tools, and you gotta use them responsibly, ideally with a doctor's guidance.\",\n",
       "   'inner_thought': \"Here comes the supplement minefield. Gotta be careful, Joe's audience is huge, responsibility weighs heavy.  Stress safety first, research over blind enthusiasm.\"},\n",
       "  {'speaker': {'name': 'Joe Rogan', 'description': 'Joe Rogan, as himself'},\n",
       "   'dialogue': \"Right on, always better to be safe than sorry. And we'll make sure to put all the relevant links and studies in the show notes for everyone listening.  But for me, the big takeaway here is, we're on the cusp of something incredible, real paradigm-shifting stuff.  Am I right?\",\n",
       "   'inner_thought': \"Man, I gotta have David back on when some of this stuff gets closer to reality. We're barely scratching the surface here. This conversation is just the beginning.\"}]}"
      ]
     },
     "execution_count": 14,
     "metadata": {},
     "output_type": "execute_result"
    }
   ],
   "source": [
    "with open(\"ficast-outputs/samples/scripts/script_20240805_074514.json\") as f: \n",
    "  data = json.load(f)\n",
    "data"
   ]
  },
  {
   "cell_type": "code",
   "execution_count": 24,
   "metadata": {},
   "outputs": [
    {
     "ename": "NameError",
     "evalue": "name 'HttpError' is not defined",
     "output_type": "error",
     "traceback": [
      "\u001b[0;31m---------------------------------------------------------------------------\u001b[0m",
      "\u001b[0;31mAttributeError\u001b[0m                            Traceback (most recent call last)",
      "Cell \u001b[0;32mIn[24], line 2\u001b[0m\n\u001b[1;32m      1\u001b[0m \u001b[38;5;28;01mtry\u001b[39;00m:\n\u001b[0;32m----> 2\u001b[0m     \u001b[43minitialize_upload\u001b[49m\u001b[43m(\u001b[49m\n\u001b[1;32m      3\u001b[0m \u001b[43m      \u001b[49m\u001b[43myoutube\u001b[49m\u001b[43m,\u001b[49m\u001b[43m \u001b[49m\n\u001b[1;32m      4\u001b[0m \u001b[43m      \u001b[49m\u001b[43mfile_path\u001b[49m\u001b[38;5;241;43m=\u001b[39;49m\u001b[38;5;124;43m\"\u001b[39;49m\u001b[38;5;124;43mdata/samples/david_sinclair-20240805103612560.mp4\u001b[39;49m\u001b[38;5;124;43m\"\u001b[39;49m\u001b[43m,\u001b[49m\n\u001b[1;32m      5\u001b[0m \u001b[43m      \u001b[49m\u001b[43mtitle\u001b[49m\u001b[38;5;241;43m=\u001b[39;49m\u001b[38;5;124;43m\"\u001b[39;49m\u001b[38;5;124;43mDavid & Joe: Health & Longevity\u001b[39;49m\u001b[38;5;124;43m\"\u001b[39;49m\u001b[43m,\u001b[49m\n\u001b[1;32m      6\u001b[0m \u001b[43m      \u001b[49m\u001b[43mdescription\u001b[49m\u001b[38;5;241;43m=\u001b[39;49m\u001b[43mdata\u001b[49m\u001b[38;5;241;43m.\u001b[39;49m\u001b[43mget\u001b[49m\u001b[43m(\u001b[49m\u001b[38;5;124;43m\"\u001b[39;49m\u001b[38;5;124;43mabstract\u001b[39;49m\u001b[38;5;124;43m\"\u001b[39;49m\u001b[43m)\u001b[49m\u001b[43m,\u001b[49m\n\u001b[1;32m      7\u001b[0m \u001b[43m      \u001b[49m\u001b[43mcategory\u001b[49m\u001b[38;5;241;43m=\u001b[39;49m\u001b[38;5;124;43m\"\u001b[39;49m\u001b[38;5;124;43m22\u001b[39;49m\u001b[38;5;124;43m\"\u001b[39;49m\u001b[43m,\u001b[49m\n\u001b[1;32m      8\u001b[0m \u001b[43m      \u001b[49m\u001b[43mkeywords\u001b[49m\u001b[38;5;241;43m=\u001b[39;49m\u001b[38;5;124;43m\"\u001b[39;49m\u001b[38;5;124;43m\"\u001b[39;49m\u001b[43m,\u001b[49m\n\u001b[1;32m      9\u001b[0m \u001b[43m      \u001b[49m\u001b[43mprivacy_status\u001b[49m\u001b[38;5;241;43m=\u001b[39;49m\u001b[38;5;124;43m\"\u001b[39;49m\u001b[38;5;124;43mprivate\u001b[39;49m\u001b[38;5;124;43m\"\u001b[39;49m\n\u001b[1;32m     10\u001b[0m \u001b[43m    \u001b[49m\u001b[43m)\u001b[49m\n\u001b[1;32m     11\u001b[0m \u001b[38;5;28;01mexcept\u001b[39;00m HttpError \u001b[38;5;28;01mas\u001b[39;00m e:\n",
      "File \u001b[0;32m~/hackathon/FiCast-GPT/apps/youtube/services/upload_video.py:88\u001b[0m, in \u001b[0;36minitialize_upload\u001b[0;34m(youtube, file_path, title, description, category, keywords, privacy_status)\u001b[0m\n\u001b[1;32m     76\u001b[0m body \u001b[38;5;241m=\u001b[39m {\n\u001b[1;32m     77\u001b[0m     \u001b[38;5;124m'\u001b[39m\u001b[38;5;124msnippet\u001b[39m\u001b[38;5;124m'\u001b[39m: {\n\u001b[1;32m     78\u001b[0m         \u001b[38;5;124m'\u001b[39m\u001b[38;5;124mtitle\u001b[39m\u001b[38;5;124m'\u001b[39m: title,\n\u001b[0;32m   (...)\u001b[0m\n\u001b[1;32m     85\u001b[0m     }\n\u001b[1;32m     86\u001b[0m }\n\u001b[0;32m---> 88\u001b[0m insert_request \u001b[38;5;241m=\u001b[39m \u001b[43myoutube\u001b[49m\u001b[38;5;241;43m.\u001b[39;49m\u001b[43mvideos\u001b[49m()\u001b[38;5;241m.\u001b[39minsert(\n\u001b[1;32m     89\u001b[0m     part\u001b[38;5;241m=\u001b[39m\u001b[38;5;124m'\u001b[39m\u001b[38;5;124m,\u001b[39m\u001b[38;5;124m'\u001b[39m\u001b[38;5;241m.\u001b[39mjoin(body\u001b[38;5;241m.\u001b[39mkeys()),\n\u001b[1;32m     90\u001b[0m     body\u001b[38;5;241m=\u001b[39mbody,\n\u001b[1;32m     91\u001b[0m     media_body\u001b[38;5;241m=\u001b[39mMediaFileUpload(file_path, chunksize\u001b[38;5;241m=\u001b[39m\u001b[38;5;241m-\u001b[39m\u001b[38;5;241m1\u001b[39m, resumable\u001b[38;5;241m=\u001b[39m\u001b[38;5;28;01mTrue\u001b[39;00m)\n\u001b[1;32m     92\u001b[0m )\n\u001b[1;32m     93\u001b[0m resumable_upload(insert_request)\n",
      "\u001b[0;31mAttributeError\u001b[0m: 'dict' object has no attribute 'videos'",
      "\nDuring handling of the above exception, another exception occurred:\n",
      "\u001b[0;31mNameError\u001b[0m                                 Traceback (most recent call last)",
      "Cell \u001b[0;32mIn[24], line 11\u001b[0m\n\u001b[1;32m      1\u001b[0m \u001b[38;5;28;01mtry\u001b[39;00m:\n\u001b[1;32m      2\u001b[0m     initialize_upload(\n\u001b[1;32m      3\u001b[0m       youtube, \n\u001b[1;32m      4\u001b[0m       file_path\u001b[38;5;241m=\u001b[39m\u001b[38;5;124m\"\u001b[39m\u001b[38;5;124mdata/samples/david_sinclair-20240805103612560.mp4\u001b[39m\u001b[38;5;124m\"\u001b[39m,\n\u001b[0;32m   (...)\u001b[0m\n\u001b[1;32m      9\u001b[0m       privacy_status\u001b[38;5;241m=\u001b[39m\u001b[38;5;124m\"\u001b[39m\u001b[38;5;124mprivate\u001b[39m\u001b[38;5;124m\"\u001b[39m\n\u001b[1;32m     10\u001b[0m     )\n\u001b[0;32m---> 11\u001b[0m \u001b[38;5;28;01mexcept\u001b[39;00m \u001b[43mHttpError\u001b[49m \u001b[38;5;28;01mas\u001b[39;00m e:\n\u001b[1;32m     12\u001b[0m   \u001b[38;5;28mprint\u001b[39m(\u001b[38;5;124mf\u001b[39m\u001b[38;5;124m'\u001b[39m\u001b[38;5;124mAn HTTP error \u001b[39m\u001b[38;5;132;01m{\u001b[39;00me\u001b[38;5;241m.\u001b[39mresp\u001b[38;5;241m.\u001b[39mstatus\u001b[38;5;132;01m}\u001b[39;00m\u001b[38;5;124m occurred:\u001b[39m\u001b[38;5;130;01m\\n\u001b[39;00m\u001b[38;5;132;01m{\u001b[39;00me\u001b[38;5;241m.\u001b[39mcontent\u001b[38;5;132;01m}\u001b[39;00m\u001b[38;5;124m'\u001b[39m)\n",
      "\u001b[0;31mNameError\u001b[0m: name 'HttpError' is not defined"
     ]
    }
   ],
   "source": [
    "try:\n",
    "    initialize_upload(\n",
    "      youtube, \n",
    "      file_path=\"data/samples/david_sinclair-20240805103612560.mp4\",\n",
    "      title=\"David & Joe: Health & Longevity\",\n",
    "      description=data.get(\"abstract\"),\n",
    "      category=\"22\",\n",
    "      keywords=\"\",\n",
    "      privacy_status=\"private\"\n",
    "    )\n",
    "except HttpError as e:\n",
    "  print(f'An HTTP error {e.resp.status} occurred:\\n{e.content}')"
   ]
  }
 ],
 "metadata": {
  "kernelspec": {
   "display_name": "ficast",
   "language": "python",
   "name": "python3"
  },
  "language_info": {
   "codemirror_mode": {
    "name": "ipython",
    "version": 3
   },
   "file_extension": ".py",
   "mimetype": "text/x-python",
   "name": "python",
   "nbconvert_exporter": "python",
   "pygments_lexer": "ipython3",
   "version": "3.11.9"
  }
 },
 "nbformat": 4,
 "nbformat_minor": 2
}
