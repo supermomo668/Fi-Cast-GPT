{
 "cells": [
  {
   "cell_type": "markdown",
   "metadata": {},
   "source": [
    "## Transform into podcast starting from a saved json script"
   ]
  },
  {
   "cell_type": "code",
   "execution_count": 1,
   "metadata": {},
   "outputs": [
    {
     "data": {
      "text/plain": [
       "PosixPath('/home/mymm_psu_gmail_com/FiCast-GPT')"
      ]
     },
     "execution_count": 1,
     "metadata": {},
     "output_type": "execute_result"
    }
   ],
   "source": [
    "import os, json\n",
    "from pathlib import Path\n",
    "# import matplotlib.pyplot as plt\n",
    "os.chdir(\"../\")\n",
    "Path.cwd()"
   ]
  },
  {
   "cell_type": "code",
   "execution_count": 2,
   "metadata": {},
   "outputs": [],
   "source": [
    "#export environment variables (APIs), as in .example.EnvironmentError\n",
    "from dotenv import load_dotenv\n",
    "load_dotenv(override=True)\n",
    "assert os.getenv(\"TTS_API_KEY\")"
   ]
  },
  {
   "cell_type": "code",
   "execution_count": 3,
   "metadata": {},
   "outputs": [
    {
     "name": "stdout",
     "output_type": "stream",
     "text": [
      "Loading config from path: /home/mymm_psu_gmail_com/FiCast-GPT\n",
      "Loading config version: default from path: ../conf/dialogue\n"
     ]
    },
    {
     "name": "stderr",
     "output_type": "stream",
     "text": [
      "USER_AGENT environment variable not set, consider setting it to identify your requests.\n"
     ]
    },
    {
     "name": "stdout",
     "output_type": "stream",
     "text": [
      "Loading config version: default from path: ../conf/dialogue\n"
     ]
    }
   ],
   "source": [
    "\n",
    "from ficast.conversation.podcast import Podcast"
   ]
  },
  {
   "cell_type": "code",
   "execution_count": 4,
   "metadata": {},
   "outputs": [],
   "source": [
    "with open(\"notebooks/samples/script.json\", 'r') as f:\n",
    "  chat_result = json.load(f)"
   ]
  },
  {
   "cell_type": "code",
   "execution_count": 5,
   "metadata": {},
   "outputs": [
    {
     "name": "stdout",
     "output_type": "stream",
     "text": [
      "Loading config version: default from path: ../conf/dialogue\n"
     ]
    },
    {
     "name": "stdout",
     "output_type": "stream",
     "text": [
      "Loading config version: default from path: ../conf/dialogue\n"
     ]
    }
   ],
   "source": [
    "my_podcast = Podcast.from_script(chat_result)"
   ]
  },
  {
   "cell_type": "code",
   "execution_count": 6,
   "metadata": {},
   "outputs": [
    {
     "name": "stderr",
     "output_type": "stream",
     "text": [
      "/home/mymm_psu_gmail_com/miniconda3/envs/ficast/lib/python3.11/site-packages/thought_agents/web/summarizer.py:70: LangChainDeprecationWarning: The class `LLMChain` was deprecated in LangChain 0.1.17 and will be removed in 1.0. Use RunnableSequence, e.g., `prompt | llm` instead.\n",
      "  map_chain = LLMChain(llm=llm, prompt=self.map_prompt)\n",
      "/home/mymm_psu_gmail_com/miniconda3/envs/ficast/lib/python3.11/site-packages/thought_agents/web/summarizer.py:74: LangChainDeprecationWarning: This class is deprecated. Use the `create_stuff_documents_chain` constructor instead. See migration guide here: https://python.langchain.com/v0.2/docs/versions/migrating_chains/stuff_docs_chain/\n",
      "  combine_chain = StuffDocumentsChain(\n"
     ]
    },
    {
     "data": {
      "text/plain": [
       "[]"
      ]
     },
     "execution_count": 6,
     "metadata": {},
     "output_type": "execute_result"
    }
   ],
   "source": [
    "# return chat history from script (warning: this part can fail due to the inconsistency of formatting that may result from individual dialogues from the LLMs)\n",
    "my_podcast.get_script('raw')\n",
    "# from ficast.conversation.utils import extract_json_code_block\n",
    "# extract_json_code_block(my_podcast.raw_script[0].get('content'))"
   ]
  },
  {
   "cell_type": "code",
   "execution_count": 7,
   "metadata": {},
   "outputs": [
    {
     "data": {
      "text/plain": [
       "{'topic': 'beer & snacks',\n",
       " 'abstract': 'Harry Potter and Darth Vader engage in a humorous conversation about snacks, comparing magical treats like Butterbeer and Chocolate Frogs to Sith delights like Death Star-shaped cookies. They bond over nostalgia, with Harry offering a future Butterbeer as a gesture of camaraderie amidst their contrasting worlds of magic and darkness.',\n",
       " 'participants': {'hosts': [{'name': 'Harry Potter',\n",
       "    'sex': 'male',\n",
       "    'description': ''}],\n",
       "  'guests': [{'name': 'Darth Vader', 'sex': 'male', 'description': ''}]},\n",
       " 'dialogues': [{'speaker': 'Harry Potter',\n",
       "   'dialogue': \"Hey Vader, have you tried Butterbeer? It's amazing!\",\n",
       "   'inner_thought': 'This is going to be a fun conversation about snacks!'},\n",
       "  {'speaker': 'Darth Vader',\n",
       "   'dialogue': 'Butterbeer? Is it strong enough to mask the taste of the Dark Side?',\n",
       "   'inner_thought': 'I hope he doesn’t think I’m going to enjoy this.'},\n",
       "  {'speaker': 'Harry Potter',\n",
       "   'dialogue': \"It's not about strength, it's about flavor! What's your favorite Sith snack then?\",\n",
       "   'inner_thought': \"Let's see what he has to say about Sith snacks!\"},\n",
       "  {'speaker': 'Darth Vader',\n",
       "   'dialogue': \"I find your lack of appreciation for the Dark Side's culinary delights disturbing. I prefer something more ominous, like Death Star-shaped cookies.\",\n",
       "   'inner_thought': 'At least he’s got a sense of humor.'},\n",
       "  {'speaker': 'Harry Potter',\n",
       "   'dialogue': 'Death Star-shaped cookies sound intriguing! Do they explode with flavor?',\n",
       "   'inner_thought': 'I like the sound of that!'},\n",
       "  {'speaker': 'Darth Vader',\n",
       "   'dialogue': 'They do, metaphorically. What about your world? Any magical meals worth mentioning?',\n",
       "   'inner_thought': 'I’m curious about his culinary arts.'},\n",
       "  {'speaker': 'Harry Potter',\n",
       "   'dialogue': 'Absolutely! Ever tried Chocolate Frogs? They jump in your mouth!',\n",
       "   'inner_thought': 'I hope he finds that amusing!'},\n",
       "  {'speaker': 'Darth Vader',\n",
       "   'dialogue': 'Frogs? That sounds unsavory. However, I am curious about your Firewhisky. Is it as potent as it sounds?',\n",
       "   'inner_thought': 'I wonder if he knows what true potency is.'},\n",
       "  {'speaker': 'Harry Potter',\n",
       "   'dialogue': 'Firewhisky is strong enough to make even dragons roar. Care to try some?',\n",
       "   'inner_thought': 'He might actually like it!'},\n",
       "  {'speaker': 'Darth Vader',\n",
       "   'dialogue': 'Perhaps another time. Tell me, Potter, do you have a favorite spell for cooking?',\n",
       "   'inner_thought': 'Cooking spells? This could be interesting.'},\n",
       "  {'speaker': 'Harry Potter',\n",
       "   'dialogue': \"Accio ingredients! It's quite handy when I'm feeling lazy.\",\n",
       "   'inner_thought': 'It’s a great spell for lazy cooks!'},\n",
       "  {'speaker': 'Darth Vader',\n",
       "   'dialogue': \"Efficient, I'll give you that. In my realm, we rely more on precision and mastery. Do you duel over dinner as you do with wands?\",\n",
       "   'inner_thought': 'I wonder how they handle their meals.'},\n",
       "  {'speaker': 'Harry Potter',\n",
       "   'dialogue': 'Not exactly dueling, but we do have feasts and celebrations. How about the Sith? Any grand banquets?',\n",
       "   'inner_thought': 'I’m curious about their food culture.'},\n",
       "  {'speaker': 'Darth Vader',\n",
       "   'dialogue': \"Only when the Emperor commands it. The Dark Side doesn't indulge in frivolous feasts. We prefer more... focused gatherings.\",\n",
       "   'inner_thought': 'No wonder he looks so serious all the time.'},\n",
       "  {'speaker': 'Harry Potter',\n",
       "   'dialogue': 'I guess that explains your lean figure! Do you have any foods you miss from before you turned to the Dark Side?',\n",
       "   'inner_thought': 'There has to be something he misses!'},\n",
       "  {'speaker': 'Darth Vader',\n",
       "   'dialogue': 'There is one... Alderaanian spice pudding. It reminds me of a time before... before everything.',\n",
       "   'inner_thought': 'Interesting, I didn’t expect that.'},\n",
       "  {'speaker': 'Harry Potter',\n",
       "   'dialogue': 'Food has a way of connecting us to memories. I hope you find a way to enjoy it again someday.',\n",
       "   'inner_thought': 'I feel a connection forming.'},\n",
       "  {'speaker': 'Darth Vader',\n",
       "   'dialogue': 'Thank you, Potter. Your sentimentality is... unexpected.',\n",
       "   'inner_thought': 'This is oddly heartwarming.'},\n",
       "  {'speaker': 'Harry Potter',\n",
       "   'dialogue': 'Even Sith Lords deserve a good meal now and then. Perhaps one day we could share a Butterbeer.',\n",
       "   'inner_thought': 'That would be an interesting meetup!'},\n",
       "  {'speaker': 'Darth Vader',\n",
       "   'dialogue': 'A curious proposition, Potter. Perhaps when the galaxy is less tumultuous.',\n",
       "   'inner_thought': 'I’ll have to think about this offer.'}]}"
      ]
     },
     "execution_count": 7,
     "metadata": {},
     "output_type": "execute_result"
    }
   ],
   "source": [
    "my_podcast.get_script('json')"
   ]
  },
  {
   "cell_type": "code",
   "execution_count": 8,
   "metadata": {},
   "outputs": [
    {
     "name": "stdout",
     "output_type": "stream",
     "text": [
      "dict_keys(['topic', 'abstract', 'participants', 'dialogues'])\n",
      "20\n",
      "{'speaker': 'Harry Potter', 'dialogue': \"Hey Vader, have you tried Butterbeer? It's amazing!\", 'inner_thought': 'This is going to be a fun conversation about snacks!'}\n"
     ]
    }
   ],
   "source": [
    "# a json script parsed by `json_parser` agent\n",
    "# script structure\n",
    "print(my_podcast.json_script.keys())\n",
    "# length of conversation\n",
    "print(len(my_podcast.json_script.get('dialogues')))\n",
    "# dialogue structure\n",
    "print(my_podcast.json_script.get('dialogues')[0])"
   ]
  },
  {
   "cell_type": "markdown",
   "metadata": {},
   "source": [
    "## Assembling the Podcast Audio Dialogues"
   ]
  },
  {
   "cell_type": "code",
   "execution_count": 9,
   "metadata": {},
   "outputs": [
    {
     "data": {
      "text/plain": [
       "True"
      ]
     },
     "execution_count": 9,
     "metadata": {},
     "output_type": "execute_result"
    }
   ],
   "source": [
    "%load_ext autoreload\n",
    "%autoreload 2\n",
    "\n",
    "from ficast.assembly.ficast import FiCast\n",
    "from ficast.dialogue.speech import DialogueSynthesis\n",
    "load_dotenv(override=True)"
   ]
  },
  {
   "cell_type": "code",
   "execution_count": 10,
   "metadata": {},
   "outputs": [
    {
     "name": "stdout",
     "output_type": "stream",
     "text": [
      "Token verification successful.\n",
      "API key provided starting with sk...\n"
     ]
    }
   ],
   "source": [
    "dialoguer_api = DialogueSynthesis(\n",
    "  client_type=\"api\", \n",
    "  base_url=os.getenv(\"TTS_API_BASE_URL\"),\n",
    "  api_key=os.getenv(\"TTS_API_KEY\")\n",
    ")\n",
    "dialoguer_eleven = DialogueSynthesis(\n",
    "  client_type=\"elevenlabs\", \n",
    "  api_key=os.getenv(\"ELEVENLABS_API_KEY\")\n",
    ")\n",
    "client = \"elevenlabs\"\n",
    "fantasy_ficast = FiCast(\n",
    "  conversation=my_podcast, dialogue_synthesizer=dialoguer_eleven\n",
    ")"
   ]
  },
  {
   "cell_type": "code",
   "execution_count": 11,
   "metadata": {},
   "outputs": [
    {
     "name": "stdout",
     "output_type": "stream",
     "text": [
      "Voice name found. Using Harry Potter voice for Harry Potter\n",
      "Voice name found. Using Darth Vader voice for Darth Vader\n"
     ]
    },
    {
     "name": "stderr",
     "output_type": "stream",
     "text": [
      "Processing script entries: 100%|██████████| 20/20 [00:34<00:00,  1.74s/it]"
     ]
    },
    {
     "name": "stdout",
     "output_type": "stream",
     "text": [
      "Joined 2427 audio segments\n"
     ]
    },
    {
     "name": "stderr",
     "output_type": "stream",
     "text": [
      "\n"
     ]
    },
    {
     "data": {
      "text/plain": [
       "1620420"
      ]
     },
     "execution_count": 11,
     "metadata": {},
     "output_type": "execute_result"
    }
   ],
   "source": [
    "my_audio = fantasy_ficast.to_podcast(\n",
    "  ignore_errors=True, preset=\"standard\")\n",
    "len(my_audio)"
   ]
  },
  {
   "cell_type": "code",
   "execution_count": 19,
   "metadata": {},
   "outputs": [
    {
     "ename": "ValueError",
     "evalue": "cannot convert float NaN to integer",
     "output_type": "error",
     "traceback": [
      "\u001b[0;31m---------------------------------------------------------------------------\u001b[0m",
      "\u001b[0;31mValueError\u001b[0m                                Traceback (most recent call last)",
      "Cell \u001b[0;32mIn[19], line 8\u001b[0m\n\u001b[1;32m      3\u001b[0m \u001b[38;5;28;01mfrom\u001b[39;00m \u001b[38;5;21;01mdatetime\u001b[39;00m \u001b[38;5;28;01mimport\u001b[39;00m datetime\n\u001b[1;32m      4\u001b[0m \u001b[38;5;66;03m# fantasy_ficast.save_podcast(\u001b[39;00m\n\u001b[1;32m      5\u001b[0m \u001b[38;5;66;03m#   \"ficast-outputs/\", save_segments=True)\u001b[39;00m\n\u001b[1;32m      6\u001b[0m \u001b[38;5;66;03m# or\u001b[39;00m\n\u001b[0;32m----> 8\u001b[0m \u001b[43msave_bytes_to_wav\u001b[49m\u001b[43m(\u001b[49m\u001b[43mmy_audio\u001b[49m\u001b[43m,\u001b[49m\u001b[43m \u001b[49m\u001b[38;5;124;43mf\u001b[39;49m\u001b[38;5;124;43m\"\u001b[39;49m\u001b[38;5;124;43m./notebooks/samples/podcasts/\u001b[39;49m\u001b[38;5;132;43;01m{\u001b[39;49;00m\u001b[43mdatetime\u001b[49m\u001b[38;5;241;43m.\u001b[39;49m\u001b[43mnow\u001b[49m\u001b[43m(\u001b[49m\u001b[43m)\u001b[49m\u001b[38;5;132;43;01m}\u001b[39;49;00m\u001b[38;5;124;43m_\u001b[39;49m\u001b[38;5;132;43;01m{\u001b[39;49;00m\u001b[43mclient\u001b[49m\u001b[38;5;132;43;01m}\u001b[39;49;00m\u001b[38;5;124;43m.wav\u001b[39;49m\u001b[38;5;124;43m\"\u001b[39;49m\u001b[43m)\u001b[49m\n\u001b[1;32m      9\u001b[0m \u001b[38;5;66;03m# with open(fn, 'wb') as file:\u001b[39;00m\n\u001b[1;32m     10\u001b[0m \u001b[38;5;66;03m#   file.write(my_audio)\u001b[39;00m\n",
      "File \u001b[0;32m~/FiCast-GPT/ficast/dialogue/utils.py:41\u001b[0m, in \u001b[0;36msave_bytes_to_wav\u001b[0;34m(audio_bytes, save_path, n_channels, sampwidth, framerate)\u001b[0m\n\u001b[1;32m     39\u001b[0m     sample \u001b[38;5;241m=\u001b[39m \u001b[38;5;28mmax\u001b[39m(\u001b[38;5;28mmin\u001b[39m(sample, \u001b[38;5;241m1.0\u001b[39m), \u001b[38;5;241m-\u001b[39m\u001b[38;5;241m1.0\u001b[39m)\n\u001b[1;32m     40\u001b[0m     \u001b[38;5;66;03m# Scale the sample to int16 range\u001b[39;00m\n\u001b[0;32m---> 41\u001b[0m     int_sample \u001b[38;5;241m=\u001b[39m \u001b[38;5;28;43mint\u001b[39;49m\u001b[43m(\u001b[49m\u001b[43msample\u001b[49m\u001b[43m \u001b[49m\u001b[38;5;241;43m*\u001b[39;49m\u001b[43m \u001b[49m\u001b[38;5;241;43m32767\u001b[39;49m\u001b[43m)\u001b[49m\n\u001b[1;32m     42\u001b[0m     int_samples\u001b[38;5;241m.\u001b[39mappend(int_sample)\n\u001b[1;32m     44\u001b[0m \u001b[38;5;66;03m# Handle stereo channels by interleaving samples\u001b[39;00m\n",
      "\u001b[0;31mValueError\u001b[0m: cannot convert float NaN to integer"
     ]
    }
   ],
   "source": [
    "from ficast.dialogue.utils import save_bytes_to_wav, convert_wav_to_mp3\n",
    "# save audio\n",
    "from datetime import datetime\n",
    "# fantasy_ficast.save_podcast(\n",
    "#   \"ficast-outputs/\", save_segments=True)\n",
    "# or\n",
    "\n",
    "save_bytes_to_wav(my_audio, f\"./notebooks/samples/podcasts/{datetime.now()}_{client}.wav\")\n",
    "# with open(fn, 'wb') as file:\n",
    "#   file.write(my_audio)"
   ]
  },
  {
   "cell_type": "code",
   "execution_count": 18,
   "metadata": {},
   "outputs": [
    {
     "name": "stderr",
     "output_type": "stream",
     "text": [
      "ffmpeg version 5.1.6-0+deb12u1 Copyright (c) 2000-2024 the FFmpeg developers\n",
      "  built with gcc 12 (Debian 12.2.0-14)\n",
      "  configuration: --prefix=/usr --extra-version=0+deb12u1 --toolchain=hardened --libdir=/usr/lib/x86_64-linux-gnu --incdir=/usr/include/x86_64-linux-gnu --arch=amd64 --enable-gpl --disable-stripping --enable-gnutls --enable-ladspa --enable-libaom --enable-libass --enable-libbluray --enable-libbs2b --enable-libcaca --enable-libcdio --enable-libcodec2 --enable-libdav1d --enable-libflite --enable-libfontconfig --enable-libfreetype --enable-libfribidi --enable-libglslang --enable-libgme --enable-libgsm --enable-libjack --enable-libmp3lame --enable-libmysofa --enable-libopenjpeg --enable-libopenmpt --enable-libopus --enable-libpulse --enable-librabbitmq --enable-librist --enable-librubberband --enable-libshine --enable-libsnappy --enable-libsoxr --enable-libspeex --enable-libsrt --enable-libssh --enable-libsvtav1 --enable-libtheora --enable-libtwolame --enable-libvidstab --enable-libvorbis --enable-libvpx --enable-libwebp --enable-libx265 --enable-libxml2 --enable-libxvid --enable-libzimg --enable-libzmq --enable-libzvbi --enable-lv2 --enable-omx --enable-openal --enable-opencl --enable-opengl --enable-sdl2 --disable-sndio --enable-libjxl --enable-pocketsphinx --enable-librsvg --enable-libmfx --enable-libdc1394 --enable-libdrm --enable-libiec61883 --enable-chromaprint --enable-frei0r --enable-libx264 --enable-libplacebo --enable-librav1e --enable-shared\n",
      "  libavutil      57. 28.100 / 57. 28.100\n",
      "  libavcodec     59. 37.100 / 59. 37.100\n",
      "  libavformat    59. 27.100 / 59. 27.100\n",
      "  libavdevice    59.  7.100 / 59.  7.100\n",
      "  libavfilter     8. 44.100 /  8. 44.100\n",
      "  libswscale      6.  7.100 /  6.  7.100\n",
      "  libswresample   4.  7.100 /  4.  7.100\n",
      "  libpostproc    56.  6.100 / 56.  6.100\n",
      "Input #0, wav, from 'notebooks/samples/podcasts/2024-10-05 20:29:00.274315_elevenlabs.wav':\n",
      "  Duration: 00:00:16.88, bitrate: 768 kb/s\n",
      "  Stream #0:0: Audio: mp3 ([1][0][0][0] / 0x0001), 44100 Hz, mono, fltp, 768 kb/s\n",
      "Stream mapping:\n",
      "  Stream #0:0 -> #0:0 (mp3 (mp3float) -> mp3 (libmp3lame))\n",
      "Press [q] to stop, [?] for help\n",
      "Output #0, mp3, to 'notebooks/samples/podcasts/2024-10-05 20:29:00.274315_elevenlabs.mp3':\n",
      "  Metadata:\n",
      "    TSSE            : Lavf59.27.100\n",
      "  Stream #0:0: Audio: mp3, 44100 Hz, mono, fltp\n",
      "    Metadata:\n",
      "      encoder         : Lavc59.37.100 libmp3lame\n",
      "size=     256kB time=00:00:43.56 bitrate=  48.1kbits/s speed=87.1x    \r"
     ]
    },
    {
     "name": "stdout",
     "output_type": "stream",
     "text": [
      "Successfully converted notebooks/samples/podcasts/2024-10-05 20:29:00.274315_elevenlabs.wav to notebooks/samples/podcasts/2024-10-05 20:29:00.274315_elevenlabs.mp3\n"
     ]
    },
    {
     "name": "stderr",
     "output_type": "stream",
     "text": [
      "size=     792kB time=00:01:41.12 bitrate=  64.1kbits/s speed=89.2x    \n",
      "video:0kB audio:791kB subtitle:0kB other streams:0kB global headers:0kB muxing overhead: 0.028010%\n"
     ]
    }
   ],
   "source": [
    "convert_wav_to_mp3(\"notebooks/samples/podcasts/2024-10-05 20:29:00.274315_elevenlabs.wav\", \"notebooks/samples/podcasts/2024-10-05 20:29:00.274315_elevenlabs.mp3\")"
   ]
  }
 ],
 "metadata": {
  "kernelspec": {
   "display_name": "dl",
   "language": "python",
   "name": "python3"
  },
  "language_info": {
   "codemirror_mode": {
    "name": "ipython",
    "version": 3
   },
   "file_extension": ".py",
   "mimetype": "text/x-python",
   "name": "python",
   "nbconvert_exporter": "python",
   "pygments_lexer": "ipython3",
   "version": "3.11.9"
  },
  "orig_nbformat": 4
 },
 "nbformat": 4,
 "nbformat_minor": 2
}
